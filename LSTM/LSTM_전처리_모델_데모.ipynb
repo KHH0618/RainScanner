{
 "cells": [
  {
   "cell_type": "code",
   "execution_count": 1,
   "id": "0dbe2b29",
   "metadata": {},
   "outputs": [],
   "source": [
    "import pandas as pd\n",
    "import numpy as np\n",
    "import matplotlib.pyplot as plt\n",
    "import seaborn as sns\n",
    "from sklearn.preprocessing import LabelEncoder\n",
    "from sklearn.preprocessing import MinMaxScaler\n",
    "from sklearn.preprocessing import StandardScaler\n",
    "import tensorflow as tf\n",
    "from tensorflow.keras.models import Model\n",
    "from tensorflow.keras.layers import Dense, Dropout, Input, LSTM, Add, Average\n",
    "from tensorflow.keras.metrics import Recall,Precision\n",
    "from sklearn.metrics import f1_score"
   ]
  },
  {
   "cell_type": "code",
   "execution_count": 2,
   "id": "fe239505",
   "metadata": {},
   "outputs": [],
   "source": [
    "asos_df = pd.read_csv('/Volumes/ESD-ISO/project_preson/shared_data_preparation/ASOS_data_preprocessed_V4.csv')"
   ]
  },
  {
   "cell_type": "code",
   "execution_count": 3,
   "id": "66c18328",
   "metadata": {},
   "outputs": [],
   "source": [
    "# rain_tomorrow 열을 rainy_day 열에서 12시간 이후 값을 가져와 생성\n",
    "asos_df['rain_tomorrow'] = asos_df['rainy_day'].shift(-12)"
   ]
  },
  {
   "cell_type": "code",
   "execution_count": 4,
   "id": "ff7fc860",
   "metadata": {},
   "outputs": [],
   "source": [
    "asos_df.drop(index=asos_df[asos_df['rain_tomorrow'].isna()].index, inplace=True) # 12시간 뒤에 데이터가 없는 마지막 12개열 삭제"
   ]
  },
  {
   "cell_type": "code",
   "execution_count": 5,
   "id": "8c9ae98c",
   "metadata": {},
   "outputs": [],
   "source": [
    "encoder = LabelEncoder()\n",
    "asos_df.clfmAbbrCd = encoder.fit_transform(asos_df.clfmAbbrCd)"
   ]
  },
  {
   "cell_type": "code",
   "execution_count": 6,
   "id": "79a1ad15",
   "metadata": {},
   "outputs": [],
   "source": [
    "asos_df['tm'] = pd.to_datetime(asos_df['tm'])"
   ]
  },
  {
   "cell_type": "code",
   "execution_count": 7,
   "id": "adce81f2",
   "metadata": {},
   "outputs": [],
   "source": [
    "base_time = asos_df['tm'].iloc[0]\n",
    "asos_df['tm'] = (asos_df['tm']-base_time).dt.total_seconds()"
   ]
  },
  {
   "cell_type": "code",
   "execution_count": 8,
   "id": "d3d620b3",
   "metadata": {},
   "outputs": [
    {
     "data": {
      "text/plain": [
       "0.000000e+00    3\n",
       "1.028052e+08    3\n",
       "1.027404e+08    3\n",
       "1.027512e+08    3\n",
       "1.027620e+08    3\n",
       "               ..\n",
       "4.694436e+08    1\n",
       "4.694328e+08    1\n",
       "4.694220e+08    1\n",
       "4.694112e+08    1\n",
       "1.420020e+09    1\n",
       "Name: tm, Length: 95248, dtype: int64"
      ]
     },
     "execution_count": 8,
     "metadata": {},
     "output_type": "execute_result"
    }
   ],
   "source": [
    "asos_df['tm'].value_counts()"
   ]
  },
  {
   "cell_type": "code",
   "execution_count": 9,
   "id": "808f6ff4",
   "metadata": {},
   "outputs": [],
   "source": [
    "# 'group' 컬럼 생성: 24개 단위로 그룹 ID 부여\n",
    "asos_df['group'] = np.arange(len(asos_df)) // 24\n",
    "\n",
    "# rain_tomorrow는 별도로 처리\n",
    "rain_tomorrow_grouped = asos_df.groupby('group')['rain_tomorrow'].apply(list)\n",
    "\n",
    "# 나머지 컬럼은 24개 단위로 묶기\n",
    "other_columns_grouped = asos_df.groupby('group')[['tm','hm', 'pv', 'td', 'pa', 'm005Te', 'm01Te', 'm02Te', 'm03Te', 'clfmAbbrCd', 'lcsCh']].apply(lambda x: x.values.tolist())"
   ]
  },
  {
   "cell_type": "code",
   "execution_count": 10,
   "id": "f6dcc6eb",
   "metadata": {},
   "outputs": [],
   "source": [
    "y_data = []\n",
    "for rain_tomorrow in rain_tomorrow_grouped:\n",
    "    if 1 in rain_tomorrow:\n",
    "        y_data.append(1)\n",
    "    else:\n",
    "        y_data.append(0)"
   ]
  },
  {
   "cell_type": "code",
   "execution_count": 11,
   "id": "3a8aafbb",
   "metadata": {},
   "outputs": [
    {
     "data": {
      "text/plain": [
       "((4729,), (113496, 11))"
      ]
     },
     "execution_count": 11,
     "metadata": {},
     "output_type": "execute_result"
    }
   ],
   "source": [
    "np.array(y_data).shape, np.vstack(other_columns_grouped.tolist()).shape"
   ]
  },
  {
   "cell_type": "code",
   "execution_count": 12,
   "id": "5317a5ec",
   "metadata": {},
   "outputs": [],
   "source": [
    "data_X = np.vstack(other_columns_grouped.iloc[:-1].tolist())"
   ]
  },
  {
   "cell_type": "code",
   "execution_count": 13,
   "id": "84d9217c",
   "metadata": {},
   "outputs": [
    {
     "data": {
      "text/plain": [
       "array([ 0.0000e+00,  5.6000e+01,  3.9000e+00, -6.0000e+00,  1.0159e+03,\n",
       "       -1.2000e+00,  3.0000e-01,  5.0000e-01,  6.0000e-01,  2.6000e+01,\n",
       "        0.0000e+00])"
      ]
     },
     "execution_count": 13,
     "metadata": {},
     "output_type": "execute_result"
    }
   ],
   "source": [
    "data_X[0]"
   ]
  },
  {
   "cell_type": "code",
   "execution_count": 14,
   "id": "3e09a25b",
   "metadata": {},
   "outputs": [],
   "source": [
    "data_y = np.array(y_data[:-1])"
   ]
  },
  {
   "cell_type": "code",
   "execution_count": 15,
   "id": "fb03432f",
   "metadata": {},
   "outputs": [],
   "source": [
    "scaler = MinMaxScaler()\n",
    "data_X = scaler.fit_transform(data_X).reshape(-1,24,11)"
   ]
  },
  {
   "cell_type": "code",
   "execution_count": 16,
   "id": "94c04eda",
   "metadata": {},
   "outputs": [],
   "source": [
    "spilt_index = round(len(data_X)/10)*7"
   ]
  },
  {
   "cell_type": "code",
   "execution_count": 17,
   "id": "a45e885c",
   "metadata": {},
   "outputs": [],
   "source": [
    "train_X = data_X[:spilt_index]\n",
    "train_y = data_y[:spilt_index]\n",
    "test_X = data_X[spilt_index:]\n",
    "test_y = data_y[spilt_index:]"
   ]
  },
  {
   "cell_type": "code",
   "execution_count": 18,
   "id": "69869090",
   "metadata": {},
   "outputs": [
    {
     "data": {
      "text/plain": [
       "((3311, 24, 11), (3311,), (1417, 24, 11), (1417,))"
      ]
     },
     "execution_count": 18,
     "metadata": {},
     "output_type": "execute_result"
    }
   ],
   "source": [
    "train_X.shape,train_y.shape,test_X.shape,test_y.shape"
   ]
  },
  {
   "cell_type": "code",
   "execution_count": 19,
   "id": "e0597a50",
   "metadata": {},
   "outputs": [],
   "source": [
    "def lstm_model_V1():\n",
    "\n",
    "    inputs = Input(shape=(24, 11))\n",
    "\n",
    "    layer_1 = LSTM(units=32, return_sequences=True)(inputs)\n",
    "\n",
    "    layer_2 = LSTM(units=64, return_sequences=False)(layer_1) \n",
    "\n",
    "    D_1 = Dense(units=64, activation='relu')(layer_2)\n",
    "    D_2 = Dense(units=128, activation='relu')(D_1)\n",
    "    D_3 = Dense(units=64, activation='relu')(D_2)\n",
    "    D_4 = Dense(units=32, activation='relu')(D_3)\n",
    "    D_5 = Dense(units=16, activation='relu')(D_4)\n",
    "    outputs = Dense(units=1, activation='sigmoid')(D_5)\n",
    "\n",
    "    model = Model(inputs=inputs, outputs=outputs)\n",
    "    model.compile(loss='binary_crossentropy', optimizer='adam', metrics=['accuracy'])\n",
    "    return model"
   ]
  },
  {
   "cell_type": "code",
   "execution_count": 20,
   "id": "cc450485",
   "metadata": {},
   "outputs": [
    {
     "name": "stdout",
     "output_type": "stream",
     "text": [
      "Metal device set to: Apple M2 Pro\n"
     ]
    },
    {
     "name": "stderr",
     "output_type": "stream",
     "text": [
      "2025-01-17 15:13:10.192015: I tensorflow/core/common_runtime/pluggable_device/pluggable_device_factory.cc:306] Could not identify NUMA node of platform GPU ID 0, defaulting to 0. Your kernel may not have been built with NUMA support.\n",
      "2025-01-17 15:13:10.192127: I tensorflow/core/common_runtime/pluggable_device/pluggable_device_factory.cc:272] Created TensorFlow device (/job:localhost/replica:0/task:0/device:GPU:0 with 0 MB memory) -> physical PluggableDevice (device: 0, name: METAL, pci bus id: <undefined>)\n"
     ]
    },
    {
     "name": "stdout",
     "output_type": "stream",
     "text": [
      "Model: \"model\"\n",
      "_________________________________________________________________\n",
      " Layer (type)                Output Shape              Param #   \n",
      "=================================================================\n",
      " input_1 (InputLayer)        [(None, 24, 11)]          0         \n",
      "                                                                 \n",
      " lstm (LSTM)                 (None, 24, 32)            5632      \n",
      "                                                                 \n",
      " lstm_1 (LSTM)               (None, 64)                24832     \n",
      "                                                                 \n",
      " dense (Dense)               (None, 64)                4160      \n",
      "                                                                 \n",
      " dense_1 (Dense)             (None, 128)               8320      \n",
      "                                                                 \n",
      " dense_2 (Dense)             (None, 64)                8256      \n",
      "                                                                 \n",
      " dense_3 (Dense)             (None, 32)                2080      \n",
      "                                                                 \n",
      " dense_4 (Dense)             (None, 16)                528       \n",
      "                                                                 \n",
      " dense_5 (Dense)             (None, 1)                 17        \n",
      "                                                                 \n",
      "=================================================================\n",
      "Total params: 53,825\n",
      "Trainable params: 53,825\n",
      "Non-trainable params: 0\n",
      "_________________________________________________________________\n"
     ]
    }
   ],
   "source": [
    "model = lstm_model_V1()\n",
    "model.summary()"
   ]
  },
  {
   "cell_type": "code",
   "execution_count": 21,
   "id": "79655079",
   "metadata": {},
   "outputs": [
    {
     "name": "stdout",
     "output_type": "stream",
     "text": [
      "Epoch 1/100\n"
     ]
    },
    {
     "name": "stderr",
     "output_type": "stream",
     "text": [
      "2025-01-17 15:13:10.610934: W tensorflow/core/platform/profile_utils/cpu_utils.cc:128] Failed to get CPU frequency: 0 Hz\n",
      "2025-01-17 15:13:11.316597: I tensorflow/core/grappler/optimizers/custom_graph_optimizer_registry.cc:114] Plugin optimizer for device_type GPU is enabled.\n",
      "2025-01-17 15:13:11.467612: I tensorflow/core/grappler/optimizers/custom_graph_optimizer_registry.cc:114] Plugin optimizer for device_type GPU is enabled.\n",
      "2025-01-17 15:13:11.595142: I tensorflow/core/grappler/optimizers/custom_graph_optimizer_registry.cc:114] Plugin optimizer for device_type GPU is enabled.\n",
      "2025-01-17 15:13:11.906444: I tensorflow/core/grappler/optimizers/custom_graph_optimizer_registry.cc:114] Plugin optimizer for device_type GPU is enabled.\n",
      "2025-01-17 15:13:12.188269: I tensorflow/core/grappler/optimizers/custom_graph_optimizer_registry.cc:114] Plugin optimizer for device_type GPU is enabled.\n"
     ]
    },
    {
     "name": "stdout",
     "output_type": "stream",
     "text": [
      "83/83 [==============================] - ETA: 0s - loss: 0.6753 - accuracy: 0.5759"
     ]
    },
    {
     "name": "stderr",
     "output_type": "stream",
     "text": [
      "2025-01-17 15:13:14.592111: I tensorflow/core/grappler/optimizers/custom_graph_optimizer_registry.cc:114] Plugin optimizer for device_type GPU is enabled.\n",
      "2025-01-17 15:13:14.651789: I tensorflow/core/grappler/optimizers/custom_graph_optimizer_registry.cc:114] Plugin optimizer for device_type GPU is enabled.\n",
      "2025-01-17 15:13:14.756293: I tensorflow/core/grappler/optimizers/custom_graph_optimizer_registry.cc:114] Plugin optimizer for device_type GPU is enabled.\n"
     ]
    },
    {
     "name": "stdout",
     "output_type": "stream",
     "text": [
      "83/83 [==============================] - 5s 36ms/step - loss: 0.6753 - accuracy: 0.5759 - val_loss: 0.7066 - val_accuracy: 0.4027\n",
      "Epoch 2/100\n",
      "83/83 [==============================] - 2s 18ms/step - loss: 0.6612 - accuracy: 0.5948 - val_loss: 0.6619 - val_accuracy: 0.6591\n",
      "Epoch 3/100\n",
      "83/83 [==============================] - 2s 18ms/step - loss: 0.6471 - accuracy: 0.6125 - val_loss: 0.6693 - val_accuracy: 0.6048\n",
      "Epoch 4/100\n",
      "83/83 [==============================] - 2s 18ms/step - loss: 0.6390 - accuracy: 0.6186 - val_loss: 0.6507 - val_accuracy: 0.6214\n",
      "Epoch 5/100\n",
      "83/83 [==============================] - 2s 19ms/step - loss: 0.6281 - accuracy: 0.6337 - val_loss: 0.6642 - val_accuracy: 0.6621\n",
      "Epoch 6/100\n",
      "83/83 [==============================] - 2s 19ms/step - loss: 0.6198 - accuracy: 0.6405 - val_loss: 0.6433 - val_accuracy: 0.6787\n",
      "Epoch 7/100\n",
      "83/83 [==============================] - 2s 19ms/step - loss: 0.6210 - accuracy: 0.6424 - val_loss: 0.6465 - val_accuracy: 0.6606\n",
      "Epoch 8/100\n",
      "83/83 [==============================] - 2s 18ms/step - loss: 0.6105 - accuracy: 0.6477 - val_loss: 0.6256 - val_accuracy: 0.6742\n",
      "Epoch 9/100\n",
      "83/83 [==============================] - 2s 18ms/step - loss: 0.6188 - accuracy: 0.6446 - val_loss: 0.6364 - val_accuracy: 0.6531\n",
      "Epoch 10/100\n",
      "83/83 [==============================] - 2s 18ms/step - loss: 0.6086 - accuracy: 0.6514 - val_loss: 0.6330 - val_accuracy: 0.6531\n",
      "Epoch 11/100\n",
      "83/83 [==============================] - 2s 19ms/step - loss: 0.6090 - accuracy: 0.6401 - val_loss: 0.7532 - val_accuracy: 0.4012\n",
      "Epoch 12/100\n",
      "83/83 [==============================] - 2s 18ms/step - loss: 0.6014 - accuracy: 0.6594 - val_loss: 0.6298 - val_accuracy: 0.6546\n",
      "Epoch 13/100\n",
      "83/83 [==============================] - 2s 19ms/step - loss: 0.6016 - accuracy: 0.6575 - val_loss: 0.6502 - val_accuracy: 0.6275\n",
      "Epoch 14/100\n",
      "83/83 [==============================] - 2s 18ms/step - loss: 0.5912 - accuracy: 0.6613 - val_loss: 0.6437 - val_accuracy: 0.6320\n",
      "Epoch 15/100\n",
      "83/83 [==============================] - 2s 19ms/step - loss: 0.5884 - accuracy: 0.6658 - val_loss: 0.6658 - val_accuracy: 0.6033\n",
      "Epoch 16/100\n",
      "83/83 [==============================] - 2s 19ms/step - loss: 0.5902 - accuracy: 0.6745 - val_loss: 0.6546 - val_accuracy: 0.6410\n",
      "Epoch 17/100\n",
      "83/83 [==============================] - 2s 19ms/step - loss: 0.5839 - accuracy: 0.6756 - val_loss: 0.8460 - val_accuracy: 0.4178\n",
      "Epoch 18/100\n",
      "83/83 [==============================] - 2s 19ms/step - loss: 0.5867 - accuracy: 0.6639 - val_loss: 0.7889 - val_accuracy: 0.4087\n",
      "Epoch 19/100\n",
      "83/83 [==============================] - 2s 19ms/step - loss: 0.5818 - accuracy: 0.6752 - val_loss: 0.8309 - val_accuracy: 0.4027\n",
      "Epoch 20/100\n",
      "83/83 [==============================] - 2s 19ms/step - loss: 0.5872 - accuracy: 0.6699 - val_loss: 0.7197 - val_accuracy: 0.4510\n",
      "Epoch 21/100\n",
      "83/83 [==============================] - 2s 19ms/step - loss: 0.5820 - accuracy: 0.6745 - val_loss: 0.7059 - val_accuracy: 0.5008\n",
      "Epoch 22/100\n",
      "83/83 [==============================] - 2s 18ms/step - loss: 0.5733 - accuracy: 0.6741 - val_loss: 0.6645 - val_accuracy: 0.5882\n",
      "Epoch 23/100\n",
      "83/83 [==============================] - 2s 18ms/step - loss: 0.5710 - accuracy: 0.6866 - val_loss: 0.7510 - val_accuracy: 0.4404\n",
      "Epoch 24/100\n",
      "83/83 [==============================] - 2s 19ms/step - loss: 0.5678 - accuracy: 0.6911 - val_loss: 0.6957 - val_accuracy: 0.4857\n",
      "Epoch 25/100\n",
      "83/83 [==============================] - 2s 19ms/step - loss: 0.5629 - accuracy: 0.6881 - val_loss: 0.6980 - val_accuracy: 0.5279\n",
      "Epoch 26/100\n",
      "83/83 [==============================] - 2s 18ms/step - loss: 0.5636 - accuracy: 0.6862 - val_loss: 0.7784 - val_accuracy: 0.4042\n",
      "Epoch 27/100\n",
      "83/83 [==============================] - 2s 18ms/step - loss: 0.5619 - accuracy: 0.6986 - val_loss: 0.6633 - val_accuracy: 0.6078\n",
      "Epoch 28/100\n",
      "83/83 [==============================] - 2s 20ms/step - loss: 0.5600 - accuracy: 0.6907 - val_loss: 0.6851 - val_accuracy: 0.5988\n",
      "Epoch 29/100\n",
      "83/83 [==============================] - 2s 20ms/step - loss: 0.5599 - accuracy: 0.6960 - val_loss: 0.7739 - val_accuracy: 0.4510\n",
      "Epoch 30/100\n",
      "83/83 [==============================] - 2s 21ms/step - loss: 0.5569 - accuracy: 0.7032 - val_loss: 0.7472 - val_accuracy: 0.4027\n",
      "Epoch 31/100\n",
      "83/83 [==============================] - 2s 19ms/step - loss: 0.5487 - accuracy: 0.6998 - val_loss: 0.7419 - val_accuracy: 0.4585\n",
      "Epoch 32/100\n",
      "83/83 [==============================] - 2s 20ms/step - loss: 0.5535 - accuracy: 0.7088 - val_loss: 0.8116 - val_accuracy: 0.5053\n",
      "Epoch 33/100\n",
      "83/83 [==============================] - 2s 21ms/step - loss: 0.5463 - accuracy: 0.7096 - val_loss: 0.7330 - val_accuracy: 0.5777\n",
      "Epoch 34/100\n",
      "83/83 [==============================] - 2s 20ms/step - loss: 0.5397 - accuracy: 0.7126 - val_loss: 0.7621 - val_accuracy: 0.4887\n",
      "Epoch 35/100\n",
      "83/83 [==============================] - 2s 19ms/step - loss: 0.5418 - accuracy: 0.7145 - val_loss: 0.7315 - val_accuracy: 0.4615\n",
      "Epoch 36/100\n",
      "83/83 [==============================] - 2s 19ms/step - loss: 0.5392 - accuracy: 0.7119 - val_loss: 0.7163 - val_accuracy: 0.4721\n",
      "Epoch 37/100\n",
      "83/83 [==============================] - 2s 19ms/step - loss: 0.5294 - accuracy: 0.7160 - val_loss: 0.7676 - val_accuracy: 0.4691\n",
      "Epoch 38/100\n",
      "83/83 [==============================] - 2s 20ms/step - loss: 0.5264 - accuracy: 0.7224 - val_loss: 0.8914 - val_accuracy: 0.4314\n",
      "Epoch 39/100\n",
      "83/83 [==============================] - 2s 18ms/step - loss: 0.5262 - accuracy: 0.7183 - val_loss: 0.8584 - val_accuracy: 0.4751\n",
      "Epoch 40/100\n",
      "83/83 [==============================] - 2s 18ms/step - loss: 0.5132 - accuracy: 0.7296 - val_loss: 0.8647 - val_accuracy: 0.4495\n",
      "Epoch 41/100\n",
      "83/83 [==============================] - 2s 19ms/step - loss: 0.5231 - accuracy: 0.7262 - val_loss: 0.8465 - val_accuracy: 0.5505\n",
      "Epoch 42/100\n",
      "83/83 [==============================] - 2s 19ms/step - loss: 0.5116 - accuracy: 0.7338 - val_loss: 0.8115 - val_accuracy: 0.4827\n",
      "Epoch 43/100\n",
      "83/83 [==============================] - 2s 18ms/step - loss: 0.5100 - accuracy: 0.7383 - val_loss: 1.2080 - val_accuracy: 0.4148\n",
      "Epoch 44/100\n",
      "83/83 [==============================] - 2s 18ms/step - loss: 0.4948 - accuracy: 0.7421 - val_loss: 0.7657 - val_accuracy: 0.4887\n",
      "Epoch 45/100\n",
      "83/83 [==============================] - 2s 19ms/step - loss: 0.4991 - accuracy: 0.7372 - val_loss: 1.1024 - val_accuracy: 0.4057\n",
      "Epoch 46/100\n",
      "83/83 [==============================] - 1s 18ms/step - loss: 0.4959 - accuracy: 0.7402 - val_loss: 0.7828 - val_accuracy: 0.4585\n",
      "Epoch 47/100\n",
      "83/83 [==============================] - 2s 19ms/step - loss: 0.4873 - accuracy: 0.7398 - val_loss: 0.7896 - val_accuracy: 0.4359\n",
      "Epoch 48/100\n",
      "83/83 [==============================] - 1s 18ms/step - loss: 0.4898 - accuracy: 0.7458 - val_loss: 0.8984 - val_accuracy: 0.4299\n",
      "Epoch 49/100\n",
      "83/83 [==============================] - 2s 18ms/step - loss: 0.4753 - accuracy: 0.7583 - val_loss: 0.8904 - val_accuracy: 0.4555\n",
      "Epoch 50/100\n",
      "83/83 [==============================] - 1s 18ms/step - loss: 0.4618 - accuracy: 0.7644 - val_loss: 0.9863 - val_accuracy: 0.4344\n",
      "Epoch 51/100\n",
      "83/83 [==============================] - 2s 18ms/step - loss: 0.4628 - accuracy: 0.7606 - val_loss: 1.1302 - val_accuracy: 0.4238\n",
      "Epoch 52/100\n",
      "83/83 [==============================] - 2s 18ms/step - loss: 0.4509 - accuracy: 0.7674 - val_loss: 1.2244 - val_accuracy: 0.4284\n",
      "Epoch 53/100\n",
      "83/83 [==============================] - 2s 18ms/step - loss: 0.4369 - accuracy: 0.7810 - val_loss: 1.1674 - val_accuracy: 0.4238\n",
      "Epoch 54/100\n",
      "83/83 [==============================] - 2s 18ms/step - loss: 0.4422 - accuracy: 0.7738 - val_loss: 1.0357 - val_accuracy: 0.4615\n",
      "Epoch 55/100\n",
      "83/83 [==============================] - 2s 18ms/step - loss: 0.4322 - accuracy: 0.7825 - val_loss: 1.2067 - val_accuracy: 0.4691\n",
      "Epoch 56/100\n",
      "83/83 [==============================] - 2s 18ms/step - loss: 0.4149 - accuracy: 0.7900 - val_loss: 0.9312 - val_accuracy: 0.4766\n",
      "Epoch 57/100\n",
      "83/83 [==============================] - 2s 18ms/step - loss: 0.4097 - accuracy: 0.7972 - val_loss: 1.0930 - val_accuracy: 0.4947\n",
      "Epoch 58/100\n"
     ]
    },
    {
     "name": "stdout",
     "output_type": "stream",
     "text": [
      "83/83 [==============================] - 2s 18ms/step - loss: 0.3965 - accuracy: 0.8014 - val_loss: 1.0679 - val_accuracy: 0.4977\n",
      "Epoch 59/100\n",
      "83/83 [==============================] - 2s 18ms/step - loss: 0.3961 - accuracy: 0.8036 - val_loss: 1.0587 - val_accuracy: 0.5128\n",
      "Epoch 60/100\n",
      "83/83 [==============================] - 2s 18ms/step - loss: 0.3780 - accuracy: 0.8055 - val_loss: 1.1617 - val_accuracy: 0.4661\n",
      "Epoch 61/100\n",
      "83/83 [==============================] - 2s 18ms/step - loss: 0.3803 - accuracy: 0.8146 - val_loss: 1.1178 - val_accuracy: 0.5008\n",
      "Epoch 62/100\n",
      "83/83 [==============================] - 2s 18ms/step - loss: 0.3675 - accuracy: 0.8236 - val_loss: 1.1272 - val_accuracy: 0.5068\n",
      "Epoch 63/100\n",
      "83/83 [==============================] - 2s 18ms/step - loss: 0.3304 - accuracy: 0.8391 - val_loss: 1.3780 - val_accuracy: 0.4555\n",
      "Epoch 64/100\n",
      "83/83 [==============================] - 2s 18ms/step - loss: 0.3585 - accuracy: 0.8187 - val_loss: 1.1927 - val_accuracy: 0.4887\n",
      "Epoch 65/100\n",
      "83/83 [==============================] - 2s 18ms/step - loss: 0.3195 - accuracy: 0.8527 - val_loss: 1.1425 - val_accuracy: 0.5475\n",
      "Epoch 66/100\n",
      "83/83 [==============================] - 2s 18ms/step - loss: 0.3405 - accuracy: 0.8425 - val_loss: 1.3933 - val_accuracy: 0.4193\n",
      "Epoch 67/100\n",
      "83/83 [==============================] - 2s 18ms/step - loss: 0.3243 - accuracy: 0.8501 - val_loss: 1.0801 - val_accuracy: 0.4977\n",
      "Epoch 68/100\n",
      "83/83 [==============================] - 2s 18ms/step - loss: 0.3061 - accuracy: 0.8554 - val_loss: 1.4119 - val_accuracy: 0.4389\n",
      "Epoch 69/100\n",
      "83/83 [==============================] - 2s 18ms/step - loss: 0.2864 - accuracy: 0.8659 - val_loss: 1.3931 - val_accuracy: 0.5068\n",
      "Epoch 70/100\n",
      "83/83 [==============================] - 2s 18ms/step - loss: 0.2719 - accuracy: 0.8735 - val_loss: 1.3213 - val_accuracy: 0.5143\n",
      "Epoch 71/100\n",
      "83/83 [==============================] - 2s 18ms/step - loss: 0.2832 - accuracy: 0.8739 - val_loss: 1.6148 - val_accuracy: 0.4977\n",
      "Epoch 72/100\n",
      "83/83 [==============================] - 2s 19ms/step - loss: 0.2764 - accuracy: 0.8648 - val_loss: 1.9397 - val_accuracy: 0.4947\n",
      "Epoch 73/100\n",
      "83/83 [==============================] - 2s 20ms/step - loss: 0.2512 - accuracy: 0.8894 - val_loss: 1.5610 - val_accuracy: 0.5053\n",
      "Epoch 74/100\n",
      "83/83 [==============================] - 2s 19ms/step - loss: 0.2353 - accuracy: 0.8935 - val_loss: 2.4269 - val_accuracy: 0.4872\n",
      "Epoch 75/100\n",
      "83/83 [==============================] - 2s 20ms/step - loss: 0.2598 - accuracy: 0.8784 - val_loss: 1.2739 - val_accuracy: 0.4646\n",
      "Epoch 76/100\n",
      "83/83 [==============================] - 2s 20ms/step - loss: 0.2693 - accuracy: 0.8841 - val_loss: 1.4473 - val_accuracy: 0.4842\n",
      "Epoch 77/100\n",
      "83/83 [==============================] - 2s 20ms/step - loss: 0.2843 - accuracy: 0.8705 - val_loss: 0.9409 - val_accuracy: 0.5189\n",
      "Epoch 78/100\n",
      "83/83 [==============================] - 2s 19ms/step - loss: 0.2085 - accuracy: 0.9113 - val_loss: 1.0766 - val_accuracy: 0.5535\n",
      "Epoch 79/100\n",
      "83/83 [==============================] - 2s 19ms/step - loss: 0.2039 - accuracy: 0.9150 - val_loss: 1.2241 - val_accuracy: 0.5309\n",
      "Epoch 80/100\n",
      "83/83 [==============================] - 2s 19ms/step - loss: 0.2041 - accuracy: 0.9109 - val_loss: 1.6055 - val_accuracy: 0.5053\n",
      "Epoch 81/100\n",
      "83/83 [==============================] - 2s 19ms/step - loss: 0.1971 - accuracy: 0.9143 - val_loss: 1.7736 - val_accuracy: 0.4962\n",
      "Epoch 82/100\n",
      "83/83 [==============================] - 2s 19ms/step - loss: 0.1782 - accuracy: 0.9271 - val_loss: 1.4898 - val_accuracy: 0.4781\n",
      "Epoch 83/100\n",
      "83/83 [==============================] - 2s 20ms/step - loss: 0.1934 - accuracy: 0.9252 - val_loss: 1.5503 - val_accuracy: 0.4721\n",
      "Epoch 84/100\n",
      "83/83 [==============================] - 2s 20ms/step - loss: 0.1623 - accuracy: 0.9335 - val_loss: 1.7478 - val_accuracy: 0.5204\n",
      "Epoch 85/100\n",
      "83/83 [==============================] - 2s 19ms/step - loss: 0.1522 - accuracy: 0.9388 - val_loss: 1.5350 - val_accuracy: 0.4977\n",
      "Epoch 86/100\n",
      "83/83 [==============================] - 2s 20ms/step - loss: 0.1706 - accuracy: 0.9286 - val_loss: 1.6462 - val_accuracy: 0.5008\n",
      "Epoch 87/100\n",
      "83/83 [==============================] - 2s 20ms/step - loss: 0.1492 - accuracy: 0.9418 - val_loss: 1.9414 - val_accuracy: 0.5143\n",
      "Epoch 88/100\n",
      "83/83 [==============================] - 2s 21ms/step - loss: 0.1421 - accuracy: 0.9456 - val_loss: 1.9816 - val_accuracy: 0.4736\n",
      "Epoch 89/100\n",
      "76/83 [==========================>...] - ETA: 0s - loss: 0.1808 - accuracy: 0.9280"
     ]
    },
    {
     "ename": "KeyboardInterrupt",
     "evalue": "",
     "output_type": "error",
     "traceback": [
      "\u001b[0;31m---------------------------------------------------------------------------\u001b[0m",
      "\u001b[0;31mKeyboardInterrupt\u001b[0m                         Traceback (most recent call last)",
      "Cell \u001b[0;32mIn[21], line 1\u001b[0m\n\u001b[0;32m----> 1\u001b[0m \u001b[43mmodel\u001b[49m\u001b[38;5;241;43m.\u001b[39;49m\u001b[43mfit\u001b[49m\u001b[43m(\u001b[49m\u001b[43mtrain_X\u001b[49m\u001b[43m,\u001b[49m\u001b[43m \u001b[49m\u001b[43mtrain_y\u001b[49m\u001b[43m,\u001b[49m\u001b[43m \u001b[49m\u001b[43mvalidation_split\u001b[49m\u001b[38;5;241;43m=\u001b[39;49m\u001b[38;5;241;43m0.2\u001b[39;49m\u001b[43m,\u001b[49m\u001b[43m \u001b[49m\u001b[43mepochs\u001b[49m\u001b[38;5;241;43m=\u001b[39;49m\u001b[38;5;241;43m100\u001b[39;49m\u001b[43m)\u001b[49m\n",
      "File \u001b[0;32m~/miniconda/envs/tf/lib/python3.8/site-packages/keras/utils/traceback_utils.py:65\u001b[0m, in \u001b[0;36mfilter_traceback.<locals>.error_handler\u001b[0;34m(*args, **kwargs)\u001b[0m\n\u001b[1;32m     63\u001b[0m filtered_tb \u001b[38;5;241m=\u001b[39m \u001b[38;5;28;01mNone\u001b[39;00m\n\u001b[1;32m     64\u001b[0m \u001b[38;5;28;01mtry\u001b[39;00m:\n\u001b[0;32m---> 65\u001b[0m     \u001b[38;5;28;01mreturn\u001b[39;00m \u001b[43mfn\u001b[49m\u001b[43m(\u001b[49m\u001b[38;5;241;43m*\u001b[39;49m\u001b[43margs\u001b[49m\u001b[43m,\u001b[49m\u001b[43m \u001b[49m\u001b[38;5;241;43m*\u001b[39;49m\u001b[38;5;241;43m*\u001b[39;49m\u001b[43mkwargs\u001b[49m\u001b[43m)\u001b[49m\n\u001b[1;32m     66\u001b[0m \u001b[38;5;28;01mexcept\u001b[39;00m \u001b[38;5;167;01mException\u001b[39;00m \u001b[38;5;28;01mas\u001b[39;00m e:\n\u001b[1;32m     67\u001b[0m     filtered_tb \u001b[38;5;241m=\u001b[39m _process_traceback_frames(e\u001b[38;5;241m.\u001b[39m__traceback__)\n",
      "File \u001b[0;32m~/miniconda/envs/tf/lib/python3.8/site-packages/keras/engine/training.py:1564\u001b[0m, in \u001b[0;36mModel.fit\u001b[0;34m(self, x, y, batch_size, epochs, verbose, callbacks, validation_split, validation_data, shuffle, class_weight, sample_weight, initial_epoch, steps_per_epoch, validation_steps, validation_batch_size, validation_freq, max_queue_size, workers, use_multiprocessing)\u001b[0m\n\u001b[1;32m   1556\u001b[0m \u001b[38;5;28;01mwith\u001b[39;00m tf\u001b[38;5;241m.\u001b[39mprofiler\u001b[38;5;241m.\u001b[39mexperimental\u001b[38;5;241m.\u001b[39mTrace(\n\u001b[1;32m   1557\u001b[0m     \u001b[38;5;124m\"\u001b[39m\u001b[38;5;124mtrain\u001b[39m\u001b[38;5;124m\"\u001b[39m,\n\u001b[1;32m   1558\u001b[0m     epoch_num\u001b[38;5;241m=\u001b[39mepoch,\n\u001b[0;32m   (...)\u001b[0m\n\u001b[1;32m   1561\u001b[0m     _r\u001b[38;5;241m=\u001b[39m\u001b[38;5;241m1\u001b[39m,\n\u001b[1;32m   1562\u001b[0m ):\n\u001b[1;32m   1563\u001b[0m     callbacks\u001b[38;5;241m.\u001b[39mon_train_batch_begin(step)\n\u001b[0;32m-> 1564\u001b[0m     tmp_logs \u001b[38;5;241m=\u001b[39m \u001b[38;5;28;43mself\u001b[39;49m\u001b[38;5;241;43m.\u001b[39;49m\u001b[43mtrain_function\u001b[49m\u001b[43m(\u001b[49m\u001b[43miterator\u001b[49m\u001b[43m)\u001b[49m\n\u001b[1;32m   1565\u001b[0m     \u001b[38;5;28;01mif\u001b[39;00m data_handler\u001b[38;5;241m.\u001b[39mshould_sync:\n\u001b[1;32m   1566\u001b[0m         context\u001b[38;5;241m.\u001b[39masync_wait()\n",
      "File \u001b[0;32m~/miniconda/envs/tf/lib/python3.8/site-packages/tensorflow/python/util/traceback_utils.py:150\u001b[0m, in \u001b[0;36mfilter_traceback.<locals>.error_handler\u001b[0;34m(*args, **kwargs)\u001b[0m\n\u001b[1;32m    148\u001b[0m filtered_tb \u001b[38;5;241m=\u001b[39m \u001b[38;5;28;01mNone\u001b[39;00m\n\u001b[1;32m    149\u001b[0m \u001b[38;5;28;01mtry\u001b[39;00m:\n\u001b[0;32m--> 150\u001b[0m   \u001b[38;5;28;01mreturn\u001b[39;00m \u001b[43mfn\u001b[49m\u001b[43m(\u001b[49m\u001b[38;5;241;43m*\u001b[39;49m\u001b[43margs\u001b[49m\u001b[43m,\u001b[49m\u001b[43m \u001b[49m\u001b[38;5;241;43m*\u001b[39;49m\u001b[38;5;241;43m*\u001b[39;49m\u001b[43mkwargs\u001b[49m\u001b[43m)\u001b[49m\n\u001b[1;32m    151\u001b[0m \u001b[38;5;28;01mexcept\u001b[39;00m \u001b[38;5;167;01mException\u001b[39;00m \u001b[38;5;28;01mas\u001b[39;00m e:\n\u001b[1;32m    152\u001b[0m   filtered_tb \u001b[38;5;241m=\u001b[39m _process_traceback_frames(e\u001b[38;5;241m.\u001b[39m__traceback__)\n",
      "File \u001b[0;32m~/miniconda/envs/tf/lib/python3.8/site-packages/tensorflow/python/eager/def_function.py:915\u001b[0m, in \u001b[0;36mFunction.__call__\u001b[0;34m(self, *args, **kwds)\u001b[0m\n\u001b[1;32m    912\u001b[0m compiler \u001b[38;5;241m=\u001b[39m \u001b[38;5;124m\"\u001b[39m\u001b[38;5;124mxla\u001b[39m\u001b[38;5;124m\"\u001b[39m \u001b[38;5;28;01mif\u001b[39;00m \u001b[38;5;28mself\u001b[39m\u001b[38;5;241m.\u001b[39m_jit_compile \u001b[38;5;28;01melse\u001b[39;00m \u001b[38;5;124m\"\u001b[39m\u001b[38;5;124mnonXla\u001b[39m\u001b[38;5;124m\"\u001b[39m\n\u001b[1;32m    914\u001b[0m \u001b[38;5;28;01mwith\u001b[39;00m OptionalXlaContext(\u001b[38;5;28mself\u001b[39m\u001b[38;5;241m.\u001b[39m_jit_compile):\n\u001b[0;32m--> 915\u001b[0m   result \u001b[38;5;241m=\u001b[39m \u001b[38;5;28;43mself\u001b[39;49m\u001b[38;5;241;43m.\u001b[39;49m\u001b[43m_call\u001b[49m\u001b[43m(\u001b[49m\u001b[38;5;241;43m*\u001b[39;49m\u001b[43margs\u001b[49m\u001b[43m,\u001b[49m\u001b[43m \u001b[49m\u001b[38;5;241;43m*\u001b[39;49m\u001b[38;5;241;43m*\u001b[39;49m\u001b[43mkwds\u001b[49m\u001b[43m)\u001b[49m\n\u001b[1;32m    917\u001b[0m new_tracing_count \u001b[38;5;241m=\u001b[39m \u001b[38;5;28mself\u001b[39m\u001b[38;5;241m.\u001b[39mexperimental_get_tracing_count()\n\u001b[1;32m    918\u001b[0m without_tracing \u001b[38;5;241m=\u001b[39m (tracing_count \u001b[38;5;241m==\u001b[39m new_tracing_count)\n",
      "File \u001b[0;32m~/miniconda/envs/tf/lib/python3.8/site-packages/tensorflow/python/eager/def_function.py:947\u001b[0m, in \u001b[0;36mFunction._call\u001b[0;34m(self, *args, **kwds)\u001b[0m\n\u001b[1;32m    944\u001b[0m   \u001b[38;5;28mself\u001b[39m\u001b[38;5;241m.\u001b[39m_lock\u001b[38;5;241m.\u001b[39mrelease()\n\u001b[1;32m    945\u001b[0m   \u001b[38;5;66;03m# In this case we have created variables on the first call, so we run the\u001b[39;00m\n\u001b[1;32m    946\u001b[0m   \u001b[38;5;66;03m# defunned version which is guaranteed to never create variables.\u001b[39;00m\n\u001b[0;32m--> 947\u001b[0m   \u001b[38;5;28;01mreturn\u001b[39;00m \u001b[38;5;28;43mself\u001b[39;49m\u001b[38;5;241;43m.\u001b[39;49m\u001b[43m_stateless_fn\u001b[49m\u001b[43m(\u001b[49m\u001b[38;5;241;43m*\u001b[39;49m\u001b[43margs\u001b[49m\u001b[43m,\u001b[49m\u001b[43m \u001b[49m\u001b[38;5;241;43m*\u001b[39;49m\u001b[38;5;241;43m*\u001b[39;49m\u001b[43mkwds\u001b[49m\u001b[43m)\u001b[49m  \u001b[38;5;66;03m# pylint: disable=not-callable\u001b[39;00m\n\u001b[1;32m    948\u001b[0m \u001b[38;5;28;01melif\u001b[39;00m \u001b[38;5;28mself\u001b[39m\u001b[38;5;241m.\u001b[39m_stateful_fn \u001b[38;5;129;01mis\u001b[39;00m \u001b[38;5;129;01mnot\u001b[39;00m \u001b[38;5;28;01mNone\u001b[39;00m:\n\u001b[1;32m    949\u001b[0m   \u001b[38;5;66;03m# Release the lock early so that multiple threads can perform the call\u001b[39;00m\n\u001b[1;32m    950\u001b[0m   \u001b[38;5;66;03m# in parallel.\u001b[39;00m\n\u001b[1;32m    951\u001b[0m   \u001b[38;5;28mself\u001b[39m\u001b[38;5;241m.\u001b[39m_lock\u001b[38;5;241m.\u001b[39mrelease()\n",
      "File \u001b[0;32m~/miniconda/envs/tf/lib/python3.8/site-packages/tensorflow/python/eager/function.py:2496\u001b[0m, in \u001b[0;36mFunction.__call__\u001b[0;34m(self, *args, **kwargs)\u001b[0m\n\u001b[1;32m   2493\u001b[0m \u001b[38;5;28;01mwith\u001b[39;00m \u001b[38;5;28mself\u001b[39m\u001b[38;5;241m.\u001b[39m_lock:\n\u001b[1;32m   2494\u001b[0m   (graph_function,\n\u001b[1;32m   2495\u001b[0m    filtered_flat_args) \u001b[38;5;241m=\u001b[39m \u001b[38;5;28mself\u001b[39m\u001b[38;5;241m.\u001b[39m_maybe_define_function(args, kwargs)\n\u001b[0;32m-> 2496\u001b[0m \u001b[38;5;28;01mreturn\u001b[39;00m \u001b[43mgraph_function\u001b[49m\u001b[38;5;241;43m.\u001b[39;49m\u001b[43m_call_flat\u001b[49m\u001b[43m(\u001b[49m\n\u001b[1;32m   2497\u001b[0m \u001b[43m    \u001b[49m\u001b[43mfiltered_flat_args\u001b[49m\u001b[43m,\u001b[49m\u001b[43m \u001b[49m\u001b[43mcaptured_inputs\u001b[49m\u001b[38;5;241;43m=\u001b[39;49m\u001b[43mgraph_function\u001b[49m\u001b[38;5;241;43m.\u001b[39;49m\u001b[43mcaptured_inputs\u001b[49m\u001b[43m)\u001b[49m\n",
      "File \u001b[0;32m~/miniconda/envs/tf/lib/python3.8/site-packages/tensorflow/python/eager/function.py:1862\u001b[0m, in \u001b[0;36mConcreteFunction._call_flat\u001b[0;34m(self, args, captured_inputs, cancellation_manager)\u001b[0m\n\u001b[1;32m   1858\u001b[0m possible_gradient_type \u001b[38;5;241m=\u001b[39m gradients_util\u001b[38;5;241m.\u001b[39mPossibleTapeGradientTypes(args)\n\u001b[1;32m   1859\u001b[0m \u001b[38;5;28;01mif\u001b[39;00m (possible_gradient_type \u001b[38;5;241m==\u001b[39m gradients_util\u001b[38;5;241m.\u001b[39mPOSSIBLE_GRADIENT_TYPES_NONE\n\u001b[1;32m   1860\u001b[0m     \u001b[38;5;129;01mand\u001b[39;00m executing_eagerly):\n\u001b[1;32m   1861\u001b[0m   \u001b[38;5;66;03m# No tape is watching; skip to running the function.\u001b[39;00m\n\u001b[0;32m-> 1862\u001b[0m   \u001b[38;5;28;01mreturn\u001b[39;00m \u001b[38;5;28mself\u001b[39m\u001b[38;5;241m.\u001b[39m_build_call_outputs(\u001b[38;5;28;43mself\u001b[39;49m\u001b[38;5;241;43m.\u001b[39;49m\u001b[43m_inference_function\u001b[49m\u001b[38;5;241;43m.\u001b[39;49m\u001b[43mcall\u001b[49m\u001b[43m(\u001b[49m\n\u001b[1;32m   1863\u001b[0m \u001b[43m      \u001b[49m\u001b[43mctx\u001b[49m\u001b[43m,\u001b[49m\u001b[43m \u001b[49m\u001b[43margs\u001b[49m\u001b[43m,\u001b[49m\u001b[43m \u001b[49m\u001b[43mcancellation_manager\u001b[49m\u001b[38;5;241;43m=\u001b[39;49m\u001b[43mcancellation_manager\u001b[49m\u001b[43m)\u001b[49m)\n\u001b[1;32m   1864\u001b[0m forward_backward \u001b[38;5;241m=\u001b[39m \u001b[38;5;28mself\u001b[39m\u001b[38;5;241m.\u001b[39m_select_forward_and_backward_functions(\n\u001b[1;32m   1865\u001b[0m     args,\n\u001b[1;32m   1866\u001b[0m     possible_gradient_type,\n\u001b[1;32m   1867\u001b[0m     executing_eagerly)\n\u001b[1;32m   1868\u001b[0m forward_function, args_with_tangents \u001b[38;5;241m=\u001b[39m forward_backward\u001b[38;5;241m.\u001b[39mforward()\n",
      "File \u001b[0;32m~/miniconda/envs/tf/lib/python3.8/site-packages/tensorflow/python/eager/function.py:499\u001b[0m, in \u001b[0;36m_EagerDefinedFunction.call\u001b[0;34m(self, ctx, args, cancellation_manager)\u001b[0m\n\u001b[1;32m    497\u001b[0m \u001b[38;5;28;01mwith\u001b[39;00m _InterpolateFunctionError(\u001b[38;5;28mself\u001b[39m):\n\u001b[1;32m    498\u001b[0m   \u001b[38;5;28;01mif\u001b[39;00m cancellation_manager \u001b[38;5;129;01mis\u001b[39;00m \u001b[38;5;28;01mNone\u001b[39;00m:\n\u001b[0;32m--> 499\u001b[0m     outputs \u001b[38;5;241m=\u001b[39m \u001b[43mexecute\u001b[49m\u001b[38;5;241;43m.\u001b[39;49m\u001b[43mexecute\u001b[49m\u001b[43m(\u001b[49m\n\u001b[1;32m    500\u001b[0m \u001b[43m        \u001b[49m\u001b[38;5;28;43mstr\u001b[39;49m\u001b[43m(\u001b[49m\u001b[38;5;28;43mself\u001b[39;49m\u001b[38;5;241;43m.\u001b[39;49m\u001b[43msignature\u001b[49m\u001b[38;5;241;43m.\u001b[39;49m\u001b[43mname\u001b[49m\u001b[43m)\u001b[49m\u001b[43m,\u001b[49m\n\u001b[1;32m    501\u001b[0m \u001b[43m        \u001b[49m\u001b[43mnum_outputs\u001b[49m\u001b[38;5;241;43m=\u001b[39;49m\u001b[38;5;28;43mself\u001b[39;49m\u001b[38;5;241;43m.\u001b[39;49m\u001b[43m_num_outputs\u001b[49m\u001b[43m,\u001b[49m\n\u001b[1;32m    502\u001b[0m \u001b[43m        \u001b[49m\u001b[43minputs\u001b[49m\u001b[38;5;241;43m=\u001b[39;49m\u001b[43margs\u001b[49m\u001b[43m,\u001b[49m\n\u001b[1;32m    503\u001b[0m \u001b[43m        \u001b[49m\u001b[43mattrs\u001b[49m\u001b[38;5;241;43m=\u001b[39;49m\u001b[43mattrs\u001b[49m\u001b[43m,\u001b[49m\n\u001b[1;32m    504\u001b[0m \u001b[43m        \u001b[49m\u001b[43mctx\u001b[49m\u001b[38;5;241;43m=\u001b[39;49m\u001b[43mctx\u001b[49m\u001b[43m)\u001b[49m\n\u001b[1;32m    505\u001b[0m   \u001b[38;5;28;01melse\u001b[39;00m:\n\u001b[1;32m    506\u001b[0m     outputs \u001b[38;5;241m=\u001b[39m execute\u001b[38;5;241m.\u001b[39mexecute_with_cancellation(\n\u001b[1;32m    507\u001b[0m         \u001b[38;5;28mstr\u001b[39m(\u001b[38;5;28mself\u001b[39m\u001b[38;5;241m.\u001b[39msignature\u001b[38;5;241m.\u001b[39mname),\n\u001b[1;32m    508\u001b[0m         num_outputs\u001b[38;5;241m=\u001b[39m\u001b[38;5;28mself\u001b[39m\u001b[38;5;241m.\u001b[39m_num_outputs,\n\u001b[0;32m   (...)\u001b[0m\n\u001b[1;32m    511\u001b[0m         ctx\u001b[38;5;241m=\u001b[39mctx,\n\u001b[1;32m    512\u001b[0m         cancellation_manager\u001b[38;5;241m=\u001b[39mcancellation_manager)\n",
      "File \u001b[0;32m~/miniconda/envs/tf/lib/python3.8/site-packages/tensorflow/python/eager/execute.py:54\u001b[0m, in \u001b[0;36mquick_execute\u001b[0;34m(op_name, num_outputs, inputs, attrs, ctx, name)\u001b[0m\n\u001b[1;32m     52\u001b[0m \u001b[38;5;28;01mtry\u001b[39;00m:\n\u001b[1;32m     53\u001b[0m   ctx\u001b[38;5;241m.\u001b[39mensure_initialized()\n\u001b[0;32m---> 54\u001b[0m   tensors \u001b[38;5;241m=\u001b[39m \u001b[43mpywrap_tfe\u001b[49m\u001b[38;5;241;43m.\u001b[39;49m\u001b[43mTFE_Py_Execute\u001b[49m\u001b[43m(\u001b[49m\u001b[43mctx\u001b[49m\u001b[38;5;241;43m.\u001b[39;49m\u001b[43m_handle\u001b[49m\u001b[43m,\u001b[49m\u001b[43m \u001b[49m\u001b[43mdevice_name\u001b[49m\u001b[43m,\u001b[49m\u001b[43m \u001b[49m\u001b[43mop_name\u001b[49m\u001b[43m,\u001b[49m\n\u001b[1;32m     55\u001b[0m \u001b[43m                                      \u001b[49m\u001b[43minputs\u001b[49m\u001b[43m,\u001b[49m\u001b[43m \u001b[49m\u001b[43mattrs\u001b[49m\u001b[43m,\u001b[49m\u001b[43m \u001b[49m\u001b[43mnum_outputs\u001b[49m\u001b[43m)\u001b[49m\n\u001b[1;32m     56\u001b[0m \u001b[38;5;28;01mexcept\u001b[39;00m core\u001b[38;5;241m.\u001b[39m_NotOkStatusException \u001b[38;5;28;01mas\u001b[39;00m e:\n\u001b[1;32m     57\u001b[0m   \u001b[38;5;28;01mif\u001b[39;00m name \u001b[38;5;129;01mis\u001b[39;00m \u001b[38;5;129;01mnot\u001b[39;00m \u001b[38;5;28;01mNone\u001b[39;00m:\n",
      "\u001b[0;31mKeyboardInterrupt\u001b[0m: "
     ]
    }
   ],
   "source": [
    "model.fit(train_X, train_y, validation_split=0.2, epochs=100)"
   ]
  },
  {
   "cell_type": "code",
   "execution_count": null,
   "id": "0faf8a25",
   "metadata": {},
   "outputs": [],
   "source": [
    "loss, accuracy = model.evaluate(test_X,test_y)\n",
    "print(f\"테스트 정확도: {accuracy*100:.2f}%\")"
   ]
  },
  {
   "cell_type": "code",
   "execution_count": null,
   "id": "0a61ee6a",
   "metadata": {},
   "outputs": [],
   "source": [
    "y_hat = model.predict(test_X)"
   ]
  },
  {
   "cell_type": "code",
   "execution_count": null,
   "id": "e92c08e2",
   "metadata": {},
   "outputs": [],
   "source": [
    "y_hat = y_hat.argmax(axis=1)"
   ]
  },
  {
   "cell_type": "code",
   "execution_count": null,
   "id": "e9c81d2b",
   "metadata": {},
   "outputs": [],
   "source": [
    "f1 = f1_score(test_y, y_hat, average='micro')\n",
    "print(f\"F1 스코어: {f1:.4f}\")"
   ]
  },
  {
   "cell_type": "code",
   "execution_count": null,
   "id": "642defe3",
   "metadata": {},
   "outputs": [],
   "source": [
    "def lstm_model_V2():\n",
    "\n",
    "    inputs = Input(shape=(24, 11))\n",
    "\n",
    "    layer_1_tensor = LSTM(units=32, return_sequences=True)(inputs)\n",
    "    \n",
    "    layer_2_1 = LSTM(units=32, return_sequences=True)(layer_1_tensor)\n",
    "    layer_2_2 = LSTM(units=32, return_sequences=True)(inputs)\n",
    "    second_layer = Add()([layer_2_1, layer_2_2])\n",
    "    dropout_1 = Dropout(0.2)(second_layer)\n",
    "    \n",
    "    layer_3_tensor = LSTM(units=128, return_sequences=True)(dropout_1)\n",
    "    dropout_2 = Dropout(0.2)(layer_3_tensor)\n",
    "    \n",
    "    layer_4_1_tensor = LSTM(units=64, return_sequences=False)(dropout_2)\n",
    "    layer_4_2_tensor = LSTM(units=64, return_sequences=False)(layer_1_tensor)\n",
    "    last_layer = Average()([layer_4_1_tensor, layer_4_2_tensor]) \n",
    "    dropout_3 = Dropout(0.2)(last_layer)\n",
    "    \n",
    "    D_1 = Dense(units=64, activation='relu')(dropout_3)\n",
    "    D_2 = Dense(units=32, activation='relu')(D_1)\n",
    "    dropout_4 = Dropout(0.2)(D_2)\n",
    "    \n",
    "    outputs = Dense(units=1, activation='sigmoid')(dropout_4)\n",
    "\n",
    "    model = Model(inputs=inputs, outputs=outputs)\n",
    "    model.compile(loss='binary_crossentropy', optimizer='adam', metrics=['accuracy',Recall(),Precision()])\n",
    "    return model"
   ]
  },
  {
   "cell_type": "code",
   "execution_count": null,
   "id": "913a7041",
   "metadata": {},
   "outputs": [],
   "source": [
    "model = lstm_model_V2()\n",
    "\n",
    "model.summary()"
   ]
  },
  {
   "cell_type": "code",
   "execution_count": null,
   "id": "3a5eeab6",
   "metadata": {},
   "outputs": [],
   "source": [
    "model.fit(train_X, train_y, validation_split=0.2, epochs=50)"
   ]
  },
  {
   "cell_type": "code",
   "execution_count": null,
   "id": "d263f4c0",
   "metadata": {},
   "outputs": [],
   "source": [
    "loss, accuracy,_,_ = model.evaluate(test_X, test_y)\n",
    "print(f\"테스트 정확도: {accuracy*100:.2f}%\")"
   ]
  },
  {
   "cell_type": "code",
   "execution_count": null,
   "id": "1559cce3",
   "metadata": {},
   "outputs": [],
   "source": [
    "y_hat = model.predict(test_X)"
   ]
  },
  {
   "cell_type": "code",
   "execution_count": null,
   "id": "73b28547",
   "metadata": {},
   "outputs": [],
   "source": [
    "y_hat = y_hat.argmax(axis=1)"
   ]
  },
  {
   "cell_type": "code",
   "execution_count": null,
   "id": "c1c10d4d",
   "metadata": {},
   "outputs": [],
   "source": [
    "f1 = f1_score(test_y, y_hat, average='micro')\n",
    "print(f\"F1 스코어: {f1:.4f}\")"
   ]
  },
  {
   "cell_type": "markdown",
   "id": "4b917fe6",
   "metadata": {},
   "source": [
    "## 컬럼 제거버전 데이터"
   ]
  },
  {
   "cell_type": "code",
   "execution_count": 154,
   "id": "a7746f59",
   "metadata": {},
   "outputs": [],
   "source": [
    "asos_df = pd.read_csv('/Volumes/ESD-ISO/project_preson/shared_data_preparation/ASOS_1980_2024_After_drop.csv')"
   ]
  },
  {
   "cell_type": "code",
   "execution_count": 155,
   "id": "b80b3cd4",
   "metadata": {},
   "outputs": [],
   "source": [
    "# hours_12 열을 rain 열에서 12시간 이후 값을 가져와 생성\n",
    "asos_df['hours_12'] = asos_df['rain'].shift(-12)"
   ]
  },
  {
   "cell_type": "code",
   "execution_count": 156,
   "id": "6da538a6",
   "metadata": {},
   "outputs": [
    {
     "name": "stdout",
     "output_type": "stream",
     "text": [
      "<class 'pandas.core.frame.DataFrame'>\n",
      "RangeIndex: 127394 entries, 0 to 127393\n",
      "Data columns (total 13 columns):\n",
      " #   Column      Non-Null Count   Dtype  \n",
      "---  ------      --------------   -----  \n",
      " 0   tm          127394 non-null  object \n",
      " 1   hm          127392 non-null  float64\n",
      " 2   pv          127394 non-null  float64\n",
      " 3   td          127392 non-null  float64\n",
      " 4   pa          127394 non-null  float64\n",
      " 5   clfmAbbrCd  127394 non-null  object \n",
      " 6   lcsCh       127394 non-null  float64\n",
      " 7   m005Te      127392 non-null  float64\n",
      " 8   m01Te       127392 non-null  float64\n",
      " 9   m02Te       127392 non-null  float64\n",
      " 10  m03Te       127392 non-null  float64\n",
      " 11  rain        127394 non-null  int64  \n",
      " 12  hours_12    127382 non-null  float64\n",
      "dtypes: float64(10), int64(1), object(2)\n",
      "memory usage: 12.6+ MB\n"
     ]
    }
   ],
   "source": [
    "asos_df.info()"
   ]
  },
  {
   "cell_type": "code",
   "execution_count": 157,
   "id": "630ce835",
   "metadata": {},
   "outputs": [],
   "source": [
    "asos_df.drop(index=asos_df[asos_df['hours_12'].isna()].index, inplace=True) # 12시간 뒤에 데이터가 없는 마지막 12개열 삭제"
   ]
  },
  {
   "cell_type": "code",
   "execution_count": 158,
   "id": "cfe9f2fa",
   "metadata": {},
   "outputs": [],
   "source": [
    "encoder = LabelEncoder()\n",
    "asos_df.clfmAbbrCd = encoder.fit_transform(asos_df.clfmAbbrCd)"
   ]
  },
  {
   "cell_type": "code",
   "execution_count": 159,
   "id": "4f578bac",
   "metadata": {},
   "outputs": [],
   "source": [
    "asos_df['tm'] = pd.to_datetime(asos_df['tm'])"
   ]
  },
  {
   "cell_type": "code",
   "execution_count": 160,
   "id": "8d048d99",
   "metadata": {},
   "outputs": [],
   "source": [
    "base_time = asos_df['tm'].iloc[0]\n",
    "asos_df['tm'] = (asos_df['tm']-base_time).dt.total_seconds()"
   ]
  },
  {
   "cell_type": "code",
   "execution_count": 161,
   "id": "7dc2d57c",
   "metadata": {},
   "outputs": [
    {
     "data": {
      "text/plain": [
       "0.000000e+00    2\n",
       "9.050400e+07    2\n",
       "9.044640e+07    2\n",
       "9.045000e+07    2\n",
       "9.045360e+07    2\n",
       "               ..\n",
       "1.294337e+09    1\n",
       "1.294340e+09    1\n",
       "1.294344e+09    1\n",
       "1.294348e+09    1\n",
       "1.420027e+09    1\n",
       "Name: tm, Length: 89790, dtype: int64"
      ]
     },
     "execution_count": 161,
     "metadata": {},
     "output_type": "execute_result"
    }
   ],
   "source": [
    "asos_df['tm'].value_counts()"
   ]
  },
  {
   "cell_type": "code",
   "execution_count": 162,
   "id": "01e3f775",
   "metadata": {},
   "outputs": [
    {
     "data": {
      "text/html": [
       "<div>\n",
       "<style scoped>\n",
       "    .dataframe tbody tr th:only-of-type {\n",
       "        vertical-align: middle;\n",
       "    }\n",
       "\n",
       "    .dataframe tbody tr th {\n",
       "        vertical-align: top;\n",
       "    }\n",
       "\n",
       "    .dataframe thead th {\n",
       "        text-align: right;\n",
       "    }\n",
       "</style>\n",
       "<table border=\"1\" class=\"dataframe\">\n",
       "  <thead>\n",
       "    <tr style=\"text-align: right;\">\n",
       "      <th></th>\n",
       "      <th>tm</th>\n",
       "      <th>hm</th>\n",
       "      <th>pv</th>\n",
       "      <th>td</th>\n",
       "      <th>pa</th>\n",
       "      <th>clfmAbbrCd</th>\n",
       "      <th>lcsCh</th>\n",
       "      <th>m005Te</th>\n",
       "      <th>m01Te</th>\n",
       "      <th>m02Te</th>\n",
       "      <th>m03Te</th>\n",
       "      <th>rain</th>\n",
       "      <th>hours_12</th>\n",
       "      <th>group</th>\n",
       "    </tr>\n",
       "  </thead>\n",
       "  <tbody>\n",
       "    <tr>\n",
       "      <th>0</th>\n",
       "      <td>0.000000e+00</td>\n",
       "      <td>NaN</td>\n",
       "      <td>3.700757</td>\n",
       "      <td>NaN</td>\n",
       "      <td>1013.876282</td>\n",
       "      <td>72</td>\n",
       "      <td>0.0</td>\n",
       "      <td>NaN</td>\n",
       "      <td>NaN</td>\n",
       "      <td>NaN</td>\n",
       "      <td>NaN</td>\n",
       "      <td>0</td>\n",
       "      <td>0.0</td>\n",
       "      <td>0</td>\n",
       "    </tr>\n",
       "    <tr>\n",
       "      <th>1</th>\n",
       "      <td>3.600000e+03</td>\n",
       "      <td>NaN</td>\n",
       "      <td>3.700757</td>\n",
       "      <td>NaN</td>\n",
       "      <td>1013.876282</td>\n",
       "      <td>72</td>\n",
       "      <td>0.0</td>\n",
       "      <td>NaN</td>\n",
       "      <td>NaN</td>\n",
       "      <td>NaN</td>\n",
       "      <td>NaN</td>\n",
       "      <td>0</td>\n",
       "      <td>0.0</td>\n",
       "      <td>0</td>\n",
       "    </tr>\n",
       "    <tr>\n",
       "      <th>2</th>\n",
       "      <td>7.200000e+03</td>\n",
       "      <td>56.000000</td>\n",
       "      <td>3.900000</td>\n",
       "      <td>-6.0</td>\n",
       "      <td>1015.900000</td>\n",
       "      <td>26</td>\n",
       "      <td>0.0</td>\n",
       "      <td>-1.200000</td>\n",
       "      <td>0.300000</td>\n",
       "      <td>0.500000</td>\n",
       "      <td>0.6</td>\n",
       "      <td>0</td>\n",
       "      <td>0.0</td>\n",
       "      <td>0</td>\n",
       "    </tr>\n",
       "    <tr>\n",
       "      <th>3</th>\n",
       "      <td>1.080000e+04</td>\n",
       "      <td>58.333333</td>\n",
       "      <td>3.700757</td>\n",
       "      <td>-5.6</td>\n",
       "      <td>1013.876282</td>\n",
       "      <td>72</td>\n",
       "      <td>0.0</td>\n",
       "      <td>-1.083333</td>\n",
       "      <td>0.316667</td>\n",
       "      <td>0.483333</td>\n",
       "      <td>0.6</td>\n",
       "      <td>0</td>\n",
       "      <td>0.0</td>\n",
       "      <td>0</td>\n",
       "    </tr>\n",
       "    <tr>\n",
       "      <th>4</th>\n",
       "      <td>1.440000e+04</td>\n",
       "      <td>60.666667</td>\n",
       "      <td>3.700757</td>\n",
       "      <td>-5.2</td>\n",
       "      <td>1013.876282</td>\n",
       "      <td>72</td>\n",
       "      <td>0.0</td>\n",
       "      <td>-0.966667</td>\n",
       "      <td>0.333333</td>\n",
       "      <td>0.466667</td>\n",
       "      <td>0.6</td>\n",
       "      <td>0</td>\n",
       "      <td>0.0</td>\n",
       "      <td>0</td>\n",
       "    </tr>\n",
       "    <tr>\n",
       "      <th>...</th>\n",
       "      <td>...</td>\n",
       "      <td>...</td>\n",
       "      <td>...</td>\n",
       "      <td>...</td>\n",
       "      <td>...</td>\n",
       "      <td>...</td>\n",
       "      <td>...</td>\n",
       "      <td>...</td>\n",
       "      <td>...</td>\n",
       "      <td>...</td>\n",
       "      <td>...</td>\n",
       "      <td>...</td>\n",
       "      <td>...</td>\n",
       "      <td>...</td>\n",
       "    </tr>\n",
       "    <tr>\n",
       "      <th>127377</th>\n",
       "      <td>1.420013e+09</td>\n",
       "      <td>76.000000</td>\n",
       "      <td>5.700000</td>\n",
       "      <td>-1.0</td>\n",
       "      <td>1009.100000</td>\n",
       "      <td>51</td>\n",
       "      <td>15.0</td>\n",
       "      <td>-0.200000</td>\n",
       "      <td>-0.300000</td>\n",
       "      <td>0.600000</td>\n",
       "      <td>1.6</td>\n",
       "      <td>0</td>\n",
       "      <td>0.0</td>\n",
       "      <td>5307</td>\n",
       "    </tr>\n",
       "    <tr>\n",
       "      <th>127378</th>\n",
       "      <td>1.420016e+09</td>\n",
       "      <td>73.000000</td>\n",
       "      <td>5.900000</td>\n",
       "      <td>-0.4</td>\n",
       "      <td>1008.900000</td>\n",
       "      <td>51</td>\n",
       "      <td>16.0</td>\n",
       "      <td>-0.200000</td>\n",
       "      <td>-0.300000</td>\n",
       "      <td>0.600000</td>\n",
       "      <td>1.6</td>\n",
       "      <td>0</td>\n",
       "      <td>0.0</td>\n",
       "      <td>5307</td>\n",
       "    </tr>\n",
       "    <tr>\n",
       "      <th>127379</th>\n",
       "      <td>1.420020e+09</td>\n",
       "      <td>71.000000</td>\n",
       "      <td>6.500000</td>\n",
       "      <td>0.8</td>\n",
       "      <td>1008.700000</td>\n",
       "      <td>51</td>\n",
       "      <td>12.0</td>\n",
       "      <td>-0.200000</td>\n",
       "      <td>-0.300000</td>\n",
       "      <td>0.600000</td>\n",
       "      <td>1.6</td>\n",
       "      <td>0</td>\n",
       "      <td>0.0</td>\n",
       "      <td>5307</td>\n",
       "    </tr>\n",
       "    <tr>\n",
       "      <th>127380</th>\n",
       "      <td>1.420024e+09</td>\n",
       "      <td>61.000000</td>\n",
       "      <td>7.100000</td>\n",
       "      <td>2.1</td>\n",
       "      <td>1007.600000</td>\n",
       "      <td>51</td>\n",
       "      <td>13.0</td>\n",
       "      <td>-0.200000</td>\n",
       "      <td>-0.300000</td>\n",
       "      <td>0.600000</td>\n",
       "      <td>1.5</td>\n",
       "      <td>0</td>\n",
       "      <td>0.0</td>\n",
       "      <td>5307</td>\n",
       "    </tr>\n",
       "    <tr>\n",
       "      <th>127381</th>\n",
       "      <td>1.420027e+09</td>\n",
       "      <td>55.000000</td>\n",
       "      <td>6.700000</td>\n",
       "      <td>1.2</td>\n",
       "      <td>1006.600000</td>\n",
       "      <td>51</td>\n",
       "      <td>9.0</td>\n",
       "      <td>-0.200000</td>\n",
       "      <td>-0.300000</td>\n",
       "      <td>0.800000</td>\n",
       "      <td>1.7</td>\n",
       "      <td>0</td>\n",
       "      <td>0.0</td>\n",
       "      <td>5307</td>\n",
       "    </tr>\n",
       "  </tbody>\n",
       "</table>\n",
       "<p>127382 rows × 14 columns</p>\n",
       "</div>"
      ],
      "text/plain": [
       "                  tm         hm        pv   td           pa  clfmAbbrCd  \\\n",
       "0       0.000000e+00        NaN  3.700757  NaN  1013.876282          72   \n",
       "1       3.600000e+03        NaN  3.700757  NaN  1013.876282          72   \n",
       "2       7.200000e+03  56.000000  3.900000 -6.0  1015.900000          26   \n",
       "3       1.080000e+04  58.333333  3.700757 -5.6  1013.876282          72   \n",
       "4       1.440000e+04  60.666667  3.700757 -5.2  1013.876282          72   \n",
       "...              ...        ...       ...  ...          ...         ...   \n",
       "127377  1.420013e+09  76.000000  5.700000 -1.0  1009.100000          51   \n",
       "127378  1.420016e+09  73.000000  5.900000 -0.4  1008.900000          51   \n",
       "127379  1.420020e+09  71.000000  6.500000  0.8  1008.700000          51   \n",
       "127380  1.420024e+09  61.000000  7.100000  2.1  1007.600000          51   \n",
       "127381  1.420027e+09  55.000000  6.700000  1.2  1006.600000          51   \n",
       "\n",
       "        lcsCh    m005Te     m01Te     m02Te  m03Te  rain  hours_12  group  \n",
       "0         0.0       NaN       NaN       NaN    NaN     0       0.0      0  \n",
       "1         0.0       NaN       NaN       NaN    NaN     0       0.0      0  \n",
       "2         0.0 -1.200000  0.300000  0.500000    0.6     0       0.0      0  \n",
       "3         0.0 -1.083333  0.316667  0.483333    0.6     0       0.0      0  \n",
       "4         0.0 -0.966667  0.333333  0.466667    0.6     0       0.0      0  \n",
       "...       ...       ...       ...       ...    ...   ...       ...    ...  \n",
       "127377   15.0 -0.200000 -0.300000  0.600000    1.6     0       0.0   5307  \n",
       "127378   16.0 -0.200000 -0.300000  0.600000    1.6     0       0.0   5307  \n",
       "127379   12.0 -0.200000 -0.300000  0.600000    1.6     0       0.0   5307  \n",
       "127380   13.0 -0.200000 -0.300000  0.600000    1.5     0       0.0   5307  \n",
       "127381    9.0 -0.200000 -0.300000  0.800000    1.7     0       0.0   5307  \n",
       "\n",
       "[127382 rows x 14 columns]"
      ]
     },
     "execution_count": 162,
     "metadata": {},
     "output_type": "execute_result"
    }
   ],
   "source": [
    "# 'group' 컬럼 생성: 24개 단위로 그룹 ID 부여\n",
    "asos_df['group'] = np.arange(len(asos_df)) // 24\n",
    "\n",
    "asos_df"
   ]
  },
  {
   "cell_type": "code",
   "execution_count": 163,
   "id": "78ecadff",
   "metadata": {},
   "outputs": [
    {
     "data": {
      "text/plain": [
       "3840"
      ]
     },
     "execution_count": 163,
     "metadata": {},
     "output_type": "execute_result"
    }
   ],
   "source": [
    "sum(asos_df.groupby(['group'])['hours_12'].sum() == 0)"
   ]
  },
  {
   "cell_type": "code",
   "execution_count": 164,
   "id": "7c4e7622",
   "metadata": {},
   "outputs": [
    {
     "name": "stdout",
     "output_type": "stream",
     "text": [
      "삭제 전 그룹 수: 5308\n",
      "삭제 후 그룹 수: 2808\n"
     ]
    }
   ],
   "source": [
    "# 예제 DataFrame 생성\n",
    "# asos_df는 이미 존재하는 것으로 가정\n",
    "\n",
    "# 조건에 맞는 그룹을 찾기\n",
    "group_sums = asos_df.groupby('group')['hours_12'].sum()\n",
    "\n",
    "# 조건에 맞는 그룹 (sum == 0)\n",
    "groups_to_delete = group_sums[group_sums == 0].index\n",
    "\n",
    "# 3000개만 선택 (최대)\n",
    "groups_to_delete = groups_to_delete[:2500]\n",
    "\n",
    "# 조건에 맞는 그룹 제거\n",
    "filtered_df = asos_df[~asos_df['group'].isin(groups_to_delete)]\n",
    "\n",
    "# 결과 확인\n",
    "print(\"삭제 전 그룹 수:\", asos_df['group'].nunique())\n",
    "print(\"삭제 후 그룹 수:\", filtered_df['group'].nunique())"
   ]
  },
  {
   "cell_type": "code",
   "execution_count": 165,
   "id": "fcba4e2d",
   "metadata": {},
   "outputs": [
    {
     "data": {
      "text/html": [
       "<div>\n",
       "<style scoped>\n",
       "    .dataframe tbody tr th:only-of-type {\n",
       "        vertical-align: middle;\n",
       "    }\n",
       "\n",
       "    .dataframe tbody tr th {\n",
       "        vertical-align: top;\n",
       "    }\n",
       "\n",
       "    .dataframe thead th {\n",
       "        text-align: right;\n",
       "    }\n",
       "</style>\n",
       "<table border=\"1\" class=\"dataframe\">\n",
       "  <thead>\n",
       "    <tr style=\"text-align: right;\">\n",
       "      <th></th>\n",
       "      <th>tm</th>\n",
       "      <th>hm</th>\n",
       "      <th>pv</th>\n",
       "      <th>td</th>\n",
       "      <th>pa</th>\n",
       "      <th>clfmAbbrCd</th>\n",
       "      <th>lcsCh</th>\n",
       "      <th>m005Te</th>\n",
       "      <th>m01Te</th>\n",
       "      <th>m02Te</th>\n",
       "      <th>m03Te</th>\n",
       "      <th>rain</th>\n",
       "      <th>hours_12</th>\n",
       "      <th>group</th>\n",
       "    </tr>\n",
       "  </thead>\n",
       "  <tbody>\n",
       "    <tr>\n",
       "      <th>1152</th>\n",
       "      <td>4.147200e+06</td>\n",
       "      <td>76.000000</td>\n",
       "      <td>3.700757</td>\n",
       "      <td>-6.633333</td>\n",
       "      <td>1013.876282</td>\n",
       "      <td>72</td>\n",
       "      <td>0.0</td>\n",
       "      <td>-2.400000</td>\n",
       "      <td>-1.0</td>\n",
       "      <td>-1.033333</td>\n",
       "      <td>-1.466667</td>\n",
       "      <td>0</td>\n",
       "      <td>0.0</td>\n",
       "      <td>48</td>\n",
       "    </tr>\n",
       "    <tr>\n",
       "      <th>1153</th>\n",
       "      <td>4.150800e+06</td>\n",
       "      <td>78.000000</td>\n",
       "      <td>3.700757</td>\n",
       "      <td>-6.866667</td>\n",
       "      <td>1013.876282</td>\n",
       "      <td>72</td>\n",
       "      <td>0.0</td>\n",
       "      <td>-2.950000</td>\n",
       "      <td>-1.2</td>\n",
       "      <td>-1.016667</td>\n",
       "      <td>-1.433333</td>\n",
       "      <td>0</td>\n",
       "      <td>0.0</td>\n",
       "      <td>48</td>\n",
       "    </tr>\n",
       "    <tr>\n",
       "      <th>1154</th>\n",
       "      <td>4.154400e+06</td>\n",
       "      <td>80.000000</td>\n",
       "      <td>3.600000</td>\n",
       "      <td>-7.100000</td>\n",
       "      <td>1019.700000</td>\n",
       "      <td>72</td>\n",
       "      <td>0.0</td>\n",
       "      <td>-3.500000</td>\n",
       "      <td>-1.4</td>\n",
       "      <td>-1.000000</td>\n",
       "      <td>-1.400000</td>\n",
       "      <td>0</td>\n",
       "      <td>0.0</td>\n",
       "      <td>48</td>\n",
       "    </tr>\n",
       "    <tr>\n",
       "      <th>1155</th>\n",
       "      <td>4.158000e+06</td>\n",
       "      <td>79.666667</td>\n",
       "      <td>3.700757</td>\n",
       "      <td>-7.150000</td>\n",
       "      <td>1013.876282</td>\n",
       "      <td>72</td>\n",
       "      <td>0.0</td>\n",
       "      <td>-3.383333</td>\n",
       "      <td>-1.5</td>\n",
       "      <td>-1.116667</td>\n",
       "      <td>-1.450000</td>\n",
       "      <td>0</td>\n",
       "      <td>0.0</td>\n",
       "      <td>48</td>\n",
       "    </tr>\n",
       "    <tr>\n",
       "      <th>1156</th>\n",
       "      <td>4.161600e+06</td>\n",
       "      <td>79.333333</td>\n",
       "      <td>3.700757</td>\n",
       "      <td>-7.200000</td>\n",
       "      <td>1013.876282</td>\n",
       "      <td>72</td>\n",
       "      <td>0.0</td>\n",
       "      <td>-3.266667</td>\n",
       "      <td>-1.6</td>\n",
       "      <td>-1.233333</td>\n",
       "      <td>-1.500000</td>\n",
       "      <td>0</td>\n",
       "      <td>0.0</td>\n",
       "      <td>48</td>\n",
       "    </tr>\n",
       "    <tr>\n",
       "      <th>...</th>\n",
       "      <td>...</td>\n",
       "      <td>...</td>\n",
       "      <td>...</td>\n",
       "      <td>...</td>\n",
       "      <td>...</td>\n",
       "      <td>...</td>\n",
       "      <td>...</td>\n",
       "      <td>...</td>\n",
       "      <td>...</td>\n",
       "      <td>...</td>\n",
       "      <td>...</td>\n",
       "      <td>...</td>\n",
       "      <td>...</td>\n",
       "      <td>...</td>\n",
       "    </tr>\n",
       "    <tr>\n",
       "      <th>127377</th>\n",
       "      <td>1.420013e+09</td>\n",
       "      <td>76.000000</td>\n",
       "      <td>5.700000</td>\n",
       "      <td>-1.000000</td>\n",
       "      <td>1009.100000</td>\n",
       "      <td>51</td>\n",
       "      <td>15.0</td>\n",
       "      <td>-0.200000</td>\n",
       "      <td>-0.3</td>\n",
       "      <td>0.600000</td>\n",
       "      <td>1.600000</td>\n",
       "      <td>0</td>\n",
       "      <td>0.0</td>\n",
       "      <td>5307</td>\n",
       "    </tr>\n",
       "    <tr>\n",
       "      <th>127378</th>\n",
       "      <td>1.420016e+09</td>\n",
       "      <td>73.000000</td>\n",
       "      <td>5.900000</td>\n",
       "      <td>-0.400000</td>\n",
       "      <td>1008.900000</td>\n",
       "      <td>51</td>\n",
       "      <td>16.0</td>\n",
       "      <td>-0.200000</td>\n",
       "      <td>-0.3</td>\n",
       "      <td>0.600000</td>\n",
       "      <td>1.600000</td>\n",
       "      <td>0</td>\n",
       "      <td>0.0</td>\n",
       "      <td>5307</td>\n",
       "    </tr>\n",
       "    <tr>\n",
       "      <th>127379</th>\n",
       "      <td>1.420020e+09</td>\n",
       "      <td>71.000000</td>\n",
       "      <td>6.500000</td>\n",
       "      <td>0.800000</td>\n",
       "      <td>1008.700000</td>\n",
       "      <td>51</td>\n",
       "      <td>12.0</td>\n",
       "      <td>-0.200000</td>\n",
       "      <td>-0.3</td>\n",
       "      <td>0.600000</td>\n",
       "      <td>1.600000</td>\n",
       "      <td>0</td>\n",
       "      <td>0.0</td>\n",
       "      <td>5307</td>\n",
       "    </tr>\n",
       "    <tr>\n",
       "      <th>127380</th>\n",
       "      <td>1.420024e+09</td>\n",
       "      <td>61.000000</td>\n",
       "      <td>7.100000</td>\n",
       "      <td>2.100000</td>\n",
       "      <td>1007.600000</td>\n",
       "      <td>51</td>\n",
       "      <td>13.0</td>\n",
       "      <td>-0.200000</td>\n",
       "      <td>-0.3</td>\n",
       "      <td>0.600000</td>\n",
       "      <td>1.500000</td>\n",
       "      <td>0</td>\n",
       "      <td>0.0</td>\n",
       "      <td>5307</td>\n",
       "    </tr>\n",
       "    <tr>\n",
       "      <th>127381</th>\n",
       "      <td>1.420027e+09</td>\n",
       "      <td>55.000000</td>\n",
       "      <td>6.700000</td>\n",
       "      <td>1.200000</td>\n",
       "      <td>1006.600000</td>\n",
       "      <td>51</td>\n",
       "      <td>9.0</td>\n",
       "      <td>-0.200000</td>\n",
       "      <td>-0.3</td>\n",
       "      <td>0.800000</td>\n",
       "      <td>1.700000</td>\n",
       "      <td>0</td>\n",
       "      <td>0.0</td>\n",
       "      <td>5307</td>\n",
       "    </tr>\n",
       "  </tbody>\n",
       "</table>\n",
       "<p>67382 rows × 14 columns</p>\n",
       "</div>"
      ],
      "text/plain": [
       "                  tm         hm        pv        td           pa  clfmAbbrCd  \\\n",
       "1152    4.147200e+06  76.000000  3.700757 -6.633333  1013.876282          72   \n",
       "1153    4.150800e+06  78.000000  3.700757 -6.866667  1013.876282          72   \n",
       "1154    4.154400e+06  80.000000  3.600000 -7.100000  1019.700000          72   \n",
       "1155    4.158000e+06  79.666667  3.700757 -7.150000  1013.876282          72   \n",
       "1156    4.161600e+06  79.333333  3.700757 -7.200000  1013.876282          72   \n",
       "...              ...        ...       ...       ...          ...         ...   \n",
       "127377  1.420013e+09  76.000000  5.700000 -1.000000  1009.100000          51   \n",
       "127378  1.420016e+09  73.000000  5.900000 -0.400000  1008.900000          51   \n",
       "127379  1.420020e+09  71.000000  6.500000  0.800000  1008.700000          51   \n",
       "127380  1.420024e+09  61.000000  7.100000  2.100000  1007.600000          51   \n",
       "127381  1.420027e+09  55.000000  6.700000  1.200000  1006.600000          51   \n",
       "\n",
       "        lcsCh    m005Te  m01Te     m02Te     m03Te  rain  hours_12  group  \n",
       "1152      0.0 -2.400000   -1.0 -1.033333 -1.466667     0       0.0     48  \n",
       "1153      0.0 -2.950000   -1.2 -1.016667 -1.433333     0       0.0     48  \n",
       "1154      0.0 -3.500000   -1.4 -1.000000 -1.400000     0       0.0     48  \n",
       "1155      0.0 -3.383333   -1.5 -1.116667 -1.450000     0       0.0     48  \n",
       "1156      0.0 -3.266667   -1.6 -1.233333 -1.500000     0       0.0     48  \n",
       "...       ...       ...    ...       ...       ...   ...       ...    ...  \n",
       "127377   15.0 -0.200000   -0.3  0.600000  1.600000     0       0.0   5307  \n",
       "127378   16.0 -0.200000   -0.3  0.600000  1.600000     0       0.0   5307  \n",
       "127379   12.0 -0.200000   -0.3  0.600000  1.600000     0       0.0   5307  \n",
       "127380   13.0 -0.200000   -0.3  0.600000  1.500000     0       0.0   5307  \n",
       "127381    9.0 -0.200000   -0.3  0.800000  1.700000     0       0.0   5307  \n",
       "\n",
       "[67382 rows x 14 columns]"
      ]
     },
     "execution_count": 165,
     "metadata": {},
     "output_type": "execute_result"
    }
   ],
   "source": [
    "filtered_df"
   ]
  },
  {
   "cell_type": "code",
   "execution_count": 166,
   "id": "e68a3c1a",
   "metadata": {},
   "outputs": [],
   "source": [
    "# hours_12 별도로 처리\n",
    "hours_12_grouped = filtered_df.groupby('group')['hours_12'].apply(list)\n",
    "\n",
    "# 나머지 컬럼은 24개 단위로 묶기\n",
    "other_columns_grouped = filtered_df.groupby('group')[['hm', 'td', 'pa', 'm005Te', 'm01Te', 'm02Te', 'm03Te', 'clfmAbbrCd', 'lcsCh']].apply(lambda x: x.values.tolist())"
   ]
  },
  {
   "cell_type": "code",
   "execution_count": 167,
   "id": "efeaceb6",
   "metadata": {},
   "outputs": [
    {
     "data": {
      "text/plain": [
       "group\n",
       "48      [[76.0, -6.633333333333333, 1013.8762815249268...\n",
       "94      [[71.33333333333333, 6.166666666666667, 1005.3...\n",
       "95      [[67.66666666666667, 12.266666666666666, 1005....\n",
       "96      [[91.66666666666669, 10.133333333333333, 998.7...\n",
       "101     [[62.333333333333336, 1.333333333333333, 1005....\n",
       "                              ...                        \n",
       "5303    [[72.0, -0.4, 1011.3, -0.1, -0.3, 1.0, 2.0, 72...\n",
       "5304    [[54.0, -12.7, 1016.5, -0.2, -0.3, 1.1, 2.0, 7...\n",
       "5305    [[57.0, -10.9, 1013.4, -0.3, -0.4, 0.9, 1.9, 7...\n",
       "5306    [[56.0, -10.0, 1013.8, -0.7, -0.7, 0.8, 1.8, 5...\n",
       "5307    [[69.0, -3.0, 1010.8, -0.2, -0.4, 0.7, 1.6, 51...\n",
       "Length: 2808, dtype: object"
      ]
     },
     "execution_count": 167,
     "metadata": {},
     "output_type": "execute_result"
    }
   ],
   "source": [
    "other_columns_grouped"
   ]
  },
  {
   "cell_type": "code",
   "execution_count": 168,
   "id": "6516b3e3",
   "metadata": {},
   "outputs": [],
   "source": [
    "y_data = []\n",
    "for hours_12 in hours_12_grouped:\n",
    "    if 1 in hours_12:\n",
    "        y_data.append(1)\n",
    "    else:\n",
    "        y_data.append(0)"
   ]
  },
  {
   "cell_type": "code",
   "execution_count": 169,
   "id": "e33c6ea7",
   "metadata": {},
   "outputs": [
    {
     "data": {
      "text/plain": [
       "((2808,), (67382, 9))"
      ]
     },
     "execution_count": 169,
     "metadata": {},
     "output_type": "execute_result"
    }
   ],
   "source": [
    "np.array(y_data).shape, np.vstack(other_columns_grouped.tolist()).shape"
   ]
  },
  {
   "cell_type": "code",
   "execution_count": 170,
   "id": "2b458dbc",
   "metadata": {},
   "outputs": [
    {
     "name": "stdout",
     "output_type": "stream",
     "text": [
      "<class 'pandas.core.frame.DataFrame'>\n",
      "RangeIndex: 127382 entries, 0 to 127381\n",
      "Data columns (total 14 columns):\n",
      " #   Column      Non-Null Count   Dtype  \n",
      "---  ------      --------------   -----  \n",
      " 0   tm          127382 non-null  float64\n",
      " 1   hm          127380 non-null  float64\n",
      " 2   pv          127382 non-null  float64\n",
      " 3   td          127380 non-null  float64\n",
      " 4   pa          127382 non-null  float64\n",
      " 5   clfmAbbrCd  127382 non-null  int64  \n",
      " 6   lcsCh       127382 non-null  float64\n",
      " 7   m005Te      127380 non-null  float64\n",
      " 8   m01Te       127380 non-null  float64\n",
      " 9   m02Te       127380 non-null  float64\n",
      " 10  m03Te       127380 non-null  float64\n",
      " 11  rain        127382 non-null  int64  \n",
      " 12  hours_12    127382 non-null  float64\n",
      " 13  group       127382 non-null  int64  \n",
      "dtypes: float64(11), int64(3)\n",
      "memory usage: 13.6 MB\n"
     ]
    }
   ],
   "source": [
    "asos_df.info()"
   ]
  },
  {
   "cell_type": "code",
   "execution_count": 171,
   "id": "fb43023e",
   "metadata": {},
   "outputs": [],
   "source": [
    "data_X = np.vstack(other_columns_grouped.iloc[:-1].tolist())"
   ]
  },
  {
   "cell_type": "code",
   "execution_count": 172,
   "id": "6d72d999",
   "metadata": {},
   "outputs": [],
   "source": [
    "data_y = np.array(y_data[:-1])"
   ]
  },
  {
   "cell_type": "code",
   "execution_count": 173,
   "id": "9766c94a",
   "metadata": {},
   "outputs": [
    {
     "name": "stdout",
     "output_type": "stream",
     "text": [
      "값: 0, 개수: 1339\n",
      "값: 1, 개수: 1468\n"
     ]
    }
   ],
   "source": [
    "unique_values = np.unique(data_y)\n",
    "\n",
    "# 각 고유값의 개수 계산\n",
    "counts = [np.count_nonzero(data_y == value) for value in unique_values]\n",
    "\n",
    "# 출력\n",
    "for value, count in zip(unique_values, counts):\n",
    "    print(f\"값: {value}, 개수: {count}\")"
   ]
  },
  {
   "cell_type": "code",
   "execution_count": 178,
   "id": "5b55fe82",
   "metadata": {},
   "outputs": [],
   "source": [
    "scaler = MinMaxScaler()\n",
    "data_X = scaler.fit_transform(data_X.reshape(-1,1)).reshape(-1,24,9)"
   ]
  },
  {
   "cell_type": "code",
   "execution_count": 179,
   "id": "ebfa279b",
   "metadata": {},
   "outputs": [],
   "source": [
    "spilt_index = round(len(data_X)/10)*7"
   ]
  },
  {
   "cell_type": "code",
   "execution_count": 180,
   "id": "e1ff8750",
   "metadata": {},
   "outputs": [],
   "source": [
    "train_X = data_X[:spilt_index]\n",
    "train_y = data_y[:spilt_index]\n",
    "test_X = data_X[spilt_index:]\n",
    "test_y = data_y[spilt_index:]"
   ]
  },
  {
   "cell_type": "code",
   "execution_count": 181,
   "id": "063f931c",
   "metadata": {},
   "outputs": [
    {
     "data": {
      "text/plain": [
       "((1967, 24, 9), (1967,), (840, 24, 9), (840,))"
      ]
     },
     "execution_count": 181,
     "metadata": {},
     "output_type": "execute_result"
    }
   ],
   "source": [
    "train_X.shape,train_y.shape,test_X.shape,test_y.shape"
   ]
  },
  {
   "cell_type": "code",
   "execution_count": 182,
   "id": "879ef839",
   "metadata": {},
   "outputs": [],
   "source": [
    "def lstm_model_V1():\n",
    "\n",
    "    inputs = Input(shape=(24, 11))\n",
    "\n",
    "    layer_1 = LSTM(units=32, return_sequences=True)(inputs)\n",
    "\n",
    "    layer_2 = LSTM(units=64, return_sequences=False)(layer_1) \n",
    "\n",
    "    D_1 = Dense(units=64, activation='relu')(layer_2)\n",
    "    D_2 = Dense(units=128, activation='relu')(D_1)\n",
    "    D_3 = Dense(units=64, activation='relu')(D_2)\n",
    "    D_4 = Dense(units=32, activation='relu')(D_3)\n",
    "    D_5 = Dense(units=16, activation='relu')(D_4)\n",
    "    outputs = Dense(units=1, activation='sigmoid')(D_5)\n",
    "\n",
    "    model = Model(inputs=inputs, outputs=outputs)\n",
    "    model.compile(loss='binary_crossentropy', optimizer='adam', metrics=['accuracy'])\n",
    "    return model"
   ]
  },
  {
   "cell_type": "code",
   "execution_count": 184,
   "id": "ee5c45e2",
   "metadata": {},
   "outputs": [],
   "source": [
    "def lstm_model_V2():\n",
    "\n",
    "    inputs = Input(shape=(24, 9))\n",
    "\n",
    "    layer_1_tensor = LSTM(units=32, return_sequences=True)(inputs)\n",
    "    \n",
    "    layer_2_1 = LSTM(units=32, return_sequences=True,\n",
    "                     kernel_initializer='glorot_uniform',  # 가중치 초기화\n",
    "                     recurrent_initializer='orthogonal',  # 순환 가중치 초기화\n",
    "                     bias_initializer='zeros')(layer_1_tensor)\n",
    "    layer_2_2 = LSTM(units=32, return_sequences=True,\n",
    "                     kernel_initializer='glorot_uniform',  # 가중치 초기화\n",
    "                     recurrent_initializer='orthogonal',  # 순환 가중치 초기화\n",
    "                     bias_initializer='zeros')(inputs)\n",
    "    second_layer = Add()([layer_2_1, layer_2_2])\n",
    "    dropout_1 = Dropout(0.2)(second_layer)\n",
    "    \n",
    "    layer_3_tensor = LSTM(units=128, return_sequences=True,\n",
    "                         kernel_initializer='glorot_uniform',  # 가중치 초기화\n",
    "                         recurrent_initializer='orthogonal',  # 순환 가중치 초기화\n",
    "                         bias_initializer='zeros')(dropout_1)\n",
    "    dropout_2 = Dropout(0.2)(layer_3_tensor)\n",
    "    \n",
    "    layer_4_1_tensor = LSTM(units=64, return_sequences=False,\n",
    "                             kernel_initializer='glorot_uniform',  # 가중치 초기화\n",
    "                             recurrent_initializer='orthogonal',  # 순환 가중치 초기화\n",
    "                             bias_initializer='zeros')(dropout_2)\n",
    "    layer_4_2_tensor = LSTM(units=64, return_sequences=False,\n",
    "                             kernel_initializer='glorot_uniform',  # 가중치 초기화\n",
    "                             recurrent_initializer='orthogonal',  # 순환 가중치 초기화\n",
    "                             bias_initializer='zeros')(layer_1_tensor)\n",
    "    last_layer = Average()([layer_4_1_tensor, layer_4_2_tensor]) \n",
    "    dropout_3 = Dropout(0.2)(last_layer)\n",
    "    \n",
    "    D_1 = Dense(units=64, activation='relu')(dropout_3)\n",
    "    D_2 = Dense(units=32, activation='relu')(D_1)\n",
    "    dropout_4 = Dropout(0.2)(D_2)\n",
    "    \n",
    "    outputs = Dense(units=1, activation='sigmoid')(dropout_4)\n",
    "\n",
    "    model = Model(inputs=inputs, outputs=outputs)\n",
    "    model.compile(loss='binary_crossentropy', optimizer='adam', metrics=['accuracy',Recall(),Precision()])\n",
    "    return model"
   ]
  },
  {
   "cell_type": "code",
   "execution_count": 185,
   "id": "2761f8df",
   "metadata": {},
   "outputs": [
    {
     "name": "stdout",
     "output_type": "stream",
     "text": [
      "Model: \"model_9\"\n",
      "__________________________________________________________________________________________________\n",
      " Layer (type)                   Output Shape         Param #     Connected to                     \n",
      "==================================================================================================\n",
      " input_10 (InputLayer)          [(None, 24, 9)]      0           []                               \n",
      "                                                                                                  \n",
      " lstm_42 (LSTM)                 (None, 24, 32)       5376        ['input_10[0][0]']               \n",
      "                                                                                                  \n",
      " lstm_43 (LSTM)                 (None, 24, 32)       8320        ['lstm_42[0][0]']                \n",
      "                                                                                                  \n",
      " lstm_44 (LSTM)                 (None, 24, 32)       5376        ['input_10[0][0]']               \n",
      "                                                                                                  \n",
      " add_6 (Add)                    (None, 24, 32)       0           ['lstm_43[0][0]',                \n",
      "                                                                  'lstm_44[0][0]']                \n",
      "                                                                                                  \n",
      " dropout_24 (Dropout)           (None, 24, 32)       0           ['add_6[0][0]']                  \n",
      "                                                                                                  \n",
      " lstm_45 (LSTM)                 (None, 24, 128)      82432       ['dropout_24[0][0]']             \n",
      "                                                                                                  \n",
      " dropout_25 (Dropout)           (None, 24, 128)      0           ['lstm_45[0][0]']                \n",
      "                                                                                                  \n",
      " lstm_46 (LSTM)                 (None, 64)           49408       ['dropout_25[0][0]']             \n",
      "                                                                                                  \n",
      " lstm_47 (LSTM)                 (None, 64)           24832       ['lstm_42[0][0]']                \n",
      "                                                                                                  \n",
      " average_6 (Average)            (None, 64)           0           ['lstm_46[0][0]',                \n",
      "                                                                  'lstm_47[0][0]']                \n",
      "                                                                                                  \n",
      " dropout_26 (Dropout)           (None, 64)           0           ['average_6[0][0]']              \n",
      "                                                                                                  \n",
      " dense_36 (Dense)               (None, 64)           4160        ['dropout_26[0][0]']             \n",
      "                                                                                                  \n",
      " dense_37 (Dense)               (None, 32)           2080        ['dense_36[0][0]']               \n",
      "                                                                                                  \n",
      " dropout_27 (Dropout)           (None, 32)           0           ['dense_37[0][0]']               \n",
      "                                                                                                  \n",
      " dense_38 (Dense)               (None, 1)            33          ['dropout_27[0][0]']             \n",
      "                                                                                                  \n",
      "==================================================================================================\n",
      "Total params: 182,017\n",
      "Trainable params: 182,017\n",
      "Non-trainable params: 0\n",
      "__________________________________________________________________________________________________\n"
     ]
    }
   ],
   "source": [
    "model = lstm_model_V2()\n",
    "\n",
    "model.summary()"
   ]
  },
  {
   "cell_type": "code",
   "execution_count": 186,
   "id": "4f40101d",
   "metadata": {},
   "outputs": [
    {
     "name": "stdout",
     "output_type": "stream",
     "text": [
      "Epoch 1/50\n"
     ]
    },
    {
     "name": "stderr",
     "output_type": "stream",
     "text": [
      "2025-01-17 15:33:37.259640: I tensorflow/core/grappler/optimizers/custom_graph_optimizer_registry.cc:114] Plugin optimizer for device_type GPU is enabled.\n",
      "2025-01-17 15:33:37.630493: I tensorflow/core/grappler/optimizers/custom_graph_optimizer_registry.cc:114] Plugin optimizer for device_type GPU is enabled.\n",
      "2025-01-17 15:33:37.644054: I tensorflow/core/grappler/optimizers/custom_graph_optimizer_registry.cc:114] Plugin optimizer for device_type GPU is enabled.\n",
      "2025-01-17 15:33:37.876217: I tensorflow/core/grappler/optimizers/custom_graph_optimizer_registry.cc:114] Plugin optimizer for device_type GPU is enabled.\n",
      "2025-01-17 15:33:37.887320: I tensorflow/core/grappler/optimizers/custom_graph_optimizer_registry.cc:114] Plugin optimizer for device_type GPU is enabled.\n",
      "2025-01-17 15:33:38.143897: I tensorflow/core/grappler/optimizers/custom_graph_optimizer_registry.cc:114] Plugin optimizer for device_type GPU is enabled.\n",
      "2025-01-17 15:33:38.323613: I tensorflow/core/grappler/optimizers/custom_graph_optimizer_registry.cc:114] Plugin optimizer for device_type GPU is enabled.\n",
      "2025-01-17 15:33:38.810198: I tensorflow/core/grappler/optimizers/custom_graph_optimizer_registry.cc:114] Plugin optimizer for device_type GPU is enabled.\n",
      "2025-01-17 15:33:38.824923: I tensorflow/core/grappler/optimizers/custom_graph_optimizer_registry.cc:114] Plugin optimizer for device_type GPU is enabled.\n",
      "2025-01-17 15:33:39.381736: I tensorflow/core/grappler/optimizers/custom_graph_optimizer_registry.cc:114] Plugin optimizer for device_type GPU is enabled.\n",
      "2025-01-17 15:33:39.730661: I tensorflow/core/grappler/optimizers/custom_graph_optimizer_registry.cc:114] Plugin optimizer for device_type GPU is enabled.\n",
      "2025-01-17 15:33:39.744718: I tensorflow/core/grappler/optimizers/custom_graph_optimizer_registry.cc:114] Plugin optimizer for device_type GPU is enabled.\n",
      "2025-01-17 15:33:40.594740: I tensorflow/core/grappler/optimizers/custom_graph_optimizer_registry.cc:114] Plugin optimizer for device_type GPU is enabled.\n"
     ]
    },
    {
     "name": "stdout",
     "output_type": "stream",
     "text": [
      "50/50 [==============================] - ETA: 0s - loss: 0.6190 - accuracy: 0.6949 - recall_6: 0.9766 - precision_6: 0.7046"
     ]
    },
    {
     "name": "stderr",
     "output_type": "stream",
     "text": [
      "2025-01-17 15:33:45.848596: I tensorflow/core/grappler/optimizers/custom_graph_optimizer_registry.cc:114] Plugin optimizer for device_type GPU is enabled.\n",
      "2025-01-17 15:33:45.982001: I tensorflow/core/grappler/optimizers/custom_graph_optimizer_registry.cc:114] Plugin optimizer for device_type GPU is enabled.\n",
      "2025-01-17 15:33:45.990759: I tensorflow/core/grappler/optimizers/custom_graph_optimizer_registry.cc:114] Plugin optimizer for device_type GPU is enabled.\n",
      "2025-01-17 15:33:46.206338: I tensorflow/core/grappler/optimizers/custom_graph_optimizer_registry.cc:114] Plugin optimizer for device_type GPU is enabled.\n",
      "2025-01-17 15:33:46.214657: I tensorflow/core/grappler/optimizers/custom_graph_optimizer_registry.cc:114] Plugin optimizer for device_type GPU is enabled.\n",
      "2025-01-17 15:33:46.384053: I tensorflow/core/grappler/optimizers/custom_graph_optimizer_registry.cc:114] Plugin optimizer for device_type GPU is enabled.\n",
      "2025-01-17 15:33:46.556135: I tensorflow/core/grappler/optimizers/custom_graph_optimizer_registry.cc:114] Plugin optimizer for device_type GPU is enabled.\n"
     ]
    },
    {
     "name": "stdout",
     "output_type": "stream",
     "text": [
      "50/50 [==============================] - 12s 138ms/step - loss: 0.6190 - accuracy: 0.6949 - recall_6: 0.9766 - precision_6: 0.7046 - val_loss: 0.9854 - val_accuracy: 0.2970 - val_recall_6: 1.0000 - val_precision_6: 0.2970\n",
      "Epoch 2/50\n",
      "50/50 [==============================] - 3s 51ms/step - loss: 0.6087 - accuracy: 0.7050 - recall_6: 1.0000 - precision_6: 0.7050 - val_loss: 1.0579 - val_accuracy: 0.2970 - val_recall_6: 1.0000 - val_precision_6: 0.2970\n",
      "Epoch 3/50\n",
      "50/50 [==============================] - 3s 52ms/step - loss: 0.6143 - accuracy: 0.7050 - recall_6: 1.0000 - precision_6: 0.7050 - val_loss: 0.9661 - val_accuracy: 0.2970 - val_recall_6: 1.0000 - val_precision_6: 0.2970\n",
      "Epoch 4/50\n",
      "50/50 [==============================] - 2s 50ms/step - loss: 0.6083 - accuracy: 0.7050 - recall_6: 1.0000 - precision_6: 0.7050 - val_loss: 0.9082 - val_accuracy: 0.2970 - val_recall_6: 1.0000 - val_precision_6: 0.2970\n",
      "Epoch 5/50\n",
      "50/50 [==============================] - 3s 50ms/step - loss: 0.6087 - accuracy: 0.7050 - recall_6: 1.0000 - precision_6: 0.7050 - val_loss: 0.9745 - val_accuracy: 0.2970 - val_recall_6: 1.0000 - val_precision_6: 0.2970\n",
      "Epoch 6/50\n",
      "50/50 [==============================] - 2s 50ms/step - loss: 0.5877 - accuracy: 0.7050 - recall_6: 1.0000 - precision_6: 0.7050 - val_loss: 0.9335 - val_accuracy: 0.2970 - val_recall_6: 1.0000 - val_precision_6: 0.2970\n",
      "Epoch 7/50\n",
      "50/50 [==============================] - 2s 49ms/step - loss: 0.5690 - accuracy: 0.7044 - recall_6: 0.9982 - precision_6: 0.7051 - val_loss: 0.9383 - val_accuracy: 0.2970 - val_recall_6: 1.0000 - val_precision_6: 0.2970\n",
      "Epoch 8/50\n",
      "50/50 [==============================] - 2s 49ms/step - loss: 0.5634 - accuracy: 0.7038 - recall_6: 0.9766 - precision_6: 0.7111 - val_loss: 0.7634 - val_accuracy: 0.4340 - val_recall_6: 0.8462 - val_precision_6: 0.3257\n",
      "Epoch 9/50\n",
      "50/50 [==============================] - 2s 49ms/step - loss: 0.5199 - accuracy: 0.7254 - recall_6: 0.9080 - precision_6: 0.7532 - val_loss: 0.6099 - val_accuracy: 0.7107 - val_recall_6: 0.5299 - val_precision_6: 0.5124\n",
      "Epoch 10/50\n",
      "50/50 [==============================] - 2s 49ms/step - loss: 0.5023 - accuracy: 0.7438 - recall_6: 0.8720 - precision_6: 0.7875 - val_loss: 0.8022 - val_accuracy: 0.5025 - val_recall_6: 0.8205 - val_precision_6: 0.3542\n",
      "Epoch 11/50\n",
      "50/50 [==============================] - 2s 49ms/step - loss: 0.4881 - accuracy: 0.7425 - recall_6: 0.8945 - precision_6: 0.7750 - val_loss: 0.6670 - val_accuracy: 0.6701 - val_recall_6: 0.6923 - val_precision_6: 0.4629\n",
      "Epoch 12/50\n",
      "50/50 [==============================] - 3s 51ms/step - loss: 0.4558 - accuracy: 0.7788 - recall_6: 0.8557 - precision_6: 0.8347 - val_loss: 0.5980 - val_accuracy: 0.7132 - val_recall_6: 0.6154 - val_precision_6: 0.5143\n",
      "Epoch 13/50\n",
      "50/50 [==============================] - 2s 49ms/step - loss: 0.4775 - accuracy: 0.7705 - recall_6: 0.8512 - precision_6: 0.8281 - val_loss: 0.9290 - val_accuracy: 0.4112 - val_recall_6: 0.8803 - val_precision_6: 0.3209\n",
      "Epoch 14/50\n",
      "50/50 [==============================] - 2s 50ms/step - loss: 0.4602 - accuracy: 0.7839 - recall_6: 0.8927 - precision_6: 0.8175 - val_loss: 0.7208 - val_accuracy: 0.6345 - val_recall_6: 0.7607 - val_precision_6: 0.4341\n",
      "Epoch 15/50\n",
      "50/50 [==============================] - 3s 51ms/step - loss: 0.4407 - accuracy: 0.7908 - recall_6: 0.8566 - precision_6: 0.8482 - val_loss: 0.8571 - val_accuracy: 0.5482 - val_recall_6: 0.8034 - val_precision_6: 0.3775\n",
      "Epoch 16/50\n",
      "50/50 [==============================] - 2s 49ms/step - loss: 0.4333 - accuracy: 0.7877 - recall_6: 0.8503 - precision_6: 0.8488 - val_loss: 0.5339 - val_accuracy: 0.7716 - val_recall_6: 0.2991 - val_precision_6: 0.8140\n",
      "Epoch 17/50\n",
      "50/50 [==============================] - 2s 50ms/step - loss: 0.4484 - accuracy: 0.7775 - recall_6: 0.8449 - precision_6: 0.8404 - val_loss: 0.7685 - val_accuracy: 0.5990 - val_recall_6: 0.7949 - val_precision_6: 0.4097\n",
      "Epoch 18/50\n",
      "50/50 [==============================] - 2s 49ms/step - loss: 0.4421 - accuracy: 0.7883 - recall_6: 0.8566 - precision_6: 0.8452 - val_loss: 0.6882 - val_accuracy: 0.6523 - val_recall_6: 0.7436 - val_precision_6: 0.4485\n",
      "Epoch 19/50\n",
      "50/50 [==============================] - 2s 49ms/step - loss: 0.4444 - accuracy: 0.7858 - recall_6: 0.8512 - precision_6: 0.8459 - val_loss: 0.6096 - val_accuracy: 0.7259 - val_recall_6: 0.7094 - val_precision_6: 0.5287\n",
      "Epoch 20/50\n",
      "50/50 [==============================] - 2s 49ms/step - loss: 0.4321 - accuracy: 0.8017 - recall_6: 0.8503 - precision_6: 0.8659 - val_loss: 0.5877 - val_accuracy: 0.7183 - val_recall_6: 0.6581 - val_precision_6: 0.5203\n",
      "Epoch 21/50\n",
      "50/50 [==============================] - 2s 49ms/step - loss: 0.4210 - accuracy: 0.7947 - recall_6: 0.8476 - precision_6: 0.8592 - val_loss: 0.8062 - val_accuracy: 0.5761 - val_recall_6: 0.8205 - val_precision_6: 0.3967\n",
      "Epoch 22/50\n",
      "50/50 [==============================] - 2s 49ms/step - loss: 0.4211 - accuracy: 0.8004 - recall_6: 0.8683 - precision_6: 0.8515 - val_loss: 0.7575 - val_accuracy: 0.6142 - val_recall_6: 0.7863 - val_precision_6: 0.4201\n",
      "Epoch 23/50\n",
      "50/50 [==============================] - 3s 51ms/step - loss: 0.4409 - accuracy: 0.7813 - recall_6: 0.8593 - precision_6: 0.8352 - val_loss: 0.7747 - val_accuracy: 0.6168 - val_recall_6: 0.7692 - val_precision_6: 0.4206\n",
      "Epoch 24/50\n",
      "50/50 [==============================] - 2s 49ms/step - loss: 0.4130 - accuracy: 0.8036 - recall_6: 0.8458 - precision_6: 0.8717 - val_loss: 0.6063 - val_accuracy: 0.7259 - val_recall_6: 0.7436 - val_precision_6: 0.5273\n",
      "Epoch 25/50\n",
      "50/50 [==============================] - 2s 49ms/step - loss: 0.4200 - accuracy: 0.7972 - recall_6: 0.8738 - precision_6: 0.8441 - val_loss: 0.5544 - val_accuracy: 0.7513 - val_recall_6: 0.5470 - val_precision_6: 0.5872\n",
      "Epoch 26/50\n",
      "50/50 [==============================] - 2s 49ms/step - loss: 0.4114 - accuracy: 0.8017 - recall_6: 0.8494 - precision_6: 0.8666 - val_loss: 0.7577 - val_accuracy: 0.5990 - val_recall_6: 0.8034 - val_precision_6: 0.4105\n",
      "Epoch 27/50\n",
      "50/50 [==============================] - 2s 50ms/step - loss: 0.4034 - accuracy: 0.8042 - recall_6: 0.8647 - precision_6: 0.8585 - val_loss: 0.5743 - val_accuracy: 0.7487 - val_recall_6: 0.5385 - val_precision_6: 0.5833\n",
      "Epoch 28/50\n",
      "50/50 [==============================] - 2s 49ms/step - loss: 0.4599 - accuracy: 0.7718 - recall_6: 0.8485 - precision_6: 0.8313 - val_loss: 0.7841 - val_accuracy: 0.6142 - val_recall_6: 0.8120 - val_precision_6: 0.4222\n",
      "Epoch 29/50\n",
      "50/50 [==============================] - 2s 49ms/step - loss: 0.4232 - accuracy: 0.7978 - recall_6: 0.8683 - precision_6: 0.8485 - val_loss: 0.7647 - val_accuracy: 0.6091 - val_recall_6: 0.8205 - val_precision_6: 0.4192\n",
      "Epoch 30/50\n",
      "50/50 [==============================] - 2s 49ms/step - loss: 0.4137 - accuracy: 0.8017 - recall_6: 0.8485 - precision_6: 0.8673 - val_loss: 0.5514 - val_accuracy: 0.7538 - val_recall_6: 0.5812 - val_precision_6: 0.5862\n",
      "Epoch 31/50\n",
      "50/50 [==============================] - 2s 49ms/step - loss: 0.4353 - accuracy: 0.7959 - recall_6: 0.8720 - precision_6: 0.8438 - val_loss: 0.5420 - val_accuracy: 0.7563 - val_recall_6: 0.5128 - val_precision_6: 0.6061\n",
      "Epoch 32/50\n",
      "50/50 [==============================] - 2s 49ms/step - loss: 0.4031 - accuracy: 0.8106 - recall_6: 0.8602 - precision_6: 0.8696 - val_loss: 0.6212 - val_accuracy: 0.7081 - val_recall_6: 0.6667 - val_precision_6: 0.5065\n",
      "Epoch 33/50\n",
      "50/50 [==============================] - 2s 49ms/step - loss: 0.4295 - accuracy: 0.7940 - recall_6: 0.8440 - precision_6: 0.8611 - val_loss: 0.8872 - val_accuracy: 0.4975 - val_recall_6: 0.8803 - val_precision_6: 0.3589\n",
      "Epoch 34/50\n",
      "50/50 [==============================] - 2s 49ms/step - loss: 0.3997 - accuracy: 0.7934 - recall_6: 0.8449 - precision_6: 0.8596 - val_loss: 0.7854 - val_accuracy: 0.5660 - val_recall_6: 0.8034 - val_precision_6: 0.3884\n",
      "Epoch 35/50\n",
      "50/50 [==============================] - 2s 49ms/step - loss: 0.4325 - accuracy: 0.7877 - recall_6: 0.8476 - precision_6: 0.8507 - val_loss: 0.8217 - val_accuracy: 0.6066 - val_recall_6: 0.8120 - val_precision_6: 0.4167\n",
      "Epoch 36/50\n"
     ]
    },
    {
     "name": "stdout",
     "output_type": "stream",
     "text": [
      "50/50 [==============================] - 2s 49ms/step - loss: 0.4034 - accuracy: 0.8080 - recall_6: 0.8638 - precision_6: 0.8638 - val_loss: 0.6969 - val_accuracy: 0.6650 - val_recall_6: 0.7436 - val_precision_6: 0.4603\n",
      "Epoch 37/50\n",
      "50/50 [==============================] - 2s 49ms/step - loss: 0.4020 - accuracy: 0.8067 - recall_6: 0.8539 - precision_6: 0.8696 - val_loss: 0.6739 - val_accuracy: 0.6624 - val_recall_6: 0.8034 - val_precision_6: 0.4608\n",
      "Epoch 38/50\n",
      "50/50 [==============================] - 2s 49ms/step - loss: 0.3885 - accuracy: 0.8175 - recall_6: 0.8729 - precision_6: 0.8689 - val_loss: 0.7124 - val_accuracy: 0.6497 - val_recall_6: 0.7350 - val_precision_6: 0.4456\n",
      "Epoch 39/50\n",
      "50/50 [==============================] - 2s 48ms/step - loss: 0.3992 - accuracy: 0.8042 - recall_6: 0.8494 - precision_6: 0.8698 - val_loss: 0.6774 - val_accuracy: 0.6675 - val_recall_6: 0.8120 - val_precision_6: 0.4657\n",
      "Epoch 40/50\n",
      "50/50 [==============================] - 2s 49ms/step - loss: 0.4032 - accuracy: 0.7953 - recall_6: 0.8386 - precision_6: 0.8667 - val_loss: 0.5728 - val_accuracy: 0.7335 - val_recall_6: 0.6325 - val_precision_6: 0.5441\n",
      "Epoch 41/50\n",
      "50/50 [==============================] - 2s 49ms/step - loss: 0.4064 - accuracy: 0.7940 - recall_6: 0.8341 - precision_6: 0.8685 - val_loss: 0.6192 - val_accuracy: 0.6954 - val_recall_6: 0.7692 - val_precision_6: 0.4918\n",
      "Epoch 42/50\n",
      "50/50 [==============================] - 2s 49ms/step - loss: 0.3893 - accuracy: 0.8086 - recall_6: 0.8656 - precision_6: 0.8633 - val_loss: 0.5548 - val_accuracy: 0.7589 - val_recall_6: 0.5641 - val_precision_6: 0.6000\n",
      "Epoch 43/50\n",
      "50/50 [==============================] - 2s 50ms/step - loss: 0.4158 - accuracy: 0.7889 - recall_6: 0.8494 - precision_6: 0.8509 - val_loss: 0.6568 - val_accuracy: 0.6599 - val_recall_6: 0.7949 - val_precision_6: 0.4581\n",
      "Epoch 44/50\n",
      "50/50 [==============================] - 2s 50ms/step - loss: 0.4011 - accuracy: 0.8137 - recall_6: 0.8702 - precision_6: 0.8662 - val_loss: 0.6534 - val_accuracy: 0.6650 - val_recall_6: 0.7692 - val_precision_6: 0.4615\n",
      "Epoch 45/50\n",
      "50/50 [==============================] - 2s 49ms/step - loss: 0.3992 - accuracy: 0.8080 - recall_6: 0.8512 - precision_6: 0.8733 - val_loss: 0.5485 - val_accuracy: 0.7487 - val_recall_6: 0.6068 - val_precision_6: 0.5726\n",
      "Epoch 46/50\n",
      "50/50 [==============================] - 2s 49ms/step - loss: 0.3863 - accuracy: 0.8086 - recall_6: 0.8476 - precision_6: 0.8769 - val_loss: 0.6215 - val_accuracy: 0.7005 - val_recall_6: 0.7179 - val_precision_6: 0.4970\n",
      "Epoch 47/50\n",
      "50/50 [==============================] - 2s 50ms/step - loss: 0.3902 - accuracy: 0.8067 - recall_6: 0.8413 - precision_6: 0.8794 - val_loss: 0.6979 - val_accuracy: 0.6472 - val_recall_6: 0.8034 - val_precision_6: 0.4476\n",
      "Epoch 48/50\n",
      "50/50 [==============================] - 2s 49ms/step - loss: 0.3845 - accuracy: 0.8093 - recall_6: 0.8683 - precision_6: 0.8621 - val_loss: 0.5204 - val_accuracy: 0.7741 - val_recall_6: 0.4786 - val_precision_6: 0.6667\n",
      "Epoch 49/50\n",
      "50/50 [==============================] - 2s 49ms/step - loss: 0.3854 - accuracy: 0.8112 - recall_6: 0.8413 - precision_6: 0.8852 - val_loss: 0.7820 - val_accuracy: 0.5990 - val_recall_6: 0.8034 - val_precision_6: 0.4105\n",
      "Epoch 50/50\n",
      "50/50 [==============================] - 2s 49ms/step - loss: 0.3953 - accuracy: 0.8061 - recall_6: 0.8620 - precision_6: 0.8628 - val_loss: 0.5916 - val_accuracy: 0.7284 - val_recall_6: 0.6496 - val_precision_6: 0.5352\n"
     ]
    },
    {
     "data": {
      "text/plain": [
       "<keras.callbacks.History at 0x38ee45280>"
      ]
     },
     "execution_count": 186,
     "metadata": {},
     "output_type": "execute_result"
    }
   ],
   "source": [
    "model.fit(train_X, train_y, validation_split=0.2, epochs=50)"
   ]
  },
  {
   "cell_type": "code",
   "execution_count": 187,
   "id": "0a923e6c",
   "metadata": {},
   "outputs": [
    {
     "name": "stdout",
     "output_type": "stream",
     "text": [
      "27/27 [==============================] - 1s 46ms/step - loss: 0.6133 - accuracy: 0.7119 - recall_6: 0.5744 - precision_6: 0.5000\n",
      "테스트 정확도: 71.19%\n"
     ]
    }
   ],
   "source": [
    "loss, accuracy,_,_ = model.evaluate(test_X, test_y)\n",
    "print(f\"테스트 정확도: {accuracy*100:.2f}%\")"
   ]
  },
  {
   "cell_type": "code",
   "execution_count": 193,
   "id": "c429e086",
   "metadata": {},
   "outputs": [
    {
     "name": "stdout",
     "output_type": "stream",
     "text": [
      "27/27 [==============================] - 1s 20ms/step\n"
     ]
    }
   ],
   "source": [
    "y_hat = model.predict(test_X)"
   ]
  },
  {
   "cell_type": "code",
   "execution_count": 194,
   "id": "505b7e02",
   "metadata": {},
   "outputs": [],
   "source": [
    "y_hat = (y_hat>=0.5).astype('int')"
   ]
  },
  {
   "cell_type": "code",
   "execution_count": 195,
   "id": "aa71baf8",
   "metadata": {},
   "outputs": [
    {
     "name": "stdout",
     "output_type": "stream",
     "text": [
      "F1 스코어: 0.5346\n"
     ]
    }
   ],
   "source": [
    "f1 = f1_score(test_y.reshape(-1), y_hat.reshape(-1))\n",
    "print(f\"F1 스코어: {f1:.4f}\")"
   ]
  },
  {
   "cell_type": "code",
   "execution_count": 196,
   "id": "312c6369",
   "metadata": {},
   "outputs": [
    {
     "data": {
      "text/html": [
       "<div>\n",
       "<style scoped>\n",
       "    .dataframe tbody tr th:only-of-type {\n",
       "        vertical-align: middle;\n",
       "    }\n",
       "\n",
       "    .dataframe tbody tr th {\n",
       "        vertical-align: top;\n",
       "    }\n",
       "\n",
       "    .dataframe thead th {\n",
       "        text-align: right;\n",
       "    }\n",
       "</style>\n",
       "<table border=\"1\" class=\"dataframe\">\n",
       "  <thead>\n",
       "    <tr style=\"text-align: right;\">\n",
       "      <th>col_0</th>\n",
       "      <th>0</th>\n",
       "      <th>1</th>\n",
       "    </tr>\n",
       "    <tr>\n",
       "      <th>row_0</th>\n",
       "      <th></th>\n",
       "      <th></th>\n",
       "    </tr>\n",
       "  </thead>\n",
       "  <tbody>\n",
       "    <tr>\n",
       "      <th>0</th>\n",
       "      <td>459</td>\n",
       "      <td>139</td>\n",
       "    </tr>\n",
       "    <tr>\n",
       "      <th>1</th>\n",
       "      <td>103</td>\n",
       "      <td>139</td>\n",
       "    </tr>\n",
       "  </tbody>\n",
       "</table>\n",
       "</div>"
      ],
      "text/plain": [
       "col_0    0    1\n",
       "row_0          \n",
       "0      459  139\n",
       "1      103  139"
      ]
     },
     "execution_count": 196,
     "metadata": {},
     "output_type": "execute_result"
    }
   ],
   "source": [
    "cross_tab = pd.crosstab(test_y.reshape(-1), y_hat.reshape(-1))\n",
    "cross_tab"
   ]
  },
  {
   "cell_type": "code",
   "execution_count": 192,
   "id": "f215ab31",
   "metadata": {},
   "outputs": [
    {
     "data": {
      "text/plain": [
       "(840, 840)"
      ]
     },
     "execution_count": 192,
     "metadata": {},
     "output_type": "execute_result"
    }
   ],
   "source": [
    "len(test_y), len(y_hat)"
   ]
  }
 ],
 "metadata": {
  "kernelspec": {
   "display_name": "Python [conda env:tf] *",
   "language": "python",
   "name": "conda-env-tf-py"
  },
  "language_info": {
   "codemirror_mode": {
    "name": "ipython",
    "version": 3
   },
   "file_extension": ".py",
   "mimetype": "text/x-python",
   "name": "python",
   "nbconvert_exporter": "python",
   "pygments_lexer": "ipython3",
   "version": "3.8.19"
  }
 },
 "nbformat": 4,
 "nbformat_minor": 5
}

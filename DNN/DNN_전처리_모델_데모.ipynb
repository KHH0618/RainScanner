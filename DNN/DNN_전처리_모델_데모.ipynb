{
 "cells": [
  {
   "cell_type": "code",
   "execution_count": 87,
   "id": "8782a575",
   "metadata": {},
   "outputs": [],
   "source": [
    "import pandas as pd\n",
    "import numpy as np\n",
    "import matplotlib.pyplot as plt\n",
    "import seaborn as sns\n",
    "from sklearn.preprocessing import LabelEncoder\n",
    "from sklearn.preprocessing import MinMaxScaler\n",
    "from sklearn.preprocessing import StandardScaler\n",
    "import tensorflow as tf\n",
    "from tensorflow.keras.models import Sequential\n",
    "from tensorflow.keras.layers import Dense, Dropout\n",
    "from tensorflow.keras.metrics import Recall,Precision\n",
    "from sklearn.metrics import f1_score"
   ]
  },
  {
   "cell_type": "markdown",
   "id": "30b8caa9",
   "metadata": {},
   "source": [
    "# 24시간 단위 예측 "
   ]
  },
  {
   "cell_type": "code",
   "execution_count": 206,
   "id": "354ac62e",
   "metadata": {},
   "outputs": [],
   "source": [
    "asos_df = pd.read_csv('/Volumes/ESD-ISO/project_preson/shared_data_preparation/ASOS_data_preprocessed_V3.csv')"
   ]
  },
  {
   "cell_type": "code",
   "execution_count": 207,
   "id": "abaaec35",
   "metadata": {},
   "outputs": [],
   "source": [
    "# rain_tomorrow 열을 rainy_day 열에서 24시간 이후 값을 가져와 생성\n",
    "asos_df['rain_tomorrow'] = asos_df['rainy_day'].shift(-24)"
   ]
  },
  {
   "cell_type": "code",
   "execution_count": 208,
   "id": "b3dd37f4",
   "metadata": {},
   "outputs": [],
   "source": [
    "asos_df.drop(index=asos_df[asos_df['rain_tomorrow'].isna()].index, inplace=True) # 24시간 뒤에 데이터가 없는 마지막 24개열 삭제"
   ]
  },
  {
   "cell_type": "code",
   "execution_count": 209,
   "id": "b47162e8",
   "metadata": {},
   "outputs": [
    {
     "data": {
      "text/html": [
       "<div>\n",
       "<style scoped>\n",
       "    .dataframe tbody tr th:only-of-type {\n",
       "        vertical-align: middle;\n",
       "    }\n",
       "\n",
       "    .dataframe tbody tr th {\n",
       "        vertical-align: top;\n",
       "    }\n",
       "\n",
       "    .dataframe thead th {\n",
       "        text-align: right;\n",
       "    }\n",
       "</style>\n",
       "<table border=\"1\" class=\"dataframe\">\n",
       "  <thead>\n",
       "    <tr style=\"text-align: right;\">\n",
       "      <th></th>\n",
       "      <th>tm</th>\n",
       "      <th>hm</th>\n",
       "      <th>pv</th>\n",
       "      <th>ps</th>\n",
       "      <th>td</th>\n",
       "      <th>pa</th>\n",
       "      <th>dc10Tca</th>\n",
       "      <th>clfmAbbrCd</th>\n",
       "      <th>lcsCh</th>\n",
       "      <th>m005Te</th>\n",
       "      <th>m01Te</th>\n",
       "      <th>m02Te</th>\n",
       "      <th>m03Te</th>\n",
       "      <th>vs</th>\n",
       "      <th>ws</th>\n",
       "      <th>wd</th>\n",
       "      <th>rn</th>\n",
       "      <th>rainy_day</th>\n",
       "      <th>rain_tomorrow</th>\n",
       "    </tr>\n",
       "  </thead>\n",
       "  <tbody>\n",
       "    <tr>\n",
       "      <th>357</th>\n",
       "      <td>1980-03-30 09:00</td>\n",
       "      <td>71.0</td>\n",
       "      <td>6.8</td>\n",
       "      <td>1019.8</td>\n",
       "      <td>1.5</td>\n",
       "      <td>1009.0</td>\n",
       "      <td>8.0</td>\n",
       "      <td>ScCi</td>\n",
       "      <td>0.0</td>\n",
       "      <td>5.7</td>\n",
       "      <td>6.2</td>\n",
       "      <td>7.3</td>\n",
       "      <td>7.5</td>\n",
       "      <td>500.0</td>\n",
       "      <td>1.7</td>\n",
       "      <td>50.0</td>\n",
       "      <td>0.0</td>\n",
       "      <td>0</td>\n",
       "      <td>1.0</td>\n",
       "    </tr>\n",
       "    <tr>\n",
       "      <th>358</th>\n",
       "      <td>1980-03-30 15:00</td>\n",
       "      <td>43.0</td>\n",
       "      <td>8.4</td>\n",
       "      <td>1017.5</td>\n",
       "      <td>4.5</td>\n",
       "      <td>1007.1</td>\n",
       "      <td>4.0</td>\n",
       "      <td>Ci</td>\n",
       "      <td>0.0</td>\n",
       "      <td>17.1</td>\n",
       "      <td>13.1</td>\n",
       "      <td>9.5</td>\n",
       "      <td>7.9</td>\n",
       "      <td>1000.0</td>\n",
       "      <td>2.5</td>\n",
       "      <td>230.0</td>\n",
       "      <td>0.0</td>\n",
       "      <td>0</td>\n",
       "      <td>1.0</td>\n",
       "    </tr>\n",
       "    <tr>\n",
       "      <th>359</th>\n",
       "      <td>1980-03-30 21:00</td>\n",
       "      <td>53.0</td>\n",
       "      <td>7.8</td>\n",
       "      <td>1017.7</td>\n",
       "      <td>3.4</td>\n",
       "      <td>1007.3</td>\n",
       "      <td>8.0</td>\n",
       "      <td>Cs</td>\n",
       "      <td>0.0</td>\n",
       "      <td>10.8</td>\n",
       "      <td>11.1</td>\n",
       "      <td>11.1</td>\n",
       "      <td>9.6</td>\n",
       "      <td>1000.0</td>\n",
       "      <td>4.0</td>\n",
       "      <td>290.0</td>\n",
       "      <td>0.0</td>\n",
       "      <td>0</td>\n",
       "      <td>1.0</td>\n",
       "    </tr>\n",
       "    <tr>\n",
       "      <th>384</th>\n",
       "      <td>1980-04-06 03:00</td>\n",
       "      <td>91.0</td>\n",
       "      <td>11.5</td>\n",
       "      <td>1002.5</td>\n",
       "      <td>9.0</td>\n",
       "      <td>992.0</td>\n",
       "      <td>10.0</td>\n",
       "      <td>StNs</td>\n",
       "      <td>0.0</td>\n",
       "      <td>12.0</td>\n",
       "      <td>12.9</td>\n",
       "      <td>13.5</td>\n",
       "      <td>13.1</td>\n",
       "      <td>500.0</td>\n",
       "      <td>5.3</td>\n",
       "      <td>180.0</td>\n",
       "      <td>0.0</td>\n",
       "      <td>0</td>\n",
       "      <td>1.0</td>\n",
       "    </tr>\n",
       "    <tr>\n",
       "      <th>385</th>\n",
       "      <td>1980-04-06 09:00</td>\n",
       "      <td>91.0</td>\n",
       "      <td>8.0</td>\n",
       "      <td>1005.8</td>\n",
       "      <td>3.8</td>\n",
       "      <td>995.1</td>\n",
       "      <td>10.0</td>\n",
       "      <td>ScAs</td>\n",
       "      <td>0.0</td>\n",
       "      <td>8.5</td>\n",
       "      <td>9.9</td>\n",
       "      <td>12.5</td>\n",
       "      <td>12.6</td>\n",
       "      <td>1500.0</td>\n",
       "      <td>5.3</td>\n",
       "      <td>200.0</td>\n",
       "      <td>0.0</td>\n",
       "      <td>0</td>\n",
       "      <td>1.0</td>\n",
       "    </tr>\n",
       "    <tr>\n",
       "      <th>...</th>\n",
       "      <td>...</td>\n",
       "      <td>...</td>\n",
       "      <td>...</td>\n",
       "      <td>...</td>\n",
       "      <td>...</td>\n",
       "      <td>...</td>\n",
       "      <td>...</td>\n",
       "      <td>...</td>\n",
       "      <td>...</td>\n",
       "      <td>...</td>\n",
       "      <td>...</td>\n",
       "      <td>...</td>\n",
       "      <td>...</td>\n",
       "      <td>...</td>\n",
       "      <td>...</td>\n",
       "      <td>...</td>\n",
       "      <td>...</td>\n",
       "      <td>...</td>\n",
       "      <td>...</td>\n",
       "    </tr>\n",
       "    <tr>\n",
       "      <th>95561</th>\n",
       "      <td>2024-12-20 00:00:00</td>\n",
       "      <td>51.0</td>\n",
       "      <td>2.9</td>\n",
       "      <td>1026.8</td>\n",
       "      <td>-9.9</td>\n",
       "      <td>1015.9</td>\n",
       "      <td>10.0</td>\n",
       "      <td>no_clouds</td>\n",
       "      <td>0.0</td>\n",
       "      <td>-0.3</td>\n",
       "      <td>-0.4</td>\n",
       "      <td>1.3</td>\n",
       "      <td>2.5</td>\n",
       "      <td>2177.0</td>\n",
       "      <td>0.6</td>\n",
       "      <td>20.0</td>\n",
       "      <td>0.0</td>\n",
       "      <td>0</td>\n",
       "      <td>1.0</td>\n",
       "    </tr>\n",
       "    <tr>\n",
       "      <th>95564</th>\n",
       "      <td>2024-12-20 03:00:00</td>\n",
       "      <td>54.0</td>\n",
       "      <td>2.9</td>\n",
       "      <td>1026.2</td>\n",
       "      <td>-9.9</td>\n",
       "      <td>1015.2</td>\n",
       "      <td>9.0</td>\n",
       "      <td>Ci</td>\n",
       "      <td>4.2</td>\n",
       "      <td>-0.3</td>\n",
       "      <td>-0.4</td>\n",
       "      <td>1.3</td>\n",
       "      <td>2.4</td>\n",
       "      <td>2111.0</td>\n",
       "      <td>1.8</td>\n",
       "      <td>20.0</td>\n",
       "      <td>0.0</td>\n",
       "      <td>0</td>\n",
       "      <td>1.0</td>\n",
       "    </tr>\n",
       "    <tr>\n",
       "      <th>95567</th>\n",
       "      <td>2024-12-20 06:00:00</td>\n",
       "      <td>57.0</td>\n",
       "      <td>3.2</td>\n",
       "      <td>1025.1</td>\n",
       "      <td>-8.7</td>\n",
       "      <td>1014.2</td>\n",
       "      <td>10.0</td>\n",
       "      <td>ScCs</td>\n",
       "      <td>8.0</td>\n",
       "      <td>-0.4</td>\n",
       "      <td>-0.5</td>\n",
       "      <td>1.2</td>\n",
       "      <td>2.4</td>\n",
       "      <td>1922.0</td>\n",
       "      <td>1.6</td>\n",
       "      <td>20.0</td>\n",
       "      <td>0.0</td>\n",
       "      <td>0</td>\n",
       "      <td>1.0</td>\n",
       "    </tr>\n",
       "    <tr>\n",
       "      <th>95570</th>\n",
       "      <td>2024-12-20 09:00:00</td>\n",
       "      <td>58.0</td>\n",
       "      <td>3.5</td>\n",
       "      <td>1024.0</td>\n",
       "      <td>-7.5</td>\n",
       "      <td>1013.1</td>\n",
       "      <td>10.0</td>\n",
       "      <td>ScCs</td>\n",
       "      <td>9.0</td>\n",
       "      <td>-0.3</td>\n",
       "      <td>-0.4</td>\n",
       "      <td>1.2</td>\n",
       "      <td>2.4</td>\n",
       "      <td>1823.0</td>\n",
       "      <td>2.2</td>\n",
       "      <td>50.0</td>\n",
       "      <td>0.0</td>\n",
       "      <td>0</td>\n",
       "      <td>1.0</td>\n",
       "    </tr>\n",
       "    <tr>\n",
       "      <th>95681</th>\n",
       "      <td>2024-12-25 00:00:00</td>\n",
       "      <td>52.0</td>\n",
       "      <td>3.1</td>\n",
       "      <td>1028.1</td>\n",
       "      <td>-8.9</td>\n",
       "      <td>1017.2</td>\n",
       "      <td>9.0</td>\n",
       "      <td>AcCi</td>\n",
       "      <td>40.0</td>\n",
       "      <td>-0.2</td>\n",
       "      <td>-0.3</td>\n",
       "      <td>1.0</td>\n",
       "      <td>2.1</td>\n",
       "      <td>2299.0</td>\n",
       "      <td>1.8</td>\n",
       "      <td>50.0</td>\n",
       "      <td>0.0</td>\n",
       "      <td>0</td>\n",
       "      <td>1.0</td>\n",
       "    </tr>\n",
       "  </tbody>\n",
       "</table>\n",
       "<p>7352 rows × 19 columns</p>\n",
       "</div>"
      ],
      "text/plain": [
       "                        tm    hm    pv      ps   td      pa  dc10Tca  \\\n",
       "357       1980-03-30 09:00  71.0   6.8  1019.8  1.5  1009.0      8.0   \n",
       "358       1980-03-30 15:00  43.0   8.4  1017.5  4.5  1007.1      4.0   \n",
       "359       1980-03-30 21:00  53.0   7.8  1017.7  3.4  1007.3      8.0   \n",
       "384       1980-04-06 03:00  91.0  11.5  1002.5  9.0   992.0     10.0   \n",
       "385       1980-04-06 09:00  91.0   8.0  1005.8  3.8   995.1     10.0   \n",
       "...                    ...   ...   ...     ...  ...     ...      ...   \n",
       "95561  2024-12-20 00:00:00  51.0   2.9  1026.8 -9.9  1015.9     10.0   \n",
       "95564  2024-12-20 03:00:00  54.0   2.9  1026.2 -9.9  1015.2      9.0   \n",
       "95567  2024-12-20 06:00:00  57.0   3.2  1025.1 -8.7  1014.2     10.0   \n",
       "95570  2024-12-20 09:00:00  58.0   3.5  1024.0 -7.5  1013.1     10.0   \n",
       "95681  2024-12-25 00:00:00  52.0   3.1  1028.1 -8.9  1017.2      9.0   \n",
       "\n",
       "      clfmAbbrCd  lcsCh  m005Te  m01Te  m02Te  m03Te      vs   ws     wd   rn  \\\n",
       "357         ScCi    0.0     5.7    6.2    7.3    7.5   500.0  1.7   50.0  0.0   \n",
       "358           Ci    0.0    17.1   13.1    9.5    7.9  1000.0  2.5  230.0  0.0   \n",
       "359           Cs    0.0    10.8   11.1   11.1    9.6  1000.0  4.0  290.0  0.0   \n",
       "384         StNs    0.0    12.0   12.9   13.5   13.1   500.0  5.3  180.0  0.0   \n",
       "385         ScAs    0.0     8.5    9.9   12.5   12.6  1500.0  5.3  200.0  0.0   \n",
       "...          ...    ...     ...    ...    ...    ...     ...  ...    ...  ...   \n",
       "95561  no_clouds    0.0    -0.3   -0.4    1.3    2.5  2177.0  0.6   20.0  0.0   \n",
       "95564         Ci    4.2    -0.3   -0.4    1.3    2.4  2111.0  1.8   20.0  0.0   \n",
       "95567       ScCs    8.0    -0.4   -0.5    1.2    2.4  1922.0  1.6   20.0  0.0   \n",
       "95570       ScCs    9.0    -0.3   -0.4    1.2    2.4  1823.0  2.2   50.0  0.0   \n",
       "95681       AcCi   40.0    -0.2   -0.3    1.0    2.1  2299.0  1.8   50.0  0.0   \n",
       "\n",
       "       rainy_day  rain_tomorrow  \n",
       "357            0            1.0  \n",
       "358            0            1.0  \n",
       "359            0            1.0  \n",
       "384            0            1.0  \n",
       "385            0            1.0  \n",
       "...          ...            ...  \n",
       "95561          0            1.0  \n",
       "95564          0            1.0  \n",
       "95567          0            1.0  \n",
       "95570          0            1.0  \n",
       "95681          0            1.0  \n",
       "\n",
       "[7352 rows x 19 columns]"
      ]
     },
     "execution_count": 209,
     "metadata": {},
     "output_type": "execute_result"
    }
   ],
   "source": [
    "asos_df[asos_df['rain_tomorrow']!=0]"
   ]
  },
  {
   "cell_type": "code",
   "execution_count": 210,
   "id": "9634341f",
   "metadata": {},
   "outputs": [],
   "source": [
    "asos_df = asos_df.sample(frac=1, random_state=20250113).reset_index(drop=True)"
   ]
  },
  {
   "cell_type": "code",
   "execution_count": 211,
   "id": "242d4096",
   "metadata": {},
   "outputs": [],
   "source": [
    "rain_data = asos_df[asos_df['rain_tomorrow']==1].loc[:, ['hm','pv','td','pa','m005Te','m01Te','m02Te','m03Te','clfmAbbrCd','lcsCh','rain_tomorrow']]"
   ]
  },
  {
   "cell_type": "code",
   "execution_count": 212,
   "id": "696c0f3d",
   "metadata": {},
   "outputs": [
    {
     "data": {
      "text/plain": [
       "7352"
      ]
     },
     "execution_count": 212,
     "metadata": {},
     "output_type": "execute_result"
    }
   ],
   "source": [
    "len(rain_data)"
   ]
  },
  {
   "cell_type": "code",
   "execution_count": 213,
   "id": "0cb5e8fd",
   "metadata": {},
   "outputs": [],
   "source": [
    "no_rain_data = asos_df[asos_df['rain_tomorrow']==0].sample(n=len(rain_data)).loc[:,['hm','pv','td','pa','m005Te','m01Te','m02Te','m03Te','clfmAbbrCd','lcsCh','rain_tomorrow']]"
   ]
  },
  {
   "cell_type": "code",
   "execution_count": 214,
   "id": "e4092642",
   "metadata": {},
   "outputs": [],
   "source": [
    "data = pd.concat([rain_data, no_rain_data])"
   ]
  },
  {
   "cell_type": "code",
   "execution_count": 215,
   "id": "6f5cb746",
   "metadata": {},
   "outputs": [],
   "source": [
    "data = data.sample(frac=1).reset_index(drop=True) # 데이터 셔플"
   ]
  },
  {
   "cell_type": "code",
   "execution_count": 216,
   "id": "07c18551",
   "metadata": {},
   "outputs": [],
   "source": [
    "split_index = round((len(data)/10)*7)"
   ]
  },
  {
   "cell_type": "code",
   "execution_count": 217,
   "id": "acdc2ad4",
   "metadata": {},
   "outputs": [],
   "source": [
    "encoder = LabelEncoder()\n",
    "data.clfmAbbrCd = encoder.fit_transform(data.clfmAbbrCd)"
   ]
  },
  {
   "cell_type": "code",
   "execution_count": 218,
   "id": "2509097d",
   "metadata": {},
   "outputs": [],
   "source": [
    "train_X = data.iloc[:split_index,:-1]\n",
    "train_y = data.iloc[:split_index,-1]\n",
    "test_X = data.iloc[split_index:,:-1]\n",
    "test_y = data.iloc[split_index:,-1]"
   ]
  },
  {
   "cell_type": "code",
   "execution_count": 219,
   "id": "e1862d2e",
   "metadata": {},
   "outputs": [
    {
     "data": {
      "text/plain": [
       "((10293, 10), (10293,))"
      ]
     },
     "execution_count": 219,
     "metadata": {},
     "output_type": "execute_result"
    }
   ],
   "source": [
    "train_X.shape, train_y.shape"
   ]
  },
  {
   "cell_type": "code",
   "execution_count": 220,
   "id": "dc1cc6e7",
   "metadata": {},
   "outputs": [],
   "source": [
    "scaler = MinMaxScaler()\n",
    "train_X = scaler.fit_transform(train_X)\n",
    "test_X = scaler.fit_transform(test_X)"
   ]
  },
  {
   "cell_type": "code",
   "execution_count": 221,
   "id": "6db2c088",
   "metadata": {},
   "outputs": [
    {
     "data": {
      "text/plain": [
       "((10293, 10), (4411, 10), (10293,), (4411,))"
      ]
     },
     "execution_count": 221,
     "metadata": {},
     "output_type": "execute_result"
    }
   ],
   "source": [
    "train_X.shape, test_X.shape, train_y.shape, test_y.shape"
   ]
  },
  {
   "cell_type": "code",
   "execution_count": 222,
   "id": "0b59a6ab",
   "metadata": {},
   "outputs": [
    {
     "name": "stdout",
     "output_type": "stream",
     "text": [
      "Model: \"sequential_8\"\n",
      "_________________________________________________________________\n",
      " Layer (type)                Output Shape              Param #   \n",
      "=================================================================\n",
      " dense_48 (Dense)            (None, 64)                704       \n",
      "                                                                 \n",
      " dropout_40 (Dropout)        (None, 64)                0         \n",
      "                                                                 \n",
      " dense_49 (Dense)            (None, 128)               8320      \n",
      "                                                                 \n",
      " dropout_41 (Dropout)        (None, 128)               0         \n",
      "                                                                 \n",
      " dense_50 (Dense)            (None, 256)               33024     \n",
      "                                                                 \n",
      " dropout_42 (Dropout)        (None, 256)               0         \n",
      "                                                                 \n",
      " dense_51 (Dense)            (None, 64)                16448     \n",
      "                                                                 \n",
      " dropout_43 (Dropout)        (None, 64)                0         \n",
      "                                                                 \n",
      " dense_52 (Dense)            (None, 32)                2080      \n",
      "                                                                 \n",
      " dropout_44 (Dropout)        (None, 32)                0         \n",
      "                                                                 \n",
      " dense_53 (Dense)            (None, 1)                 33        \n",
      "                                                                 \n",
      "=================================================================\n",
      "Total params: 60,609\n",
      "Trainable params: 60,609\n",
      "Non-trainable params: 0\n",
      "_________________________________________________________________\n"
     ]
    }
   ],
   "source": [
    "model = Sequential([\n",
    "    Dense(64, activation='relu', input_shape=(train_X.shape[1],)),  \n",
    "    Dropout(0.3),\n",
    "    Dense(128, activation='relu'),  \n",
    "    Dropout(0.4),\n",
    "    Dense(256, activation='relu'),  \n",
    "    Dropout(0.4),\n",
    "    Dense(64, activation='relu'),  \n",
    "    Dropout(0.3),\n",
    "    Dense(32, activation='relu'),  \n",
    "    Dropout(0.2),\n",
    "    Dense(1, activation='sigmoid') \n",
    "])\n",
    "\n",
    "model.compile(loss='binary_crossentropy', optimizer='adam',  metrics=['accuracy',Recall(),Precision()])\n",
    "# 모델 요약\n",
    "model.summary()"
   ]
  },
  {
   "cell_type": "code",
   "execution_count": 223,
   "id": "9da2a51f",
   "metadata": {
    "scrolled": true
   },
   "outputs": [
    {
     "name": "stdout",
     "output_type": "stream",
     "text": [
      "Epoch 1/30\n"
     ]
    },
    {
     "name": "stderr",
     "output_type": "stream",
     "text": [
      "2025-01-16 17:31:12.605385: I tensorflow/core/grappler/optimizers/custom_graph_optimizer_registry.cc:114] Plugin optimizer for device_type GPU is enabled.\n"
     ]
    },
    {
     "name": "stdout",
     "output_type": "stream",
     "text": [
      "258/258 [==============================] - ETA: 0s - loss: 0.6836 - accuracy: 0.5606 - recall_8: 0.5681 - precision_8: 0.5589"
     ]
    },
    {
     "name": "stderr",
     "output_type": "stream",
     "text": [
      "2025-01-16 17:31:15.132513: I tensorflow/core/grappler/optimizers/custom_graph_optimizer_registry.cc:114] Plugin optimizer for device_type GPU is enabled.\n"
     ]
    },
    {
     "name": "stdout",
     "output_type": "stream",
     "text": [
      "258/258 [==============================] - 3s 10ms/step - loss: 0.6836 - accuracy: 0.5606 - recall_8: 0.5681 - precision_8: 0.5589 - val_loss: 0.6751 - val_accuracy: 0.5881 - val_recall_8: 0.5759 - val_precision_8: 0.6022\n",
      "Epoch 2/30\n",
      "258/258 [==============================] - 2s 7ms/step - loss: 0.6751 - accuracy: 0.5899 - recall_8: 0.5915 - precision_8: 0.5888 - val_loss: 0.6764 - val_accuracy: 0.5901 - val_recall_8: 0.5493 - val_precision_8: 0.6108\n",
      "Epoch 3/30\n",
      "258/258 [==============================] - 2s 8ms/step - loss: 0.6699 - accuracy: 0.5981 - recall_8: 0.5942 - precision_8: 0.5981 - val_loss: 0.6734 - val_accuracy: 0.5925 - val_recall_8: 0.5750 - val_precision_8: 0.6078\n",
      "Epoch 4/30\n",
      "258/258 [==============================] - 2s 7ms/step - loss: 0.6699 - accuracy: 0.5987 - recall_8: 0.6044 - precision_8: 0.5968 - val_loss: 0.6724 - val_accuracy: 0.5935 - val_recall_8: 0.6015 - val_precision_8: 0.6032\n",
      "Epoch 5/30\n",
      "258/258 [==============================] - 2s 8ms/step - loss: 0.6696 - accuracy: 0.5938 - recall_8: 0.5981 - precision_8: 0.5921 - val_loss: 0.6788 - val_accuracy: 0.5906 - val_recall_8: 0.5209 - val_precision_8: 0.6189\n",
      "Epoch 6/30\n",
      "258/258 [==============================] - 2s 7ms/step - loss: 0.6680 - accuracy: 0.6009 - recall_8: 0.5895 - precision_8: 0.6024 - val_loss: 0.6745 - val_accuracy: 0.5954 - val_recall_8: 0.5190 - val_precision_8: 0.6266\n",
      "Epoch 7/30\n",
      "258/258 [==============================] - 2s 7ms/step - loss: 0.6687 - accuracy: 0.5978 - recall_8: 0.6046 - precision_8: 0.5956 - val_loss: 0.6739 - val_accuracy: 0.5930 - val_recall_8: 0.5455 - val_precision_8: 0.6156\n",
      "Epoch 8/30\n",
      "258/258 [==============================] - 2s 7ms/step - loss: 0.6693 - accuracy: 0.5976 - recall_8: 0.5482 - precision_8: 0.6074 - val_loss: 0.6726 - val_accuracy: 0.5925 - val_recall_8: 0.5446 - val_precision_8: 0.6152\n",
      "Epoch 9/30\n",
      "258/258 [==============================] - 2s 7ms/step - loss: 0.6671 - accuracy: 0.6018 - recall_8: 0.5832 - precision_8: 0.6048 - val_loss: 0.6721 - val_accuracy: 0.5969 - val_recall_8: 0.5806 - val_precision_8: 0.6120\n",
      "Epoch 10/30\n",
      "258/258 [==============================] - 2s 7ms/step - loss: 0.6688 - accuracy: 0.5978 - recall_8: 0.5815 - precision_8: 0.6002 - val_loss: 0.6716 - val_accuracy: 0.5935 - val_recall_8: 0.5769 - val_precision_8: 0.6086\n",
      "Epoch 11/30\n",
      "258/258 [==============================] - 2s 7ms/step - loss: 0.6660 - accuracy: 0.6007 - recall_8: 0.6012 - precision_8: 0.5998 - val_loss: 0.6732 - val_accuracy: 0.6003 - val_recall_8: 0.5712 - val_precision_8: 0.6187\n",
      "Epoch 12/30\n",
      "258/258 [==============================] - 2s 7ms/step - loss: 0.6667 - accuracy: 0.5979 - recall_8: 0.6102 - precision_8: 0.5947 - val_loss: 0.6708 - val_accuracy: 0.5993 - val_recall_8: 0.6063 - val_precision_8: 0.6092\n",
      "Epoch 13/30\n",
      "258/258 [==============================] - 2s 7ms/step - loss: 0.6665 - accuracy: 0.6024 - recall_8: 0.5893 - precision_8: 0.6043 - val_loss: 0.6742 - val_accuracy: 0.5930 - val_recall_8: 0.5550 - val_precision_8: 0.6132\n",
      "Epoch 14/30\n",
      "258/258 [==============================] - 2s 7ms/step - loss: 0.6669 - accuracy: 0.5983 - recall_8: 0.5895 - precision_8: 0.5992 - val_loss: 0.6723 - val_accuracy: 0.5988 - val_recall_8: 0.5721 - val_precision_8: 0.6166\n",
      "Epoch 15/30\n",
      "258/258 [==============================] - 2s 7ms/step - loss: 0.6660 - accuracy: 0.6031 - recall_8: 0.6243 - precision_8: 0.5981 - val_loss: 0.6747 - val_accuracy: 0.5949 - val_recall_8: 0.5266 - val_precision_8: 0.6236\n",
      "Epoch 16/30\n",
      "258/258 [==============================] - 2s 7ms/step - loss: 0.6651 - accuracy: 0.6024 - recall_8: 0.6192 - precision_8: 0.5983 - val_loss: 0.6697 - val_accuracy: 0.6042 - val_recall_8: 0.6110 - val_precision_8: 0.6139\n",
      "Epoch 17/30\n",
      "258/258 [==============================] - 2s 7ms/step - loss: 0.6664 - accuracy: 0.5990 - recall_8: 0.5891 - precision_8: 0.6001 - val_loss: 0.6733 - val_accuracy: 0.6013 - val_recall_8: 0.5607 - val_precision_8: 0.6228\n",
      "Epoch 18/30\n",
      "258/258 [==============================] - 2s 7ms/step - loss: 0.6654 - accuracy: 0.5959 - recall_8: 0.6182 - precision_8: 0.5911 - val_loss: 0.6708 - val_accuracy: 0.5959 - val_recall_8: 0.6556 - val_precision_8: 0.5957\n",
      "Epoch 19/30\n",
      "258/258 [==============================] - 2s 7ms/step - loss: 0.6671 - accuracy: 0.5986 - recall_8: 0.5732 - precision_8: 0.6030 - val_loss: 0.6713 - val_accuracy: 0.5959 - val_recall_8: 0.5693 - val_precision_8: 0.6135\n",
      "Epoch 20/30\n",
      "258/258 [==============================] - 2s 7ms/step - loss: 0.6653 - accuracy: 0.6015 - recall_8: 0.5723 - precision_8: 0.6070 - val_loss: 0.6698 - val_accuracy: 0.6008 - val_recall_8: 0.6281 - val_precision_8: 0.6062\n",
      "Epoch 21/30\n",
      "258/258 [==============================] - 2s 7ms/step - loss: 0.6651 - accuracy: 0.6004 - recall_8: 0.6389 - precision_8: 0.5925 - val_loss: 0.6714 - val_accuracy: 0.5969 - val_recall_8: 0.5598 - val_precision_8: 0.6172\n",
      "Epoch 22/30\n",
      "258/258 [==============================] - 2s 7ms/step - loss: 0.6649 - accuracy: 0.6009 - recall_8: 0.5698 - precision_8: 0.6067 - val_loss: 0.6708 - val_accuracy: 0.6008 - val_recall_8: 0.5958 - val_precision_8: 0.6133\n",
      "Epoch 23/30\n",
      "258/258 [==============================] - 2s 7ms/step - loss: 0.6645 - accuracy: 0.6081 - recall_8: 0.5920 - precision_8: 0.6108 - val_loss: 0.6731 - val_accuracy: 0.5911 - val_recall_8: 0.5474 - val_precision_8: 0.6125\n",
      "Epoch 24/30\n",
      "258/258 [==============================] - 2s 7ms/step - loss: 0.6629 - accuracy: 0.6094 - recall_8: 0.5937 - precision_8: 0.6121 - val_loss: 0.6699 - val_accuracy: 0.5940 - val_recall_8: 0.6490 - val_precision_8: 0.5948\n",
      "Epoch 25/30\n",
      "258/258 [==============================] - 2s 7ms/step - loss: 0.6642 - accuracy: 0.6043 - recall_8: 0.6044 - precision_8: 0.6035 - val_loss: 0.6701 - val_accuracy: 0.5930 - val_recall_8: 0.5693 - val_precision_8: 0.6098\n",
      "Epoch 26/30\n",
      "258/258 [==============================] - 2s 7ms/step - loss: 0.6643 - accuracy: 0.6030 - recall_8: 0.6214 - precision_8: 0.5985 - val_loss: 0.6852 - val_accuracy: 0.5508 - val_recall_8: 0.2666 - val_precision_8: 0.6490\n",
      "Epoch 27/30\n",
      "258/258 [==============================] - 2s 7ms/step - loss: 0.6642 - accuracy: 0.6058 - recall_8: 0.5856 - precision_8: 0.6094 - val_loss: 0.6704 - val_accuracy: 0.5949 - val_recall_8: 0.6129 - val_precision_8: 0.6026\n",
      "Epoch 28/30\n",
      "258/258 [==============================] - 2s 7ms/step - loss: 0.6629 - accuracy: 0.6078 - recall_8: 0.5854 - precision_8: 0.6121 - val_loss: 0.6696 - val_accuracy: 0.5983 - val_recall_8: 0.6518 - val_precision_8: 0.5990\n",
      "Epoch 29/30\n",
      "258/258 [==============================] - 2s 7ms/step - loss: 0.6632 - accuracy: 0.6023 - recall_8: 0.6380 - precision_8: 0.5947 - val_loss: 0.6693 - val_accuracy: 0.5915 - val_recall_8: 0.5968 - val_precision_8: 0.6019\n",
      "Epoch 30/30\n",
      "258/258 [==============================] - 2s 7ms/step - loss: 0.6649 - accuracy: 0.5995 - recall_8: 0.5727 - precision_8: 0.6042 - val_loss: 0.6712 - val_accuracy: 0.5935 - val_recall_8: 0.5123 - val_precision_8: 0.6257\n"
     ]
    }
   ],
   "source": [
    "history = model.fit(train_X, train_y, epochs=30, validation_split=0.2)"
   ]
  },
  {
   "cell_type": "code",
   "execution_count": 106,
   "id": "0696f05b",
   "metadata": {},
   "outputs": [
    {
     "name": "stderr",
     "output_type": "stream",
     "text": [
      "2025-01-16 17:16:50.389133: I tensorflow/core/grappler/optimizers/custom_graph_optimizer_registry.cc:114] Plugin optimizer for device_type GPU is enabled.\n"
     ]
    },
    {
     "name": "stdout",
     "output_type": "stream",
     "text": [
      "138/138 [==============================] - 2s 15ms/step - loss: 0.6649 - accuracy: 0.6108 - recall_4: 0.4903 - precision_4: 0.6340\n",
      "테스트 정확도: 0.6108\n"
     ]
    }
   ],
   "source": [
    "loss, accuracy, _, _, = model.evaluate(np.array(test_X), np.array(test_y))\n",
    "print(f\"테스트 정확도: {accuracy:.4f}\")"
   ]
  },
  {
   "cell_type": "code",
   "execution_count": 203,
   "id": "47a5aff7",
   "metadata": {},
   "outputs": [
    {
     "name": "stdout",
     "output_type": "stream",
     "text": [
      "138/138 [==============================] - 0s 1ms/step\n"
     ]
    }
   ],
   "source": [
    "y_hat = (model.predict(test_X)>=0.5).reshape(-1)"
   ]
  },
  {
   "cell_type": "code",
   "execution_count": 204,
   "id": "1f0cba46",
   "metadata": {},
   "outputs": [
    {
     "data": {
      "text/plain": [
       "((4411,), (4411,))"
      ]
     },
     "execution_count": 204,
     "metadata": {},
     "output_type": "execute_result"
    }
   ],
   "source": [
    "test_y.shape, y_hat.shape"
   ]
  },
  {
   "cell_type": "code",
   "execution_count": 205,
   "id": "50e5ee8a",
   "metadata": {},
   "outputs": [
    {
     "name": "stdout",
     "output_type": "stream",
     "text": [
      "F1 스코어: 0.7533\n"
     ]
    }
   ],
   "source": [
    "f1 = f1_score(test_y, y_hat, average='micro')\n",
    "print(f\"F1 스코어: {f1:.4f}\")"
   ]
  },
  {
   "cell_type": "markdown",
   "id": "f5c87dea",
   "metadata": {},
   "source": [
    "# 3시간 단위 예측 "
   ]
  },
  {
   "cell_type": "code",
   "execution_count": 160,
   "id": "7936f310",
   "metadata": {},
   "outputs": [],
   "source": [
    "asos_df = pd.read_csv('/Volumes/ESD-ISO/project_preson/shared_data_preparation/ASOS_data_preprocessed_V3.csv')"
   ]
  },
  {
   "cell_type": "code",
   "execution_count": 161,
   "id": "f74a5ccb",
   "metadata": {},
   "outputs": [],
   "source": [
    "# rain_tomorrow 열을 rainy_day 열에서 3시간 이후 값을 가져와 생성\n",
    "asos_df['rain_tomorrow'] = asos_df['rainy_day'].shift(-3)"
   ]
  },
  {
   "cell_type": "code",
   "execution_count": 162,
   "id": "f3ad04b8",
   "metadata": {},
   "outputs": [
    {
     "data": {
      "text/html": [
       "<div>\n",
       "<style scoped>\n",
       "    .dataframe tbody tr th:only-of-type {\n",
       "        vertical-align: middle;\n",
       "    }\n",
       "\n",
       "    .dataframe tbody tr th {\n",
       "        vertical-align: top;\n",
       "    }\n",
       "\n",
       "    .dataframe thead th {\n",
       "        text-align: right;\n",
       "    }\n",
       "</style>\n",
       "<table border=\"1\" class=\"dataframe\">\n",
       "  <thead>\n",
       "    <tr style=\"text-align: right;\">\n",
       "      <th></th>\n",
       "      <th>tm</th>\n",
       "      <th>hm</th>\n",
       "      <th>pv</th>\n",
       "      <th>ps</th>\n",
       "      <th>td</th>\n",
       "      <th>pa</th>\n",
       "      <th>dc10Tca</th>\n",
       "      <th>clfmAbbrCd</th>\n",
       "      <th>lcsCh</th>\n",
       "      <th>m005Te</th>\n",
       "      <th>m01Te</th>\n",
       "      <th>m02Te</th>\n",
       "      <th>m03Te</th>\n",
       "      <th>vs</th>\n",
       "      <th>ws</th>\n",
       "      <th>wd</th>\n",
       "      <th>rn</th>\n",
       "      <th>rainy_day</th>\n",
       "      <th>rain_tomorrow</th>\n",
       "    </tr>\n",
       "  </thead>\n",
       "  <tbody>\n",
       "    <tr>\n",
       "      <th>378</th>\n",
       "      <td>1980-04-04 15:00</td>\n",
       "      <td>55.0</td>\n",
       "      <td>13.3</td>\n",
       "      <td>1021.0</td>\n",
       "      <td>11.2</td>\n",
       "      <td>1010.7</td>\n",
       "      <td>10.0</td>\n",
       "      <td>ScAs</td>\n",
       "      <td>0.0</td>\n",
       "      <td>17.1</td>\n",
       "      <td>13.7</td>\n",
       "      <td>11.0</td>\n",
       "      <td>9.6</td>\n",
       "      <td>2000.0</td>\n",
       "      <td>7.8</td>\n",
       "      <td>200.0</td>\n",
       "      <td>0.0</td>\n",
       "      <td>0</td>\n",
       "      <td>1.0</td>\n",
       "    </tr>\n",
       "    <tr>\n",
       "      <th>379</th>\n",
       "      <td>1980-04-04 21:00</td>\n",
       "      <td>71.0</td>\n",
       "      <td>14.6</td>\n",
       "      <td>1020.3</td>\n",
       "      <td>12.6</td>\n",
       "      <td>1010.0</td>\n",
       "      <td>10.0</td>\n",
       "      <td>ScAs</td>\n",
       "      <td>0.0</td>\n",
       "      <td>14.5</td>\n",
       "      <td>13.8</td>\n",
       "      <td>12.5</td>\n",
       "      <td>11.2</td>\n",
       "      <td>1500.0</td>\n",
       "      <td>2.0</td>\n",
       "      <td>230.0</td>\n",
       "      <td>0.0</td>\n",
       "      <td>0</td>\n",
       "      <td>1.0</td>\n",
       "    </tr>\n",
       "    <tr>\n",
       "      <th>380</th>\n",
       "      <td>1980-04-05 03:00</td>\n",
       "      <td>69.0</td>\n",
       "      <td>14.1</td>\n",
       "      <td>1015.8</td>\n",
       "      <td>12.1</td>\n",
       "      <td>1005.6</td>\n",
       "      <td>10.0</td>\n",
       "      <td>As</td>\n",
       "      <td>0.0</td>\n",
       "      <td>13.5</td>\n",
       "      <td>13.1</td>\n",
       "      <td>12.5</td>\n",
       "      <td>11.3</td>\n",
       "      <td>1200.0</td>\n",
       "      <td>3.3</td>\n",
       "      <td>140.0</td>\n",
       "      <td>0.0</td>\n",
       "      <td>0</td>\n",
       "      <td>1.0</td>\n",
       "    </tr>\n",
       "    <tr>\n",
       "      <th>405</th>\n",
       "      <td>1980-04-11 09:00</td>\n",
       "      <td>66.0</td>\n",
       "      <td>8.2</td>\n",
       "      <td>1020.0</td>\n",
       "      <td>4.1</td>\n",
       "      <td>1009.4</td>\n",
       "      <td>10.0</td>\n",
       "      <td>Ci</td>\n",
       "      <td>0.0</td>\n",
       "      <td>9.3</td>\n",
       "      <td>8.8</td>\n",
       "      <td>10.1</td>\n",
       "      <td>10.6</td>\n",
       "      <td>700.0</td>\n",
       "      <td>1.5</td>\n",
       "      <td>50.0</td>\n",
       "      <td>0.0</td>\n",
       "      <td>0</td>\n",
       "      <td>1.0</td>\n",
       "    </tr>\n",
       "    <tr>\n",
       "      <th>406</th>\n",
       "      <td>1980-04-11 15:00</td>\n",
       "      <td>44.0</td>\n",
       "      <td>8.5</td>\n",
       "      <td>1018.4</td>\n",
       "      <td>4.6</td>\n",
       "      <td>1007.9</td>\n",
       "      <td>10.0</td>\n",
       "      <td>Ci</td>\n",
       "      <td>0.0</td>\n",
       "      <td>20.8</td>\n",
       "      <td>16.6</td>\n",
       "      <td>12.8</td>\n",
       "      <td>11.6</td>\n",
       "      <td>1800.0</td>\n",
       "      <td>3.0</td>\n",
       "      <td>230.0</td>\n",
       "      <td>0.0</td>\n",
       "      <td>0</td>\n",
       "      <td>1.0</td>\n",
       "    </tr>\n",
       "    <tr>\n",
       "      <th>...</th>\n",
       "      <td>...</td>\n",
       "      <td>...</td>\n",
       "      <td>...</td>\n",
       "      <td>...</td>\n",
       "      <td>...</td>\n",
       "      <td>...</td>\n",
       "      <td>...</td>\n",
       "      <td>...</td>\n",
       "      <td>...</td>\n",
       "      <td>...</td>\n",
       "      <td>...</td>\n",
       "      <td>...</td>\n",
       "      <td>...</td>\n",
       "      <td>...</td>\n",
       "      <td>...</td>\n",
       "      <td>...</td>\n",
       "      <td>...</td>\n",
       "      <td>...</td>\n",
       "      <td>...</td>\n",
       "    </tr>\n",
       "    <tr>\n",
       "      <th>95591</th>\n",
       "      <td>2024-12-21 06:00:00</td>\n",
       "      <td>94.0</td>\n",
       "      <td>6.3</td>\n",
       "      <td>1015.6</td>\n",
       "      <td>0.5</td>\n",
       "      <td>1004.9</td>\n",
       "      <td>9.0</td>\n",
       "      <td>Sc</td>\n",
       "      <td>5.0</td>\n",
       "      <td>-0.1</td>\n",
       "      <td>-0.4</td>\n",
       "      <td>0.7</td>\n",
       "      <td>1.8</td>\n",
       "      <td>201.0</td>\n",
       "      <td>3.4</td>\n",
       "      <td>270.0</td>\n",
       "      <td>0.7</td>\n",
       "      <td>1</td>\n",
       "      <td>1.0</td>\n",
       "    </tr>\n",
       "    <tr>\n",
       "      <th>95702</th>\n",
       "      <td>2024-12-25 21:00:00</td>\n",
       "      <td>69.0</td>\n",
       "      <td>6.1</td>\n",
       "      <td>1022.1</td>\n",
       "      <td>-0.1</td>\n",
       "      <td>1011.5</td>\n",
       "      <td>9.0</td>\n",
       "      <td>ScCi</td>\n",
       "      <td>8.0</td>\n",
       "      <td>-0.1</td>\n",
       "      <td>-0.3</td>\n",
       "      <td>1.0</td>\n",
       "      <td>2.0</td>\n",
       "      <td>2155.0</td>\n",
       "      <td>2.0</td>\n",
       "      <td>200.0</td>\n",
       "      <td>0.0</td>\n",
       "      <td>0</td>\n",
       "      <td>1.0</td>\n",
       "    </tr>\n",
       "    <tr>\n",
       "      <th>95824</th>\n",
       "      <td>2024-12-30 23:00:00</td>\n",
       "      <td>75.0</td>\n",
       "      <td>6.1</td>\n",
       "      <td>1016.0</td>\n",
       "      <td>0.0</td>\n",
       "      <td>1005.4</td>\n",
       "      <td>0.0</td>\n",
       "      <td>no_clouds</td>\n",
       "      <td>0.0</td>\n",
       "      <td>-0.1</td>\n",
       "      <td>-0.3</td>\n",
       "      <td>0.8</td>\n",
       "      <td>1.7</td>\n",
       "      <td>754.0</td>\n",
       "      <td>0.7</td>\n",
       "      <td>250.0</td>\n",
       "      <td>0.0</td>\n",
       "      <td>0</td>\n",
       "      <td>NaN</td>\n",
       "    </tr>\n",
       "    <tr>\n",
       "      <th>95825</th>\n",
       "      <td>2024-12-31 00:00:00</td>\n",
       "      <td>81.0</td>\n",
       "      <td>7.0</td>\n",
       "      <td>1015.8</td>\n",
       "      <td>1.8</td>\n",
       "      <td>1005.2</td>\n",
       "      <td>9.0</td>\n",
       "      <td>no_clouds</td>\n",
       "      <td>0.0</td>\n",
       "      <td>-0.1</td>\n",
       "      <td>-0.3</td>\n",
       "      <td>0.8</td>\n",
       "      <td>1.7</td>\n",
       "      <td>563.0</td>\n",
       "      <td>2.3</td>\n",
       "      <td>250.0</td>\n",
       "      <td>0.0</td>\n",
       "      <td>0</td>\n",
       "      <td>NaN</td>\n",
       "    </tr>\n",
       "    <tr>\n",
       "      <th>95826</th>\n",
       "      <td>2024-12-31 01:00:00</td>\n",
       "      <td>65.0</td>\n",
       "      <td>5.2</td>\n",
       "      <td>1016.2</td>\n",
       "      <td>-2.1</td>\n",
       "      <td>1005.6</td>\n",
       "      <td>0.0</td>\n",
       "      <td>no_clouds</td>\n",
       "      <td>0.0</td>\n",
       "      <td>-0.1</td>\n",
       "      <td>-0.3</td>\n",
       "      <td>0.8</td>\n",
       "      <td>1.7</td>\n",
       "      <td>909.0</td>\n",
       "      <td>2.5</td>\n",
       "      <td>270.0</td>\n",
       "      <td>0.0</td>\n",
       "      <td>0</td>\n",
       "      <td>NaN</td>\n",
       "    </tr>\n",
       "  </tbody>\n",
       "</table>\n",
       "<p>7355 rows × 19 columns</p>\n",
       "</div>"
      ],
      "text/plain": [
       "                        tm    hm    pv      ps    td      pa  dc10Tca  \\\n",
       "378       1980-04-04 15:00  55.0  13.3  1021.0  11.2  1010.7     10.0   \n",
       "379       1980-04-04 21:00  71.0  14.6  1020.3  12.6  1010.0     10.0   \n",
       "380       1980-04-05 03:00  69.0  14.1  1015.8  12.1  1005.6     10.0   \n",
       "405       1980-04-11 09:00  66.0   8.2  1020.0   4.1  1009.4     10.0   \n",
       "406       1980-04-11 15:00  44.0   8.5  1018.4   4.6  1007.9     10.0   \n",
       "...                    ...   ...   ...     ...   ...     ...      ...   \n",
       "95591  2024-12-21 06:00:00  94.0   6.3  1015.6   0.5  1004.9      9.0   \n",
       "95702  2024-12-25 21:00:00  69.0   6.1  1022.1  -0.1  1011.5      9.0   \n",
       "95824  2024-12-30 23:00:00  75.0   6.1  1016.0   0.0  1005.4      0.0   \n",
       "95825  2024-12-31 00:00:00  81.0   7.0  1015.8   1.8  1005.2      9.0   \n",
       "95826  2024-12-31 01:00:00  65.0   5.2  1016.2  -2.1  1005.6      0.0   \n",
       "\n",
       "      clfmAbbrCd  lcsCh  m005Te  m01Te  m02Te  m03Te      vs   ws     wd   rn  \\\n",
       "378         ScAs    0.0    17.1   13.7   11.0    9.6  2000.0  7.8  200.0  0.0   \n",
       "379         ScAs    0.0    14.5   13.8   12.5   11.2  1500.0  2.0  230.0  0.0   \n",
       "380           As    0.0    13.5   13.1   12.5   11.3  1200.0  3.3  140.0  0.0   \n",
       "405           Ci    0.0     9.3    8.8   10.1   10.6   700.0  1.5   50.0  0.0   \n",
       "406           Ci    0.0    20.8   16.6   12.8   11.6  1800.0  3.0  230.0  0.0   \n",
       "...          ...    ...     ...    ...    ...    ...     ...  ...    ...  ...   \n",
       "95591         Sc    5.0    -0.1   -0.4    0.7    1.8   201.0  3.4  270.0  0.7   \n",
       "95702       ScCi    8.0    -0.1   -0.3    1.0    2.0  2155.0  2.0  200.0  0.0   \n",
       "95824  no_clouds    0.0    -0.1   -0.3    0.8    1.7   754.0  0.7  250.0  0.0   \n",
       "95825  no_clouds    0.0    -0.1   -0.3    0.8    1.7   563.0  2.3  250.0  0.0   \n",
       "95826  no_clouds    0.0    -0.1   -0.3    0.8    1.7   909.0  2.5  270.0  0.0   \n",
       "\n",
       "       rainy_day  rain_tomorrow  \n",
       "378            0            1.0  \n",
       "379            0            1.0  \n",
       "380            0            1.0  \n",
       "405            0            1.0  \n",
       "406            0            1.0  \n",
       "...          ...            ...  \n",
       "95591          1            1.0  \n",
       "95702          0            1.0  \n",
       "95824          0            NaN  \n",
       "95825          0            NaN  \n",
       "95826          0            NaN  \n",
       "\n",
       "[7355 rows x 19 columns]"
      ]
     },
     "execution_count": 162,
     "metadata": {},
     "output_type": "execute_result"
    }
   ],
   "source": [
    "asos_df[asos_df['rain_tomorrow']!=0]"
   ]
  },
  {
   "cell_type": "code",
   "execution_count": 163,
   "id": "a247ec47",
   "metadata": {},
   "outputs": [],
   "source": [
    "asos_df.drop(index=asos_df[asos_df['rain_tomorrow'].isna()].index, inplace=True)"
   ]
  },
  {
   "cell_type": "code",
   "execution_count": 164,
   "id": "0ee432a3",
   "metadata": {},
   "outputs": [],
   "source": [
    "asos_df = asos_df.sample(frac=1, random_state=20250113).reset_index(drop=True)"
   ]
  },
  {
   "cell_type": "code",
   "execution_count": 165,
   "id": "19449122",
   "metadata": {},
   "outputs": [],
   "source": [
    "rain_data = asos_df[asos_df['rain_tomorrow']==1].loc[:, ['hm','pv','td','pa','m005Te','m01Te','m02Te','m03Te','clfmAbbrCd','lcsCh','rain_tomorrow']]"
   ]
  },
  {
   "cell_type": "code",
   "execution_count": 166,
   "id": "e9514e01",
   "metadata": {},
   "outputs": [
    {
     "data": {
      "text/plain": [
       "7352"
      ]
     },
     "execution_count": 166,
     "metadata": {},
     "output_type": "execute_result"
    }
   ],
   "source": [
    "len(rain_data)"
   ]
  },
  {
   "cell_type": "code",
   "execution_count": 167,
   "id": "cfffd6ce",
   "metadata": {},
   "outputs": [],
   "source": [
    "no_rain_data = asos_df[asos_df['rain_tomorrow']==0].sample(n=len(rain_data)).loc[:,['hm','pv','td','pa','m005Te','m01Te','m02Te','m03Te','clfmAbbrCd','lcsCh','rain_tomorrow']]"
   ]
  },
  {
   "cell_type": "code",
   "execution_count": 168,
   "id": "e94d2a3e",
   "metadata": {},
   "outputs": [],
   "source": [
    "data = pd.concat([rain_data, no_rain_data])"
   ]
  },
  {
   "cell_type": "code",
   "execution_count": 169,
   "id": "a93a50a6",
   "metadata": {},
   "outputs": [],
   "source": [
    "data = data.sample(frac=1).reset_index(drop=True)"
   ]
  },
  {
   "cell_type": "code",
   "execution_count": 170,
   "id": "282703a3",
   "metadata": {},
   "outputs": [
    {
     "name": "stdout",
     "output_type": "stream",
     "text": [
      "<class 'pandas.core.frame.DataFrame'>\n",
      "RangeIndex: 14704 entries, 0 to 14703\n",
      "Data columns (total 11 columns):\n",
      " #   Column         Non-Null Count  Dtype  \n",
      "---  ------         --------------  -----  \n",
      " 0   hm             14704 non-null  float64\n",
      " 1   pv             14704 non-null  float64\n",
      " 2   td             14704 non-null  float64\n",
      " 3   pa             14704 non-null  float64\n",
      " 4   m005Te         14704 non-null  float64\n",
      " 5   m01Te          14704 non-null  float64\n",
      " 6   m02Te          14704 non-null  float64\n",
      " 7   m03Te          14704 non-null  float64\n",
      " 8   clfmAbbrCd     14704 non-null  object \n",
      " 9   lcsCh          14704 non-null  float64\n",
      " 10  rain_tomorrow  14704 non-null  float64\n",
      "dtypes: float64(10), object(1)\n",
      "memory usage: 1.2+ MB\n"
     ]
    }
   ],
   "source": [
    "data.info()"
   ]
  },
  {
   "cell_type": "code",
   "execution_count": 171,
   "id": "1e64f134",
   "metadata": {},
   "outputs": [],
   "source": [
    "split_index = round((len(data)/10)*7)"
   ]
  },
  {
   "cell_type": "code",
   "execution_count": 172,
   "id": "fa7f6aa5",
   "metadata": {},
   "outputs": [],
   "source": [
    "encoder = LabelEncoder()\n",
    "data.clfmAbbrCd = encoder.fit_transform(data.clfmAbbrCd)"
   ]
  },
  {
   "cell_type": "code",
   "execution_count": 173,
   "id": "5222a9f9",
   "metadata": {},
   "outputs": [],
   "source": [
    "train_X = data.iloc[:split_index,:-1]\n",
    "train_y = data.iloc[:split_index,-1]\n",
    "test_X = data.iloc[split_index:,:-1]\n",
    "test_y = data.iloc[split_index:,-1]"
   ]
  },
  {
   "cell_type": "code",
   "execution_count": 174,
   "id": "871ca4f6",
   "metadata": {},
   "outputs": [],
   "source": [
    "scaler = MinMaxScaler()\n",
    "train_X = scaler.fit_transform(train_X)\n",
    "test_X = scaler.fit_transform(test_X)"
   ]
  },
  {
   "cell_type": "code",
   "execution_count": 175,
   "id": "37b333d3",
   "metadata": {},
   "outputs": [
    {
     "data": {
      "text/plain": [
       "((10293, 10), (4411, 10), (10293,), (4411,))"
      ]
     },
     "execution_count": 175,
     "metadata": {},
     "output_type": "execute_result"
    }
   ],
   "source": [
    "train_X.shape, test_X.shape, train_y.shape, test_y.shape"
   ]
  },
  {
   "cell_type": "code",
   "execution_count": 177,
   "id": "5bda6f1e",
   "metadata": {},
   "outputs": [
    {
     "name": "stdout",
     "output_type": "stream",
     "text": [
      "Model: \"sequential_7\"\n",
      "_________________________________________________________________\n",
      " Layer (type)                Output Shape              Param #   \n",
      "=================================================================\n",
      " dense_42 (Dense)            (None, 64)                704       \n",
      "                                                                 \n",
      " dropout_35 (Dropout)        (None, 64)                0         \n",
      "                                                                 \n",
      " dense_43 (Dense)            (None, 128)               8320      \n",
      "                                                                 \n",
      " dropout_36 (Dropout)        (None, 128)               0         \n",
      "                                                                 \n",
      " dense_44 (Dense)            (None, 256)               33024     \n",
      "                                                                 \n",
      " dropout_37 (Dropout)        (None, 256)               0         \n",
      "                                                                 \n",
      " dense_45 (Dense)            (None, 64)                16448     \n",
      "                                                                 \n",
      " dropout_38 (Dropout)        (None, 64)                0         \n",
      "                                                                 \n",
      " dense_46 (Dense)            (None, 32)                2080      \n",
      "                                                                 \n",
      " dropout_39 (Dropout)        (None, 32)                0         \n",
      "                                                                 \n",
      " dense_47 (Dense)            (None, 1)                 33        \n",
      "                                                                 \n",
      "=================================================================\n",
      "Total params: 60,609\n",
      "Trainable params: 60,609\n",
      "Non-trainable params: 0\n",
      "_________________________________________________________________\n"
     ]
    }
   ],
   "source": [
    "model = Sequential([\n",
    "    Dense(64, activation='relu', input_shape=(train_X.shape[1],)),  \n",
    "    Dropout(0.3),\n",
    "    Dense(128, activation='relu'),  \n",
    "    Dropout(0.4),\n",
    "    Dense(256, activation='relu'),  \n",
    "    Dropout(0.4),\n",
    "    Dense(64, activation='relu'),  \n",
    "    Dropout(0.3),\n",
    "    Dense(32, activation='relu'),  \n",
    "    Dropout(0.2),\n",
    "    Dense(1, activation='sigmoid') \n",
    "])\n",
    "\n",
    "model.compile(loss='binary_crossentropy', optimizer='adam',  metrics=['accuracy',Recall(),Precision()])\n",
    "# 모델 요약\n",
    "model.summary()"
   ]
  },
  {
   "cell_type": "code",
   "execution_count": 178,
   "id": "7c8d0826",
   "metadata": {
    "scrolled": true
   },
   "outputs": [
    {
     "name": "stdout",
     "output_type": "stream",
     "text": [
      "Epoch 1/30\n"
     ]
    },
    {
     "name": "stderr",
     "output_type": "stream",
     "text": [
      "2025-01-16 17:26:42.840789: I tensorflow/core/grappler/optimizers/custom_graph_optimizer_registry.cc:114] Plugin optimizer for device_type GPU is enabled.\n"
     ]
    },
    {
     "name": "stdout",
     "output_type": "stream",
     "text": [
      "258/258 [==============================] - ETA: 0s - loss: 0.6297 - accuracy: 0.6425 - recall_7: 0.7084 - precision_7: 0.6257"
     ]
    },
    {
     "name": "stderr",
     "output_type": "stream",
     "text": [
      "2025-01-16 17:26:45.238474: I tensorflow/core/grappler/optimizers/custom_graph_optimizer_registry.cc:114] Plugin optimizer for device_type GPU is enabled.\n"
     ]
    },
    {
     "name": "stdout",
     "output_type": "stream",
     "text": [
      "258/258 [==============================] - 3s 9ms/step - loss: 0.6297 - accuracy: 0.6425 - recall_7: 0.7084 - precision_7: 0.6257 - val_loss: 0.5708 - val_accuracy: 0.7164 - val_recall_7: 0.6195 - val_precision_7: 0.7549\n",
      "Epoch 2/30\n",
      "258/258 [==============================] - 2s 7ms/step - loss: 0.5622 - accuracy: 0.7046 - recall_7: 0.6989 - precision_7: 0.7068 - val_loss: 0.5386 - val_accuracy: 0.7246 - val_recall_7: 0.6982 - val_precision_7: 0.7264\n",
      "Epoch 3/30\n",
      "258/258 [==============================] - 2s 8ms/step - loss: 0.5476 - accuracy: 0.7168 - recall_7: 0.6838 - precision_7: 0.7319 - val_loss: 0.5362 - val_accuracy: 0.7309 - val_recall_7: 0.7062 - val_precision_7: 0.7324\n",
      "Epoch 4/30\n",
      "258/258 [==============================] - 2s 8ms/step - loss: 0.5436 - accuracy: 0.7199 - recall_7: 0.7047 - precision_7: 0.7266 - val_loss: 0.5245 - val_accuracy: 0.7382 - val_recall_7: 0.7281 - val_precision_7: 0.7332\n",
      "Epoch 5/30\n",
      "258/258 [==============================] - 2s 7ms/step - loss: 0.5405 - accuracy: 0.7198 - recall_7: 0.6950 - precision_7: 0.7311 - val_loss: 0.5222 - val_accuracy: 0.7407 - val_recall_7: 0.7659 - val_precision_7: 0.7200\n",
      "Epoch 6/30\n",
      "258/258 [==============================] - 2s 7ms/step - loss: 0.5354 - accuracy: 0.7265 - recall_7: 0.7332 - precision_7: 0.7233 - val_loss: 0.5213 - val_accuracy: 0.7426 - val_recall_7: 0.7122 - val_precision_7: 0.7479\n",
      "Epoch 7/30\n",
      "258/258 [==============================] - 2s 8ms/step - loss: 0.5324 - accuracy: 0.7284 - recall_7: 0.7237 - precision_7: 0.7304 - val_loss: 0.5207 - val_accuracy: 0.7411 - val_recall_7: 0.6753 - val_precision_7: 0.7661\n",
      "Epoch 8/30\n",
      "258/258 [==============================] - 2s 7ms/step - loss: 0.5306 - accuracy: 0.7314 - recall_7: 0.7169 - precision_7: 0.7381 - val_loss: 0.5340 - val_accuracy: 0.7271 - val_recall_7: 0.5857 - val_precision_7: 0.8011\n",
      "Epoch 9/30\n",
      "258/258 [==============================] - 2s 7ms/step - loss: 0.5272 - accuracy: 0.7363 - recall_7: 0.7305 - precision_7: 0.7389 - val_loss: 0.5218 - val_accuracy: 0.7387 - val_recall_7: 0.8068 - val_precision_7: 0.7019\n",
      "Epoch 10/30\n",
      "258/258 [==============================] - 2s 7ms/step - loss: 0.5270 - accuracy: 0.7315 - recall_7: 0.7322 - precision_7: 0.7310 - val_loss: 0.5241 - val_accuracy: 0.7382 - val_recall_7: 0.6454 - val_precision_7: 0.7798\n",
      "Epoch 11/30\n",
      "258/258 [==============================] - 2s 7ms/step - loss: 0.5238 - accuracy: 0.7378 - recall_7: 0.7354 - precision_7: 0.7388 - val_loss: 0.5187 - val_accuracy: 0.7475 - val_recall_7: 0.7679 - val_precision_7: 0.7287\n",
      "Epoch 12/30\n",
      "258/258 [==============================] - 2s 7ms/step - loss: 0.5259 - accuracy: 0.7360 - recall_7: 0.7395 - precision_7: 0.7341 - val_loss: 0.5210 - val_accuracy: 0.7416 - val_recall_7: 0.7849 - val_precision_7: 0.7138\n",
      "Epoch 13/30\n",
      "258/258 [==============================] - 2s 7ms/step - loss: 0.5209 - accuracy: 0.7414 - recall_7: 0.7407 - precision_7: 0.7416 - val_loss: 0.5148 - val_accuracy: 0.7542 - val_recall_7: 0.7460 - val_precision_7: 0.7490\n",
      "Epoch 14/30\n",
      "258/258 [==============================] - 2s 7ms/step - loss: 0.5198 - accuracy: 0.7403 - recall_7: 0.7456 - precision_7: 0.7377 - val_loss: 0.5141 - val_accuracy: 0.7479 - val_recall_7: 0.7321 - val_precision_7: 0.7462\n",
      "Epoch 15/30\n",
      "258/258 [==============================] - 2s 7ms/step - loss: 0.5219 - accuracy: 0.7359 - recall_7: 0.7473 - precision_7: 0.7304 - val_loss: 0.5150 - val_accuracy: 0.7465 - val_recall_7: 0.6912 - val_precision_7: 0.7660\n",
      "Epoch 16/30\n",
      "258/258 [==============================] - 2s 7ms/step - loss: 0.5197 - accuracy: 0.7428 - recall_7: 0.7553 - precision_7: 0.7367 - val_loss: 0.5128 - val_accuracy: 0.7523 - val_recall_7: 0.7430 - val_precision_7: 0.7475\n",
      "Epoch 17/30\n",
      "258/258 [==============================] - 2s 7ms/step - loss: 0.5164 - accuracy: 0.7436 - recall_7: 0.7584 - precision_7: 0.7364 - val_loss: 0.5131 - val_accuracy: 0.7455 - val_recall_7: 0.8426 - val_precision_7: 0.6980\n",
      "Epoch 18/30\n",
      "258/258 [==============================] - 2s 7ms/step - loss: 0.5161 - accuracy: 0.7407 - recall_7: 0.7461 - precision_7: 0.7380 - val_loss: 0.5068 - val_accuracy: 0.7533 - val_recall_7: 0.8247 - val_precision_7: 0.7138\n",
      "Epoch 19/30\n",
      "258/258 [==============================] - 2s 7ms/step - loss: 0.5135 - accuracy: 0.7458 - recall_7: 0.7640 - precision_7: 0.7370 - val_loss: 0.5077 - val_accuracy: 0.7518 - val_recall_7: 0.7151 - val_precision_7: 0.7614\n",
      "Epoch 20/30\n",
      "258/258 [==============================] - 2s 8ms/step - loss: 0.5130 - accuracy: 0.7456 - recall_7: 0.7504 - precision_7: 0.7430 - val_loss: 0.5032 - val_accuracy: 0.7562 - val_recall_7: 0.7669 - val_precision_7: 0.7418\n",
      "Epoch 21/30\n",
      "258/258 [==============================] - 2s 7ms/step - loss: 0.5127 - accuracy: 0.7451 - recall_7: 0.7679 - precision_7: 0.7342 - val_loss: 0.5043 - val_accuracy: 0.7640 - val_recall_7: 0.7829 - val_precision_7: 0.7457\n",
      "Epoch 22/30\n",
      "258/258 [==============================] - 2s 7ms/step - loss: 0.5131 - accuracy: 0.7456 - recall_7: 0.7772 - precision_7: 0.7308 - val_loss: 0.5233 - val_accuracy: 0.7397 - val_recall_7: 0.6394 - val_precision_7: 0.7868\n",
      "Epoch 23/30\n",
      "258/258 [==============================] - 2s 7ms/step - loss: 0.5105 - accuracy: 0.7496 - recall_7: 0.7810 - precision_7: 0.7346 - val_loss: 0.5101 - val_accuracy: 0.7504 - val_recall_7: 0.8357 - val_precision_7: 0.7062\n",
      "Epoch 24/30\n",
      "258/258 [==============================] - 2s 7ms/step - loss: 0.5140 - accuracy: 0.7471 - recall_7: 0.7781 - precision_7: 0.7326 - val_loss: 0.5061 - val_accuracy: 0.7644 - val_recall_7: 0.8197 - val_precision_7: 0.7303\n",
      "Epoch 25/30\n",
      "258/258 [==============================] - 2s 7ms/step - loss: 0.5083 - accuracy: 0.7484 - recall_7: 0.7747 - precision_7: 0.7357 - val_loss: 0.5018 - val_accuracy: 0.7562 - val_recall_7: 0.8098 - val_precision_7: 0.7233\n",
      "Epoch 26/30\n",
      "258/258 [==============================] - 2s 7ms/step - loss: 0.5077 - accuracy: 0.7524 - recall_7: 0.7718 - precision_7: 0.7428 - val_loss: 0.5050 - val_accuracy: 0.7504 - val_recall_7: 0.8655 - val_precision_7: 0.6963\n",
      "Epoch 27/30\n",
      "258/258 [==============================] - 2s 7ms/step - loss: 0.5073 - accuracy: 0.7525 - recall_7: 0.7752 - precision_7: 0.7413 - val_loss: 0.5006 - val_accuracy: 0.7620 - val_recall_7: 0.8028 - val_precision_7: 0.7341\n",
      "Epoch 28/30\n",
      "258/258 [==============================] - 2s 8ms/step - loss: 0.5069 - accuracy: 0.7521 - recall_7: 0.8036 - precision_7: 0.7284 - val_loss: 0.4999 - val_accuracy: 0.7615 - val_recall_7: 0.7679 - val_precision_7: 0.7493\n",
      "Epoch 29/30\n",
      "258/258 [==============================] - 2s 7ms/step - loss: 0.5019 - accuracy: 0.7571 - recall_7: 0.7866 - precision_7: 0.7426 - val_loss: 0.4992 - val_accuracy: 0.7557 - val_recall_7: 0.7759 - val_precision_7: 0.7370\n",
      "Epoch 30/30\n",
      "258/258 [==============================] - 2s 7ms/step - loss: 0.5085 - accuracy: 0.7537 - recall_7: 0.7913 - precision_7: 0.7358 - val_loss: 0.5030 - val_accuracy: 0.7596 - val_recall_7: 0.7669 - val_precision_7: 0.7468\n"
     ]
    }
   ],
   "source": [
    "history = model.fit(train_X, train_y, epochs=30, validation_split=0.2)"
   ]
  },
  {
   "cell_type": "code",
   "execution_count": 180,
   "id": "d9ff572f",
   "metadata": {},
   "outputs": [
    {
     "name": "stdout",
     "output_type": "stream",
     "text": [
      "138/138 [==============================] - 1s 5ms/step - loss: 0.5068 - accuracy: 0.7533 - recall_7: 0.7313 - precision_7: 0.7699\n",
      "테스트 정확도: 0.7533\n"
     ]
    }
   ],
   "source": [
    "loss, accuracy, _, _, = model.evaluate(test_X, test_y)\n",
    "print(f\"테스트 정확도: {accuracy:.4f}\")"
   ]
  },
  {
   "cell_type": "code",
   "execution_count": 198,
   "id": "f357fd8a",
   "metadata": {},
   "outputs": [
    {
     "name": "stdout",
     "output_type": "stream",
     "text": [
      "138/138 [==============================] - 0s 1ms/step\n"
     ]
    }
   ],
   "source": [
    "y_hat = (model.predict(test_X)>=0.5).reshape(-1)"
   ]
  },
  {
   "cell_type": "code",
   "execution_count": 199,
   "id": "cd2e2396",
   "metadata": {},
   "outputs": [
    {
     "data": {
      "text/plain": [
       "False    2290\n",
       "True     2121\n",
       "dtype: int64"
      ]
     },
     "execution_count": 199,
     "metadata": {},
     "output_type": "execute_result"
    }
   ],
   "source": [
    "pd.DataFrame(y_hat).value_counts()"
   ]
  },
  {
   "cell_type": "code",
   "execution_count": 200,
   "id": "0d423a39",
   "metadata": {},
   "outputs": [
    {
     "data": {
      "text/plain": [
       "rain_tomorrow\n",
       "1.0              2233\n",
       "0.0              2178\n",
       "dtype: int64"
      ]
     },
     "execution_count": 200,
     "metadata": {},
     "output_type": "execute_result"
    }
   ],
   "source": [
    "pd.DataFrame(test_y).value_counts()"
   ]
  },
  {
   "cell_type": "code",
   "execution_count": 201,
   "id": "ad6b03e3",
   "metadata": {},
   "outputs": [
    {
     "data": {
      "text/plain": [
       "((4411,), (4411,))"
      ]
     },
     "execution_count": 201,
     "metadata": {},
     "output_type": "execute_result"
    }
   ],
   "source": [
    "test_y.shape, y_hat.shape"
   ]
  },
  {
   "cell_type": "code",
   "execution_count": 202,
   "id": "2a9b70ca",
   "metadata": {},
   "outputs": [
    {
     "name": "stdout",
     "output_type": "stream",
     "text": [
      "F1 스코어: 0.7501\n"
     ]
    }
   ],
   "source": [
    "f1 = f1_score(test_y, y_hat, average='binary')\n",
    "print(f\"F1 스코어: {f1:.4f}\")"
   ]
  },
  {
   "cell_type": "markdown",
   "id": "871435d3",
   "metadata": {},
   "source": [
    "# 6시간 단위 예측"
   ]
  },
  {
   "cell_type": "code",
   "execution_count": 240,
   "id": "e58553b0",
   "metadata": {},
   "outputs": [],
   "source": [
    "asos_df = pd.read_csv('/Volumes/ESD-ISO/project_preson/shared_data_preparation/ASOS_data_preprocessed_V3.csv')"
   ]
  },
  {
   "cell_type": "code",
   "execution_count": 241,
   "id": "825a7a72",
   "metadata": {},
   "outputs": [],
   "source": [
    "# rain_tomorrow 열을 rainy_day 열에서 6시간 이후 값을 가져와 생성\n",
    "asos_df['rain_tomorrow'] = asos_df['rainy_day'].shift(-6)"
   ]
  },
  {
   "cell_type": "code",
   "execution_count": 242,
   "id": "cd2c37ad",
   "metadata": {},
   "outputs": [
    {
     "data": {
      "text/html": [
       "<div>\n",
       "<style scoped>\n",
       "    .dataframe tbody tr th:only-of-type {\n",
       "        vertical-align: middle;\n",
       "    }\n",
       "\n",
       "    .dataframe tbody tr th {\n",
       "        vertical-align: top;\n",
       "    }\n",
       "\n",
       "    .dataframe thead th {\n",
       "        text-align: right;\n",
       "    }\n",
       "</style>\n",
       "<table border=\"1\" class=\"dataframe\">\n",
       "  <thead>\n",
       "    <tr style=\"text-align: right;\">\n",
       "      <th></th>\n",
       "      <th>tm</th>\n",
       "      <th>hm</th>\n",
       "      <th>pv</th>\n",
       "      <th>ps</th>\n",
       "      <th>td</th>\n",
       "      <th>pa</th>\n",
       "      <th>dc10Tca</th>\n",
       "      <th>clfmAbbrCd</th>\n",
       "      <th>lcsCh</th>\n",
       "      <th>m005Te</th>\n",
       "      <th>m01Te</th>\n",
       "      <th>m02Te</th>\n",
       "      <th>m03Te</th>\n",
       "      <th>vs</th>\n",
       "      <th>ws</th>\n",
       "      <th>wd</th>\n",
       "      <th>rn</th>\n",
       "      <th>rainy_day</th>\n",
       "      <th>rain_tomorrow</th>\n",
       "    </tr>\n",
       "  </thead>\n",
       "  <tbody>\n",
       "    <tr>\n",
       "      <th>375</th>\n",
       "      <td>1980-04-03 21:00</td>\n",
       "      <td>67.0</td>\n",
       "      <td>9.8</td>\n",
       "      <td>1022.0</td>\n",
       "      <td>6.7</td>\n",
       "      <td>1011.5</td>\n",
       "      <td>0.0</td>\n",
       "      <td>no_clouds</td>\n",
       "      <td>0.0</td>\n",
       "      <td>11.6</td>\n",
       "      <td>12.2</td>\n",
       "      <td>11.9</td>\n",
       "      <td>10.0</td>\n",
       "      <td>2200.0</td>\n",
       "      <td>4.3</td>\n",
       "      <td>180.0</td>\n",
       "      <td>0.0</td>\n",
       "      <td>0</td>\n",
       "      <td>1.0</td>\n",
       "    </tr>\n",
       "    <tr>\n",
       "      <th>376</th>\n",
       "      <td>1980-04-04 03:00</td>\n",
       "      <td>76.0</td>\n",
       "      <td>9.3</td>\n",
       "      <td>1023.1</td>\n",
       "      <td>5.9</td>\n",
       "      <td>1012.4</td>\n",
       "      <td>0.0</td>\n",
       "      <td>no_clouds</td>\n",
       "      <td>0.0</td>\n",
       "      <td>7.8</td>\n",
       "      <td>9.2</td>\n",
       "      <td>10.4</td>\n",
       "      <td>9.9</td>\n",
       "      <td>2500.0</td>\n",
       "      <td>2.0</td>\n",
       "      <td>20.0</td>\n",
       "      <td>0.0</td>\n",
       "      <td>0</td>\n",
       "      <td>1.0</td>\n",
       "    </tr>\n",
       "    <tr>\n",
       "      <th>377</th>\n",
       "      <td>1980-04-04 09:00</td>\n",
       "      <td>51.0</td>\n",
       "      <td>7.9</td>\n",
       "      <td>1023.5</td>\n",
       "      <td>3.6</td>\n",
       "      <td>1013.0</td>\n",
       "      <td>8.0</td>\n",
       "      <td>ScAc</td>\n",
       "      <td>0.0</td>\n",
       "      <td>9.6</td>\n",
       "      <td>8.7</td>\n",
       "      <td>9.2</td>\n",
       "      <td>9.1</td>\n",
       "      <td>2000.0</td>\n",
       "      <td>1.5</td>\n",
       "      <td>50.0</td>\n",
       "      <td>0.0</td>\n",
       "      <td>0</td>\n",
       "      <td>1.0</td>\n",
       "    </tr>\n",
       "    <tr>\n",
       "      <th>402</th>\n",
       "      <td>1980-04-10 15:00</td>\n",
       "      <td>39.0</td>\n",
       "      <td>7.4</td>\n",
       "      <td>1021.2</td>\n",
       "      <td>2.7</td>\n",
       "      <td>1010.9</td>\n",
       "      <td>0.0</td>\n",
       "      <td>no_clouds</td>\n",
       "      <td>0.0</td>\n",
       "      <td>22.2</td>\n",
       "      <td>17.7</td>\n",
       "      <td>12.8</td>\n",
       "      <td>11.0</td>\n",
       "      <td>2500.0</td>\n",
       "      <td>2.0</td>\n",
       "      <td>230.0</td>\n",
       "      <td>0.0</td>\n",
       "      <td>0</td>\n",
       "      <td>1.0</td>\n",
       "    </tr>\n",
       "    <tr>\n",
       "      <th>403</th>\n",
       "      <td>1980-04-10 21:00</td>\n",
       "      <td>45.0</td>\n",
       "      <td>5.5</td>\n",
       "      <td>1021.6</td>\n",
       "      <td>-1.4</td>\n",
       "      <td>1011.0</td>\n",
       "      <td>0.0</td>\n",
       "      <td>no_clouds</td>\n",
       "      <td>0.0</td>\n",
       "      <td>11.2</td>\n",
       "      <td>13.3</td>\n",
       "      <td>13.9</td>\n",
       "      <td>12.6</td>\n",
       "      <td>2000.0</td>\n",
       "      <td>3.8</td>\n",
       "      <td>250.0</td>\n",
       "      <td>0.0</td>\n",
       "      <td>0</td>\n",
       "      <td>1.0</td>\n",
       "    </tr>\n",
       "    <tr>\n",
       "      <th>...</th>\n",
       "      <td>...</td>\n",
       "      <td>...</td>\n",
       "      <td>...</td>\n",
       "      <td>...</td>\n",
       "      <td>...</td>\n",
       "      <td>...</td>\n",
       "      <td>...</td>\n",
       "      <td>...</td>\n",
       "      <td>...</td>\n",
       "      <td>...</td>\n",
       "      <td>...</td>\n",
       "      <td>...</td>\n",
       "      <td>...</td>\n",
       "      <td>...</td>\n",
       "      <td>...</td>\n",
       "      <td>...</td>\n",
       "      <td>...</td>\n",
       "      <td>...</td>\n",
       "      <td>...</td>\n",
       "    </tr>\n",
       "    <tr>\n",
       "      <th>95822</th>\n",
       "      <td>2024-12-30 21:00:00</td>\n",
       "      <td>67.0</td>\n",
       "      <td>6.1</td>\n",
       "      <td>1016.0</td>\n",
       "      <td>0.0</td>\n",
       "      <td>1005.4</td>\n",
       "      <td>6.0</td>\n",
       "      <td>Ci</td>\n",
       "      <td>2.0</td>\n",
       "      <td>-0.1</td>\n",
       "      <td>-0.3</td>\n",
       "      <td>0.8</td>\n",
       "      <td>1.7</td>\n",
       "      <td>1053.0</td>\n",
       "      <td>2.7</td>\n",
       "      <td>270.0</td>\n",
       "      <td>0.0</td>\n",
       "      <td>0</td>\n",
       "      <td>NaN</td>\n",
       "    </tr>\n",
       "    <tr>\n",
       "      <th>95823</th>\n",
       "      <td>2024-12-30 22:00:00</td>\n",
       "      <td>71.0</td>\n",
       "      <td>6.1</td>\n",
       "      <td>1016.2</td>\n",
       "      <td>0.0</td>\n",
       "      <td>1005.6</td>\n",
       "      <td>0.0</td>\n",
       "      <td>no_clouds</td>\n",
       "      <td>0.0</td>\n",
       "      <td>-0.1</td>\n",
       "      <td>-0.3</td>\n",
       "      <td>0.8</td>\n",
       "      <td>1.7</td>\n",
       "      <td>906.0</td>\n",
       "      <td>2.4</td>\n",
       "      <td>270.0</td>\n",
       "      <td>0.0</td>\n",
       "      <td>0</td>\n",
       "      <td>NaN</td>\n",
       "    </tr>\n",
       "    <tr>\n",
       "      <th>95824</th>\n",
       "      <td>2024-12-30 23:00:00</td>\n",
       "      <td>75.0</td>\n",
       "      <td>6.1</td>\n",
       "      <td>1016.0</td>\n",
       "      <td>0.0</td>\n",
       "      <td>1005.4</td>\n",
       "      <td>0.0</td>\n",
       "      <td>no_clouds</td>\n",
       "      <td>0.0</td>\n",
       "      <td>-0.1</td>\n",
       "      <td>-0.3</td>\n",
       "      <td>0.8</td>\n",
       "      <td>1.7</td>\n",
       "      <td>754.0</td>\n",
       "      <td>0.7</td>\n",
       "      <td>250.0</td>\n",
       "      <td>0.0</td>\n",
       "      <td>0</td>\n",
       "      <td>NaN</td>\n",
       "    </tr>\n",
       "    <tr>\n",
       "      <th>95825</th>\n",
       "      <td>2024-12-31 00:00:00</td>\n",
       "      <td>81.0</td>\n",
       "      <td>7.0</td>\n",
       "      <td>1015.8</td>\n",
       "      <td>1.8</td>\n",
       "      <td>1005.2</td>\n",
       "      <td>9.0</td>\n",
       "      <td>no_clouds</td>\n",
       "      <td>0.0</td>\n",
       "      <td>-0.1</td>\n",
       "      <td>-0.3</td>\n",
       "      <td>0.8</td>\n",
       "      <td>1.7</td>\n",
       "      <td>563.0</td>\n",
       "      <td>2.3</td>\n",
       "      <td>250.0</td>\n",
       "      <td>0.0</td>\n",
       "      <td>0</td>\n",
       "      <td>NaN</td>\n",
       "    </tr>\n",
       "    <tr>\n",
       "      <th>95826</th>\n",
       "      <td>2024-12-31 01:00:00</td>\n",
       "      <td>65.0</td>\n",
       "      <td>5.2</td>\n",
       "      <td>1016.2</td>\n",
       "      <td>-2.1</td>\n",
       "      <td>1005.6</td>\n",
       "      <td>0.0</td>\n",
       "      <td>no_clouds</td>\n",
       "      <td>0.0</td>\n",
       "      <td>-0.1</td>\n",
       "      <td>-0.3</td>\n",
       "      <td>0.8</td>\n",
       "      <td>1.7</td>\n",
       "      <td>909.0</td>\n",
       "      <td>2.5</td>\n",
       "      <td>270.0</td>\n",
       "      <td>0.0</td>\n",
       "      <td>0</td>\n",
       "      <td>NaN</td>\n",
       "    </tr>\n",
       "  </tbody>\n",
       "</table>\n",
       "<p>7358 rows × 19 columns</p>\n",
       "</div>"
      ],
      "text/plain": [
       "                        tm    hm   pv      ps   td      pa  dc10Tca  \\\n",
       "375       1980-04-03 21:00  67.0  9.8  1022.0  6.7  1011.5      0.0   \n",
       "376       1980-04-04 03:00  76.0  9.3  1023.1  5.9  1012.4      0.0   \n",
       "377       1980-04-04 09:00  51.0  7.9  1023.5  3.6  1013.0      8.0   \n",
       "402       1980-04-10 15:00  39.0  7.4  1021.2  2.7  1010.9      0.0   \n",
       "403       1980-04-10 21:00  45.0  5.5  1021.6 -1.4  1011.0      0.0   \n",
       "...                    ...   ...  ...     ...  ...     ...      ...   \n",
       "95822  2024-12-30 21:00:00  67.0  6.1  1016.0  0.0  1005.4      6.0   \n",
       "95823  2024-12-30 22:00:00  71.0  6.1  1016.2  0.0  1005.6      0.0   \n",
       "95824  2024-12-30 23:00:00  75.0  6.1  1016.0  0.0  1005.4      0.0   \n",
       "95825  2024-12-31 00:00:00  81.0  7.0  1015.8  1.8  1005.2      9.0   \n",
       "95826  2024-12-31 01:00:00  65.0  5.2  1016.2 -2.1  1005.6      0.0   \n",
       "\n",
       "      clfmAbbrCd  lcsCh  m005Te  m01Te  m02Te  m03Te      vs   ws     wd   rn  \\\n",
       "375    no_clouds    0.0    11.6   12.2   11.9   10.0  2200.0  4.3  180.0  0.0   \n",
       "376    no_clouds    0.0     7.8    9.2   10.4    9.9  2500.0  2.0   20.0  0.0   \n",
       "377         ScAc    0.0     9.6    8.7    9.2    9.1  2000.0  1.5   50.0  0.0   \n",
       "402    no_clouds    0.0    22.2   17.7   12.8   11.0  2500.0  2.0  230.0  0.0   \n",
       "403    no_clouds    0.0    11.2   13.3   13.9   12.6  2000.0  3.8  250.0  0.0   \n",
       "...          ...    ...     ...    ...    ...    ...     ...  ...    ...  ...   \n",
       "95822         Ci    2.0    -0.1   -0.3    0.8    1.7  1053.0  2.7  270.0  0.0   \n",
       "95823  no_clouds    0.0    -0.1   -0.3    0.8    1.7   906.0  2.4  270.0  0.0   \n",
       "95824  no_clouds    0.0    -0.1   -0.3    0.8    1.7   754.0  0.7  250.0  0.0   \n",
       "95825  no_clouds    0.0    -0.1   -0.3    0.8    1.7   563.0  2.3  250.0  0.0   \n",
       "95826  no_clouds    0.0    -0.1   -0.3    0.8    1.7   909.0  2.5  270.0  0.0   \n",
       "\n",
       "       rainy_day  rain_tomorrow  \n",
       "375            0            1.0  \n",
       "376            0            1.0  \n",
       "377            0            1.0  \n",
       "402            0            1.0  \n",
       "403            0            1.0  \n",
       "...          ...            ...  \n",
       "95822          0            NaN  \n",
       "95823          0            NaN  \n",
       "95824          0            NaN  \n",
       "95825          0            NaN  \n",
       "95826          0            NaN  \n",
       "\n",
       "[7358 rows x 19 columns]"
      ]
     },
     "execution_count": 242,
     "metadata": {},
     "output_type": "execute_result"
    }
   ],
   "source": [
    "asos_df[asos_df['rain_tomorrow']!=0]"
   ]
  },
  {
   "cell_type": "code",
   "execution_count": 243,
   "id": "c784119e",
   "metadata": {},
   "outputs": [],
   "source": [
    "asos_df.drop(index=asos_df[asos_df['rain_tomorrow'].isna()].index, inplace=True)"
   ]
  },
  {
   "cell_type": "code",
   "execution_count": 244,
   "id": "cf456114",
   "metadata": {},
   "outputs": [],
   "source": [
    "asos_df = asos_df.sample(frac=1, random_state=20250113).reset_index(drop=True)"
   ]
  },
  {
   "cell_type": "code",
   "execution_count": 245,
   "id": "26cba2ff",
   "metadata": {},
   "outputs": [],
   "source": [
    "rain_data = asos_df[asos_df['rain_tomorrow']==1].loc[:, ['hm','pv','td','pa','m005Te','m01Te','m02Te','m03Te','clfmAbbrCd','lcsCh','rain_tomorrow']]"
   ]
  },
  {
   "cell_type": "code",
   "execution_count": 246,
   "id": "ec84316e",
   "metadata": {},
   "outputs": [
    {
     "data": {
      "text/html": [
       "<div>\n",
       "<style scoped>\n",
       "    .dataframe tbody tr th:only-of-type {\n",
       "        vertical-align: middle;\n",
       "    }\n",
       "\n",
       "    .dataframe tbody tr th {\n",
       "        vertical-align: top;\n",
       "    }\n",
       "\n",
       "    .dataframe thead th {\n",
       "        text-align: right;\n",
       "    }\n",
       "</style>\n",
       "<table border=\"1\" class=\"dataframe\">\n",
       "  <thead>\n",
       "    <tr style=\"text-align: right;\">\n",
       "      <th></th>\n",
       "      <th>hm</th>\n",
       "      <th>pv</th>\n",
       "      <th>td</th>\n",
       "      <th>pa</th>\n",
       "      <th>m005Te</th>\n",
       "      <th>m01Te</th>\n",
       "      <th>m02Te</th>\n",
       "      <th>m03Te</th>\n",
       "      <th>clfmAbbrCd</th>\n",
       "      <th>lcsCh</th>\n",
       "      <th>rain_tomorrow</th>\n",
       "    </tr>\n",
       "  </thead>\n",
       "  <tbody>\n",
       "    <tr>\n",
       "      <th>25</th>\n",
       "      <td>27.0</td>\n",
       "      <td>6.4</td>\n",
       "      <td>0.6</td>\n",
       "      <td>1012.0</td>\n",
       "      <td>17.200000</td>\n",
       "      <td>14.750000</td>\n",
       "      <td>12.800000</td>\n",
       "      <td>12.600000</td>\n",
       "      <td>CsCi</td>\n",
       "      <td>0.0</td>\n",
       "      <td>1.0</td>\n",
       "    </tr>\n",
       "    <tr>\n",
       "      <th>26</th>\n",
       "      <td>56.0</td>\n",
       "      <td>17.5</td>\n",
       "      <td>15.4</td>\n",
       "      <td>1002.2</td>\n",
       "      <td>-1.957968</td>\n",
       "      <td>-1.459638</td>\n",
       "      <td>-0.303340</td>\n",
       "      <td>1.109255</td>\n",
       "      <td>ScAc</td>\n",
       "      <td>13.0</td>\n",
       "      <td>1.0</td>\n",
       "    </tr>\n",
       "    <tr>\n",
       "      <th>36</th>\n",
       "      <td>77.0</td>\n",
       "      <td>29.8</td>\n",
       "      <td>24.0</td>\n",
       "      <td>1005.5</td>\n",
       "      <td>28.400000</td>\n",
       "      <td>28.400000</td>\n",
       "      <td>27.500000</td>\n",
       "      <td>27.000000</td>\n",
       "      <td>ScAs</td>\n",
       "      <td>15.0</td>\n",
       "      <td>1.0</td>\n",
       "    </tr>\n",
       "    <tr>\n",
       "      <th>52</th>\n",
       "      <td>43.0</td>\n",
       "      <td>1.6</td>\n",
       "      <td>-17.1</td>\n",
       "      <td>1012.3</td>\n",
       "      <td>-2.055275</td>\n",
       "      <td>-1.624312</td>\n",
       "      <td>-0.438073</td>\n",
       "      <td>1.034404</td>\n",
       "      <td>no_clouds</td>\n",
       "      <td>0.0</td>\n",
       "      <td>1.0</td>\n",
       "    </tr>\n",
       "    <tr>\n",
       "      <th>87</th>\n",
       "      <td>82.0</td>\n",
       "      <td>23.2</td>\n",
       "      <td>19.9</td>\n",
       "      <td>994.7</td>\n",
       "      <td>25.600000</td>\n",
       "      <td>27.100000</td>\n",
       "      <td>26.600000</td>\n",
       "      <td>26.600000</td>\n",
       "      <td>ScAs</td>\n",
       "      <td>10.0</td>\n",
       "      <td>1.0</td>\n",
       "    </tr>\n",
       "    <tr>\n",
       "      <th>...</th>\n",
       "      <td>...</td>\n",
       "      <td>...</td>\n",
       "      <td>...</td>\n",
       "      <td>...</td>\n",
       "      <td>...</td>\n",
       "      <td>...</td>\n",
       "      <td>...</td>\n",
       "      <td>...</td>\n",
       "      <td>...</td>\n",
       "      <td>...</td>\n",
       "      <td>...</td>\n",
       "    </tr>\n",
       "    <tr>\n",
       "      <th>95702</th>\n",
       "      <td>62.0</td>\n",
       "      <td>17.1</td>\n",
       "      <td>15.1</td>\n",
       "      <td>996.2</td>\n",
       "      <td>-1.971598</td>\n",
       "      <td>-1.482704</td>\n",
       "      <td>-0.322212</td>\n",
       "      <td>1.098771</td>\n",
       "      <td>ScAs</td>\n",
       "      <td>12.0</td>\n",
       "      <td>1.0</td>\n",
       "    </tr>\n",
       "    <tr>\n",
       "      <th>95712</th>\n",
       "      <td>91.0</td>\n",
       "      <td>12.4</td>\n",
       "      <td>10.1</td>\n",
       "      <td>1000.7</td>\n",
       "      <td>17.800000</td>\n",
       "      <td>18.100000</td>\n",
       "      <td>17.900000</td>\n",
       "      <td>18.000000</td>\n",
       "      <td>StNs</td>\n",
       "      <td>6.0</td>\n",
       "      <td>1.0</td>\n",
       "    </tr>\n",
       "    <tr>\n",
       "      <th>95743</th>\n",
       "      <td>85.0</td>\n",
       "      <td>8.5</td>\n",
       "      <td>4.6</td>\n",
       "      <td>999.3</td>\n",
       "      <td>8.100000</td>\n",
       "      <td>8.000000</td>\n",
       "      <td>8.000000</td>\n",
       "      <td>7.800000</td>\n",
       "      <td>Ci</td>\n",
       "      <td>0.0</td>\n",
       "      <td>1.0</td>\n",
       "    </tr>\n",
       "    <tr>\n",
       "      <th>95747</th>\n",
       "      <td>96.0</td>\n",
       "      <td>30.0</td>\n",
       "      <td>24.1</td>\n",
       "      <td>994.9</td>\n",
       "      <td>25.900000</td>\n",
       "      <td>25.900000</td>\n",
       "      <td>25.000000</td>\n",
       "      <td>25.000000</td>\n",
       "      <td>StNs</td>\n",
       "      <td>4.0</td>\n",
       "      <td>1.0</td>\n",
       "    </tr>\n",
       "    <tr>\n",
       "      <th>95816</th>\n",
       "      <td>95.0</td>\n",
       "      <td>27.3</td>\n",
       "      <td>22.5</td>\n",
       "      <td>994.0</td>\n",
       "      <td>25.150000</td>\n",
       "      <td>24.950000</td>\n",
       "      <td>24.850000</td>\n",
       "      <td>24.800000</td>\n",
       "      <td>StNs</td>\n",
       "      <td>2.0</td>\n",
       "      <td>1.0</td>\n",
       "    </tr>\n",
       "  </tbody>\n",
       "</table>\n",
       "<p>7352 rows × 11 columns</p>\n",
       "</div>"
      ],
      "text/plain": [
       "         hm    pv    td      pa     m005Te      m01Te      m02Te      m03Te  \\\n",
       "25     27.0   6.4   0.6  1012.0  17.200000  14.750000  12.800000  12.600000   \n",
       "26     56.0  17.5  15.4  1002.2  -1.957968  -1.459638  -0.303340   1.109255   \n",
       "36     77.0  29.8  24.0  1005.5  28.400000  28.400000  27.500000  27.000000   \n",
       "52     43.0   1.6 -17.1  1012.3  -2.055275  -1.624312  -0.438073   1.034404   \n",
       "87     82.0  23.2  19.9   994.7  25.600000  27.100000  26.600000  26.600000   \n",
       "...     ...   ...   ...     ...        ...        ...        ...        ...   \n",
       "95702  62.0  17.1  15.1   996.2  -1.971598  -1.482704  -0.322212   1.098771   \n",
       "95712  91.0  12.4  10.1  1000.7  17.800000  18.100000  17.900000  18.000000   \n",
       "95743  85.0   8.5   4.6   999.3   8.100000   8.000000   8.000000   7.800000   \n",
       "95747  96.0  30.0  24.1   994.9  25.900000  25.900000  25.000000  25.000000   \n",
       "95816  95.0  27.3  22.5   994.0  25.150000  24.950000  24.850000  24.800000   \n",
       "\n",
       "      clfmAbbrCd  lcsCh  rain_tomorrow  \n",
       "25          CsCi    0.0            1.0  \n",
       "26          ScAc   13.0            1.0  \n",
       "36          ScAs   15.0            1.0  \n",
       "52     no_clouds    0.0            1.0  \n",
       "87          ScAs   10.0            1.0  \n",
       "...          ...    ...            ...  \n",
       "95702       ScAs   12.0            1.0  \n",
       "95712       StNs    6.0            1.0  \n",
       "95743         Ci    0.0            1.0  \n",
       "95747       StNs    4.0            1.0  \n",
       "95816       StNs    2.0            1.0  \n",
       "\n",
       "[7352 rows x 11 columns]"
      ]
     },
     "execution_count": 246,
     "metadata": {},
     "output_type": "execute_result"
    }
   ],
   "source": [
    "rain_data"
   ]
  },
  {
   "cell_type": "code",
   "execution_count": 247,
   "id": "4da3a47b",
   "metadata": {},
   "outputs": [],
   "source": [
    "no_rain_data = asos_df[asos_df['rain_tomorrow']==0].sample(n=len(rain_data)).loc[:,['hm','pv','td','pa','m005Te','m01Te','m02Te','m03Te','clfmAbbrCd','lcsCh','rain_tomorrow']]"
   ]
  },
  {
   "cell_type": "code",
   "execution_count": 248,
   "id": "40d5f8f7",
   "metadata": {},
   "outputs": [],
   "source": [
    "data = pd.concat([rain_data, no_rain_data])"
   ]
  },
  {
   "cell_type": "code",
   "execution_count": 249,
   "id": "e2599cc2",
   "metadata": {},
   "outputs": [],
   "source": [
    "data = data.sample(frac=1).reset_index(drop=True)"
   ]
  },
  {
   "cell_type": "code",
   "execution_count": 250,
   "id": "dcfde78b",
   "metadata": {},
   "outputs": [
    {
     "name": "stdout",
     "output_type": "stream",
     "text": [
      "<class 'pandas.core.frame.DataFrame'>\n",
      "RangeIndex: 11656 entries, 0 to 11655\n",
      "Data columns (total 11 columns):\n",
      " #   Column         Non-Null Count  Dtype  \n",
      "---  ------         --------------  -----  \n",
      " 0   hm             11656 non-null  float64\n",
      " 1   pv             11656 non-null  float64\n",
      " 2   td             11656 non-null  float64\n",
      " 3   pa             11656 non-null  float64\n",
      " 4   m005Te         11656 non-null  float64\n",
      " 5   m01Te          11656 non-null  float64\n",
      " 6   m02Te          11656 non-null  float64\n",
      " 7   m03Te          11656 non-null  float64\n",
      " 8   clfmAbbrCd     11656 non-null  object \n",
      " 9   lcsCh          11656 non-null  float64\n",
      " 10  rain_tomorrow  11656 non-null  float64\n",
      "dtypes: float64(10), object(1)\n",
      "memory usage: 1001.8+ KB\n"
     ]
    }
   ],
   "source": [
    "data.info()"
   ]
  },
  {
   "cell_type": "code",
   "execution_count": 251,
   "id": "f135bf1c",
   "metadata": {},
   "outputs": [],
   "source": [
    "encoder = LabelEncoder()\n",
    "data.clfmAbbrCd = encoder.fit_transform(data.clfmAbbrCd)"
   ]
  },
  {
   "cell_type": "code",
   "execution_count": 252,
   "id": "f4ba7a4b",
   "metadata": {},
   "outputs": [],
   "source": [
    "split_index = round((len(data)/10)*7)"
   ]
  },
  {
   "cell_type": "code",
   "execution_count": 253,
   "id": "8af94baf",
   "metadata": {},
   "outputs": [],
   "source": [
    "train_X = data.iloc[:split_index,:-1]\n",
    "train_y = data.iloc[:split_index,-1]\n",
    "test_X = data.iloc[split_index:,:-1]\n",
    "test_y = data.iloc[split_index:,-1]"
   ]
  },
  {
   "cell_type": "code",
   "execution_count": 254,
   "id": "4841779d",
   "metadata": {},
   "outputs": [],
   "source": [
    "scaler = MinMaxScaler()\n",
    "train_X = scaler.fit_transform(train_X)\n",
    "test_X = scaler.fit_transform(test_X)"
   ]
  },
  {
   "cell_type": "code",
   "execution_count": 255,
   "id": "ffbf243b",
   "metadata": {},
   "outputs": [
    {
     "data": {
      "text/plain": [
       "((8159, 10), (3497, 10), (8159,), (3497,))"
      ]
     },
     "execution_count": 255,
     "metadata": {},
     "output_type": "execute_result"
    }
   ],
   "source": [
    "train_X.shape, test_X.shape, train_y.shape, test_y.shape"
   ]
  },
  {
   "cell_type": "code",
   "execution_count": 256,
   "id": "7d377c9d",
   "metadata": {},
   "outputs": [
    {
     "name": "stdout",
     "output_type": "stream",
     "text": [
      "Model: \"sequential_9\"\n",
      "_________________________________________________________________\n",
      " Layer (type)                Output Shape              Param #   \n",
      "=================================================================\n",
      " dense_54 (Dense)            (None, 64)                704       \n",
      "                                                                 \n",
      " dropout_45 (Dropout)        (None, 64)                0         \n",
      "                                                                 \n",
      " dense_55 (Dense)            (None, 128)               8320      \n",
      "                                                                 \n",
      " dropout_46 (Dropout)        (None, 128)               0         \n",
      "                                                                 \n",
      " dense_56 (Dense)            (None, 256)               33024     \n",
      "                                                                 \n",
      " dropout_47 (Dropout)        (None, 256)               0         \n",
      "                                                                 \n",
      " dense_57 (Dense)            (None, 64)                16448     \n",
      "                                                                 \n",
      " dropout_48 (Dropout)        (None, 64)                0         \n",
      "                                                                 \n",
      " dense_58 (Dense)            (None, 32)                2080      \n",
      "                                                                 \n",
      " dropout_49 (Dropout)        (None, 32)                0         \n",
      "                                                                 \n",
      " dense_59 (Dense)            (None, 1)                 33        \n",
      "                                                                 \n",
      "=================================================================\n",
      "Total params: 60,609\n",
      "Trainable params: 60,609\n",
      "Non-trainable params: 0\n",
      "_________________________________________________________________\n"
     ]
    }
   ],
   "source": [
    "model = Sequential([\n",
    "    Dense(64, activation='relu', input_shape=(train_X.shape[1],)),  \n",
    "    Dropout(0.3),\n",
    "    Dense(128, activation='relu'),  \n",
    "    Dropout(0.4),\n",
    "    Dense(256, activation='relu'),  \n",
    "    Dropout(0.4),\n",
    "    Dense(64, activation='relu'),  \n",
    "    Dropout(0.3),\n",
    "    Dense(32, activation='relu'),  \n",
    "    Dropout(0.2),\n",
    "    Dense(1, activation='sigmoid') \n",
    "])\n",
    "\n",
    "model.compile(loss='binary_crossentropy', optimizer='adam',  metrics=['accuracy',Recall(),Precision()])\n",
    "# 모델 요약\n",
    "model.summary()"
   ]
  },
  {
   "cell_type": "code",
   "execution_count": 257,
   "id": "a1068848",
   "metadata": {
    "scrolled": true
   },
   "outputs": [
    {
     "name": "stdout",
     "output_type": "stream",
     "text": [
      "Epoch 1/30\n"
     ]
    },
    {
     "name": "stderr",
     "output_type": "stream",
     "text": [
      "2025-01-16 17:33:03.623831: I tensorflow/core/grappler/optimizers/custom_graph_optimizer_registry.cc:114] Plugin optimizer for device_type GPU is enabled.\n"
     ]
    },
    {
     "name": "stdout",
     "output_type": "stream",
     "text": [
      "204/204 [==============================] - ETA: 0s - loss: 0.6266 - accuracy: 0.6593 - recall_9: 0.9477 - precision_9: 0.6622"
     ]
    },
    {
     "name": "stderr",
     "output_type": "stream",
     "text": [
      "2025-01-16 17:33:06.050616: I tensorflow/core/grappler/optimizers/custom_graph_optimizer_registry.cc:114] Plugin optimizer for device_type GPU is enabled.\n"
     ]
    },
    {
     "name": "stdout",
     "output_type": "stream",
     "text": [
      "204/204 [==============================] - 3s 11ms/step - loss: 0.6266 - accuracy: 0.6593 - recall_9: 0.9477 - precision_9: 0.6622 - val_loss: 0.6171 - val_accuracy: 0.6642 - val_recall_9: 0.8024 - val_precision_9: 0.6984\n",
      "Epoch 2/30\n",
      "204/204 [==============================] - 1s 7ms/step - loss: 0.6030 - accuracy: 0.6902 - recall_9: 0.8593 - precision_9: 0.7127 - val_loss: 0.6143 - val_accuracy: 0.6765 - val_recall_9: 0.8183 - val_precision_9: 0.7049\n",
      "Epoch 3/30\n",
      "204/204 [==============================] - 1s 7ms/step - loss: 0.5935 - accuracy: 0.6959 - recall_9: 0.8755 - precision_9: 0.7123 - val_loss: 0.6057 - val_accuracy: 0.6746 - val_recall_9: 0.9146 - val_precision_9: 0.6742\n",
      "Epoch 4/30\n",
      "204/204 [==============================] - 1s 7ms/step - loss: 0.5870 - accuracy: 0.7015 - recall_9: 0.8935 - precision_9: 0.7112 - val_loss: 0.6026 - val_accuracy: 0.6759 - val_recall_9: 0.9086 - val_precision_9: 0.6768\n",
      "Epoch 5/30\n",
      "204/204 [==============================] - 1s 7ms/step - loss: 0.5858 - accuracy: 0.7023 - recall_9: 0.8873 - precision_9: 0.7140 - val_loss: 0.5979 - val_accuracy: 0.6844 - val_recall_9: 0.8322 - val_precision_9: 0.7078\n",
      "Epoch 6/30\n",
      "204/204 [==============================] - 1s 7ms/step - loss: 0.5818 - accuracy: 0.7045 - recall_9: 0.8873 - precision_9: 0.7160 - val_loss: 0.5971 - val_accuracy: 0.6801 - val_recall_9: 0.9037 - val_precision_9: 0.6816\n",
      "Epoch 7/30\n",
      "204/204 [==============================] - 1s 7ms/step - loss: 0.5824 - accuracy: 0.7083 - recall_9: 0.8993 - precision_9: 0.7153 - val_loss: 0.5914 - val_accuracy: 0.6857 - val_recall_9: 0.8510 - val_precision_9: 0.7025\n",
      "Epoch 8/30\n",
      "204/204 [==============================] - 1s 7ms/step - loss: 0.5772 - accuracy: 0.7071 - recall_9: 0.8928 - precision_9: 0.7164 - val_loss: 0.5911 - val_accuracy: 0.6844 - val_recall_9: 0.8769 - val_precision_9: 0.6931\n",
      "Epoch 9/30\n",
      "204/204 [==============================] - 1s 7ms/step - loss: 0.5763 - accuracy: 0.7072 - recall_9: 0.8942 - precision_9: 0.7160 - val_loss: 0.5945 - val_accuracy: 0.6863 - val_recall_9: 0.9007 - val_precision_9: 0.6876\n",
      "Epoch 10/30\n",
      "204/204 [==============================] - 1s 7ms/step - loss: 0.5745 - accuracy: 0.7074 - recall_9: 0.8979 - precision_9: 0.7149 - val_loss: 0.5935 - val_accuracy: 0.6863 - val_recall_9: 0.8898 - val_precision_9: 0.6908\n",
      "Epoch 11/30\n",
      "204/204 [==============================] - 1s 7ms/step - loss: 0.5734 - accuracy: 0.7104 - recall_9: 0.8899 - precision_9: 0.7205 - val_loss: 0.5918 - val_accuracy: 0.6844 - val_recall_9: 0.8918 - val_precision_9: 0.6887\n",
      "Epoch 12/30\n",
      "204/204 [==============================] - 1s 7ms/step - loss: 0.5748 - accuracy: 0.7117 - recall_9: 0.9000 - precision_9: 0.7180 - val_loss: 0.5899 - val_accuracy: 0.6801 - val_recall_9: 0.8749 - val_precision_9: 0.6899\n",
      "Epoch 13/30\n",
      "204/204 [==============================] - 1s 7ms/step - loss: 0.5711 - accuracy: 0.7121 - recall_9: 0.8942 - precision_9: 0.7205 - val_loss: 0.5926 - val_accuracy: 0.6850 - val_recall_9: 0.8967 - val_precision_9: 0.6877\n",
      "Epoch 14/30\n",
      "204/204 [==============================] - 1s 7ms/step - loss: 0.5706 - accuracy: 0.7133 - recall_9: 0.8918 - precision_9: 0.7225 - val_loss: 0.5902 - val_accuracy: 0.6869 - val_recall_9: 0.8918 - val_precision_9: 0.6908\n",
      "Epoch 15/30\n",
      "204/204 [==============================] - 1s 7ms/step - loss: 0.5730 - accuracy: 0.7114 - recall_9: 0.8861 - precision_9: 0.7227 - val_loss: 0.5915 - val_accuracy: 0.6808 - val_recall_9: 0.8610 - val_precision_9: 0.6947\n",
      "Epoch 16/30\n",
      "204/204 [==============================] - 1s 7ms/step - loss: 0.5716 - accuracy: 0.7086 - recall_9: 0.8877 - precision_9: 0.7196 - val_loss: 0.5961 - val_accuracy: 0.6850 - val_recall_9: 0.8868 - val_precision_9: 0.6906\n",
      "Epoch 17/30\n",
      "204/204 [==============================] - 1s 7ms/step - loss: 0.5714 - accuracy: 0.7101 - recall_9: 0.8745 - precision_9: 0.7259 - val_loss: 0.5928 - val_accuracy: 0.6832 - val_recall_9: 0.8957 - val_precision_9: 0.6865\n",
      "Epoch 18/30\n",
      "204/204 [==============================] - 1s 7ms/step - loss: 0.5691 - accuracy: 0.7126 - recall_9: 0.8839 - precision_9: 0.7247 - val_loss: 0.5965 - val_accuracy: 0.6857 - val_recall_9: 0.8997 - val_precision_9: 0.6874\n",
      "Epoch 19/30\n",
      "204/204 [==============================] - 1s 7ms/step - loss: 0.5695 - accuracy: 0.7120 - recall_9: 0.8805 - precision_9: 0.7253 - val_loss: 0.5893 - val_accuracy: 0.6900 - val_recall_9: 0.9017 - val_precision_9: 0.6905\n",
      "Epoch 20/30\n",
      "204/204 [==============================] - 1s 7ms/step - loss: 0.5693 - accuracy: 0.7135 - recall_9: 0.8824 - precision_9: 0.7261 - val_loss: 0.5886 - val_accuracy: 0.6850 - val_recall_9: 0.8779 - val_precision_9: 0.6933\n",
      "Epoch 21/30\n",
      "204/204 [==============================] - 1s 7ms/step - loss: 0.5679 - accuracy: 0.7106 - recall_9: 0.8682 - precision_9: 0.7287 - val_loss: 0.5913 - val_accuracy: 0.6820 - val_recall_9: 0.9027 - val_precision_9: 0.6835\n",
      "Epoch 22/30\n",
      "204/204 [==============================] - 1s 7ms/step - loss: 0.5664 - accuracy: 0.7129 - recall_9: 0.8783 - precision_9: 0.7270 - val_loss: 0.5877 - val_accuracy: 0.6869 - val_recall_9: 0.8769 - val_precision_9: 0.6953\n",
      "Epoch 23/30\n",
      "204/204 [==============================] - 1s 7ms/step - loss: 0.5663 - accuracy: 0.7170 - recall_9: 0.8846 - precision_9: 0.7286 - val_loss: 0.5881 - val_accuracy: 0.6887 - val_recall_9: 0.8898 - val_precision_9: 0.6930\n",
      "Epoch 24/30\n",
      "204/204 [==============================] - 1s 7ms/step - loss: 0.5644 - accuracy: 0.7150 - recall_9: 0.8781 - precision_9: 0.7291 - val_loss: 0.5881 - val_accuracy: 0.6875 - val_recall_9: 0.8788 - val_precision_9: 0.6952\n",
      "Epoch 25/30\n",
      "204/204 [==============================] - 1s 7ms/step - loss: 0.5636 - accuracy: 0.7143 - recall_9: 0.8779 - precision_9: 0.7285 - val_loss: 0.5879 - val_accuracy: 0.6832 - val_recall_9: 0.8888 - val_precision_9: 0.6885\n",
      "Epoch 26/30\n",
      "204/204 [==============================] - 1s 7ms/step - loss: 0.5650 - accuracy: 0.7137 - recall_9: 0.8851 - precision_9: 0.7252 - val_loss: 0.5848 - val_accuracy: 0.6942 - val_recall_9: 0.8709 - val_precision_9: 0.7039\n",
      "Epoch 27/30\n",
      "204/204 [==============================] - 1s 7ms/step - loss: 0.5637 - accuracy: 0.7146 - recall_9: 0.8803 - precision_9: 0.7279 - val_loss: 0.5898 - val_accuracy: 0.6900 - val_recall_9: 0.8937 - val_precision_9: 0.6928\n",
      "Epoch 28/30\n",
      "204/204 [==============================] - 1s 7ms/step - loss: 0.5615 - accuracy: 0.7205 - recall_9: 0.8795 - precision_9: 0.7339 - val_loss: 0.5878 - val_accuracy: 0.6850 - val_recall_9: 0.8918 - val_precision_9: 0.6892\n",
      "Epoch 29/30\n",
      "204/204 [==============================] - 1s 7ms/step - loss: 0.5623 - accuracy: 0.7167 - recall_9: 0.8812 - precision_9: 0.7296 - val_loss: 0.5859 - val_accuracy: 0.6924 - val_recall_9: 0.8878 - val_precision_9: 0.6968\n",
      "Epoch 30/30\n",
      "204/204 [==============================] - 1s 7ms/step - loss: 0.5618 - accuracy: 0.7161 - recall_9: 0.8771 - precision_9: 0.7305 - val_loss: 0.5872 - val_accuracy: 0.6924 - val_recall_9: 0.8937 - val_precision_9: 0.6950\n"
     ]
    }
   ],
   "source": [
    "history = model.fit(train_X, train_y, epochs=30, validation_split=0.2)"
   ]
  },
  {
   "cell_type": "code",
   "execution_count": 258,
   "id": "eb849156",
   "metadata": {},
   "outputs": [
    {
     "name": "stderr",
     "output_type": "stream",
     "text": [
      "2025-01-16 17:33:48.020473: I tensorflow/core/grappler/optimizers/custom_graph_optimizer_registry.cc:114] Plugin optimizer for device_type GPU is enabled.\n"
     ]
    },
    {
     "name": "stdout",
     "output_type": "stream",
     "text": [
      "110/110 [==============================] - 2s 13ms/step - loss: 0.5843 - accuracy: 0.6918 - recall_9: 0.9043 - precision_9: 0.6971\n",
      "테스트 정확도: 0.6918\n"
     ]
    }
   ],
   "source": [
    "loss, accuracy, _, _, = model.evaluate(np.array(test_X), np.array(test_y))\n",
    "print(f\"테스트 정확도: {accuracy:.4f}\")"
   ]
  },
  {
   "cell_type": "code",
   "execution_count": 263,
   "id": "750ebd5e",
   "metadata": {},
   "outputs": [
    {
     "name": "stdout",
     "output_type": "stream",
     "text": [
      "110/110 [==============================] - 0s 1ms/step\n"
     ]
    }
   ],
   "source": [
    "y_hat = (model.predict(test_X)>=0.5).reshape(-1)"
   ]
  },
  {
   "cell_type": "code",
   "execution_count": 264,
   "id": "a5fd735c",
   "metadata": {},
   "outputs": [
    {
     "data": {
      "text/plain": [
       "((3497,), (3497,))"
      ]
     },
     "execution_count": 264,
     "metadata": {},
     "output_type": "execute_result"
    }
   ],
   "source": [
    "test_y.shape, y_hat.shape"
   ]
  },
  {
   "cell_type": "code",
   "execution_count": 265,
   "id": "1cf983cb",
   "metadata": {},
   "outputs": [
    {
     "name": "stdout",
     "output_type": "stream",
     "text": [
      "F1 스코어: 0.7873\n"
     ]
    }
   ],
   "source": [
    "f1 = f1_score(test_y, y_hat, average='binary')\n",
    "print(f\"F1 스코어: {f1:.4f}\")"
   ]
  },
  {
   "cell_type": "markdown",
   "id": "bbc5fcda",
   "metadata": {},
   "source": [
    "# 12시간 단위 예측 "
   ]
  },
  {
   "cell_type": "code",
   "execution_count": 266,
   "id": "0c645611",
   "metadata": {},
   "outputs": [],
   "source": [
    "asos_df = pd.read_csv('/Volumes/ESD-ISO/project_preson/shared_data_preparation/ASOS_data_preprocessed_V3.csv')"
   ]
  },
  {
   "cell_type": "code",
   "execution_count": 267,
   "id": "e13ae418",
   "metadata": {},
   "outputs": [],
   "source": [
    "# rain_tomorrow 열을 rainy_day 열에서 12시간 이후 값을 가져와 생성\n",
    "asos_df['rain_tomorrow'] = asos_df['rainy_day'].shift(-12)"
   ]
  },
  {
   "cell_type": "code",
   "execution_count": 268,
   "id": "4948a4c6",
   "metadata": {},
   "outputs": [
    {
     "data": {
      "text/html": [
       "<div>\n",
       "<style scoped>\n",
       "    .dataframe tbody tr th:only-of-type {\n",
       "        vertical-align: middle;\n",
       "    }\n",
       "\n",
       "    .dataframe tbody tr th {\n",
       "        vertical-align: top;\n",
       "    }\n",
       "\n",
       "    .dataframe thead th {\n",
       "        text-align: right;\n",
       "    }\n",
       "</style>\n",
       "<table border=\"1\" class=\"dataframe\">\n",
       "  <thead>\n",
       "    <tr style=\"text-align: right;\">\n",
       "      <th></th>\n",
       "      <th>tm</th>\n",
       "      <th>hm</th>\n",
       "      <th>pv</th>\n",
       "      <th>ps</th>\n",
       "      <th>td</th>\n",
       "      <th>pa</th>\n",
       "      <th>dc10Tca</th>\n",
       "      <th>clfmAbbrCd</th>\n",
       "      <th>lcsCh</th>\n",
       "      <th>m005Te</th>\n",
       "      <th>m01Te</th>\n",
       "      <th>m02Te</th>\n",
       "      <th>m03Te</th>\n",
       "      <th>vs</th>\n",
       "      <th>ws</th>\n",
       "      <th>wd</th>\n",
       "      <th>rn</th>\n",
       "      <th>rainy_day</th>\n",
       "      <th>rain_tomorrow</th>\n",
       "    </tr>\n",
       "  </thead>\n",
       "  <tbody>\n",
       "    <tr>\n",
       "      <th>369</th>\n",
       "      <td>1980-04-02 09:00</td>\n",
       "      <td>50.0</td>\n",
       "      <td>4.2</td>\n",
       "      <td>1025.2</td>\n",
       "      <td>-5.0</td>\n",
       "      <td>1014.4</td>\n",
       "      <td>0.0</td>\n",
       "      <td>no_clouds</td>\n",
       "      <td>0.0</td>\n",
       "      <td>3.8</td>\n",
       "      <td>4.9</td>\n",
       "      <td>6.8</td>\n",
       "      <td>7.3</td>\n",
       "      <td>2200.0</td>\n",
       "      <td>3.0</td>\n",
       "      <td>270.0</td>\n",
       "      <td>0.0</td>\n",
       "      <td>0</td>\n",
       "      <td>1.0</td>\n",
       "    </tr>\n",
       "    <tr>\n",
       "      <th>370</th>\n",
       "      <td>1980-04-02 15:00</td>\n",
       "      <td>25.0</td>\n",
       "      <td>3.4</td>\n",
       "      <td>1023.9</td>\n",
       "      <td>-7.8</td>\n",
       "      <td>1013.3</td>\n",
       "      <td>0.0</td>\n",
       "      <td>no_clouds</td>\n",
       "      <td>0.0</td>\n",
       "      <td>16.6</td>\n",
       "      <td>12.1</td>\n",
       "      <td>8.6</td>\n",
       "      <td>7.5</td>\n",
       "      <td>2500.0</td>\n",
       "      <td>3.5</td>\n",
       "      <td>230.0</td>\n",
       "      <td>0.0</td>\n",
       "      <td>0</td>\n",
       "      <td>1.0</td>\n",
       "    </tr>\n",
       "    <tr>\n",
       "      <th>371</th>\n",
       "      <td>1980-04-02 21:00</td>\n",
       "      <td>31.0</td>\n",
       "      <td>3.0</td>\n",
       "      <td>1024.4</td>\n",
       "      <td>-9.4</td>\n",
       "      <td>1013.7</td>\n",
       "      <td>1.0</td>\n",
       "      <td>Sc</td>\n",
       "      <td>0.0</td>\n",
       "      <td>7.9</td>\n",
       "      <td>9.5</td>\n",
       "      <td>10.0</td>\n",
       "      <td>9.0</td>\n",
       "      <td>1500.0</td>\n",
       "      <td>1.0</td>\n",
       "      <td>270.0</td>\n",
       "      <td>0.0</td>\n",
       "      <td>0</td>\n",
       "      <td>1.0</td>\n",
       "    </tr>\n",
       "    <tr>\n",
       "      <th>396</th>\n",
       "      <td>1980-04-09 03:00</td>\n",
       "      <td>78.0</td>\n",
       "      <td>8.2</td>\n",
       "      <td>1016.3</td>\n",
       "      <td>4.1</td>\n",
       "      <td>1005.7</td>\n",
       "      <td>4.0</td>\n",
       "      <td>As</td>\n",
       "      <td>0.0</td>\n",
       "      <td>7.8</td>\n",
       "      <td>9.7</td>\n",
       "      <td>11.3</td>\n",
       "      <td>11.0</td>\n",
       "      <td>2000.0</td>\n",
       "      <td>3.0</td>\n",
       "      <td>340.0</td>\n",
       "      <td>0.0</td>\n",
       "      <td>0</td>\n",
       "      <td>1.0</td>\n",
       "    </tr>\n",
       "    <tr>\n",
       "      <th>397</th>\n",
       "      <td>1980-04-09 09:00</td>\n",
       "      <td>64.0</td>\n",
       "      <td>7.5</td>\n",
       "      <td>1018.1</td>\n",
       "      <td>2.9</td>\n",
       "      <td>1007.5</td>\n",
       "      <td>5.0</td>\n",
       "      <td>Ci</td>\n",
       "      <td>0.0</td>\n",
       "      <td>8.8</td>\n",
       "      <td>8.3</td>\n",
       "      <td>9.7</td>\n",
       "      <td>10.0</td>\n",
       "      <td>1500.0</td>\n",
       "      <td>1.0</td>\n",
       "      <td>270.0</td>\n",
       "      <td>0.0</td>\n",
       "      <td>0</td>\n",
       "      <td>1.0</td>\n",
       "    </tr>\n",
       "    <tr>\n",
       "      <th>...</th>\n",
       "      <td>...</td>\n",
       "      <td>...</td>\n",
       "      <td>...</td>\n",
       "      <td>...</td>\n",
       "      <td>...</td>\n",
       "      <td>...</td>\n",
       "      <td>...</td>\n",
       "      <td>...</td>\n",
       "      <td>...</td>\n",
       "      <td>...</td>\n",
       "      <td>...</td>\n",
       "      <td>...</td>\n",
       "      <td>...</td>\n",
       "      <td>...</td>\n",
       "      <td>...</td>\n",
       "      <td>...</td>\n",
       "      <td>...</td>\n",
       "      <td>...</td>\n",
       "      <td>...</td>\n",
       "    </tr>\n",
       "    <tr>\n",
       "      <th>95822</th>\n",
       "      <td>2024-12-30 21:00:00</td>\n",
       "      <td>67.0</td>\n",
       "      <td>6.1</td>\n",
       "      <td>1016.0</td>\n",
       "      <td>0.0</td>\n",
       "      <td>1005.4</td>\n",
       "      <td>6.0</td>\n",
       "      <td>Ci</td>\n",
       "      <td>2.0</td>\n",
       "      <td>-0.1</td>\n",
       "      <td>-0.3</td>\n",
       "      <td>0.8</td>\n",
       "      <td>1.7</td>\n",
       "      <td>1053.0</td>\n",
       "      <td>2.7</td>\n",
       "      <td>270.0</td>\n",
       "      <td>0.0</td>\n",
       "      <td>0</td>\n",
       "      <td>NaN</td>\n",
       "    </tr>\n",
       "    <tr>\n",
       "      <th>95823</th>\n",
       "      <td>2024-12-30 22:00:00</td>\n",
       "      <td>71.0</td>\n",
       "      <td>6.1</td>\n",
       "      <td>1016.2</td>\n",
       "      <td>0.0</td>\n",
       "      <td>1005.6</td>\n",
       "      <td>0.0</td>\n",
       "      <td>no_clouds</td>\n",
       "      <td>0.0</td>\n",
       "      <td>-0.1</td>\n",
       "      <td>-0.3</td>\n",
       "      <td>0.8</td>\n",
       "      <td>1.7</td>\n",
       "      <td>906.0</td>\n",
       "      <td>2.4</td>\n",
       "      <td>270.0</td>\n",
       "      <td>0.0</td>\n",
       "      <td>0</td>\n",
       "      <td>NaN</td>\n",
       "    </tr>\n",
       "    <tr>\n",
       "      <th>95824</th>\n",
       "      <td>2024-12-30 23:00:00</td>\n",
       "      <td>75.0</td>\n",
       "      <td>6.1</td>\n",
       "      <td>1016.0</td>\n",
       "      <td>0.0</td>\n",
       "      <td>1005.4</td>\n",
       "      <td>0.0</td>\n",
       "      <td>no_clouds</td>\n",
       "      <td>0.0</td>\n",
       "      <td>-0.1</td>\n",
       "      <td>-0.3</td>\n",
       "      <td>0.8</td>\n",
       "      <td>1.7</td>\n",
       "      <td>754.0</td>\n",
       "      <td>0.7</td>\n",
       "      <td>250.0</td>\n",
       "      <td>0.0</td>\n",
       "      <td>0</td>\n",
       "      <td>NaN</td>\n",
       "    </tr>\n",
       "    <tr>\n",
       "      <th>95825</th>\n",
       "      <td>2024-12-31 00:00:00</td>\n",
       "      <td>81.0</td>\n",
       "      <td>7.0</td>\n",
       "      <td>1015.8</td>\n",
       "      <td>1.8</td>\n",
       "      <td>1005.2</td>\n",
       "      <td>9.0</td>\n",
       "      <td>no_clouds</td>\n",
       "      <td>0.0</td>\n",
       "      <td>-0.1</td>\n",
       "      <td>-0.3</td>\n",
       "      <td>0.8</td>\n",
       "      <td>1.7</td>\n",
       "      <td>563.0</td>\n",
       "      <td>2.3</td>\n",
       "      <td>250.0</td>\n",
       "      <td>0.0</td>\n",
       "      <td>0</td>\n",
       "      <td>NaN</td>\n",
       "    </tr>\n",
       "    <tr>\n",
       "      <th>95826</th>\n",
       "      <td>2024-12-31 01:00:00</td>\n",
       "      <td>65.0</td>\n",
       "      <td>5.2</td>\n",
       "      <td>1016.2</td>\n",
       "      <td>-2.1</td>\n",
       "      <td>1005.6</td>\n",
       "      <td>0.0</td>\n",
       "      <td>no_clouds</td>\n",
       "      <td>0.0</td>\n",
       "      <td>-0.1</td>\n",
       "      <td>-0.3</td>\n",
       "      <td>0.8</td>\n",
       "      <td>1.7</td>\n",
       "      <td>909.0</td>\n",
       "      <td>2.5</td>\n",
       "      <td>270.0</td>\n",
       "      <td>0.0</td>\n",
       "      <td>0</td>\n",
       "      <td>NaN</td>\n",
       "    </tr>\n",
       "  </tbody>\n",
       "</table>\n",
       "<p>7364 rows × 19 columns</p>\n",
       "</div>"
      ],
      "text/plain": [
       "                        tm    hm   pv      ps   td      pa  dc10Tca  \\\n",
       "369       1980-04-02 09:00  50.0  4.2  1025.2 -5.0  1014.4      0.0   \n",
       "370       1980-04-02 15:00  25.0  3.4  1023.9 -7.8  1013.3      0.0   \n",
       "371       1980-04-02 21:00  31.0  3.0  1024.4 -9.4  1013.7      1.0   \n",
       "396       1980-04-09 03:00  78.0  8.2  1016.3  4.1  1005.7      4.0   \n",
       "397       1980-04-09 09:00  64.0  7.5  1018.1  2.9  1007.5      5.0   \n",
       "...                    ...   ...  ...     ...  ...     ...      ...   \n",
       "95822  2024-12-30 21:00:00  67.0  6.1  1016.0  0.0  1005.4      6.0   \n",
       "95823  2024-12-30 22:00:00  71.0  6.1  1016.2  0.0  1005.6      0.0   \n",
       "95824  2024-12-30 23:00:00  75.0  6.1  1016.0  0.0  1005.4      0.0   \n",
       "95825  2024-12-31 00:00:00  81.0  7.0  1015.8  1.8  1005.2      9.0   \n",
       "95826  2024-12-31 01:00:00  65.0  5.2  1016.2 -2.1  1005.6      0.0   \n",
       "\n",
       "      clfmAbbrCd  lcsCh  m005Te  m01Te  m02Te  m03Te      vs   ws     wd   rn  \\\n",
       "369    no_clouds    0.0     3.8    4.9    6.8    7.3  2200.0  3.0  270.0  0.0   \n",
       "370    no_clouds    0.0    16.6   12.1    8.6    7.5  2500.0  3.5  230.0  0.0   \n",
       "371           Sc    0.0     7.9    9.5   10.0    9.0  1500.0  1.0  270.0  0.0   \n",
       "396           As    0.0     7.8    9.7   11.3   11.0  2000.0  3.0  340.0  0.0   \n",
       "397           Ci    0.0     8.8    8.3    9.7   10.0  1500.0  1.0  270.0  0.0   \n",
       "...          ...    ...     ...    ...    ...    ...     ...  ...    ...  ...   \n",
       "95822         Ci    2.0    -0.1   -0.3    0.8    1.7  1053.0  2.7  270.0  0.0   \n",
       "95823  no_clouds    0.0    -0.1   -0.3    0.8    1.7   906.0  2.4  270.0  0.0   \n",
       "95824  no_clouds    0.0    -0.1   -0.3    0.8    1.7   754.0  0.7  250.0  0.0   \n",
       "95825  no_clouds    0.0    -0.1   -0.3    0.8    1.7   563.0  2.3  250.0  0.0   \n",
       "95826  no_clouds    0.0    -0.1   -0.3    0.8    1.7   909.0  2.5  270.0  0.0   \n",
       "\n",
       "       rainy_day  rain_tomorrow  \n",
       "369            0            1.0  \n",
       "370            0            1.0  \n",
       "371            0            1.0  \n",
       "396            0            1.0  \n",
       "397            0            1.0  \n",
       "...          ...            ...  \n",
       "95822          0            NaN  \n",
       "95823          0            NaN  \n",
       "95824          0            NaN  \n",
       "95825          0            NaN  \n",
       "95826          0            NaN  \n",
       "\n",
       "[7364 rows x 19 columns]"
      ]
     },
     "execution_count": 268,
     "metadata": {},
     "output_type": "execute_result"
    }
   ],
   "source": [
    "asos_df[asos_df['rain_tomorrow']!=0]"
   ]
  },
  {
   "cell_type": "code",
   "execution_count": 269,
   "id": "ebb64521",
   "metadata": {},
   "outputs": [],
   "source": [
    "asos_df.drop(index=asos_df[asos_df['rain_tomorrow'].isna()].index, inplace=True)"
   ]
  },
  {
   "cell_type": "code",
   "execution_count": 270,
   "id": "78eea5ff",
   "metadata": {},
   "outputs": [],
   "source": [
    "asos_df = asos_df.sample(frac=1, random_state=20250113).reset_index(drop=True)"
   ]
  },
  {
   "cell_type": "code",
   "execution_count": 271,
   "id": "0d8f4726",
   "metadata": {},
   "outputs": [],
   "source": [
    "rain_data = asos_df[asos_df['rain_tomorrow']==1].loc[:, ['hm','pv','td','pa','m005Te','m01Te','m02Te','m03Te','clfmAbbrCd','lcsCh','rain_tomorrow']]"
   ]
  },
  {
   "cell_type": "code",
   "execution_count": 272,
   "id": "ce4ee446",
   "metadata": {},
   "outputs": [
    {
     "data": {
      "text/html": [
       "<div>\n",
       "<style scoped>\n",
       "    .dataframe tbody tr th:only-of-type {\n",
       "        vertical-align: middle;\n",
       "    }\n",
       "\n",
       "    .dataframe tbody tr th {\n",
       "        vertical-align: top;\n",
       "    }\n",
       "\n",
       "    .dataframe thead th {\n",
       "        text-align: right;\n",
       "    }\n",
       "</style>\n",
       "<table border=\"1\" class=\"dataframe\">\n",
       "  <thead>\n",
       "    <tr style=\"text-align: right;\">\n",
       "      <th></th>\n",
       "      <th>hm</th>\n",
       "      <th>pv</th>\n",
       "      <th>td</th>\n",
       "      <th>pa</th>\n",
       "      <th>m005Te</th>\n",
       "      <th>m01Te</th>\n",
       "      <th>m02Te</th>\n",
       "      <th>m03Te</th>\n",
       "      <th>clfmAbbrCd</th>\n",
       "      <th>lcsCh</th>\n",
       "      <th>rain_tomorrow</th>\n",
       "    </tr>\n",
       "  </thead>\n",
       "  <tbody>\n",
       "    <tr>\n",
       "      <th>17</th>\n",
       "      <td>90.0</td>\n",
       "      <td>19.8</td>\n",
       "      <td>17.3</td>\n",
       "      <td>995.4</td>\n",
       "      <td>19.60</td>\n",
       "      <td>21.50</td>\n",
       "      <td>22.30</td>\n",
       "      <td>22.70</td>\n",
       "      <td>ScAs</td>\n",
       "      <td>10.0</td>\n",
       "      <td>1.0</td>\n",
       "    </tr>\n",
       "    <tr>\n",
       "      <th>33</th>\n",
       "      <td>20.0</td>\n",
       "      <td>4.6</td>\n",
       "      <td>-3.8</td>\n",
       "      <td>1006.1</td>\n",
       "      <td>19.10</td>\n",
       "      <td>18.70</td>\n",
       "      <td>18.50</td>\n",
       "      <td>18.40</td>\n",
       "      <td>Ac</td>\n",
       "      <td>45.0</td>\n",
       "      <td>1.0</td>\n",
       "    </tr>\n",
       "    <tr>\n",
       "      <th>42</th>\n",
       "      <td>76.0</td>\n",
       "      <td>7.2</td>\n",
       "      <td>2.3</td>\n",
       "      <td>1007.5</td>\n",
       "      <td>6.15</td>\n",
       "      <td>7.20</td>\n",
       "      <td>8.10</td>\n",
       "      <td>7.85</td>\n",
       "      <td>Ac</td>\n",
       "      <td>40.0</td>\n",
       "      <td>1.0</td>\n",
       "    </tr>\n",
       "    <tr>\n",
       "      <th>95</th>\n",
       "      <td>64.0</td>\n",
       "      <td>3.8</td>\n",
       "      <td>-6.4</td>\n",
       "      <td>1017.1</td>\n",
       "      <td>-0.80</td>\n",
       "      <td>-0.55</td>\n",
       "      <td>-0.35</td>\n",
       "      <td>0.45</td>\n",
       "      <td>no_clouds</td>\n",
       "      <td>0.0</td>\n",
       "      <td>1.0</td>\n",
       "    </tr>\n",
       "    <tr>\n",
       "      <th>110</th>\n",
       "      <td>70.0</td>\n",
       "      <td>16.4</td>\n",
       "      <td>14.4</td>\n",
       "      <td>1000.4</td>\n",
       "      <td>24.30</td>\n",
       "      <td>23.90</td>\n",
       "      <td>22.70</td>\n",
       "      <td>21.40</td>\n",
       "      <td>Ci</td>\n",
       "      <td>14.2</td>\n",
       "      <td>1.0</td>\n",
       "    </tr>\n",
       "    <tr>\n",
       "      <th>...</th>\n",
       "      <td>...</td>\n",
       "      <td>...</td>\n",
       "      <td>...</td>\n",
       "      <td>...</td>\n",
       "      <td>...</td>\n",
       "      <td>...</td>\n",
       "      <td>...</td>\n",
       "      <td>...</td>\n",
       "      <td>...</td>\n",
       "      <td>...</td>\n",
       "      <td>...</td>\n",
       "    </tr>\n",
       "    <tr>\n",
       "      <th>95734</th>\n",
       "      <td>49.0</td>\n",
       "      <td>4.1</td>\n",
       "      <td>-5.4</td>\n",
       "      <td>1011.0</td>\n",
       "      <td>6.05</td>\n",
       "      <td>6.40</td>\n",
       "      <td>7.50</td>\n",
       "      <td>8.60</td>\n",
       "      <td>no_clouds</td>\n",
       "      <td>0.0</td>\n",
       "      <td>1.0</td>\n",
       "    </tr>\n",
       "    <tr>\n",
       "      <th>95741</th>\n",
       "      <td>96.0</td>\n",
       "      <td>30.0</td>\n",
       "      <td>24.1</td>\n",
       "      <td>994.9</td>\n",
       "      <td>25.90</td>\n",
       "      <td>25.90</td>\n",
       "      <td>25.00</td>\n",
       "      <td>25.00</td>\n",
       "      <td>StNs</td>\n",
       "      <td>4.0</td>\n",
       "      <td>1.0</td>\n",
       "    </tr>\n",
       "    <tr>\n",
       "      <th>95750</th>\n",
       "      <td>59.0</td>\n",
       "      <td>18.4</td>\n",
       "      <td>16.2</td>\n",
       "      <td>994.7</td>\n",
       "      <td>25.80</td>\n",
       "      <td>25.70</td>\n",
       "      <td>24.80</td>\n",
       "      <td>24.60</td>\n",
       "      <td>ScAs</td>\n",
       "      <td>9.0</td>\n",
       "      <td>1.0</td>\n",
       "    </tr>\n",
       "    <tr>\n",
       "      <th>95763</th>\n",
       "      <td>53.0</td>\n",
       "      <td>8.1</td>\n",
       "      <td>3.9</td>\n",
       "      <td>1007.5</td>\n",
       "      <td>13.60</td>\n",
       "      <td>14.50</td>\n",
       "      <td>14.70</td>\n",
       "      <td>14.30</td>\n",
       "      <td>As</td>\n",
       "      <td>30.0</td>\n",
       "      <td>1.0</td>\n",
       "    </tr>\n",
       "    <tr>\n",
       "      <th>95785</th>\n",
       "      <td>92.0</td>\n",
       "      <td>30.0</td>\n",
       "      <td>24.1</td>\n",
       "      <td>993.7</td>\n",
       "      <td>25.80</td>\n",
       "      <td>26.40</td>\n",
       "      <td>24.90</td>\n",
       "      <td>24.40</td>\n",
       "      <td>ScAs</td>\n",
       "      <td>10.0</td>\n",
       "      <td>1.0</td>\n",
       "    </tr>\n",
       "  </tbody>\n",
       "</table>\n",
       "<p>7352 rows × 11 columns</p>\n",
       "</div>"
      ],
      "text/plain": [
       "         hm    pv    td      pa  m005Te  m01Te  m02Te  m03Te clfmAbbrCd  \\\n",
       "17     90.0  19.8  17.3   995.4   19.60  21.50  22.30  22.70       ScAs   \n",
       "33     20.0   4.6  -3.8  1006.1   19.10  18.70  18.50  18.40         Ac   \n",
       "42     76.0   7.2   2.3  1007.5    6.15   7.20   8.10   7.85         Ac   \n",
       "95     64.0   3.8  -6.4  1017.1   -0.80  -0.55  -0.35   0.45  no_clouds   \n",
       "110    70.0  16.4  14.4  1000.4   24.30  23.90  22.70  21.40         Ci   \n",
       "...     ...   ...   ...     ...     ...    ...    ...    ...        ...   \n",
       "95734  49.0   4.1  -5.4  1011.0    6.05   6.40   7.50   8.60  no_clouds   \n",
       "95741  96.0  30.0  24.1   994.9   25.90  25.90  25.00  25.00       StNs   \n",
       "95750  59.0  18.4  16.2   994.7   25.80  25.70  24.80  24.60       ScAs   \n",
       "95763  53.0   8.1   3.9  1007.5   13.60  14.50  14.70  14.30         As   \n",
       "95785  92.0  30.0  24.1   993.7   25.80  26.40  24.90  24.40       ScAs   \n",
       "\n",
       "       lcsCh  rain_tomorrow  \n",
       "17      10.0            1.0  \n",
       "33      45.0            1.0  \n",
       "42      40.0            1.0  \n",
       "95       0.0            1.0  \n",
       "110     14.2            1.0  \n",
       "...      ...            ...  \n",
       "95734    0.0            1.0  \n",
       "95741    4.0            1.0  \n",
       "95750    9.0            1.0  \n",
       "95763   30.0            1.0  \n",
       "95785   10.0            1.0  \n",
       "\n",
       "[7352 rows x 11 columns]"
      ]
     },
     "execution_count": 272,
     "metadata": {},
     "output_type": "execute_result"
    }
   ],
   "source": [
    "rain_data"
   ]
  },
  {
   "cell_type": "code",
   "execution_count": 273,
   "id": "a9750969",
   "metadata": {},
   "outputs": [],
   "source": [
    "no_rain_data = asos_df[asos_df['rain_tomorrow']==0].sample(n=len(rain_data)).loc[:,['hm','pv','td','pa','m005Te','m01Te','m02Te','m03Te','clfmAbbrCd','lcsCh','rain_tomorrow']]"
   ]
  },
  {
   "cell_type": "code",
   "execution_count": 274,
   "id": "2134a44a",
   "metadata": {},
   "outputs": [],
   "source": [
    "data = pd.concat([rain_data, no_rain_data])"
   ]
  },
  {
   "cell_type": "code",
   "execution_count": 275,
   "id": "9db7338b",
   "metadata": {},
   "outputs": [],
   "source": [
    "data = data.sample(frac=1).reset_index(drop=True)"
   ]
  },
  {
   "cell_type": "code",
   "execution_count": 276,
   "id": "6ef1a6e2",
   "metadata": {},
   "outputs": [
    {
     "name": "stdout",
     "output_type": "stream",
     "text": [
      "<class 'pandas.core.frame.DataFrame'>\n",
      "RangeIndex: 11656 entries, 0 to 11655\n",
      "Data columns (total 11 columns):\n",
      " #   Column         Non-Null Count  Dtype  \n",
      "---  ------         --------------  -----  \n",
      " 0   hm             11656 non-null  float64\n",
      " 1   pv             11656 non-null  float64\n",
      " 2   td             11656 non-null  float64\n",
      " 3   pa             11656 non-null  float64\n",
      " 4   m005Te         11656 non-null  float64\n",
      " 5   m01Te          11656 non-null  float64\n",
      " 6   m02Te          11656 non-null  float64\n",
      " 7   m03Te          11656 non-null  float64\n",
      " 8   clfmAbbrCd     11656 non-null  object \n",
      " 9   lcsCh          11656 non-null  float64\n",
      " 10  rain_tomorrow  11656 non-null  float64\n",
      "dtypes: float64(10), object(1)\n",
      "memory usage: 1001.8+ KB\n"
     ]
    }
   ],
   "source": [
    "data.info()"
   ]
  },
  {
   "cell_type": "code",
   "execution_count": 277,
   "id": "5b5e4ff8",
   "metadata": {},
   "outputs": [],
   "source": [
    "encoder = LabelEncoder()\n",
    "data.clfmAbbrCd = encoder.fit_transform(data.clfmAbbrCd)"
   ]
  },
  {
   "cell_type": "code",
   "execution_count": 278,
   "id": "fdfbf597",
   "metadata": {},
   "outputs": [],
   "source": [
    "train_X = data.iloc[:5000,:-1]\n",
    "train_y = data.iloc[:5000,-1]\n",
    "test_X = data.iloc[5000:,:-1]\n",
    "test_y = data.iloc[5000:,-1]"
   ]
  },
  {
   "cell_type": "code",
   "execution_count": 279,
   "id": "f1698a06",
   "metadata": {},
   "outputs": [],
   "source": [
    "scaler = MinMaxScaler()\n",
    "train_X = scaler.fit_transform(train_X)\n",
    "test_X = scaler.fit_transform(test_X)"
   ]
  },
  {
   "cell_type": "code",
   "execution_count": 280,
   "id": "6b812a26",
   "metadata": {},
   "outputs": [
    {
     "data": {
      "text/plain": [
       "((5000, 10), (6656, 10), (5000,), (6656,))"
      ]
     },
     "execution_count": 280,
     "metadata": {},
     "output_type": "execute_result"
    }
   ],
   "source": [
    "train_X.shape, test_X.shape, train_y.shape, test_y.shape"
   ]
  },
  {
   "cell_type": "code",
   "execution_count": 281,
   "id": "551190a7",
   "metadata": {},
   "outputs": [
    {
     "name": "stdout",
     "output_type": "stream",
     "text": [
      "Model: \"sequential_10\"\n",
      "_________________________________________________________________\n",
      " Layer (type)                Output Shape              Param #   \n",
      "=================================================================\n",
      " dense_60 (Dense)            (None, 64)                704       \n",
      "                                                                 \n",
      " dropout_50 (Dropout)        (None, 64)                0         \n",
      "                                                                 \n",
      " dense_61 (Dense)            (None, 128)               8320      \n",
      "                                                                 \n",
      " dropout_51 (Dropout)        (None, 128)               0         \n",
      "                                                                 \n",
      " dense_62 (Dense)            (None, 256)               33024     \n",
      "                                                                 \n",
      " dropout_52 (Dropout)        (None, 256)               0         \n",
      "                                                                 \n",
      " dense_63 (Dense)            (None, 64)                16448     \n",
      "                                                                 \n",
      " dropout_53 (Dropout)        (None, 64)                0         \n",
      "                                                                 \n",
      " dense_64 (Dense)            (None, 32)                2080      \n",
      "                                                                 \n",
      " dropout_54 (Dropout)        (None, 32)                0         \n",
      "                                                                 \n",
      " dense_65 (Dense)            (None, 1)                 33        \n",
      "                                                                 \n",
      "=================================================================\n",
      "Total params: 60,609\n",
      "Trainable params: 60,609\n",
      "Non-trainable params: 0\n",
      "_________________________________________________________________\n"
     ]
    }
   ],
   "source": [
    "model = Sequential([\n",
    "    Dense(64, activation='relu', input_shape=(train_X.shape[1],)),  \n",
    "    Dropout(0.3),\n",
    "    Dense(128, activation='relu'),  \n",
    "    Dropout(0.4),\n",
    "    Dense(256, activation='relu'),  \n",
    "    Dropout(0.4),\n",
    "    Dense(64, activation='relu'),  \n",
    "    Dropout(0.3),\n",
    "    Dense(32, activation='relu'),  \n",
    "    Dropout(0.2),\n",
    "    Dense(1, activation='sigmoid') \n",
    "])\n",
    "\n",
    "model.compile(loss='binary_crossentropy', optimizer='adam',  metrics=['accuracy',Recall(),Precision()])\n",
    "# 모델 요약\n",
    "model.summary()"
   ]
  },
  {
   "cell_type": "code",
   "execution_count": 282,
   "id": "e5bdb74f",
   "metadata": {},
   "outputs": [
    {
     "name": "stdout",
     "output_type": "stream",
     "text": [
      "Epoch 1/30\n"
     ]
    },
    {
     "name": "stderr",
     "output_type": "stream",
     "text": [
      "2025-01-16 17:35:22.070413: I tensorflow/core/grappler/optimizers/custom_graph_optimizer_registry.cc:114] Plugin optimizer for device_type GPU is enabled.\n"
     ]
    },
    {
     "name": "stdout",
     "output_type": "stream",
     "text": [
      "116/125 [==========================>...] - ETA: 0s - loss: 0.6486 - accuracy: 0.6350 - recall_10: 0.9806 - precision_10: 0.6398"
     ]
    },
    {
     "name": "stderr",
     "output_type": "stream",
     "text": [
      "2025-01-16 17:35:23.147841: I tensorflow/core/grappler/optimizers/custom_graph_optimizer_registry.cc:114] Plugin optimizer for device_type GPU is enabled.\n"
     ]
    },
    {
     "name": "stdout",
     "output_type": "stream",
     "text": [
      "125/125 [==============================] - 2s 9ms/step - loss: 0.6487 - accuracy: 0.6330 - recall_10: 0.9819 - precision_10: 0.6372 - val_loss: 0.6546 - val_accuracy: 0.6140 - val_recall_10: 1.0000 - val_precision_10: 0.6140\n",
      "Epoch 2/30\n",
      "125/125 [==============================] - 1s 6ms/step - loss: 0.6414 - accuracy: 0.6365 - recall_10: 0.9764 - precision_10: 0.6405 - val_loss: 0.6467 - val_accuracy: 0.6140 - val_recall_10: 1.0000 - val_precision_10: 0.6140\n",
      "Epoch 3/30\n",
      "125/125 [==============================] - 1s 6ms/step - loss: 0.6396 - accuracy: 0.6382 - recall_10: 0.9843 - precision_10: 0.6402 - val_loss: 0.6401 - val_accuracy: 0.6140 - val_recall_10: 1.0000 - val_precision_10: 0.6140\n",
      "Epoch 4/30\n",
      "125/125 [==============================] - 1s 6ms/step - loss: 0.6391 - accuracy: 0.6367 - recall_10: 0.9693 - precision_10: 0.6420 - val_loss: 0.6450 - val_accuracy: 0.6250 - val_recall_10: 0.9479 - val_precision_10: 0.6292\n",
      "Epoch 5/30\n",
      "125/125 [==============================] - 1s 6ms/step - loss: 0.6371 - accuracy: 0.6385 - recall_10: 0.9383 - precision_10: 0.6493 - val_loss: 0.6437 - val_accuracy: 0.6130 - val_recall_10: 0.9853 - val_precision_10: 0.6155\n",
      "Epoch 6/30\n",
      "125/125 [==============================] - 1s 6ms/step - loss: 0.6356 - accuracy: 0.6400 - recall_10: 0.9564 - precision_10: 0.6467 - val_loss: 0.6408 - val_accuracy: 0.6280 - val_recall_10: 0.9511 - val_precision_10: 0.6307\n",
      "Epoch 7/30\n",
      "125/125 [==============================] - 1s 6ms/step - loss: 0.6357 - accuracy: 0.6390 - recall_10: 0.9186 - precision_10: 0.6539 - val_loss: 0.6398 - val_accuracy: 0.6140 - val_recall_10: 1.0000 - val_precision_10: 0.6140\n",
      "Epoch 8/30\n",
      "125/125 [==============================] - 1s 6ms/step - loss: 0.6329 - accuracy: 0.6413 - recall_10: 0.9768 - precision_10: 0.6436 - val_loss: 0.6386 - val_accuracy: 0.6250 - val_recall_10: 0.9446 - val_precision_10: 0.6298\n",
      "Epoch 9/30\n",
      "125/125 [==============================] - 1s 6ms/step - loss: 0.6341 - accuracy: 0.6415 - recall_10: 0.9351 - precision_10: 0.6521 - val_loss: 0.6467 - val_accuracy: 0.6140 - val_recall_10: 1.0000 - val_precision_10: 0.6140\n",
      "Epoch 10/30\n",
      "125/125 [==============================] - 1s 6ms/step - loss: 0.6337 - accuracy: 0.6405 - recall_10: 0.9552 - precision_10: 0.6473 - val_loss: 0.6370 - val_accuracy: 0.6200 - val_recall_10: 0.9658 - val_precision_10: 0.6229\n",
      "Epoch 11/30\n",
      "125/125 [==============================] - 1s 6ms/step - loss: 0.6343 - accuracy: 0.6352 - recall_10: 0.9186 - precision_10: 0.6512 - val_loss: 0.6517 - val_accuracy: 0.6380 - val_recall_10: 0.8583 - val_precision_10: 0.6571\n",
      "Epoch 12/30\n",
      "125/125 [==============================] - 1s 6ms/step - loss: 0.6328 - accuracy: 0.6342 - recall_10: 0.9226 - precision_10: 0.6496 - val_loss: 0.6386 - val_accuracy: 0.6140 - val_recall_10: 1.0000 - val_precision_10: 0.6140\n",
      "Epoch 13/30\n",
      "125/125 [==============================] - 1s 6ms/step - loss: 0.6330 - accuracy: 0.6385 - recall_10: 0.9513 - precision_10: 0.6467 - val_loss: 0.6441 - val_accuracy: 0.6140 - val_recall_10: 1.0000 - val_precision_10: 0.6140\n",
      "Epoch 14/30\n",
      "125/125 [==============================] - 1s 6ms/step - loss: 0.6306 - accuracy: 0.6365 - recall_10: 0.9367 - precision_10: 0.6483 - val_loss: 0.6394 - val_accuracy: 0.6230 - val_recall_10: 0.9528 - val_precision_10: 0.6270\n",
      "Epoch 15/30\n",
      "125/125 [==============================] - 1s 6ms/step - loss: 0.6315 - accuracy: 0.6413 - recall_10: 0.9226 - precision_10: 0.6547 - val_loss: 0.6386 - val_accuracy: 0.6270 - val_recall_10: 0.8974 - val_precision_10: 0.6400\n",
      "Epoch 16/30\n",
      "125/125 [==============================] - 1s 6ms/step - loss: 0.6318 - accuracy: 0.6392 - recall_10: 0.9155 - precision_10: 0.6548 - val_loss: 0.6408 - val_accuracy: 0.6200 - val_recall_10: 0.9479 - val_precision_10: 0.6258\n",
      "Epoch 17/30\n",
      "125/125 [==============================] - 1s 6ms/step - loss: 0.6295 - accuracy: 0.6400 - recall_10: 0.9155 - precision_10: 0.6553 - val_loss: 0.6378 - val_accuracy: 0.6290 - val_recall_10: 0.8941 - val_precision_10: 0.6421\n",
      "Epoch 18/30\n",
      "125/125 [==============================] - 1s 6ms/step - loss: 0.6292 - accuracy: 0.6398 - recall_10: 0.9072 - precision_10: 0.6570 - val_loss: 0.6389 - val_accuracy: 0.6200 - val_recall_10: 0.9121 - val_precision_10: 0.6321\n",
      "Epoch 19/30\n",
      "125/125 [==============================] - 1s 6ms/step - loss: 0.6295 - accuracy: 0.6385 - recall_10: 0.9198 - precision_10: 0.6533 - val_loss: 0.6354 - val_accuracy: 0.6420 - val_recall_10: 0.8599 - val_precision_10: 0.6600\n",
      "Epoch 20/30\n",
      "125/125 [==============================] - 1s 6ms/step - loss: 0.6299 - accuracy: 0.6488 - recall_10: 0.8742 - precision_10: 0.6721 - val_loss: 0.6400 - val_accuracy: 0.6170 - val_recall_10: 0.9772 - val_precision_10: 0.6192\n",
      "Epoch 21/30\n",
      "125/125 [==============================] - 1s 6ms/step - loss: 0.6303 - accuracy: 0.6440 - recall_10: 0.9328 - precision_10: 0.6544 - val_loss: 0.6382 - val_accuracy: 0.6380 - val_recall_10: 0.8762 - val_precision_10: 0.6529\n",
      "Epoch 22/30\n",
      "125/125 [==============================] - 1s 6ms/step - loss: 0.6317 - accuracy: 0.6425 - recall_10: 0.9257 - precision_10: 0.6549 - val_loss: 0.6319 - val_accuracy: 0.6320 - val_recall_10: 0.8762 - val_precision_10: 0.6482\n",
      "Epoch 23/30\n",
      "125/125 [==============================] - 1s 6ms/step - loss: 0.6286 - accuracy: 0.6495 - recall_10: 0.8974 - precision_10: 0.6668 - val_loss: 0.6345 - val_accuracy: 0.6450 - val_recall_10: 0.8811 - val_precision_10: 0.6574\n",
      "Epoch 24/30\n",
      "125/125 [==============================] - 1s 6ms/step - loss: 0.6297 - accuracy: 0.6380 - recall_10: 0.9041 - precision_10: 0.6564 - val_loss: 0.6406 - val_accuracy: 0.6550 - val_recall_10: 0.8225 - val_precision_10: 0.6815\n",
      "Epoch 25/30\n",
      "125/125 [==============================] - 1s 6ms/step - loss: 0.6288 - accuracy: 0.6450 - recall_10: 0.8939 - precision_10: 0.6641 - val_loss: 0.6322 - val_accuracy: 0.6420 - val_recall_10: 0.8876 - val_precision_10: 0.6535\n",
      "Epoch 26/30\n",
      "125/125 [==============================] - 1s 6ms/step - loss: 0.6299 - accuracy: 0.6417 - recall_10: 0.8911 - precision_10: 0.6623 - val_loss: 0.6341 - val_accuracy: 0.6300 - val_recall_10: 0.9088 - val_precision_10: 0.6399\n",
      "Epoch 27/30\n",
      "125/125 [==============================] - 1s 6ms/step - loss: 0.6290 - accuracy: 0.6442 - recall_10: 0.8774 - precision_10: 0.6677 - val_loss: 0.6329 - val_accuracy: 0.6320 - val_recall_10: 0.9251 - val_precision_10: 0.6382\n",
      "Epoch 28/30\n",
      "125/125 [==============================] - 1s 6ms/step - loss: 0.6262 - accuracy: 0.6472 - recall_10: 0.8880 - precision_10: 0.6674 - val_loss: 0.6406 - val_accuracy: 0.6480 - val_recall_10: 0.8632 - val_precision_10: 0.6642\n",
      "Epoch 29/30\n",
      "125/125 [==============================] - 1s 6ms/step - loss: 0.6273 - accuracy: 0.6438 - recall_10: 0.8892 - precision_10: 0.6643 - val_loss: 0.6421 - val_accuracy: 0.6440 - val_recall_10: 0.8127 - val_precision_10: 0.6743\n",
      "Epoch 30/30\n",
      "125/125 [==============================] - 1s 6ms/step - loss: 0.6265 - accuracy: 0.6530 - recall_10: 0.8954 - precision_10: 0.6700 - val_loss: 0.6374 - val_accuracy: 0.6400 - val_recall_10: 0.8941 - val_precision_10: 0.6505\n"
     ]
    }
   ],
   "source": [
    "history = model.fit(train_X, train_y, epochs=30, validation_split=0.2)"
   ]
  },
  {
   "cell_type": "code",
   "execution_count": 283,
   "id": "1c10139c",
   "metadata": {},
   "outputs": [
    {
     "name": "stderr",
     "output_type": "stream",
     "text": [
      "2025-01-16 17:35:45.901137: I tensorflow/core/grappler/optimizers/custom_graph_optimizer_registry.cc:114] Plugin optimizer for device_type GPU is enabled.\n"
     ]
    },
    {
     "name": "stdout",
     "output_type": "stream",
     "text": [
      "208/208 [==============================] - 3s 12ms/step - loss: 0.6376 - accuracy: 0.6454 - recall_10: 0.8894 - precision_10: 0.6630\n",
      "테스트 정확도: 0.6454\n"
     ]
    }
   ],
   "source": [
    "loss, accuracy, _, _, = model.evaluate(np.array(test_X), np.array(test_y))\n",
    "print(f\"테스트 정확도: {accuracy:.4f}\")"
   ]
  },
  {
   "cell_type": "code",
   "execution_count": 284,
   "id": "eba5b143",
   "metadata": {},
   "outputs": [
    {
     "name": "stdout",
     "output_type": "stream",
     "text": [
      "122/208 [================>.............] - ETA: 0s"
     ]
    },
    {
     "name": "stderr",
     "output_type": "stream",
     "text": [
      "2025-01-16 17:35:48.626029: I tensorflow/core/grappler/optimizers/custom_graph_optimizer_registry.cc:114] Plugin optimizer for device_type GPU is enabled.\n"
     ]
    },
    {
     "name": "stdout",
     "output_type": "stream",
     "text": [
      "208/208 [==============================] - 0s 1ms/step\n"
     ]
    }
   ],
   "source": [
    "y_hat = (model.predict(test_X)>=0.5).reshape(-1)"
   ]
  },
  {
   "cell_type": "code",
   "execution_count": 285,
   "id": "f63936cc",
   "metadata": {},
   "outputs": [
    {
     "data": {
      "text/plain": [
       "((6656,), (6656,))"
      ]
     },
     "execution_count": 285,
     "metadata": {},
     "output_type": "execute_result"
    }
   ],
   "source": [
    "test_y.shape, y_hat.shape"
   ]
  },
  {
   "cell_type": "code",
   "execution_count": 286,
   "id": "681f7772",
   "metadata": {},
   "outputs": [
    {
     "name": "stdout",
     "output_type": "stream",
     "text": [
      "F1 스코어: 0.6454\n"
     ]
    }
   ],
   "source": [
    "f1 = f1_score(test_y, y_hat, average='micro')\n",
    "print(f\"F1 스코어: {f1:.4f}\")"
   ]
  }
 ],
 "metadata": {
  "kernelspec": {
   "display_name": "Python [conda env:tf] *",
   "language": "python",
   "name": "conda-env-tf-py"
  },
  "language_info": {
   "codemirror_mode": {
    "name": "ipython",
    "version": 3
   },
   "file_extension": ".py",
   "mimetype": "text/x-python",
   "name": "python",
   "nbconvert_exporter": "python",
   "pygments_lexer": "ipython3",
   "version": "3.8.19"
  }
 },
 "nbformat": 4,
 "nbformat_minor": 5
}

{
 "cells": [
  {
   "cell_type": "code",
   "execution_count": 1,
   "id": "8782a575",
   "metadata": {},
   "outputs": [],
   "source": [
    "import pandas as pd\n",
    "import numpy as np\n",
    "import matplotlib.pyplot as plt\n",
    "import seaborn as sns\n",
    "from sklearn.preprocessing import LabelEncoder\n",
    "from sklearn.preprocessing import MinMaxScaler\n",
    "from sklearn.preprocessing import StandardScaler\n",
    "import tensorflow as tf\n",
    "from tensorflow.keras.models import Sequential\n",
    "from tensorflow.keras.layers import Dense, Dropout\n",
    "from tensorflow.keras.metrics import Recall,Precision\n",
    "from sklearn.metrics import f1_score"
   ]
  },
  {
   "cell_type": "markdown",
   "id": "30b8caa9",
   "metadata": {},
   "source": [
    "# 24시간 단위 예측 "
   ]
  },
  {
   "cell_type": "code",
   "execution_count": 2,
   "id": "354ac62e",
   "metadata": {},
   "outputs": [],
   "source": [
    "asos_df = pd.read_csv('/Volumes/ESD-ISO/project_preson/LSTM/LSTM_data/ASOS_data_preprocessed_V2.csv', index_col=0)"
   ]
  },
  {
   "cell_type": "code",
   "execution_count": 3,
   "id": "abaaec35",
   "metadata": {},
   "outputs": [],
   "source": [
    "# rain_tomorrow 열을 rainy_day 열에서 24시간 이후 값을 가져와 생성\n",
    "asos_df['rain_tomorrow'] = asos_df['rainy_day'].shift(-24)"
   ]
  },
  {
   "cell_type": "code",
   "execution_count": 4,
   "id": "b3dd37f4",
   "metadata": {},
   "outputs": [],
   "source": [
    "asos_df.drop(index=asos_df[asos_df['rain_tomorrow'].isna()].index, inplace=True) # 24시간 뒤에 데이터가 없는 마지막 24개열 삭제"
   ]
  },
  {
   "cell_type": "code",
   "execution_count": 5,
   "id": "b47162e8",
   "metadata": {},
   "outputs": [
    {
     "data": {
      "text/html": [
       "<div>\n",
       "<style scoped>\n",
       "    .dataframe tbody tr th:only-of-type {\n",
       "        vertical-align: middle;\n",
       "    }\n",
       "\n",
       "    .dataframe tbody tr th {\n",
       "        vertical-align: top;\n",
       "    }\n",
       "\n",
       "    .dataframe thead th {\n",
       "        text-align: right;\n",
       "    }\n",
       "</style>\n",
       "<table border=\"1\" class=\"dataframe\">\n",
       "  <thead>\n",
       "    <tr style=\"text-align: right;\">\n",
       "      <th></th>\n",
       "      <th>tm</th>\n",
       "      <th>hm</th>\n",
       "      <th>pv</th>\n",
       "      <th>ps</th>\n",
       "      <th>td</th>\n",
       "      <th>pa</th>\n",
       "      <th>dc10Tca</th>\n",
       "      <th>clfmAbbrCd</th>\n",
       "      <th>lcsCh</th>\n",
       "      <th>m005Te</th>\n",
       "      <th>m01Te</th>\n",
       "      <th>m02Te</th>\n",
       "      <th>m03Te</th>\n",
       "      <th>vs</th>\n",
       "      <th>ws</th>\n",
       "      <th>wd</th>\n",
       "      <th>rn</th>\n",
       "      <th>rainy_day</th>\n",
       "      <th>rain_tomorrow</th>\n",
       "    </tr>\n",
       "  </thead>\n",
       "  <tbody>\n",
       "    <tr>\n",
       "      <th>341</th>\n",
       "      <td>1980-03-30 09:00</td>\n",
       "      <td>71.0</td>\n",
       "      <td>6.8</td>\n",
       "      <td>1019.8</td>\n",
       "      <td>1.5</td>\n",
       "      <td>1009.0</td>\n",
       "      <td>8.0</td>\n",
       "      <td>ScCi</td>\n",
       "      <td>0.0</td>\n",
       "      <td>5.7</td>\n",
       "      <td>6.2</td>\n",
       "      <td>7.3</td>\n",
       "      <td>7.5</td>\n",
       "      <td>500.0</td>\n",
       "      <td>1.7</td>\n",
       "      <td>50.0</td>\n",
       "      <td>0.0</td>\n",
       "      <td>0</td>\n",
       "      <td>1.0</td>\n",
       "    </tr>\n",
       "    <tr>\n",
       "      <th>342</th>\n",
       "      <td>1980-03-30 15:00</td>\n",
       "      <td>43.0</td>\n",
       "      <td>8.4</td>\n",
       "      <td>1017.5</td>\n",
       "      <td>4.5</td>\n",
       "      <td>1007.1</td>\n",
       "      <td>4.0</td>\n",
       "      <td>Ci</td>\n",
       "      <td>0.0</td>\n",
       "      <td>17.1</td>\n",
       "      <td>13.1</td>\n",
       "      <td>9.5</td>\n",
       "      <td>7.9</td>\n",
       "      <td>1000.0</td>\n",
       "      <td>2.5</td>\n",
       "      <td>230.0</td>\n",
       "      <td>0.0</td>\n",
       "      <td>0</td>\n",
       "      <td>1.0</td>\n",
       "    </tr>\n",
       "    <tr>\n",
       "      <th>343</th>\n",
       "      <td>1980-03-30 21:00</td>\n",
       "      <td>53.0</td>\n",
       "      <td>7.8</td>\n",
       "      <td>1017.7</td>\n",
       "      <td>3.4</td>\n",
       "      <td>1007.3</td>\n",
       "      <td>8.0</td>\n",
       "      <td>Cs</td>\n",
       "      <td>0.0</td>\n",
       "      <td>10.8</td>\n",
       "      <td>11.1</td>\n",
       "      <td>11.1</td>\n",
       "      <td>9.6</td>\n",
       "      <td>1000.0</td>\n",
       "      <td>4.0</td>\n",
       "      <td>290.0</td>\n",
       "      <td>0.0</td>\n",
       "      <td>0</td>\n",
       "      <td>1.0</td>\n",
       "    </tr>\n",
       "    <tr>\n",
       "      <th>368</th>\n",
       "      <td>1980-04-06 03:00</td>\n",
       "      <td>91.0</td>\n",
       "      <td>11.5</td>\n",
       "      <td>1002.5</td>\n",
       "      <td>9.0</td>\n",
       "      <td>992.0</td>\n",
       "      <td>10.0</td>\n",
       "      <td>StNs</td>\n",
       "      <td>0.0</td>\n",
       "      <td>12.0</td>\n",
       "      <td>12.9</td>\n",
       "      <td>13.5</td>\n",
       "      <td>13.1</td>\n",
       "      <td>500.0</td>\n",
       "      <td>5.3</td>\n",
       "      <td>180.0</td>\n",
       "      <td>0.0</td>\n",
       "      <td>0</td>\n",
       "      <td>1.0</td>\n",
       "    </tr>\n",
       "    <tr>\n",
       "      <th>369</th>\n",
       "      <td>1980-04-06 09:00</td>\n",
       "      <td>91.0</td>\n",
       "      <td>8.0</td>\n",
       "      <td>1005.8</td>\n",
       "      <td>3.8</td>\n",
       "      <td>995.1</td>\n",
       "      <td>10.0</td>\n",
       "      <td>ScAs</td>\n",
       "      <td>0.0</td>\n",
       "      <td>8.5</td>\n",
       "      <td>9.9</td>\n",
       "      <td>12.5</td>\n",
       "      <td>12.6</td>\n",
       "      <td>1500.0</td>\n",
       "      <td>5.3</td>\n",
       "      <td>200.0</td>\n",
       "      <td>0.0</td>\n",
       "      <td>0</td>\n",
       "      <td>1.0</td>\n",
       "    </tr>\n",
       "    <tr>\n",
       "      <th>...</th>\n",
       "      <td>...</td>\n",
       "      <td>...</td>\n",
       "      <td>...</td>\n",
       "      <td>...</td>\n",
       "      <td>...</td>\n",
       "      <td>...</td>\n",
       "      <td>...</td>\n",
       "      <td>...</td>\n",
       "      <td>...</td>\n",
       "      <td>...</td>\n",
       "      <td>...</td>\n",
       "      <td>...</td>\n",
       "      <td>...</td>\n",
       "      <td>...</td>\n",
       "      <td>...</td>\n",
       "      <td>...</td>\n",
       "      <td>...</td>\n",
       "      <td>...</td>\n",
       "      <td>...</td>\n",
       "    </tr>\n",
       "    <tr>\n",
       "      <th>43387</th>\n",
       "      <td>2024-12-20 00:00:00</td>\n",
       "      <td>51.0</td>\n",
       "      <td>2.9</td>\n",
       "      <td>1026.8</td>\n",
       "      <td>-9.9</td>\n",
       "      <td>1015.9</td>\n",
       "      <td>10.0</td>\n",
       "      <td>no_clouds</td>\n",
       "      <td>0.0</td>\n",
       "      <td>-0.3</td>\n",
       "      <td>-0.4</td>\n",
       "      <td>1.3</td>\n",
       "      <td>2.5</td>\n",
       "      <td>2177.0</td>\n",
       "      <td>0.6</td>\n",
       "      <td>20.0</td>\n",
       "      <td>0.0</td>\n",
       "      <td>0</td>\n",
       "      <td>1.0</td>\n",
       "    </tr>\n",
       "    <tr>\n",
       "      <th>43390</th>\n",
       "      <td>2024-12-20 03:00:00</td>\n",
       "      <td>54.0</td>\n",
       "      <td>2.9</td>\n",
       "      <td>1026.2</td>\n",
       "      <td>-9.9</td>\n",
       "      <td>1015.2</td>\n",
       "      <td>9.0</td>\n",
       "      <td>Ci</td>\n",
       "      <td>4.2</td>\n",
       "      <td>-0.3</td>\n",
       "      <td>-0.4</td>\n",
       "      <td>1.3</td>\n",
       "      <td>2.4</td>\n",
       "      <td>2111.0</td>\n",
       "      <td>1.8</td>\n",
       "      <td>20.0</td>\n",
       "      <td>0.0</td>\n",
       "      <td>0</td>\n",
       "      <td>1.0</td>\n",
       "    </tr>\n",
       "    <tr>\n",
       "      <th>43393</th>\n",
       "      <td>2024-12-20 06:00:00</td>\n",
       "      <td>57.0</td>\n",
       "      <td>3.2</td>\n",
       "      <td>1025.1</td>\n",
       "      <td>-8.7</td>\n",
       "      <td>1014.2</td>\n",
       "      <td>10.0</td>\n",
       "      <td>ScCs</td>\n",
       "      <td>8.0</td>\n",
       "      <td>-0.4</td>\n",
       "      <td>-0.5</td>\n",
       "      <td>1.2</td>\n",
       "      <td>2.4</td>\n",
       "      <td>1922.0</td>\n",
       "      <td>1.6</td>\n",
       "      <td>20.0</td>\n",
       "      <td>0.0</td>\n",
       "      <td>0</td>\n",
       "      <td>1.0</td>\n",
       "    </tr>\n",
       "    <tr>\n",
       "      <th>43396</th>\n",
       "      <td>2024-12-20 09:00:00</td>\n",
       "      <td>58.0</td>\n",
       "      <td>3.5</td>\n",
       "      <td>1024.0</td>\n",
       "      <td>-7.5</td>\n",
       "      <td>1013.1</td>\n",
       "      <td>10.0</td>\n",
       "      <td>ScCs</td>\n",
       "      <td>9.0</td>\n",
       "      <td>-0.3</td>\n",
       "      <td>-0.4</td>\n",
       "      <td>1.2</td>\n",
       "      <td>2.4</td>\n",
       "      <td>1823.0</td>\n",
       "      <td>2.2</td>\n",
       "      <td>50.0</td>\n",
       "      <td>0.0</td>\n",
       "      <td>0</td>\n",
       "      <td>1.0</td>\n",
       "    </tr>\n",
       "    <tr>\n",
       "      <th>43507</th>\n",
       "      <td>2024-12-25 00:00:00</td>\n",
       "      <td>52.0</td>\n",
       "      <td>3.1</td>\n",
       "      <td>1028.1</td>\n",
       "      <td>-8.9</td>\n",
       "      <td>1017.2</td>\n",
       "      <td>9.0</td>\n",
       "      <td>AcCi</td>\n",
       "      <td>40.0</td>\n",
       "      <td>-0.2</td>\n",
       "      <td>-0.3</td>\n",
       "      <td>1.0</td>\n",
       "      <td>2.1</td>\n",
       "      <td>2299.0</td>\n",
       "      <td>1.8</td>\n",
       "      <td>50.0</td>\n",
       "      <td>0.0</td>\n",
       "      <td>0</td>\n",
       "      <td>1.0</td>\n",
       "    </tr>\n",
       "  </tbody>\n",
       "</table>\n",
       "<p>4304 rows × 19 columns</p>\n",
       "</div>"
      ],
      "text/plain": [
       "                        tm    hm    pv      ps   td      pa  dc10Tca  \\\n",
       "341       1980-03-30 09:00  71.0   6.8  1019.8  1.5  1009.0      8.0   \n",
       "342       1980-03-30 15:00  43.0   8.4  1017.5  4.5  1007.1      4.0   \n",
       "343       1980-03-30 21:00  53.0   7.8  1017.7  3.4  1007.3      8.0   \n",
       "368       1980-04-06 03:00  91.0  11.5  1002.5  9.0   992.0     10.0   \n",
       "369       1980-04-06 09:00  91.0   8.0  1005.8  3.8   995.1     10.0   \n",
       "...                    ...   ...   ...     ...  ...     ...      ...   \n",
       "43387  2024-12-20 00:00:00  51.0   2.9  1026.8 -9.9  1015.9     10.0   \n",
       "43390  2024-12-20 03:00:00  54.0   2.9  1026.2 -9.9  1015.2      9.0   \n",
       "43393  2024-12-20 06:00:00  57.0   3.2  1025.1 -8.7  1014.2     10.0   \n",
       "43396  2024-12-20 09:00:00  58.0   3.5  1024.0 -7.5  1013.1     10.0   \n",
       "43507  2024-12-25 00:00:00  52.0   3.1  1028.1 -8.9  1017.2      9.0   \n",
       "\n",
       "      clfmAbbrCd  lcsCh  m005Te  m01Te  m02Te  m03Te      vs   ws     wd   rn  \\\n",
       "341         ScCi    0.0     5.7    6.2    7.3    7.5   500.0  1.7   50.0  0.0   \n",
       "342           Ci    0.0    17.1   13.1    9.5    7.9  1000.0  2.5  230.0  0.0   \n",
       "343           Cs    0.0    10.8   11.1   11.1    9.6  1000.0  4.0  290.0  0.0   \n",
       "368         StNs    0.0    12.0   12.9   13.5   13.1   500.0  5.3  180.0  0.0   \n",
       "369         ScAs    0.0     8.5    9.9   12.5   12.6  1500.0  5.3  200.0  0.0   \n",
       "...          ...    ...     ...    ...    ...    ...     ...  ...    ...  ...   \n",
       "43387  no_clouds    0.0    -0.3   -0.4    1.3    2.5  2177.0  0.6   20.0  0.0   \n",
       "43390         Ci    4.2    -0.3   -0.4    1.3    2.4  2111.0  1.8   20.0  0.0   \n",
       "43393       ScCs    8.0    -0.4   -0.5    1.2    2.4  1922.0  1.6   20.0  0.0   \n",
       "43396       ScCs    9.0    -0.3   -0.4    1.2    2.4  1823.0  2.2   50.0  0.0   \n",
       "43507       AcCi   40.0    -0.2   -0.3    1.0    2.1  2299.0  1.8   50.0  0.0   \n",
       "\n",
       "       rainy_day  rain_tomorrow  \n",
       "341            0            1.0  \n",
       "342            0            1.0  \n",
       "343            0            1.0  \n",
       "368            0            1.0  \n",
       "369            0            1.0  \n",
       "...          ...            ...  \n",
       "43387          0            1.0  \n",
       "43390          0            1.0  \n",
       "43393          0            1.0  \n",
       "43396          0            1.0  \n",
       "43507          0            1.0  \n",
       "\n",
       "[4304 rows x 19 columns]"
      ]
     },
     "execution_count": 5,
     "metadata": {},
     "output_type": "execute_result"
    }
   ],
   "source": [
    "asos_df[asos_df['rain_tomorrow']!=0]"
   ]
  },
  {
   "cell_type": "code",
   "execution_count": 6,
   "id": "9634341f",
   "metadata": {},
   "outputs": [],
   "source": [
    "asos_df = asos_df.sample(frac=1, random_state=20250113).reset_index(drop=True)"
   ]
  },
  {
   "cell_type": "code",
   "execution_count": 7,
   "id": "242d4096",
   "metadata": {},
   "outputs": [],
   "source": [
    "rain_data = asos_df[asos_df['rain_tomorrow']==1].loc[:, ['hm','pv','td','pa','m005Te','m01Te','m02Te','m03Te','clfmAbbrCd','lcsCh','rain_tomorrow']]"
   ]
  },
  {
   "cell_type": "code",
   "execution_count": 8,
   "id": "696c0f3d",
   "metadata": {},
   "outputs": [
    {
     "name": "stdout",
     "output_type": "stream",
     "text": [
      "<class 'pandas.core.frame.DataFrame'>\n",
      "Int64Index: 4304 entries, 18 to 60765\n",
      "Data columns (total 11 columns):\n",
      " #   Column         Non-Null Count  Dtype  \n",
      "---  ------         --------------  -----  \n",
      " 0   hm             4304 non-null   float64\n",
      " 1   pv             4304 non-null   float64\n",
      " 2   td             4304 non-null   float64\n",
      " 3   pa             4304 non-null   float64\n",
      " 4   m005Te         4304 non-null   float64\n",
      " 5   m01Te          4304 non-null   float64\n",
      " 6   m02Te          4304 non-null   float64\n",
      " 7   m03Te          4304 non-null   float64\n",
      " 8   clfmAbbrCd     4304 non-null   object \n",
      " 9   lcsCh          4304 non-null   float64\n",
      " 10  rain_tomorrow  4304 non-null   float64\n",
      "dtypes: float64(10), object(1)\n",
      "memory usage: 403.5+ KB\n"
     ]
    }
   ],
   "source": [
    "rain_data.info()"
   ]
  },
  {
   "cell_type": "code",
   "execution_count": 9,
   "id": "0cb5e8fd",
   "metadata": {},
   "outputs": [],
   "source": [
    "no_rain_data = asos_df[asos_df['rain_tomorrow']==0].sample(n=4304).loc[:,['hm','pv','td','pa','m005Te','m01Te','m02Te','m03Te','clfmAbbrCd','lcsCh','rain_tomorrow']]"
   ]
  },
  {
   "cell_type": "code",
   "execution_count": 10,
   "id": "e4092642",
   "metadata": {},
   "outputs": [],
   "source": [
    "data = pd.concat([rain_data, no_rain_data])"
   ]
  },
  {
   "cell_type": "code",
   "execution_count": 11,
   "id": "6f5cb746",
   "metadata": {},
   "outputs": [],
   "source": [
    "data = data.sample(frac=1).reset_index(drop=True) # 데이터 셔플"
   ]
  },
  {
   "cell_type": "code",
   "execution_count": 12,
   "id": "07c18551",
   "metadata": {},
   "outputs": [
    {
     "name": "stdout",
     "output_type": "stream",
     "text": [
      "<class 'pandas.core.frame.DataFrame'>\n",
      "RangeIndex: 8608 entries, 0 to 8607\n",
      "Data columns (total 11 columns):\n",
      " #   Column         Non-Null Count  Dtype  \n",
      "---  ------         --------------  -----  \n",
      " 0   hm             8608 non-null   float64\n",
      " 1   pv             8608 non-null   float64\n",
      " 2   td             8608 non-null   float64\n",
      " 3   pa             8608 non-null   float64\n",
      " 4   m005Te         8608 non-null   float64\n",
      " 5   m01Te          8608 non-null   float64\n",
      " 6   m02Te          8608 non-null   float64\n",
      " 7   m03Te          8608 non-null   float64\n",
      " 8   clfmAbbrCd     8608 non-null   object \n",
      " 9   lcsCh          8608 non-null   float64\n",
      " 10  rain_tomorrow  8608 non-null   float64\n",
      "dtypes: float64(10), object(1)\n",
      "memory usage: 739.9+ KB\n"
     ]
    }
   ],
   "source": [
    "data.info()"
   ]
  },
  {
   "cell_type": "code",
   "execution_count": 13,
   "id": "acdc2ad4",
   "metadata": {},
   "outputs": [],
   "source": [
    "encoder = LabelEncoder()\n",
    "data.clfmAbbrCd = encoder.fit_transform(data.clfmAbbrCd)"
   ]
  },
  {
   "cell_type": "code",
   "execution_count": 14,
   "id": "2509097d",
   "metadata": {},
   "outputs": [],
   "source": [
    "train_X = data.iloc[:5000,:-1]\n",
    "train_y = data.iloc[:5000,-1]\n",
    "test_X = data.iloc[5000:,:-1]\n",
    "test_y = data.iloc[5000:,-1]"
   ]
  },
  {
   "cell_type": "code",
   "execution_count": 15,
   "id": "e1862d2e",
   "metadata": {},
   "outputs": [
    {
     "data": {
      "text/plain": [
       "((5000, 10), (5000,))"
      ]
     },
     "execution_count": 15,
     "metadata": {},
     "output_type": "execute_result"
    }
   ],
   "source": [
    "train_X.shape, train_y.shape"
   ]
  },
  {
   "cell_type": "code",
   "execution_count": 16,
   "id": "dc1cc6e7",
   "metadata": {},
   "outputs": [],
   "source": [
    "scaler = MinMaxScaler()\n",
    "train_X = scaler.fit_transform(train_X)\n",
    "test_X = scaler.fit_transform(test_X)"
   ]
  },
  {
   "cell_type": "code",
   "execution_count": 17,
   "id": "6db2c088",
   "metadata": {},
   "outputs": [
    {
     "data": {
      "text/plain": [
       "((5000, 10), (3608, 10), (5000,), (3608,))"
      ]
     },
     "execution_count": 17,
     "metadata": {},
     "output_type": "execute_result"
    }
   ],
   "source": [
    "train_X.shape, test_X.shape, train_y.shape, test_y.shape"
   ]
  },
  {
   "cell_type": "code",
   "execution_count": 18,
   "id": "0b59a6ab",
   "metadata": {},
   "outputs": [
    {
     "name": "stdout",
     "output_type": "stream",
     "text": [
      "Metal device set to: Apple M2 Pro\n",
      "Model: \"sequential\"\n",
      "_________________________________________________________________\n",
      " Layer (type)                Output Shape              Param #   \n",
      "=================================================================\n",
      " dense (Dense)               (None, 64)                704       \n",
      "                                                                 \n",
      " dropout (Dropout)           (None, 64)                0         \n",
      "                                                                 \n",
      " dense_1 (Dense)             (None, 128)               8320      \n",
      "                                                                 \n",
      " dropout_1 (Dropout)         (None, 128)               0         \n",
      "                                                                 \n",
      " dense_2 (Dense)             (None, 256)               33024     \n",
      "                                                                 \n",
      " dropout_2 (Dropout)         (None, 256)               0         \n",
      "                                                                 \n",
      " dense_3 (Dense)             (None, 64)                16448     \n",
      "                                                                 \n",
      " dropout_3 (Dropout)         (None, 64)                0         \n",
      "                                                                 \n",
      " dense_4 (Dense)             (None, 32)                2080      \n",
      "                                                                 \n",
      " dropout_4 (Dropout)         (None, 32)                0         \n",
      "                                                                 \n",
      " dense_5 (Dense)             (None, 1)                 33        \n",
      "                                                                 \n",
      "=================================================================\n",
      "Total params: 60,609\n",
      "Trainable params: 60,609\n",
      "Non-trainable params: 0\n",
      "_________________________________________________________________\n"
     ]
    },
    {
     "name": "stderr",
     "output_type": "stream",
     "text": [
      "2025-01-15 12:47:06.981695: I tensorflow/core/common_runtime/pluggable_device/pluggable_device_factory.cc:306] Could not identify NUMA node of platform GPU ID 0, defaulting to 0. Your kernel may not have been built with NUMA support.\n",
      "2025-01-15 12:47:06.981824: I tensorflow/core/common_runtime/pluggable_device/pluggable_device_factory.cc:272] Created TensorFlow device (/job:localhost/replica:0/task:0/device:GPU:0 with 0 MB memory) -> physical PluggableDevice (device: 0, name: METAL, pci bus id: <undefined>)\n"
     ]
    }
   ],
   "source": [
    "model = Sequential([\n",
    "    Dense(64, activation='relu', input_shape=(train_X.shape[1],)),  \n",
    "    Dropout(0.3),\n",
    "    Dense(128, activation='relu'),  \n",
    "    Dropout(0.4),\n",
    "    Dense(256, activation='relu'),  \n",
    "    Dropout(0.4),\n",
    "    Dense(64, activation='relu'),  \n",
    "    Dropout(0.3),\n",
    "    Dense(32, activation='relu'),  \n",
    "    Dropout(0.2),\n",
    "    Dense(1, activation='sigmoid') \n",
    "])\n",
    "\n",
    "model.compile(loss='binary_crossentropy', optimizer='adam',  metrics=['accuracy',Recall(),Precision()])\n",
    "# 모델 요약\n",
    "model.summary()"
   ]
  },
  {
   "cell_type": "code",
   "execution_count": 19,
   "id": "9da2a51f",
   "metadata": {
    "scrolled": true
   },
   "outputs": [
    {
     "name": "stdout",
     "output_type": "stream",
     "text": [
      "Epoch 1/30\n"
     ]
    },
    {
     "name": "stderr",
     "output_type": "stream",
     "text": [
      "2025-01-15 12:47:07.166694: W tensorflow/core/platform/profile_utils/cpu_utils.cc:128] Failed to get CPU frequency: 0 Hz\n",
      "2025-01-15 12:47:07.382227: I tensorflow/core/grappler/optimizers/custom_graph_optimizer_registry.cc:114] Plugin optimizer for device_type GPU is enabled.\n"
     ]
    },
    {
     "name": "stdout",
     "output_type": "stream",
     "text": [
      "117/125 [===========================>..] - ETA: 0s - loss: 0.6830 - accuracy: 0.5692 - recall: 0.5648 - precision: 0.5706"
     ]
    },
    {
     "name": "stderr",
     "output_type": "stream",
     "text": [
      "2025-01-15 12:47:08.552196: I tensorflow/core/grappler/optimizers/custom_graph_optimizer_registry.cc:114] Plugin optimizer for device_type GPU is enabled.\n"
     ]
    },
    {
     "name": "stdout",
     "output_type": "stream",
     "text": [
      "125/125 [==============================] - 2s 9ms/step - loss: 0.6829 - accuracy: 0.5695 - recall: 0.5630 - precision: 0.5704 - val_loss: 0.6672 - val_accuracy: 0.6310 - val_recall: 0.5868 - val_precision: 0.6746\n",
      "Epoch 2/30\n",
      "125/125 [==============================] - 1s 6ms/step - loss: 0.6618 - accuracy: 0.6168 - recall: 0.6480 - precision: 0.6099 - val_loss: 0.6573 - val_accuracy: 0.6410 - val_recall: 0.5887 - val_precision: 0.6887\n",
      "Epoch 3/30\n",
      "125/125 [==============================] - 1s 6ms/step - loss: 0.6609 - accuracy: 0.6220 - recall: 0.6435 - precision: 0.6170 - val_loss: 0.6572 - val_accuracy: 0.6380 - val_recall: 0.5792 - val_precision: 0.6883\n",
      "Epoch 4/30\n",
      "125/125 [==============================] - 1s 7ms/step - loss: 0.6566 - accuracy: 0.6302 - recall: 0.6520 - precision: 0.6248 - val_loss: 0.6523 - val_accuracy: 0.6250 - val_recall: 0.6925 - val_precision: 0.6339\n",
      "Epoch 5/30\n",
      "125/125 [==============================] - 1s 6ms/step - loss: 0.6540 - accuracy: 0.6340 - recall: 0.6795 - precision: 0.6228 - val_loss: 0.6508 - val_accuracy: 0.6330 - val_recall: 0.6453 - val_precision: 0.6564\n",
      "Epoch 6/30\n",
      "125/125 [==============================] - 1s 6ms/step - loss: 0.6538 - accuracy: 0.6273 - recall: 0.6600 - precision: 0.6194 - val_loss: 0.6519 - val_accuracy: 0.6320 - val_recall: 0.6415 - val_precision: 0.6564\n",
      "Epoch 7/30\n",
      "125/125 [==============================] - 1s 7ms/step - loss: 0.6531 - accuracy: 0.6298 - recall: 0.6640 - precision: 0.6214 - val_loss: 0.6545 - val_accuracy: 0.6300 - val_recall: 0.6170 - val_precision: 0.6619\n",
      "Epoch 8/30\n",
      "125/125 [==============================] - 1s 7ms/step - loss: 0.6512 - accuracy: 0.6323 - recall: 0.6505 - precision: 0.6276 - val_loss: 0.6484 - val_accuracy: 0.6270 - val_recall: 0.6830 - val_precision: 0.6384\n",
      "Epoch 9/30\n",
      "125/125 [==============================] - 1s 7ms/step - loss: 0.6518 - accuracy: 0.6338 - recall: 0.6455 - precision: 0.6307 - val_loss: 0.6484 - val_accuracy: 0.6300 - val_recall: 0.6887 - val_precision: 0.6404\n",
      "Epoch 10/30\n",
      "125/125 [==============================] - 1s 7ms/step - loss: 0.6506 - accuracy: 0.6342 - recall: 0.6795 - precision: 0.6231 - val_loss: 0.6556 - val_accuracy: 0.6430 - val_recall: 0.5925 - val_precision: 0.6901\n",
      "Epoch 11/30\n",
      "125/125 [==============================] - 1s 7ms/step - loss: 0.6521 - accuracy: 0.6330 - recall: 0.6565 - precision: 0.6270 - val_loss: 0.6548 - val_accuracy: 0.6400 - val_recall: 0.5868 - val_precision: 0.6881\n",
      "Epoch 12/30\n",
      "125/125 [==============================] - 1s 6ms/step - loss: 0.6490 - accuracy: 0.6395 - recall: 0.6650 - precision: 0.6327 - val_loss: 0.6616 - val_accuracy: 0.6320 - val_recall: 0.5396 - val_precision: 0.6976\n",
      "Epoch 13/30\n",
      "125/125 [==============================] - 1s 6ms/step - loss: 0.6462 - accuracy: 0.6352 - recall: 0.6415 - precision: 0.6336 - val_loss: 0.6471 - val_accuracy: 0.6350 - val_recall: 0.6075 - val_precision: 0.6722\n",
      "Epoch 14/30\n",
      "125/125 [==============================] - 1s 6ms/step - loss: 0.6472 - accuracy: 0.6350 - recall: 0.6635 - precision: 0.6277 - val_loss: 0.6614 - val_accuracy: 0.6350 - val_recall: 0.6113 - val_precision: 0.6708\n",
      "Epoch 15/30\n",
      "125/125 [==============================] - 1s 6ms/step - loss: 0.6528 - accuracy: 0.6332 - recall: 0.6620 - precision: 0.6260 - val_loss: 0.6472 - val_accuracy: 0.6310 - val_recall: 0.6434 - val_precision: 0.6545\n",
      "Epoch 16/30\n",
      "125/125 [==============================] - 1s 7ms/step - loss: 0.6477 - accuracy: 0.6363 - recall: 0.6820 - precision: 0.6248 - val_loss: 0.6463 - val_accuracy: 0.6350 - val_recall: 0.6717 - val_precision: 0.6508\n",
      "Epoch 17/30\n",
      "125/125 [==============================] - 1s 6ms/step - loss: 0.6490 - accuracy: 0.6355 - recall: 0.6635 - precision: 0.6283 - val_loss: 0.6561 - val_accuracy: 0.6420 - val_recall: 0.5811 - val_precision: 0.6937\n",
      "Epoch 18/30\n",
      "125/125 [==============================] - 1s 6ms/step - loss: 0.6491 - accuracy: 0.6348 - recall: 0.6610 - precision: 0.6280 - val_loss: 0.6482 - val_accuracy: 0.6340 - val_recall: 0.6792 - val_precision: 0.6475\n",
      "Epoch 19/30\n",
      "125/125 [==============================] - 1s 6ms/step - loss: 0.6486 - accuracy: 0.6352 - recall: 0.6500 - precision: 0.6314 - val_loss: 0.6499 - val_accuracy: 0.6250 - val_recall: 0.6906 - val_precision: 0.6343\n",
      "Epoch 20/30\n",
      "125/125 [==============================] - 1s 6ms/step - loss: 0.6473 - accuracy: 0.6370 - recall: 0.6725 - precision: 0.6279 - val_loss: 0.6541 - val_accuracy: 0.6380 - val_recall: 0.5906 - val_precision: 0.6834\n",
      "Epoch 21/30\n",
      "125/125 [==============================] - 1s 6ms/step - loss: 0.6463 - accuracy: 0.6380 - recall: 0.6675 - precision: 0.6303 - val_loss: 0.6563 - val_accuracy: 0.6390 - val_recall: 0.5717 - val_precision: 0.6934\n",
      "Epoch 22/30\n",
      "125/125 [==============================] - 1s 7ms/step - loss: 0.6482 - accuracy: 0.6375 - recall: 0.6565 - precision: 0.6325 - val_loss: 0.6474 - val_accuracy: 0.6360 - val_recall: 0.6226 - val_precision: 0.6680\n",
      "Epoch 23/30\n",
      "125/125 [==============================] - 1s 6ms/step - loss: 0.6463 - accuracy: 0.6375 - recall: 0.6725 - precision: 0.6285 - val_loss: 0.6540 - val_accuracy: 0.6310 - val_recall: 0.6057 - val_precision: 0.6674\n",
      "Epoch 24/30\n",
      "125/125 [==============================] - 1s 6ms/step - loss: 0.6489 - accuracy: 0.6400 - recall: 0.6595 - precision: 0.6347 - val_loss: 0.6470 - val_accuracy: 0.6380 - val_recall: 0.6283 - val_precision: 0.6687\n",
      "Epoch 25/30\n",
      "125/125 [==============================] - 1s 6ms/step - loss: 0.6482 - accuracy: 0.6335 - recall: 0.6685 - precision: 0.6248 - val_loss: 0.6530 - val_accuracy: 0.6330 - val_recall: 0.5981 - val_precision: 0.6730\n",
      "Epoch 26/30\n",
      "125/125 [==============================] - 1s 6ms/step - loss: 0.6475 - accuracy: 0.6352 - recall: 0.6625 - precision: 0.6283 - val_loss: 0.6476 - val_accuracy: 0.6330 - val_recall: 0.6717 - val_precision: 0.6485\n",
      "Epoch 27/30\n",
      "125/125 [==============================] - 1s 6ms/step - loss: 0.6459 - accuracy: 0.6375 - recall: 0.6735 - precision: 0.6283 - val_loss: 0.6475 - val_accuracy: 0.6330 - val_recall: 0.6094 - val_precision: 0.6687\n",
      "Epoch 28/30\n",
      "125/125 [==============================] - 1s 6ms/step - loss: 0.6451 - accuracy: 0.6403 - recall: 0.6620 - precision: 0.6344 - val_loss: 0.6469 - val_accuracy: 0.6370 - val_recall: 0.6340 - val_precision: 0.6653\n",
      "Epoch 29/30\n",
      "125/125 [==============================] - 1s 6ms/step - loss: 0.6448 - accuracy: 0.6403 - recall: 0.6745 - precision: 0.6313 - val_loss: 0.6515 - val_accuracy: 0.6390 - val_recall: 0.5868 - val_precision: 0.6865\n",
      "Epoch 30/30\n",
      "125/125 [==============================] - 1s 6ms/step - loss: 0.6475 - accuracy: 0.6352 - recall: 0.6430 - precision: 0.6332 - val_loss: 0.6503 - val_accuracy: 0.6390 - val_recall: 0.6019 - val_precision: 0.6802\n"
     ]
    }
   ],
   "source": [
    "history = model.fit(train_X, train_y, epochs=30, validation_split=0.2)"
   ]
  },
  {
   "cell_type": "code",
   "execution_count": 20,
   "id": "0696f05b",
   "metadata": {},
   "outputs": [
    {
     "name": "stdout",
     "output_type": "stream",
     "text": [
      "\r",
      "  1/113 [..............................] - ETA: 41s - loss: 0.6270 - accuracy: 0.6875 - recall: 0.7059 - precision: 0.7059"
     ]
    },
    {
     "name": "stderr",
     "output_type": "stream",
     "text": [
      "2025-01-15 12:47:32.083491: I tensorflow/core/grappler/optimizers/custom_graph_optimizer_registry.cc:114] Plugin optimizer for device_type GPU is enabled.\n"
     ]
    },
    {
     "name": "stdout",
     "output_type": "stream",
     "text": [
      "113/113 [==============================] - 2s 12ms/step - loss: 0.6466 - accuracy: 0.6374 - recall: 0.6195 - precision: 0.6342\n",
      "테스트 정확도: 0.6374\n"
     ]
    }
   ],
   "source": [
    "loss, accuracy, _, _, = model.evaluate(np.array(test_X), np.array(test_y))\n",
    "print(f\"테스트 정확도: {accuracy:.4f}\")"
   ]
  },
  {
   "cell_type": "code",
   "execution_count": 21,
   "id": "47a5aff7",
   "metadata": {},
   "outputs": [
    {
     "name": "stdout",
     "output_type": "stream",
     "text": [
      "113/113 [==============================] - 0s 1ms/step\n"
     ]
    },
    {
     "name": "stderr",
     "output_type": "stream",
     "text": [
      "2025-01-15 12:47:33.682014: I tensorflow/core/grappler/optimizers/custom_graph_optimizer_registry.cc:114] Plugin optimizer for device_type GPU is enabled.\n"
     ]
    }
   ],
   "source": [
    "y_hat = model.predict(test_X)"
   ]
  },
  {
   "cell_type": "code",
   "execution_count": 22,
   "id": "ab7d8059",
   "metadata": {},
   "outputs": [],
   "source": [
    "y_hat = y_hat.argmax(axis=1)"
   ]
  },
  {
   "cell_type": "code",
   "execution_count": 23,
   "id": "1f0cba46",
   "metadata": {},
   "outputs": [
    {
     "data": {
      "text/plain": [
       "((3608,), (3608,))"
      ]
     },
     "execution_count": 23,
     "metadata": {},
     "output_type": "execute_result"
    }
   ],
   "source": [
    "test_y.shape, y_hat.shape"
   ]
  },
  {
   "cell_type": "code",
   "execution_count": 24,
   "id": "50e5ee8a",
   "metadata": {},
   "outputs": [
    {
     "name": "stdout",
     "output_type": "stream",
     "text": [
      "F1 스코어: 0.5083\n"
     ]
    }
   ],
   "source": [
    "f1 = f1_score(test_y, y_hat, average='micro')\n",
    "print(f\"F1 스코어: {f1:.4f}\")"
   ]
  },
  {
   "cell_type": "markdown",
   "id": "f5c87dea",
   "metadata": {},
   "source": [
    "# 3시간 단위 예측 "
   ]
  },
  {
   "cell_type": "code",
   "execution_count": 25,
   "id": "7936f310",
   "metadata": {},
   "outputs": [],
   "source": [
    "asos_df = pd.read_csv('/Volumes/ESD-ISO/project_preson/LSTM/LSTM_data/ASOS_data_preprocessed_V2.csv', index_col=0)"
   ]
  },
  {
   "cell_type": "code",
   "execution_count": 26,
   "id": "f74a5ccb",
   "metadata": {},
   "outputs": [],
   "source": [
    "# rain_tomorrow 열을 rainy_day 열에서 3시간 이후 값을 가져와 생성\n",
    "asos_df['rain_tomorrow'] = asos_df['rainy_day'].shift(-3)"
   ]
  },
  {
   "cell_type": "code",
   "execution_count": 27,
   "id": "f3ad04b8",
   "metadata": {
    "collapsed": true
   },
   "outputs": [
    {
     "data": {
      "text/html": [
       "<div>\n",
       "<style scoped>\n",
       "    .dataframe tbody tr th:only-of-type {\n",
       "        vertical-align: middle;\n",
       "    }\n",
       "\n",
       "    .dataframe tbody tr th {\n",
       "        vertical-align: top;\n",
       "    }\n",
       "\n",
       "    .dataframe thead th {\n",
       "        text-align: right;\n",
       "    }\n",
       "</style>\n",
       "<table border=\"1\" class=\"dataframe\">\n",
       "  <thead>\n",
       "    <tr style=\"text-align: right;\">\n",
       "      <th></th>\n",
       "      <th>tm</th>\n",
       "      <th>hm</th>\n",
       "      <th>pv</th>\n",
       "      <th>ps</th>\n",
       "      <th>td</th>\n",
       "      <th>pa</th>\n",
       "      <th>dc10Tca</th>\n",
       "      <th>clfmAbbrCd</th>\n",
       "      <th>lcsCh</th>\n",
       "      <th>m005Te</th>\n",
       "      <th>m01Te</th>\n",
       "      <th>m02Te</th>\n",
       "      <th>m03Te</th>\n",
       "      <th>vs</th>\n",
       "      <th>ws</th>\n",
       "      <th>wd</th>\n",
       "      <th>rn</th>\n",
       "      <th>rainy_day</th>\n",
       "      <th>rain_tomorrow</th>\n",
       "    </tr>\n",
       "  </thead>\n",
       "  <tbody>\n",
       "    <tr>\n",
       "      <th>362</th>\n",
       "      <td>1980-04-04 15:00</td>\n",
       "      <td>55.0</td>\n",
       "      <td>13.3</td>\n",
       "      <td>1021.0</td>\n",
       "      <td>11.2</td>\n",
       "      <td>1010.7</td>\n",
       "      <td>10.0</td>\n",
       "      <td>ScAs</td>\n",
       "      <td>0.0</td>\n",
       "      <td>17.1</td>\n",
       "      <td>13.7</td>\n",
       "      <td>11.0</td>\n",
       "      <td>9.6</td>\n",
       "      <td>2000.0</td>\n",
       "      <td>7.8</td>\n",
       "      <td>200.0</td>\n",
       "      <td>0.0</td>\n",
       "      <td>0</td>\n",
       "      <td>1.0</td>\n",
       "    </tr>\n",
       "    <tr>\n",
       "      <th>363</th>\n",
       "      <td>1980-04-04 21:00</td>\n",
       "      <td>71.0</td>\n",
       "      <td>14.6</td>\n",
       "      <td>1020.3</td>\n",
       "      <td>12.6</td>\n",
       "      <td>1010.0</td>\n",
       "      <td>10.0</td>\n",
       "      <td>ScAs</td>\n",
       "      <td>0.0</td>\n",
       "      <td>14.5</td>\n",
       "      <td>13.8</td>\n",
       "      <td>12.5</td>\n",
       "      <td>11.2</td>\n",
       "      <td>1500.0</td>\n",
       "      <td>2.0</td>\n",
       "      <td>230.0</td>\n",
       "      <td>0.0</td>\n",
       "      <td>0</td>\n",
       "      <td>1.0</td>\n",
       "    </tr>\n",
       "    <tr>\n",
       "      <th>364</th>\n",
       "      <td>1980-04-05 03:00</td>\n",
       "      <td>69.0</td>\n",
       "      <td>14.1</td>\n",
       "      <td>1015.8</td>\n",
       "      <td>12.1</td>\n",
       "      <td>1005.6</td>\n",
       "      <td>10.0</td>\n",
       "      <td>As</td>\n",
       "      <td>0.0</td>\n",
       "      <td>13.5</td>\n",
       "      <td>13.1</td>\n",
       "      <td>12.5</td>\n",
       "      <td>11.3</td>\n",
       "      <td>1200.0</td>\n",
       "      <td>3.3</td>\n",
       "      <td>140.0</td>\n",
       "      <td>0.0</td>\n",
       "      <td>0</td>\n",
       "      <td>1.0</td>\n",
       "    </tr>\n",
       "    <tr>\n",
       "      <th>389</th>\n",
       "      <td>1980-04-11 09:00</td>\n",
       "      <td>66.0</td>\n",
       "      <td>8.2</td>\n",
       "      <td>1020.0</td>\n",
       "      <td>4.1</td>\n",
       "      <td>1009.4</td>\n",
       "      <td>10.0</td>\n",
       "      <td>Ci</td>\n",
       "      <td>0.0</td>\n",
       "      <td>9.3</td>\n",
       "      <td>8.8</td>\n",
       "      <td>10.1</td>\n",
       "      <td>10.6</td>\n",
       "      <td>700.0</td>\n",
       "      <td>1.5</td>\n",
       "      <td>50.0</td>\n",
       "      <td>0.0</td>\n",
       "      <td>0</td>\n",
       "      <td>1.0</td>\n",
       "    </tr>\n",
       "    <tr>\n",
       "      <th>390</th>\n",
       "      <td>1980-04-11 15:00</td>\n",
       "      <td>44.0</td>\n",
       "      <td>8.5</td>\n",
       "      <td>1018.4</td>\n",
       "      <td>4.6</td>\n",
       "      <td>1007.9</td>\n",
       "      <td>10.0</td>\n",
       "      <td>Ci</td>\n",
       "      <td>0.0</td>\n",
       "      <td>20.8</td>\n",
       "      <td>16.6</td>\n",
       "      <td>12.8</td>\n",
       "      <td>11.6</td>\n",
       "      <td>1800.0</td>\n",
       "      <td>3.0</td>\n",
       "      <td>230.0</td>\n",
       "      <td>0.0</td>\n",
       "      <td>0</td>\n",
       "      <td>1.0</td>\n",
       "    </tr>\n",
       "    <tr>\n",
       "      <th>...</th>\n",
       "      <td>...</td>\n",
       "      <td>...</td>\n",
       "      <td>...</td>\n",
       "      <td>...</td>\n",
       "      <td>...</td>\n",
       "      <td>...</td>\n",
       "      <td>...</td>\n",
       "      <td>...</td>\n",
       "      <td>...</td>\n",
       "      <td>...</td>\n",
       "      <td>...</td>\n",
       "      <td>...</td>\n",
       "      <td>...</td>\n",
       "      <td>...</td>\n",
       "      <td>...</td>\n",
       "      <td>...</td>\n",
       "      <td>...</td>\n",
       "      <td>...</td>\n",
       "      <td>...</td>\n",
       "    </tr>\n",
       "    <tr>\n",
       "      <th>43417</th>\n",
       "      <td>2024-12-21 06:00:00</td>\n",
       "      <td>94.0</td>\n",
       "      <td>6.3</td>\n",
       "      <td>1015.6</td>\n",
       "      <td>0.5</td>\n",
       "      <td>1004.9</td>\n",
       "      <td>9.0</td>\n",
       "      <td>Sc</td>\n",
       "      <td>5.0</td>\n",
       "      <td>-0.1</td>\n",
       "      <td>-0.4</td>\n",
       "      <td>0.7</td>\n",
       "      <td>1.8</td>\n",
       "      <td>201.0</td>\n",
       "      <td>3.4</td>\n",
       "      <td>270.0</td>\n",
       "      <td>0.7</td>\n",
       "      <td>1</td>\n",
       "      <td>1.0</td>\n",
       "    </tr>\n",
       "    <tr>\n",
       "      <th>43528</th>\n",
       "      <td>2024-12-25 21:00:00</td>\n",
       "      <td>69.0</td>\n",
       "      <td>6.1</td>\n",
       "      <td>1022.1</td>\n",
       "      <td>-0.1</td>\n",
       "      <td>1011.5</td>\n",
       "      <td>9.0</td>\n",
       "      <td>ScCi</td>\n",
       "      <td>8.0</td>\n",
       "      <td>-0.1</td>\n",
       "      <td>-0.3</td>\n",
       "      <td>1.0</td>\n",
       "      <td>2.0</td>\n",
       "      <td>2155.0</td>\n",
       "      <td>2.0</td>\n",
       "      <td>200.0</td>\n",
       "      <td>0.0</td>\n",
       "      <td>0</td>\n",
       "      <td>1.0</td>\n",
       "    </tr>\n",
       "    <tr>\n",
       "      <th>43650</th>\n",
       "      <td>2024-12-30 23:00:00</td>\n",
       "      <td>75.0</td>\n",
       "      <td>6.1</td>\n",
       "      <td>1016.0</td>\n",
       "      <td>0.0</td>\n",
       "      <td>1005.4</td>\n",
       "      <td>0.0</td>\n",
       "      <td>no_clouds</td>\n",
       "      <td>0.0</td>\n",
       "      <td>-0.1</td>\n",
       "      <td>-0.3</td>\n",
       "      <td>0.8</td>\n",
       "      <td>1.7</td>\n",
       "      <td>754.0</td>\n",
       "      <td>0.7</td>\n",
       "      <td>250.0</td>\n",
       "      <td>0.0</td>\n",
       "      <td>0</td>\n",
       "      <td>NaN</td>\n",
       "    </tr>\n",
       "    <tr>\n",
       "      <th>43651</th>\n",
       "      <td>2024-12-31 00:00:00</td>\n",
       "      <td>81.0</td>\n",
       "      <td>7.0</td>\n",
       "      <td>1015.8</td>\n",
       "      <td>1.8</td>\n",
       "      <td>1005.2</td>\n",
       "      <td>9.0</td>\n",
       "      <td>no_clouds</td>\n",
       "      <td>0.0</td>\n",
       "      <td>-0.1</td>\n",
       "      <td>-0.3</td>\n",
       "      <td>0.8</td>\n",
       "      <td>1.7</td>\n",
       "      <td>563.0</td>\n",
       "      <td>2.3</td>\n",
       "      <td>250.0</td>\n",
       "      <td>0.0</td>\n",
       "      <td>0</td>\n",
       "      <td>NaN</td>\n",
       "    </tr>\n",
       "    <tr>\n",
       "      <th>43652</th>\n",
       "      <td>2024-12-31 01:00:00</td>\n",
       "      <td>65.0</td>\n",
       "      <td>5.2</td>\n",
       "      <td>1016.2</td>\n",
       "      <td>-2.1</td>\n",
       "      <td>1005.6</td>\n",
       "      <td>0.0</td>\n",
       "      <td>no_clouds</td>\n",
       "      <td>0.0</td>\n",
       "      <td>-0.1</td>\n",
       "      <td>-0.3</td>\n",
       "      <td>0.8</td>\n",
       "      <td>1.7</td>\n",
       "      <td>909.0</td>\n",
       "      <td>2.5</td>\n",
       "      <td>270.0</td>\n",
       "      <td>0.0</td>\n",
       "      <td>0</td>\n",
       "      <td>NaN</td>\n",
       "    </tr>\n",
       "  </tbody>\n",
       "</table>\n",
       "<p>4307 rows × 19 columns</p>\n",
       "</div>"
      ],
      "text/plain": [
       "                        tm    hm    pv      ps    td      pa  dc10Tca  \\\n",
       "362       1980-04-04 15:00  55.0  13.3  1021.0  11.2  1010.7     10.0   \n",
       "363       1980-04-04 21:00  71.0  14.6  1020.3  12.6  1010.0     10.0   \n",
       "364       1980-04-05 03:00  69.0  14.1  1015.8  12.1  1005.6     10.0   \n",
       "389       1980-04-11 09:00  66.0   8.2  1020.0   4.1  1009.4     10.0   \n",
       "390       1980-04-11 15:00  44.0   8.5  1018.4   4.6  1007.9     10.0   \n",
       "...                    ...   ...   ...     ...   ...     ...      ...   \n",
       "43417  2024-12-21 06:00:00  94.0   6.3  1015.6   0.5  1004.9      9.0   \n",
       "43528  2024-12-25 21:00:00  69.0   6.1  1022.1  -0.1  1011.5      9.0   \n",
       "43650  2024-12-30 23:00:00  75.0   6.1  1016.0   0.0  1005.4      0.0   \n",
       "43651  2024-12-31 00:00:00  81.0   7.0  1015.8   1.8  1005.2      9.0   \n",
       "43652  2024-12-31 01:00:00  65.0   5.2  1016.2  -2.1  1005.6      0.0   \n",
       "\n",
       "      clfmAbbrCd  lcsCh  m005Te  m01Te  m02Te  m03Te      vs   ws     wd   rn  \\\n",
       "362         ScAs    0.0    17.1   13.7   11.0    9.6  2000.0  7.8  200.0  0.0   \n",
       "363         ScAs    0.0    14.5   13.8   12.5   11.2  1500.0  2.0  230.0  0.0   \n",
       "364           As    0.0    13.5   13.1   12.5   11.3  1200.0  3.3  140.0  0.0   \n",
       "389           Ci    0.0     9.3    8.8   10.1   10.6   700.0  1.5   50.0  0.0   \n",
       "390           Ci    0.0    20.8   16.6   12.8   11.6  1800.0  3.0  230.0  0.0   \n",
       "...          ...    ...     ...    ...    ...    ...     ...  ...    ...  ...   \n",
       "43417         Sc    5.0    -0.1   -0.4    0.7    1.8   201.0  3.4  270.0  0.7   \n",
       "43528       ScCi    8.0    -0.1   -0.3    1.0    2.0  2155.0  2.0  200.0  0.0   \n",
       "43650  no_clouds    0.0    -0.1   -0.3    0.8    1.7   754.0  0.7  250.0  0.0   \n",
       "43651  no_clouds    0.0    -0.1   -0.3    0.8    1.7   563.0  2.3  250.0  0.0   \n",
       "43652  no_clouds    0.0    -0.1   -0.3    0.8    1.7   909.0  2.5  270.0  0.0   \n",
       "\n",
       "       rainy_day  rain_tomorrow  \n",
       "362            0            1.0  \n",
       "363            0            1.0  \n",
       "364            0            1.0  \n",
       "389            0            1.0  \n",
       "390            0            1.0  \n",
       "...          ...            ...  \n",
       "43417          1            1.0  \n",
       "43528          0            1.0  \n",
       "43650          0            NaN  \n",
       "43651          0            NaN  \n",
       "43652          0            NaN  \n",
       "\n",
       "[4307 rows x 19 columns]"
      ]
     },
     "execution_count": 27,
     "metadata": {},
     "output_type": "execute_result"
    }
   ],
   "source": [
    "asos_df[asos_df['rain_tomorrow']!=0]"
   ]
  },
  {
   "cell_type": "code",
   "execution_count": 28,
   "id": "a247ec47",
   "metadata": {},
   "outputs": [],
   "source": [
    "asos_df.drop(index=asos_df[asos_df['rain_tomorrow'].isna()].index, inplace=True)"
   ]
  },
  {
   "cell_type": "code",
   "execution_count": 29,
   "id": "0ee432a3",
   "metadata": {},
   "outputs": [],
   "source": [
    "asos_df = asos_df.sample(frac=1, random_state=20250113).reset_index(drop=True)"
   ]
  },
  {
   "cell_type": "code",
   "execution_count": 30,
   "id": "19449122",
   "metadata": {},
   "outputs": [],
   "source": [
    "rain_data = asos_df[asos_df['rain_tomorrow']==1].loc[:, ['hm','pv','td','pa','m005Te','m01Te','m02Te','m03Te','clfmAbbrCd','lcsCh','rain_tomorrow']]"
   ]
  },
  {
   "cell_type": "code",
   "execution_count": 31,
   "id": "e9514e01",
   "metadata": {
    "collapsed": true
   },
   "outputs": [
    {
     "data": {
      "text/html": [
       "<div>\n",
       "<style scoped>\n",
       "    .dataframe tbody tr th:only-of-type {\n",
       "        vertical-align: middle;\n",
       "    }\n",
       "\n",
       "    .dataframe tbody tr th {\n",
       "        vertical-align: top;\n",
       "    }\n",
       "\n",
       "    .dataframe thead th {\n",
       "        text-align: right;\n",
       "    }\n",
       "</style>\n",
       "<table border=\"1\" class=\"dataframe\">\n",
       "  <thead>\n",
       "    <tr style=\"text-align: right;\">\n",
       "      <th></th>\n",
       "      <th>hm</th>\n",
       "      <th>pv</th>\n",
       "      <th>td</th>\n",
       "      <th>pa</th>\n",
       "      <th>m005Te</th>\n",
       "      <th>m01Te</th>\n",
       "      <th>m02Te</th>\n",
       "      <th>m03Te</th>\n",
       "      <th>clfmAbbrCd</th>\n",
       "      <th>lcsCh</th>\n",
       "      <th>rain_tomorrow</th>\n",
       "    </tr>\n",
       "  </thead>\n",
       "  <tbody>\n",
       "    <tr>\n",
       "      <th>36</th>\n",
       "      <td>99.0</td>\n",
       "      <td>21.8</td>\n",
       "      <td>18.9</td>\n",
       "      <td>1001.3</td>\n",
       "      <td>20.2</td>\n",
       "      <td>20.0</td>\n",
       "      <td>19.7</td>\n",
       "      <td>19.9</td>\n",
       "      <td>StNs</td>\n",
       "      <td>2.0</td>\n",
       "      <td>1.0</td>\n",
       "    </tr>\n",
       "    <tr>\n",
       "      <th>37</th>\n",
       "      <td>96.0</td>\n",
       "      <td>31.2</td>\n",
       "      <td>24.7</td>\n",
       "      <td>996.4</td>\n",
       "      <td>26.9</td>\n",
       "      <td>26.5</td>\n",
       "      <td>25.3</td>\n",
       "      <td>24.8</td>\n",
       "      <td>StNs</td>\n",
       "      <td>6.0</td>\n",
       "      <td>1.0</td>\n",
       "    </tr>\n",
       "    <tr>\n",
       "      <th>48</th>\n",
       "      <td>93.0</td>\n",
       "      <td>29.7</td>\n",
       "      <td>23.9</td>\n",
       "      <td>987.9</td>\n",
       "      <td>27.5</td>\n",
       "      <td>27.5</td>\n",
       "      <td>26.6</td>\n",
       "      <td>26.3</td>\n",
       "      <td>StNs</td>\n",
       "      <td>2.0</td>\n",
       "      <td>1.0</td>\n",
       "    </tr>\n",
       "    <tr>\n",
       "      <th>50</th>\n",
       "      <td>91.0</td>\n",
       "      <td>23.5</td>\n",
       "      <td>20.1</td>\n",
       "      <td>984.6</td>\n",
       "      <td>25.3</td>\n",
       "      <td>25.7</td>\n",
       "      <td>26.2</td>\n",
       "      <td>27.2</td>\n",
       "      <td>StNs</td>\n",
       "      <td>7.0</td>\n",
       "      <td>1.0</td>\n",
       "    </tr>\n",
       "    <tr>\n",
       "      <th>102</th>\n",
       "      <td>55.0</td>\n",
       "      <td>6.3</td>\n",
       "      <td>0.5</td>\n",
       "      <td>1006.4</td>\n",
       "      <td>4.2</td>\n",
       "      <td>3.8</td>\n",
       "      <td>3.3</td>\n",
       "      <td>3.6</td>\n",
       "      <td>ScAs</td>\n",
       "      <td>6.0</td>\n",
       "      <td>1.0</td>\n",
       "    </tr>\n",
       "    <tr>\n",
       "      <th>...</th>\n",
       "      <td>...</td>\n",
       "      <td>...</td>\n",
       "      <td>...</td>\n",
       "      <td>...</td>\n",
       "      <td>...</td>\n",
       "      <td>...</td>\n",
       "      <td>...</td>\n",
       "      <td>...</td>\n",
       "      <td>...</td>\n",
       "      <td>...</td>\n",
       "      <td>...</td>\n",
       "    </tr>\n",
       "    <tr>\n",
       "      <th>60648</th>\n",
       "      <td>97.0</td>\n",
       "      <td>29.7</td>\n",
       "      <td>23.9</td>\n",
       "      <td>994.3</td>\n",
       "      <td>26.2</td>\n",
       "      <td>25.9</td>\n",
       "      <td>25.9</td>\n",
       "      <td>25.8</td>\n",
       "      <td>StNs</td>\n",
       "      <td>5.0</td>\n",
       "      <td>1.0</td>\n",
       "    </tr>\n",
       "    <tr>\n",
       "      <th>60671</th>\n",
       "      <td>94.0</td>\n",
       "      <td>31.1</td>\n",
       "      <td>24.7</td>\n",
       "      <td>998.0</td>\n",
       "      <td>27.2</td>\n",
       "      <td>27.1</td>\n",
       "      <td>25.5</td>\n",
       "      <td>25.2</td>\n",
       "      <td>StNs</td>\n",
       "      <td>3.0</td>\n",
       "      <td>1.0</td>\n",
       "    </tr>\n",
       "    <tr>\n",
       "      <th>60681</th>\n",
       "      <td>99.0</td>\n",
       "      <td>30.4</td>\n",
       "      <td>24.3</td>\n",
       "      <td>997.5</td>\n",
       "      <td>26.3</td>\n",
       "      <td>26.5</td>\n",
       "      <td>26.1</td>\n",
       "      <td>26.5</td>\n",
       "      <td>StNs</td>\n",
       "      <td>4.0</td>\n",
       "      <td>1.0</td>\n",
       "    </tr>\n",
       "    <tr>\n",
       "      <th>60715</th>\n",
       "      <td>83.0</td>\n",
       "      <td>22.1</td>\n",
       "      <td>19.1</td>\n",
       "      <td>1000.3</td>\n",
       "      <td>22.6</td>\n",
       "      <td>23.0</td>\n",
       "      <td>23.4</td>\n",
       "      <td>23.5</td>\n",
       "      <td>StNs</td>\n",
       "      <td>0.0</td>\n",
       "      <td>1.0</td>\n",
       "    </tr>\n",
       "    <tr>\n",
       "      <th>60732</th>\n",
       "      <td>92.0</td>\n",
       "      <td>5.1</td>\n",
       "      <td>-2.4</td>\n",
       "      <td>1003.3</td>\n",
       "      <td>0.0</td>\n",
       "      <td>-0.3</td>\n",
       "      <td>0.2</td>\n",
       "      <td>1.6</td>\n",
       "      <td>StNs</td>\n",
       "      <td>4.0</td>\n",
       "      <td>1.0</td>\n",
       "    </tr>\n",
       "  </tbody>\n",
       "</table>\n",
       "<p>4304 rows × 11 columns</p>\n",
       "</div>"
      ],
      "text/plain": [
       "         hm    pv    td      pa  m005Te  m01Te  m02Te  m03Te clfmAbbrCd  \\\n",
       "36     99.0  21.8  18.9  1001.3    20.2   20.0   19.7   19.9       StNs   \n",
       "37     96.0  31.2  24.7   996.4    26.9   26.5   25.3   24.8       StNs   \n",
       "48     93.0  29.7  23.9   987.9    27.5   27.5   26.6   26.3       StNs   \n",
       "50     91.0  23.5  20.1   984.6    25.3   25.7   26.2   27.2       StNs   \n",
       "102    55.0   6.3   0.5  1006.4     4.2    3.8    3.3    3.6       ScAs   \n",
       "...     ...   ...   ...     ...     ...    ...    ...    ...        ...   \n",
       "60648  97.0  29.7  23.9   994.3    26.2   25.9   25.9   25.8       StNs   \n",
       "60671  94.0  31.1  24.7   998.0    27.2   27.1   25.5   25.2       StNs   \n",
       "60681  99.0  30.4  24.3   997.5    26.3   26.5   26.1   26.5       StNs   \n",
       "60715  83.0  22.1  19.1  1000.3    22.6   23.0   23.4   23.5       StNs   \n",
       "60732  92.0   5.1  -2.4  1003.3     0.0   -0.3    0.2    1.6       StNs   \n",
       "\n",
       "       lcsCh  rain_tomorrow  \n",
       "36       2.0            1.0  \n",
       "37       6.0            1.0  \n",
       "48       2.0            1.0  \n",
       "50       7.0            1.0  \n",
       "102      6.0            1.0  \n",
       "...      ...            ...  \n",
       "60648    5.0            1.0  \n",
       "60671    3.0            1.0  \n",
       "60681    4.0            1.0  \n",
       "60715    0.0            1.0  \n",
       "60732    4.0            1.0  \n",
       "\n",
       "[4304 rows x 11 columns]"
      ]
     },
     "execution_count": 31,
     "metadata": {},
     "output_type": "execute_result"
    }
   ],
   "source": [
    "rain_data"
   ]
  },
  {
   "cell_type": "code",
   "execution_count": 32,
   "id": "cfffd6ce",
   "metadata": {},
   "outputs": [],
   "source": [
    "no_rain_data = asos_df[asos_df['rain_tomorrow']==0].sample(n=4304).loc[:,['hm','pv','td','pa','m005Te','m01Te','m02Te','m03Te','clfmAbbrCd','lcsCh','rain_tomorrow']]"
   ]
  },
  {
   "cell_type": "code",
   "execution_count": 33,
   "id": "e94d2a3e",
   "metadata": {},
   "outputs": [],
   "source": [
    "data = pd.concat([rain_data, no_rain_data])"
   ]
  },
  {
   "cell_type": "code",
   "execution_count": 34,
   "id": "a93a50a6",
   "metadata": {},
   "outputs": [],
   "source": [
    "data = data.sample(frac=1).reset_index(drop=True)"
   ]
  },
  {
   "cell_type": "code",
   "execution_count": 35,
   "id": "282703a3",
   "metadata": {
    "collapsed": true
   },
   "outputs": [
    {
     "name": "stdout",
     "output_type": "stream",
     "text": [
      "<class 'pandas.core.frame.DataFrame'>\n",
      "RangeIndex: 8608 entries, 0 to 8607\n",
      "Data columns (total 11 columns):\n",
      " #   Column         Non-Null Count  Dtype  \n",
      "---  ------         --------------  -----  \n",
      " 0   hm             8608 non-null   float64\n",
      " 1   pv             8608 non-null   float64\n",
      " 2   td             8608 non-null   float64\n",
      " 3   pa             8608 non-null   float64\n",
      " 4   m005Te         8608 non-null   float64\n",
      " 5   m01Te          8608 non-null   float64\n",
      " 6   m02Te          8608 non-null   float64\n",
      " 7   m03Te          8608 non-null   float64\n",
      " 8   clfmAbbrCd     8608 non-null   object \n",
      " 9   lcsCh          8608 non-null   float64\n",
      " 10  rain_tomorrow  8608 non-null   float64\n",
      "dtypes: float64(10), object(1)\n",
      "memory usage: 739.9+ KB\n"
     ]
    }
   ],
   "source": [
    "data.info()"
   ]
  },
  {
   "cell_type": "code",
   "execution_count": 36,
   "id": "fa7f6aa5",
   "metadata": {},
   "outputs": [],
   "source": [
    "encoder = LabelEncoder()\n",
    "data.clfmAbbrCd = encoder.fit_transform(data.clfmAbbrCd)"
   ]
  },
  {
   "cell_type": "code",
   "execution_count": 37,
   "id": "5222a9f9",
   "metadata": {},
   "outputs": [],
   "source": [
    "train_X = data.iloc[:5000,:-1]\n",
    "train_y = data.iloc[:5000,-1]\n",
    "test_X = data.iloc[5000:,:-1]\n",
    "test_y = data.iloc[5000:,-1]"
   ]
  },
  {
   "cell_type": "code",
   "execution_count": 38,
   "id": "871ca4f6",
   "metadata": {},
   "outputs": [],
   "source": [
    "scaler = MinMaxScaler()\n",
    "train_X = scaler.fit_transform(train_X)\n",
    "test_X = scaler.fit_transform(test_X)"
   ]
  },
  {
   "cell_type": "code",
   "execution_count": 39,
   "id": "37b333d3",
   "metadata": {},
   "outputs": [
    {
     "data": {
      "text/plain": [
       "((5000, 10), (3608, 10), (5000,), (3608,))"
      ]
     },
     "execution_count": 39,
     "metadata": {},
     "output_type": "execute_result"
    }
   ],
   "source": [
    "train_X.shape, test_X.shape, train_y.shape, test_y.shape"
   ]
  },
  {
   "cell_type": "code",
   "execution_count": 40,
   "id": "5bda6f1e",
   "metadata": {
    "collapsed": true
   },
   "outputs": [
    {
     "name": "stdout",
     "output_type": "stream",
     "text": [
      "Model: \"sequential_1\"\n",
      "_________________________________________________________________\n",
      " Layer (type)                Output Shape              Param #   \n",
      "=================================================================\n",
      " dense_6 (Dense)             (None, 64)                704       \n",
      "                                                                 \n",
      " dropout_5 (Dropout)         (None, 64)                0         \n",
      "                                                                 \n",
      " dense_7 (Dense)             (None, 128)               8320      \n",
      "                                                                 \n",
      " dropout_6 (Dropout)         (None, 128)               0         \n",
      "                                                                 \n",
      " dense_8 (Dense)             (None, 256)               33024     \n",
      "                                                                 \n",
      " dropout_7 (Dropout)         (None, 256)               0         \n",
      "                                                                 \n",
      " dense_9 (Dense)             (None, 64)                16448     \n",
      "                                                                 \n",
      " dropout_8 (Dropout)         (None, 64)                0         \n",
      "                                                                 \n",
      " dense_10 (Dense)            (None, 32)                2080      \n",
      "                                                                 \n",
      " dropout_9 (Dropout)         (None, 32)                0         \n",
      "                                                                 \n",
      " dense_11 (Dense)            (None, 1)                 33        \n",
      "                                                                 \n",
      "=================================================================\n",
      "Total params: 60,609\n",
      "Trainable params: 60,609\n",
      "Non-trainable params: 0\n",
      "_________________________________________________________________\n"
     ]
    }
   ],
   "source": [
    "model = Sequential([\n",
    "    Dense(64, activation='relu', input_shape=(train_X.shape[1],)),  \n",
    "    Dropout(0.3),\n",
    "    Dense(128, activation='relu'),  \n",
    "    Dropout(0.4),\n",
    "    Dense(256, activation='relu'),  \n",
    "    Dropout(0.4),\n",
    "    Dense(64, activation='relu'),  \n",
    "    Dropout(0.3),\n",
    "    Dense(32, activation='relu'),  \n",
    "    Dropout(0.2),\n",
    "    Dense(1, activation='sigmoid') \n",
    "])\n",
    "\n",
    "model.compile(loss='binary_crossentropy', optimizer='adam',  metrics=['accuracy',Recall(),Precision()])\n",
    "# 모델 요약\n",
    "model.summary()"
   ]
  },
  {
   "cell_type": "code",
   "execution_count": 41,
   "id": "7c8d0826",
   "metadata": {
    "collapsed": true
   },
   "outputs": [
    {
     "name": "stdout",
     "output_type": "stream",
     "text": [
      "Epoch 1/30\n"
     ]
    },
    {
     "name": "stderr",
     "output_type": "stream",
     "text": [
      "2025-01-15 12:47:34.324749: I tensorflow/core/grappler/optimizers/custom_graph_optimizer_registry.cc:114] Plugin optimizer for device_type GPU is enabled.\n"
     ]
    },
    {
     "name": "stdout",
     "output_type": "stream",
     "text": [
      "123/125 [============================>.] - ETA: 0s - loss: 0.6423 - accuracy: 0.6334 - recall_1: 0.6307 - precision_1: 0.6284"
     ]
    },
    {
     "name": "stderr",
     "output_type": "stream",
     "text": [
      "2025-01-15 12:47:35.466084: I tensorflow/core/grappler/optimizers/custom_graph_optimizer_registry.cc:114] Plugin optimizer for device_type GPU is enabled.\n"
     ]
    },
    {
     "name": "stdout",
     "output_type": "stream",
     "text": [
      "125/125 [==============================] - 2s 9ms/step - loss: 0.6413 - accuracy: 0.6342 - recall_1: 0.6326 - precision_1: 0.6298 - val_loss: 0.5695 - val_accuracy: 0.7290 - val_recall_1: 0.7396 - val_precision_1: 0.7266\n",
      "Epoch 2/30\n",
      "125/125 [==============================] - 1s 6ms/step - loss: 0.5737 - accuracy: 0.7097 - recall_1: 0.6983 - precision_1: 0.7102 - val_loss: 0.5614 - val_accuracy: 0.7230 - val_recall_1: 0.6243 - val_precision_1: 0.7811\n",
      "Epoch 3/30\n",
      "125/125 [==============================] - 1s 7ms/step - loss: 0.5577 - accuracy: 0.7100 - recall_1: 0.6973 - precision_1: 0.7110 - val_loss: 0.5334 - val_accuracy: 0.7270 - val_recall_1: 0.6819 - val_precision_1: 0.7522\n",
      "Epoch 4/30\n",
      "125/125 [==============================] - 1s 7ms/step - loss: 0.5481 - accuracy: 0.7172 - recall_1: 0.6710 - precision_1: 0.7345 - val_loss: 0.5382 - val_accuracy: 0.7250 - val_recall_1: 0.7276 - val_precision_1: 0.7262\n",
      "Epoch 5/30\n",
      "125/125 [==============================] - 1s 6ms/step - loss: 0.5481 - accuracy: 0.7247 - recall_1: 0.6887 - precision_1: 0.7376 - val_loss: 0.5278 - val_accuracy: 0.7220 - val_recall_1: 0.6680 - val_precision_1: 0.7517\n",
      "Epoch 6/30\n",
      "125/125 [==============================] - 1s 6ms/step - loss: 0.5364 - accuracy: 0.7245 - recall_1: 0.6913 - precision_1: 0.7359 - val_loss: 0.5258 - val_accuracy: 0.7310 - val_recall_1: 0.6481 - val_precision_1: 0.7799\n",
      "Epoch 7/30\n",
      "125/125 [==============================] - 1s 6ms/step - loss: 0.5346 - accuracy: 0.7237 - recall_1: 0.6655 - precision_1: 0.7483 - val_loss: 0.5204 - val_accuracy: 0.7290 - val_recall_1: 0.6720 - val_precision_1: 0.7613\n",
      "Epoch 8/30\n",
      "125/125 [==============================] - 1s 7ms/step - loss: 0.5312 - accuracy: 0.7228 - recall_1: 0.6549 - precision_1: 0.7526 - val_loss: 0.5200 - val_accuracy: 0.7310 - val_recall_1: 0.6342 - val_precision_1: 0.7896\n",
      "Epoch 9/30\n",
      "125/125 [==============================] - 1s 6ms/step - loss: 0.5269 - accuracy: 0.7335 - recall_1: 0.6710 - precision_1: 0.7619 - val_loss: 0.5294 - val_accuracy: 0.7230 - val_recall_1: 0.6064 - val_precision_1: 0.7943\n",
      "Epoch 10/30\n",
      "125/125 [==============================] - 1s 6ms/step - loss: 0.5287 - accuracy: 0.7283 - recall_1: 0.6781 - precision_1: 0.7489 - val_loss: 0.5189 - val_accuracy: 0.7340 - val_recall_1: 0.6660 - val_precision_1: 0.7737\n",
      "Epoch 11/30\n",
      "125/125 [==============================] - 1s 6ms/step - loss: 0.5333 - accuracy: 0.7297 - recall_1: 0.6670 - precision_1: 0.7577 - val_loss: 0.5192 - val_accuracy: 0.7290 - val_recall_1: 0.6382 - val_precision_1: 0.7829\n",
      "Epoch 12/30\n",
      "125/125 [==============================] - 1s 6ms/step - loss: 0.5257 - accuracy: 0.7318 - recall_1: 0.6781 - precision_1: 0.7548 - val_loss: 0.5167 - val_accuracy: 0.7320 - val_recall_1: 0.6680 - val_precision_1: 0.7689\n",
      "Epoch 13/30\n",
      "125/125 [==============================] - 1s 7ms/step - loss: 0.5212 - accuracy: 0.7340 - recall_1: 0.6726 - precision_1: 0.7619 - val_loss: 0.5245 - val_accuracy: 0.7230 - val_recall_1: 0.6163 - val_precision_1: 0.7868\n",
      "Epoch 14/30\n",
      "125/125 [==============================] - 1s 6ms/step - loss: 0.5269 - accuracy: 0.7272 - recall_1: 0.6478 - precision_1: 0.7649 - val_loss: 0.5281 - val_accuracy: 0.7370 - val_recall_1: 0.7137 - val_precision_1: 0.7510\n",
      "Epoch 15/30\n",
      "125/125 [==============================] - 1s 6ms/step - loss: 0.5265 - accuracy: 0.7258 - recall_1: 0.6655 - precision_1: 0.7517 - val_loss: 0.5201 - val_accuracy: 0.7410 - val_recall_1: 0.7237 - val_precision_1: 0.7521\n",
      "Epoch 16/30\n",
      "125/125 [==============================] - 1s 7ms/step - loss: 0.5245 - accuracy: 0.7305 - recall_1: 0.6801 - precision_1: 0.7515 - val_loss: 0.5154 - val_accuracy: 0.7330 - val_recall_1: 0.6720 - val_precision_1: 0.7682\n",
      "Epoch 17/30\n",
      "125/125 [==============================] - 1s 6ms/step - loss: 0.5218 - accuracy: 0.7352 - recall_1: 0.6655 - precision_1: 0.7684 - val_loss: 0.5257 - val_accuracy: 0.7200 - val_recall_1: 0.5646 - val_precision_1: 0.8232\n",
      "Epoch 18/30\n",
      "125/125 [==============================] - 1s 6ms/step - loss: 0.5208 - accuracy: 0.7343 - recall_1: 0.6741 - precision_1: 0.7614 - val_loss: 0.5131 - val_accuracy: 0.7310 - val_recall_1: 0.6521 - val_precision_1: 0.7773\n",
      "Epoch 19/30\n",
      "125/125 [==============================] - 1s 6ms/step - loss: 0.5177 - accuracy: 0.7360 - recall_1: 0.6837 - precision_1: 0.7588 - val_loss: 0.5166 - val_accuracy: 0.7230 - val_recall_1: 0.6123 - val_precision_1: 0.7897\n",
      "Epoch 20/30\n",
      "125/125 [==============================] - 1s 6ms/step - loss: 0.5187 - accuracy: 0.7303 - recall_1: 0.6599 - precision_1: 0.7629 - val_loss: 0.5116 - val_accuracy: 0.7230 - val_recall_1: 0.6223 - val_precision_1: 0.7825\n",
      "Epoch 21/30\n",
      "125/125 [==============================] - 1s 6ms/step - loss: 0.5216 - accuracy: 0.7305 - recall_1: 0.6604 - precision_1: 0.7630 - val_loss: 0.5173 - val_accuracy: 0.7280 - val_recall_1: 0.6402 - val_precision_1: 0.7797\n",
      "Epoch 22/30\n",
      "125/125 [==============================] - 1s 6ms/step - loss: 0.5173 - accuracy: 0.7372 - recall_1: 0.6731 - precision_1: 0.7673 - val_loss: 0.5156 - val_accuracy: 0.7240 - val_recall_1: 0.6342 - val_precision_1: 0.7762\n",
      "Epoch 23/30\n",
      "125/125 [==============================] - 1s 6ms/step - loss: 0.5149 - accuracy: 0.7385 - recall_1: 0.6665 - precision_1: 0.7736 - val_loss: 0.5089 - val_accuracy: 0.7300 - val_recall_1: 0.6421 - val_precision_1: 0.7821\n",
      "Epoch 24/30\n",
      "125/125 [==============================] - 1s 6ms/step - loss: 0.5162 - accuracy: 0.7368 - recall_1: 0.6786 - precision_1: 0.7631 - val_loss: 0.5095 - val_accuracy: 0.7290 - val_recall_1: 0.6541 - val_precision_1: 0.7723\n",
      "Epoch 25/30\n",
      "125/125 [==============================] - 1s 6ms/step - loss: 0.5150 - accuracy: 0.7275 - recall_1: 0.6776 - precision_1: 0.7479 - val_loss: 0.5111 - val_accuracy: 0.7240 - val_recall_1: 0.6421 - val_precision_1: 0.7709\n",
      "Epoch 26/30\n",
      "125/125 [==============================] - 1s 6ms/step - loss: 0.5127 - accuracy: 0.7433 - recall_1: 0.7100 - precision_1: 0.7562 - val_loss: 0.5136 - val_accuracy: 0.7310 - val_recall_1: 0.6163 - val_precision_1: 0.8031\n",
      "Epoch 27/30\n",
      "125/125 [==============================] - 1s 6ms/step - loss: 0.5118 - accuracy: 0.7420 - recall_1: 0.6928 - precision_1: 0.7638 - val_loss: 0.5243 - val_accuracy: 0.7250 - val_recall_1: 0.6004 - val_precision_1: 0.8032\n",
      "Epoch 28/30\n",
      "125/125 [==============================] - 1s 6ms/step - loss: 0.5133 - accuracy: 0.7375 - recall_1: 0.6887 - precision_1: 0.7585 - val_loss: 0.5099 - val_accuracy: 0.7350 - val_recall_1: 0.7455 - val_precision_1: 0.7324\n",
      "Epoch 29/30\n",
      "125/125 [==============================] - 1s 6ms/step - loss: 0.5160 - accuracy: 0.7385 - recall_1: 0.6943 - precision_1: 0.7570 - val_loss: 0.5100 - val_accuracy: 0.7380 - val_recall_1: 0.7376 - val_precision_1: 0.7405\n",
      "Epoch 30/30\n",
      "125/125 [==============================] - 1s 6ms/step - loss: 0.5122 - accuracy: 0.7395 - recall_1: 0.6983 - precision_1: 0.7564 - val_loss: 0.5070 - val_accuracy: 0.7310 - val_recall_1: 0.6680 - val_precision_1: 0.7671\n"
     ]
    }
   ],
   "source": [
    "history = model.fit(train_X, train_y, epochs=30, validation_split=0.2)"
   ]
  },
  {
   "cell_type": "code",
   "execution_count": 42,
   "id": "d9ff572f",
   "metadata": {
    "collapsed": true
   },
   "outputs": [
    {
     "name": "stdout",
     "output_type": "stream",
     "text": [
      "\r",
      "  1/113 [..............................] - ETA: 34s - loss: 0.5538 - accuracy: 0.7500 - recall_1: 0.7333 - precision_1: 0.7333"
     ]
    },
    {
     "name": "stderr",
     "output_type": "stream",
     "text": [
      "2025-01-15 12:47:58.630890: I tensorflow/core/grappler/optimizers/custom_graph_optimizer_registry.cc:114] Plugin optimizer for device_type GPU is enabled.\n"
     ]
    },
    {
     "name": "stdout",
     "output_type": "stream",
     "text": [
      "113/113 [==============================] - 2s 12ms/step - loss: 0.5200 - accuracy: 0.7367 - recall_1: 0.6877 - precision_1: 0.7673\n",
      "테스트 정확도: 0.7367\n"
     ]
    }
   ],
   "source": [
    "loss, accuracy, _, _, = model.evaluate(np.array(test_X), np.array(test_y))\n",
    "print(f\"테스트 정확도: {accuracy:.4f}\")"
   ]
  },
  {
   "cell_type": "code",
   "execution_count": 43,
   "id": "f357fd8a",
   "metadata": {
    "collapsed": true
   },
   "outputs": [
    {
     "name": "stdout",
     "output_type": "stream",
     "text": [
      "113/113 [==============================] - 0s 1ms/step\n"
     ]
    },
    {
     "name": "stderr",
     "output_type": "stream",
     "text": [
      "2025-01-15 12:48:00.234879: I tensorflow/core/grappler/optimizers/custom_graph_optimizer_registry.cc:114] Plugin optimizer for device_type GPU is enabled.\n"
     ]
    }
   ],
   "source": [
    "y_hat = model.predict(test_X)"
   ]
  },
  {
   "cell_type": "code",
   "execution_count": 44,
   "id": "5d8f2140",
   "metadata": {},
   "outputs": [],
   "source": [
    "y_hat = y_hat.argmax(axis=1)"
   ]
  },
  {
   "cell_type": "code",
   "execution_count": 45,
   "id": "ad6b03e3",
   "metadata": {},
   "outputs": [
    {
     "data": {
      "text/plain": [
       "((3608,), (3608,))"
      ]
     },
     "execution_count": 45,
     "metadata": {},
     "output_type": "execute_result"
    }
   ],
   "source": [
    "test_y.shape, y_hat.shape"
   ]
  },
  {
   "cell_type": "code",
   "execution_count": 46,
   "id": "2a9b70ca",
   "metadata": {},
   "outputs": [
    {
     "name": "stdout",
     "output_type": "stream",
     "text": [
      "F1 스코어: 0.4950\n"
     ]
    }
   ],
   "source": [
    "f1 = f1_score(test_y, y_hat, average='micro')\n",
    "print(f\"F1 스코어: {f1:.4f}\")"
   ]
  },
  {
   "cell_type": "markdown",
   "id": "871435d3",
   "metadata": {},
   "source": [
    "# 6시간 단위 예측"
   ]
  },
  {
   "cell_type": "code",
   "execution_count": 47,
   "id": "e58553b0",
   "metadata": {},
   "outputs": [],
   "source": [
    "asos_df = pd.read_csv('/Volumes/ESD-ISO/project_preson/LSTM/LSTM_data/ASOS_data_preprocessed_V2.csv', index_col=0)"
   ]
  },
  {
   "cell_type": "code",
   "execution_count": 48,
   "id": "825a7a72",
   "metadata": {},
   "outputs": [],
   "source": [
    "# rain_tomorrow 열을 rainy_day 열에서 6시간 이후 값을 가져와 생성\n",
    "asos_df['rain_tomorrow'] = asos_df['rainy_day'].shift(-6)"
   ]
  },
  {
   "cell_type": "code",
   "execution_count": 49,
   "id": "cd2c37ad",
   "metadata": {
    "collapsed": true
   },
   "outputs": [
    {
     "data": {
      "text/html": [
       "<div>\n",
       "<style scoped>\n",
       "    .dataframe tbody tr th:only-of-type {\n",
       "        vertical-align: middle;\n",
       "    }\n",
       "\n",
       "    .dataframe tbody tr th {\n",
       "        vertical-align: top;\n",
       "    }\n",
       "\n",
       "    .dataframe thead th {\n",
       "        text-align: right;\n",
       "    }\n",
       "</style>\n",
       "<table border=\"1\" class=\"dataframe\">\n",
       "  <thead>\n",
       "    <tr style=\"text-align: right;\">\n",
       "      <th></th>\n",
       "      <th>tm</th>\n",
       "      <th>hm</th>\n",
       "      <th>pv</th>\n",
       "      <th>ps</th>\n",
       "      <th>td</th>\n",
       "      <th>pa</th>\n",
       "      <th>dc10Tca</th>\n",
       "      <th>clfmAbbrCd</th>\n",
       "      <th>lcsCh</th>\n",
       "      <th>m005Te</th>\n",
       "      <th>m01Te</th>\n",
       "      <th>m02Te</th>\n",
       "      <th>m03Te</th>\n",
       "      <th>vs</th>\n",
       "      <th>ws</th>\n",
       "      <th>wd</th>\n",
       "      <th>rn</th>\n",
       "      <th>rainy_day</th>\n",
       "      <th>rain_tomorrow</th>\n",
       "    </tr>\n",
       "  </thead>\n",
       "  <tbody>\n",
       "    <tr>\n",
       "      <th>359</th>\n",
       "      <td>1980-04-03 21:00</td>\n",
       "      <td>67.0</td>\n",
       "      <td>9.8</td>\n",
       "      <td>1022.0</td>\n",
       "      <td>6.7</td>\n",
       "      <td>1011.5</td>\n",
       "      <td>0.0</td>\n",
       "      <td>no_cloud</td>\n",
       "      <td>0.0</td>\n",
       "      <td>11.6</td>\n",
       "      <td>12.2</td>\n",
       "      <td>11.9</td>\n",
       "      <td>10.0</td>\n",
       "      <td>2200.0</td>\n",
       "      <td>4.3</td>\n",
       "      <td>180.0</td>\n",
       "      <td>0.0</td>\n",
       "      <td>0</td>\n",
       "      <td>1.0</td>\n",
       "    </tr>\n",
       "    <tr>\n",
       "      <th>360</th>\n",
       "      <td>1980-04-04 03:00</td>\n",
       "      <td>76.0</td>\n",
       "      <td>9.3</td>\n",
       "      <td>1023.1</td>\n",
       "      <td>5.9</td>\n",
       "      <td>1012.4</td>\n",
       "      <td>0.0</td>\n",
       "      <td>no_cloud</td>\n",
       "      <td>0.0</td>\n",
       "      <td>7.8</td>\n",
       "      <td>9.2</td>\n",
       "      <td>10.4</td>\n",
       "      <td>9.9</td>\n",
       "      <td>2500.0</td>\n",
       "      <td>2.0</td>\n",
       "      <td>20.0</td>\n",
       "      <td>0.0</td>\n",
       "      <td>0</td>\n",
       "      <td>1.0</td>\n",
       "    </tr>\n",
       "    <tr>\n",
       "      <th>361</th>\n",
       "      <td>1980-04-04 09:00</td>\n",
       "      <td>51.0</td>\n",
       "      <td>7.9</td>\n",
       "      <td>1023.5</td>\n",
       "      <td>3.6</td>\n",
       "      <td>1013.0</td>\n",
       "      <td>8.0</td>\n",
       "      <td>ScAc</td>\n",
       "      <td>0.0</td>\n",
       "      <td>9.6</td>\n",
       "      <td>8.7</td>\n",
       "      <td>9.2</td>\n",
       "      <td>9.1</td>\n",
       "      <td>2000.0</td>\n",
       "      <td>1.5</td>\n",
       "      <td>50.0</td>\n",
       "      <td>0.0</td>\n",
       "      <td>0</td>\n",
       "      <td>1.0</td>\n",
       "    </tr>\n",
       "    <tr>\n",
       "      <th>386</th>\n",
       "      <td>1980-04-10 15:00</td>\n",
       "      <td>39.0</td>\n",
       "      <td>7.4</td>\n",
       "      <td>1021.2</td>\n",
       "      <td>2.7</td>\n",
       "      <td>1010.9</td>\n",
       "      <td>0.0</td>\n",
       "      <td>no_cloud</td>\n",
       "      <td>0.0</td>\n",
       "      <td>22.2</td>\n",
       "      <td>17.7</td>\n",
       "      <td>12.8</td>\n",
       "      <td>11.0</td>\n",
       "      <td>2500.0</td>\n",
       "      <td>2.0</td>\n",
       "      <td>230.0</td>\n",
       "      <td>0.0</td>\n",
       "      <td>0</td>\n",
       "      <td>1.0</td>\n",
       "    </tr>\n",
       "    <tr>\n",
       "      <th>387</th>\n",
       "      <td>1980-04-10 21:00</td>\n",
       "      <td>45.0</td>\n",
       "      <td>5.5</td>\n",
       "      <td>1021.6</td>\n",
       "      <td>-1.4</td>\n",
       "      <td>1011.0</td>\n",
       "      <td>0.0</td>\n",
       "      <td>no_cloud</td>\n",
       "      <td>0.0</td>\n",
       "      <td>11.2</td>\n",
       "      <td>13.3</td>\n",
       "      <td>13.9</td>\n",
       "      <td>12.6</td>\n",
       "      <td>2000.0</td>\n",
       "      <td>3.8</td>\n",
       "      <td>250.0</td>\n",
       "      <td>0.0</td>\n",
       "      <td>0</td>\n",
       "      <td>1.0</td>\n",
       "    </tr>\n",
       "    <tr>\n",
       "      <th>...</th>\n",
       "      <td>...</td>\n",
       "      <td>...</td>\n",
       "      <td>...</td>\n",
       "      <td>...</td>\n",
       "      <td>...</td>\n",
       "      <td>...</td>\n",
       "      <td>...</td>\n",
       "      <td>...</td>\n",
       "      <td>...</td>\n",
       "      <td>...</td>\n",
       "      <td>...</td>\n",
       "      <td>...</td>\n",
       "      <td>...</td>\n",
       "      <td>...</td>\n",
       "      <td>...</td>\n",
       "      <td>...</td>\n",
       "      <td>...</td>\n",
       "      <td>...</td>\n",
       "      <td>...</td>\n",
       "    </tr>\n",
       "    <tr>\n",
       "      <th>43648</th>\n",
       "      <td>2024-12-30 21:00:00</td>\n",
       "      <td>67.0</td>\n",
       "      <td>6.1</td>\n",
       "      <td>1016.0</td>\n",
       "      <td>0.0</td>\n",
       "      <td>1005.4</td>\n",
       "      <td>6.0</td>\n",
       "      <td>Ci</td>\n",
       "      <td>2.0</td>\n",
       "      <td>-0.1</td>\n",
       "      <td>-0.3</td>\n",
       "      <td>0.8</td>\n",
       "      <td>1.7</td>\n",
       "      <td>1053.0</td>\n",
       "      <td>2.7</td>\n",
       "      <td>270.0</td>\n",
       "      <td>0.0</td>\n",
       "      <td>0</td>\n",
       "      <td>NaN</td>\n",
       "    </tr>\n",
       "    <tr>\n",
       "      <th>43649</th>\n",
       "      <td>2024-12-30 22:00:00</td>\n",
       "      <td>71.0</td>\n",
       "      <td>6.1</td>\n",
       "      <td>1016.2</td>\n",
       "      <td>0.0</td>\n",
       "      <td>1005.6</td>\n",
       "      <td>0.0</td>\n",
       "      <td>no_clouds</td>\n",
       "      <td>0.0</td>\n",
       "      <td>-0.1</td>\n",
       "      <td>-0.3</td>\n",
       "      <td>0.8</td>\n",
       "      <td>1.7</td>\n",
       "      <td>906.0</td>\n",
       "      <td>2.4</td>\n",
       "      <td>270.0</td>\n",
       "      <td>0.0</td>\n",
       "      <td>0</td>\n",
       "      <td>NaN</td>\n",
       "    </tr>\n",
       "    <tr>\n",
       "      <th>43650</th>\n",
       "      <td>2024-12-30 23:00:00</td>\n",
       "      <td>75.0</td>\n",
       "      <td>6.1</td>\n",
       "      <td>1016.0</td>\n",
       "      <td>0.0</td>\n",
       "      <td>1005.4</td>\n",
       "      <td>0.0</td>\n",
       "      <td>no_clouds</td>\n",
       "      <td>0.0</td>\n",
       "      <td>-0.1</td>\n",
       "      <td>-0.3</td>\n",
       "      <td>0.8</td>\n",
       "      <td>1.7</td>\n",
       "      <td>754.0</td>\n",
       "      <td>0.7</td>\n",
       "      <td>250.0</td>\n",
       "      <td>0.0</td>\n",
       "      <td>0</td>\n",
       "      <td>NaN</td>\n",
       "    </tr>\n",
       "    <tr>\n",
       "      <th>43651</th>\n",
       "      <td>2024-12-31 00:00:00</td>\n",
       "      <td>81.0</td>\n",
       "      <td>7.0</td>\n",
       "      <td>1015.8</td>\n",
       "      <td>1.8</td>\n",
       "      <td>1005.2</td>\n",
       "      <td>9.0</td>\n",
       "      <td>no_clouds</td>\n",
       "      <td>0.0</td>\n",
       "      <td>-0.1</td>\n",
       "      <td>-0.3</td>\n",
       "      <td>0.8</td>\n",
       "      <td>1.7</td>\n",
       "      <td>563.0</td>\n",
       "      <td>2.3</td>\n",
       "      <td>250.0</td>\n",
       "      <td>0.0</td>\n",
       "      <td>0</td>\n",
       "      <td>NaN</td>\n",
       "    </tr>\n",
       "    <tr>\n",
       "      <th>43652</th>\n",
       "      <td>2024-12-31 01:00:00</td>\n",
       "      <td>65.0</td>\n",
       "      <td>5.2</td>\n",
       "      <td>1016.2</td>\n",
       "      <td>-2.1</td>\n",
       "      <td>1005.6</td>\n",
       "      <td>0.0</td>\n",
       "      <td>no_clouds</td>\n",
       "      <td>0.0</td>\n",
       "      <td>-0.1</td>\n",
       "      <td>-0.3</td>\n",
       "      <td>0.8</td>\n",
       "      <td>1.7</td>\n",
       "      <td>909.0</td>\n",
       "      <td>2.5</td>\n",
       "      <td>270.0</td>\n",
       "      <td>0.0</td>\n",
       "      <td>0</td>\n",
       "      <td>NaN</td>\n",
       "    </tr>\n",
       "  </tbody>\n",
       "</table>\n",
       "<p>4310 rows × 19 columns</p>\n",
       "</div>"
      ],
      "text/plain": [
       "                        tm    hm   pv      ps   td      pa  dc10Tca  \\\n",
       "359       1980-04-03 21:00  67.0  9.8  1022.0  6.7  1011.5      0.0   \n",
       "360       1980-04-04 03:00  76.0  9.3  1023.1  5.9  1012.4      0.0   \n",
       "361       1980-04-04 09:00  51.0  7.9  1023.5  3.6  1013.0      8.0   \n",
       "386       1980-04-10 15:00  39.0  7.4  1021.2  2.7  1010.9      0.0   \n",
       "387       1980-04-10 21:00  45.0  5.5  1021.6 -1.4  1011.0      0.0   \n",
       "...                    ...   ...  ...     ...  ...     ...      ...   \n",
       "43648  2024-12-30 21:00:00  67.0  6.1  1016.0  0.0  1005.4      6.0   \n",
       "43649  2024-12-30 22:00:00  71.0  6.1  1016.2  0.0  1005.6      0.0   \n",
       "43650  2024-12-30 23:00:00  75.0  6.1  1016.0  0.0  1005.4      0.0   \n",
       "43651  2024-12-31 00:00:00  81.0  7.0  1015.8  1.8  1005.2      9.0   \n",
       "43652  2024-12-31 01:00:00  65.0  5.2  1016.2 -2.1  1005.6      0.0   \n",
       "\n",
       "      clfmAbbrCd  lcsCh  m005Te  m01Te  m02Te  m03Te      vs   ws     wd   rn  \\\n",
       "359     no_cloud    0.0    11.6   12.2   11.9   10.0  2200.0  4.3  180.0  0.0   \n",
       "360     no_cloud    0.0     7.8    9.2   10.4    9.9  2500.0  2.0   20.0  0.0   \n",
       "361         ScAc    0.0     9.6    8.7    9.2    9.1  2000.0  1.5   50.0  0.0   \n",
       "386     no_cloud    0.0    22.2   17.7   12.8   11.0  2500.0  2.0  230.0  0.0   \n",
       "387     no_cloud    0.0    11.2   13.3   13.9   12.6  2000.0  3.8  250.0  0.0   \n",
       "...          ...    ...     ...    ...    ...    ...     ...  ...    ...  ...   \n",
       "43648         Ci    2.0    -0.1   -0.3    0.8    1.7  1053.0  2.7  270.0  0.0   \n",
       "43649  no_clouds    0.0    -0.1   -0.3    0.8    1.7   906.0  2.4  270.0  0.0   \n",
       "43650  no_clouds    0.0    -0.1   -0.3    0.8    1.7   754.0  0.7  250.0  0.0   \n",
       "43651  no_clouds    0.0    -0.1   -0.3    0.8    1.7   563.0  2.3  250.0  0.0   \n",
       "43652  no_clouds    0.0    -0.1   -0.3    0.8    1.7   909.0  2.5  270.0  0.0   \n",
       "\n",
       "       rainy_day  rain_tomorrow  \n",
       "359            0            1.0  \n",
       "360            0            1.0  \n",
       "361            0            1.0  \n",
       "386            0            1.0  \n",
       "387            0            1.0  \n",
       "...          ...            ...  \n",
       "43648          0            NaN  \n",
       "43649          0            NaN  \n",
       "43650          0            NaN  \n",
       "43651          0            NaN  \n",
       "43652          0            NaN  \n",
       "\n",
       "[4310 rows x 19 columns]"
      ]
     },
     "execution_count": 49,
     "metadata": {},
     "output_type": "execute_result"
    }
   ],
   "source": [
    "asos_df[asos_df['rain_tomorrow']!=0]"
   ]
  },
  {
   "cell_type": "code",
   "execution_count": 50,
   "id": "c784119e",
   "metadata": {},
   "outputs": [],
   "source": [
    "asos_df.drop(index=asos_df[asos_df['rain_tomorrow'].isna()].index, inplace=True)"
   ]
  },
  {
   "cell_type": "code",
   "execution_count": 51,
   "id": "cf456114",
   "metadata": {},
   "outputs": [],
   "source": [
    "asos_df = asos_df.sample(frac=1, random_state=20250113).reset_index(drop=True)"
   ]
  },
  {
   "cell_type": "code",
   "execution_count": 52,
   "id": "26cba2ff",
   "metadata": {},
   "outputs": [],
   "source": [
    "rain_data = asos_df[asos_df['rain_tomorrow']==1].loc[:, ['hm','pv','td','pa','m005Te','m01Te','m02Te','m03Te','clfmAbbrCd','lcsCh','rain_tomorrow']]"
   ]
  },
  {
   "cell_type": "code",
   "execution_count": 53,
   "id": "ec84316e",
   "metadata": {
    "collapsed": true
   },
   "outputs": [
    {
     "data": {
      "text/html": [
       "<div>\n",
       "<style scoped>\n",
       "    .dataframe tbody tr th:only-of-type {\n",
       "        vertical-align: middle;\n",
       "    }\n",
       "\n",
       "    .dataframe tbody tr th {\n",
       "        vertical-align: top;\n",
       "    }\n",
       "\n",
       "    .dataframe thead th {\n",
       "        text-align: right;\n",
       "    }\n",
       "</style>\n",
       "<table border=\"1\" class=\"dataframe\">\n",
       "  <thead>\n",
       "    <tr style=\"text-align: right;\">\n",
       "      <th></th>\n",
       "      <th>hm</th>\n",
       "      <th>pv</th>\n",
       "      <th>td</th>\n",
       "      <th>pa</th>\n",
       "      <th>m005Te</th>\n",
       "      <th>m01Te</th>\n",
       "      <th>m02Te</th>\n",
       "      <th>m03Te</th>\n",
       "      <th>clfmAbbrCd</th>\n",
       "      <th>lcsCh</th>\n",
       "      <th>rain_tomorrow</th>\n",
       "    </tr>\n",
       "  </thead>\n",
       "  <tbody>\n",
       "    <tr>\n",
       "      <th>1</th>\n",
       "      <td>94.0</td>\n",
       "      <td>21.0</td>\n",
       "      <td>18.3</td>\n",
       "      <td>1010.7</td>\n",
       "      <td>23.2</td>\n",
       "      <td>22.9</td>\n",
       "      <td>22.9</td>\n",
       "      <td>23.1</td>\n",
       "      <td>StNs</td>\n",
       "      <td>3.0</td>\n",
       "      <td>1.0</td>\n",
       "    </tr>\n",
       "    <tr>\n",
       "      <th>4</th>\n",
       "      <td>93.0</td>\n",
       "      <td>7.0</td>\n",
       "      <td>1.9</td>\n",
       "      <td>1008.8</td>\n",
       "      <td>0.0</td>\n",
       "      <td>0.0</td>\n",
       "      <td>0.6</td>\n",
       "      <td>1.4</td>\n",
       "      <td>StNs</td>\n",
       "      <td>4.0</td>\n",
       "      <td>1.0</td>\n",
       "    </tr>\n",
       "    <tr>\n",
       "      <th>18</th>\n",
       "      <td>93.0</td>\n",
       "      <td>31.7</td>\n",
       "      <td>25.0</td>\n",
       "      <td>996.7</td>\n",
       "      <td>26.9</td>\n",
       "      <td>26.4</td>\n",
       "      <td>26.3</td>\n",
       "      <td>26.3</td>\n",
       "      <td>ScAs</td>\n",
       "      <td>8.0</td>\n",
       "      <td>1.0</td>\n",
       "    </tr>\n",
       "    <tr>\n",
       "      <th>34</th>\n",
       "      <td>29.0</td>\n",
       "      <td>7.6</td>\n",
       "      <td>3.0</td>\n",
       "      <td>1008.6</td>\n",
       "      <td>22.6</td>\n",
       "      <td>19.8</td>\n",
       "      <td>16.9</td>\n",
       "      <td>17.0</td>\n",
       "      <td>no_cloud</td>\n",
       "      <td>0.0</td>\n",
       "      <td>1.0</td>\n",
       "    </tr>\n",
       "    <tr>\n",
       "      <th>42</th>\n",
       "      <td>93.0</td>\n",
       "      <td>28.8</td>\n",
       "      <td>23.4</td>\n",
       "      <td>995.5</td>\n",
       "      <td>27.0</td>\n",
       "      <td>26.6</td>\n",
       "      <td>26.6</td>\n",
       "      <td>26.9</td>\n",
       "      <td>StNs</td>\n",
       "      <td>5.0</td>\n",
       "      <td>1.0</td>\n",
       "    </tr>\n",
       "    <tr>\n",
       "      <th>...</th>\n",
       "      <td>...</td>\n",
       "      <td>...</td>\n",
       "      <td>...</td>\n",
       "      <td>...</td>\n",
       "      <td>...</td>\n",
       "      <td>...</td>\n",
       "      <td>...</td>\n",
       "      <td>...</td>\n",
       "      <td>...</td>\n",
       "      <td>...</td>\n",
       "      <td>...</td>\n",
       "    </tr>\n",
       "    <tr>\n",
       "      <th>60668</th>\n",
       "      <td>94.0</td>\n",
       "      <td>31.1</td>\n",
       "      <td>24.7</td>\n",
       "      <td>998.0</td>\n",
       "      <td>27.2</td>\n",
       "      <td>27.1</td>\n",
       "      <td>25.5</td>\n",
       "      <td>25.2</td>\n",
       "      <td>StNs</td>\n",
       "      <td>3.0</td>\n",
       "      <td>1.0</td>\n",
       "    </tr>\n",
       "    <tr>\n",
       "      <th>60678</th>\n",
       "      <td>99.0</td>\n",
       "      <td>30.4</td>\n",
       "      <td>24.3</td>\n",
       "      <td>997.5</td>\n",
       "      <td>26.3</td>\n",
       "      <td>26.5</td>\n",
       "      <td>26.1</td>\n",
       "      <td>26.5</td>\n",
       "      <td>StNs</td>\n",
       "      <td>4.0</td>\n",
       "      <td>1.0</td>\n",
       "    </tr>\n",
       "    <tr>\n",
       "      <th>60712</th>\n",
       "      <td>83.0</td>\n",
       "      <td>22.1</td>\n",
       "      <td>19.1</td>\n",
       "      <td>1000.3</td>\n",
       "      <td>22.6</td>\n",
       "      <td>23.0</td>\n",
       "      <td>23.4</td>\n",
       "      <td>23.5</td>\n",
       "      <td>StNs</td>\n",
       "      <td>0.0</td>\n",
       "      <td>1.0</td>\n",
       "    </tr>\n",
       "    <tr>\n",
       "      <th>60729</th>\n",
       "      <td>92.0</td>\n",
       "      <td>5.1</td>\n",
       "      <td>-2.4</td>\n",
       "      <td>1003.3</td>\n",
       "      <td>0.0</td>\n",
       "      <td>-0.3</td>\n",
       "      <td>0.2</td>\n",
       "      <td>1.6</td>\n",
       "      <td>StNs</td>\n",
       "      <td>4.0</td>\n",
       "      <td>1.0</td>\n",
       "    </tr>\n",
       "    <tr>\n",
       "      <th>60745</th>\n",
       "      <td>91.0</td>\n",
       "      <td>21.5</td>\n",
       "      <td>18.7</td>\n",
       "      <td>998.2</td>\n",
       "      <td>22.3</td>\n",
       "      <td>23.5</td>\n",
       "      <td>24.1</td>\n",
       "      <td>24.0</td>\n",
       "      <td>StNs</td>\n",
       "      <td>5.0</td>\n",
       "      <td>1.0</td>\n",
       "    </tr>\n",
       "  </tbody>\n",
       "</table>\n",
       "<p>4304 rows × 11 columns</p>\n",
       "</div>"
      ],
      "text/plain": [
       "         hm    pv    td      pa  m005Te  m01Te  m02Te  m03Te clfmAbbrCd  \\\n",
       "1      94.0  21.0  18.3  1010.7    23.2   22.9   22.9   23.1       StNs   \n",
       "4      93.0   7.0   1.9  1008.8     0.0    0.0    0.6    1.4       StNs   \n",
       "18     93.0  31.7  25.0   996.7    26.9   26.4   26.3   26.3       ScAs   \n",
       "34     29.0   7.6   3.0  1008.6    22.6   19.8   16.9   17.0   no_cloud   \n",
       "42     93.0  28.8  23.4   995.5    27.0   26.6   26.6   26.9       StNs   \n",
       "...     ...   ...   ...     ...     ...    ...    ...    ...        ...   \n",
       "60668  94.0  31.1  24.7   998.0    27.2   27.1   25.5   25.2       StNs   \n",
       "60678  99.0  30.4  24.3   997.5    26.3   26.5   26.1   26.5       StNs   \n",
       "60712  83.0  22.1  19.1  1000.3    22.6   23.0   23.4   23.5       StNs   \n",
       "60729  92.0   5.1  -2.4  1003.3     0.0   -0.3    0.2    1.6       StNs   \n",
       "60745  91.0  21.5  18.7   998.2    22.3   23.5   24.1   24.0       StNs   \n",
       "\n",
       "       lcsCh  rain_tomorrow  \n",
       "1        3.0            1.0  \n",
       "4        4.0            1.0  \n",
       "18       8.0            1.0  \n",
       "34       0.0            1.0  \n",
       "42       5.0            1.0  \n",
       "...      ...            ...  \n",
       "60668    3.0            1.0  \n",
       "60678    4.0            1.0  \n",
       "60712    0.0            1.0  \n",
       "60729    4.0            1.0  \n",
       "60745    5.0            1.0  \n",
       "\n",
       "[4304 rows x 11 columns]"
      ]
     },
     "execution_count": 53,
     "metadata": {},
     "output_type": "execute_result"
    }
   ],
   "source": [
    "rain_data"
   ]
  },
  {
   "cell_type": "code",
   "execution_count": 54,
   "id": "4da3a47b",
   "metadata": {},
   "outputs": [],
   "source": [
    "no_rain_data = asos_df[asos_df['rain_tomorrow']==0].sample(n=4304).loc[:,['hm','pv','td','pa','m005Te','m01Te','m02Te','m03Te','clfmAbbrCd','lcsCh','rain_tomorrow']]"
   ]
  },
  {
   "cell_type": "code",
   "execution_count": 55,
   "id": "40d5f8f7",
   "metadata": {},
   "outputs": [],
   "source": [
    "data = pd.concat([rain_data, no_rain_data])"
   ]
  },
  {
   "cell_type": "code",
   "execution_count": 56,
   "id": "e2599cc2",
   "metadata": {},
   "outputs": [],
   "source": [
    "data = data.sample(frac=1).reset_index(drop=True)"
   ]
  },
  {
   "cell_type": "code",
   "execution_count": 57,
   "id": "dcfde78b",
   "metadata": {
    "collapsed": true
   },
   "outputs": [
    {
     "name": "stdout",
     "output_type": "stream",
     "text": [
      "<class 'pandas.core.frame.DataFrame'>\n",
      "RangeIndex: 8608 entries, 0 to 8607\n",
      "Data columns (total 11 columns):\n",
      " #   Column         Non-Null Count  Dtype  \n",
      "---  ------         --------------  -----  \n",
      " 0   hm             8608 non-null   float64\n",
      " 1   pv             8608 non-null   float64\n",
      " 2   td             8608 non-null   float64\n",
      " 3   pa             8608 non-null   float64\n",
      " 4   m005Te         8608 non-null   float64\n",
      " 5   m01Te          8608 non-null   float64\n",
      " 6   m02Te          8608 non-null   float64\n",
      " 7   m03Te          8608 non-null   float64\n",
      " 8   clfmAbbrCd     8608 non-null   object \n",
      " 9   lcsCh          8608 non-null   float64\n",
      " 10  rain_tomorrow  8608 non-null   float64\n",
      "dtypes: float64(10), object(1)\n",
      "memory usage: 739.9+ KB\n"
     ]
    }
   ],
   "source": [
    "data.info()"
   ]
  },
  {
   "cell_type": "code",
   "execution_count": 58,
   "id": "f135bf1c",
   "metadata": {},
   "outputs": [],
   "source": [
    "encoder = LabelEncoder()\n",
    "data.clfmAbbrCd = encoder.fit_transform(data.clfmAbbrCd)"
   ]
  },
  {
   "cell_type": "code",
   "execution_count": 59,
   "id": "8af94baf",
   "metadata": {},
   "outputs": [],
   "source": [
    "train_X = data.iloc[:5000,:-1]\n",
    "train_y = data.iloc[:5000,-1]\n",
    "test_X = data.iloc[5000:,:-1]\n",
    "test_y = data.iloc[5000:,-1]"
   ]
  },
  {
   "cell_type": "code",
   "execution_count": 60,
   "id": "4841779d",
   "metadata": {},
   "outputs": [],
   "source": [
    "scaler = MinMaxScaler()\n",
    "train_X = scaler.fit_transform(train_X)\n",
    "test_X = scaler.fit_transform(test_X)"
   ]
  },
  {
   "cell_type": "code",
   "execution_count": 61,
   "id": "ffbf243b",
   "metadata": {},
   "outputs": [
    {
     "data": {
      "text/plain": [
       "((5000, 10), (3608, 10), (5000,), (3608,))"
      ]
     },
     "execution_count": 61,
     "metadata": {},
     "output_type": "execute_result"
    }
   ],
   "source": [
    "train_X.shape, test_X.shape, train_y.shape, test_y.shape"
   ]
  },
  {
   "cell_type": "code",
   "execution_count": 62,
   "id": "7d377c9d",
   "metadata": {
    "collapsed": true
   },
   "outputs": [
    {
     "name": "stdout",
     "output_type": "stream",
     "text": [
      "Model: \"sequential_2\"\n",
      "_________________________________________________________________\n",
      " Layer (type)                Output Shape              Param #   \n",
      "=================================================================\n",
      " dense_12 (Dense)            (None, 64)                704       \n",
      "                                                                 \n",
      " dropout_10 (Dropout)        (None, 64)                0         \n",
      "                                                                 \n",
      " dense_13 (Dense)            (None, 128)               8320      \n",
      "                                                                 \n",
      " dropout_11 (Dropout)        (None, 128)               0         \n",
      "                                                                 \n",
      " dense_14 (Dense)            (None, 256)               33024     \n",
      "                                                                 \n",
      " dropout_12 (Dropout)        (None, 256)               0         \n",
      "                                                                 \n",
      " dense_15 (Dense)            (None, 64)                16448     \n",
      "                                                                 \n",
      " dropout_13 (Dropout)        (None, 64)                0         \n",
      "                                                                 \n",
      " dense_16 (Dense)            (None, 32)                2080      \n",
      "                                                                 \n",
      " dropout_14 (Dropout)        (None, 32)                0         \n",
      "                                                                 \n",
      " dense_17 (Dense)            (None, 1)                 33        \n",
      "                                                                 \n",
      "=================================================================\n",
      "Total params: 60,609\n",
      "Trainable params: 60,609\n",
      "Non-trainable params: 0\n",
      "_________________________________________________________________\n"
     ]
    }
   ],
   "source": [
    "model = Sequential([\n",
    "    Dense(64, activation='relu', input_shape=(train_X.shape[1],)),  \n",
    "    Dropout(0.3),\n",
    "    Dense(128, activation='relu'),  \n",
    "    Dropout(0.4),\n",
    "    Dense(256, activation='relu'),  \n",
    "    Dropout(0.4),\n",
    "    Dense(64, activation='relu'),  \n",
    "    Dropout(0.3),\n",
    "    Dense(32, activation='relu'),  \n",
    "    Dropout(0.2),\n",
    "    Dense(1, activation='sigmoid') \n",
    "])\n",
    "\n",
    "model.compile(loss='binary_crossentropy', optimizer='adam',  metrics=['accuracy',Recall(),Precision()])\n",
    "# 모델 요약\n",
    "model.summary()"
   ]
  },
  {
   "cell_type": "code",
   "execution_count": 63,
   "id": "a1068848",
   "metadata": {
    "collapsed": true
   },
   "outputs": [
    {
     "name": "stdout",
     "output_type": "stream",
     "text": [
      "Epoch 1/30\n"
     ]
    },
    {
     "name": "stderr",
     "output_type": "stream",
     "text": [
      "2025-01-15 12:53:34.948291: I tensorflow/core/grappler/optimizers/custom_graph_optimizer_registry.cc:114] Plugin optimizer for device_type GPU is enabled.\n"
     ]
    },
    {
     "name": "stdout",
     "output_type": "stream",
     "text": [
      "125/125 [==============================] - ETA: 0s - loss: 0.6642 - accuracy: 0.5925 - recall_2: 0.6222 - precision_2: 0.5875"
     ]
    },
    {
     "name": "stderr",
     "output_type": "stream",
     "text": [
      "2025-01-15 12:53:36.008532: I tensorflow/core/grappler/optimizers/custom_graph_optimizer_registry.cc:114] Plugin optimizer for device_type GPU is enabled.\n"
     ]
    },
    {
     "name": "stdout",
     "output_type": "stream",
     "text": [
      "125/125 [==============================] - 2s 9ms/step - loss: 0.6642 - accuracy: 0.5925 - recall_2: 0.6222 - precision_2: 0.5875 - val_loss: 0.6354 - val_accuracy: 0.6460 - val_recall_2: 0.8056 - val_precision_2: 0.6133\n",
      "Epoch 2/30\n",
      "125/125 [==============================] - 1s 6ms/step - loss: 0.6260 - accuracy: 0.6578 - recall_2: 0.6877 - precision_2: 0.6491 - val_loss: 0.6154 - val_accuracy: 0.6730 - val_recall_2: 0.6786 - val_precision_2: 0.6746\n",
      "Epoch 3/30\n",
      "125/125 [==============================] - 1s 6ms/step - loss: 0.6109 - accuracy: 0.6727 - recall_2: 0.6647 - precision_2: 0.6758 - val_loss: 0.6065 - val_accuracy: 0.6710 - val_recall_2: 0.6250 - val_precision_2: 0.6923\n",
      "Epoch 4/30\n",
      "125/125 [==============================] - 1s 6ms/step - loss: 0.6073 - accuracy: 0.6705 - recall_2: 0.6232 - precision_2: 0.6886 - val_loss: 0.6174 - val_accuracy: 0.6760 - val_recall_2: 0.6210 - val_precision_2: 0.7018\n",
      "Epoch 5/30\n",
      "125/125 [==============================] - 1s 6ms/step - loss: 0.5989 - accuracy: 0.6780 - recall_2: 0.6177 - precision_2: 0.7027 - val_loss: 0.6047 - val_accuracy: 0.6810 - val_recall_2: 0.6290 - val_precision_2: 0.7060\n",
      "Epoch 6/30\n",
      "125/125 [==============================] - 1s 6ms/step - loss: 0.6034 - accuracy: 0.6777 - recall_2: 0.6372 - precision_2: 0.6937 - val_loss: 0.6049 - val_accuracy: 0.6780 - val_recall_2: 0.5873 - val_precision_2: 0.7220\n",
      "Epoch 7/30\n",
      "125/125 [==============================] - 1s 6ms/step - loss: 0.5999 - accuracy: 0.6770 - recall_2: 0.6042 - precision_2: 0.7074 - val_loss: 0.6053 - val_accuracy: 0.6830 - val_recall_2: 0.6429 - val_precision_2: 0.7028\n",
      "Epoch 8/30\n",
      "125/125 [==============================] - 1s 6ms/step - loss: 0.5948 - accuracy: 0.6855 - recall_2: 0.6432 - precision_2: 0.7029 - val_loss: 0.6178 - val_accuracy: 0.6500 - val_recall_2: 0.4544 - val_precision_2: 0.7533\n",
      "Epoch 9/30\n",
      "125/125 [==============================] - 1s 6ms/step - loss: 0.5960 - accuracy: 0.6805 - recall_2: 0.6177 - precision_2: 0.7067 - val_loss: 0.6153 - val_accuracy: 0.6560 - val_recall_2: 0.4960 - val_precision_2: 0.7353\n",
      "Epoch 10/30\n",
      "125/125 [==============================] - 1s 6ms/step - loss: 0.5909 - accuracy: 0.6895 - recall_2: 0.6347 - precision_2: 0.7131 - val_loss: 0.5985 - val_accuracy: 0.6810 - val_recall_2: 0.6567 - val_precision_2: 0.6939\n",
      "Epoch 11/30\n",
      "125/125 [==============================] - 1s 6ms/step - loss: 0.5933 - accuracy: 0.6855 - recall_2: 0.6562 - precision_2: 0.6973 - val_loss: 0.5982 - val_accuracy: 0.6900 - val_recall_2: 0.6349 - val_precision_2: 0.7175\n",
      "Epoch 12/30\n",
      "125/125 [==============================] - 1s 6ms/step - loss: 0.5909 - accuracy: 0.6837 - recall_2: 0.6327 - precision_2: 0.7049 - val_loss: 0.5983 - val_accuracy: 0.6800 - val_recall_2: 0.6806 - val_precision_2: 0.6833\n",
      "Epoch 13/30\n",
      "125/125 [==============================] - 1s 6ms/step - loss: 0.5892 - accuracy: 0.6902 - recall_2: 0.6697 - precision_2: 0.6986 - val_loss: 0.6016 - val_accuracy: 0.6850 - val_recall_2: 0.6329 - val_precision_2: 0.7105\n",
      "Epoch 14/30\n",
      "125/125 [==============================] - 1s 6ms/step - loss: 0.5881 - accuracy: 0.6855 - recall_2: 0.6452 - precision_2: 0.7020 - val_loss: 0.5961 - val_accuracy: 0.6860 - val_recall_2: 0.6786 - val_precision_2: 0.6923\n",
      "Epoch 15/30\n",
      "125/125 [==============================] - 1s 6ms/step - loss: 0.5848 - accuracy: 0.6967 - recall_2: 0.6627 - precision_2: 0.7114 - val_loss: 0.5949 - val_accuracy: 0.6930 - val_recall_2: 0.6687 - val_precision_2: 0.7065\n",
      "Epoch 16/30\n",
      "125/125 [==============================] - 1s 6ms/step - loss: 0.5874 - accuracy: 0.6867 - recall_2: 0.6162 - precision_2: 0.7177 - val_loss: 0.5940 - val_accuracy: 0.6910 - val_recall_2: 0.6369 - val_precision_2: 0.7181\n",
      "Epoch 17/30\n",
      "125/125 [==============================] - 1s 6ms/step - loss: 0.5838 - accuracy: 0.6955 - recall_2: 0.6567 - precision_2: 0.7122 - val_loss: 0.5927 - val_accuracy: 0.6900 - val_recall_2: 0.6548 - val_precision_2: 0.7082\n",
      "Epoch 18/30\n",
      "125/125 [==============================] - 1s 6ms/step - loss: 0.5821 - accuracy: 0.6927 - recall_2: 0.6472 - precision_2: 0.7123 - val_loss: 0.5954 - val_accuracy: 0.6900 - val_recall_2: 0.6786 - val_precision_2: 0.6980\n",
      "Epoch 19/30\n",
      "125/125 [==============================] - 1s 6ms/step - loss: 0.5843 - accuracy: 0.6913 - recall_2: 0.6572 - precision_2: 0.7055 - val_loss: 0.5971 - val_accuracy: 0.6930 - val_recall_2: 0.6925 - val_precision_2: 0.6966\n",
      "Epoch 20/30\n",
      "125/125 [==============================] - 1s 6ms/step - loss: 0.5835 - accuracy: 0.6923 - recall_2: 0.6637 - precision_2: 0.7041 - val_loss: 0.5943 - val_accuracy: 0.6850 - val_recall_2: 0.6389 - val_precision_2: 0.7077\n",
      "Epoch 21/30\n",
      "125/125 [==============================] - 1s 6ms/step - loss: 0.5792 - accuracy: 0.6960 - recall_2: 0.6522 - precision_2: 0.7151 - val_loss: 0.5935 - val_accuracy: 0.6940 - val_recall_2: 0.6647 - val_precision_2: 0.7097\n",
      "Epoch 22/30\n",
      "125/125 [==============================] - 1s 6ms/step - loss: 0.5795 - accuracy: 0.6880 - recall_2: 0.6522 - precision_2: 0.7027 - val_loss: 0.5917 - val_accuracy: 0.6980 - val_recall_2: 0.6290 - val_precision_2: 0.7338\n",
      "Epoch 23/30\n",
      "125/125 [==============================] - 1s 7ms/step - loss: 0.5816 - accuracy: 0.6890 - recall_2: 0.6212 - precision_2: 0.7189 - val_loss: 0.5920 - val_accuracy: 0.6980 - val_recall_2: 0.6687 - val_precision_2: 0.7140\n",
      "Epoch 24/30\n",
      "125/125 [==============================] - 1s 6ms/step - loss: 0.5796 - accuracy: 0.6965 - recall_2: 0.6482 - precision_2: 0.7178 - val_loss: 0.5900 - val_accuracy: 0.6840 - val_recall_2: 0.6845 - val_precision_2: 0.6873\n",
      "Epoch 25/30\n",
      "125/125 [==============================] - 1s 6ms/step - loss: 0.5773 - accuracy: 0.6977 - recall_2: 0.6987 - precision_2: 0.6976 - val_loss: 0.5904 - val_accuracy: 0.6910 - val_recall_2: 0.6786 - val_precision_2: 0.6994\n",
      "Epoch 26/30\n",
      "125/125 [==============================] - 1s 6ms/step - loss: 0.5779 - accuracy: 0.6938 - recall_2: 0.6547 - precision_2: 0.7104 - val_loss: 0.5931 - val_accuracy: 0.6910 - val_recall_2: 0.7183 - val_precision_2: 0.6843\n",
      "Epoch 27/30\n",
      "125/125 [==============================] - 1s 7ms/step - loss: 0.5769 - accuracy: 0.7038 - recall_2: 0.6637 - precision_2: 0.7217 - val_loss: 0.6009 - val_accuracy: 0.6950 - val_recall_2: 0.5893 - val_precision_2: 0.7519\n",
      "Epoch 28/30\n",
      "125/125 [==============================] - 1s 7ms/step - loss: 0.5784 - accuracy: 0.6988 - recall_2: 0.6362 - precision_2: 0.7274 - val_loss: 0.6023 - val_accuracy: 0.6810 - val_recall_2: 0.6548 - val_precision_2: 0.6947\n",
      "Epoch 29/30\n",
      "125/125 [==============================] - 1s 6ms/step - loss: 0.5753 - accuracy: 0.6985 - recall_2: 0.6582 - precision_2: 0.7162 - val_loss: 0.6012 - val_accuracy: 0.6850 - val_recall_2: 0.6409 - val_precision_2: 0.7068\n",
      "Epoch 30/30\n",
      "125/125 [==============================] - 1s 6ms/step - loss: 0.5751 - accuracy: 0.6925 - recall_2: 0.6577 - precision_2: 0.7071 - val_loss: 0.5926 - val_accuracy: 0.6900 - val_recall_2: 0.6250 - val_precision_2: 0.7225\n"
     ]
    }
   ],
   "source": [
    "history = model.fit(train_X, train_y, epochs=30, validation_split=0.2)"
   ]
  },
  {
   "cell_type": "code",
   "execution_count": 64,
   "id": "eb849156",
   "metadata": {
    "collapsed": true
   },
   "outputs": [
    {
     "name": "stderr",
     "output_type": "stream",
     "text": [
      "2025-01-15 12:53:58.694030: I tensorflow/core/grappler/optimizers/custom_graph_optimizer_registry.cc:114] Plugin optimizer for device_type GPU is enabled.\n"
     ]
    },
    {
     "name": "stdout",
     "output_type": "stream",
     "text": [
      "113/113 [==============================] - 2s 12ms/step - loss: 0.5855 - accuracy: 0.6913 - recall_2: 0.6215 - precision_2: 0.7213\n",
      "테스트 정확도: 0.6913\n"
     ]
    }
   ],
   "source": [
    "loss, accuracy, _, _, = model.evaluate(np.array(test_X), np.array(test_y))\n",
    "print(f\"테스트 정확도: {accuracy:.4f}\")"
   ]
  },
  {
   "cell_type": "code",
   "execution_count": 65,
   "id": "750ebd5e",
   "metadata": {
    "collapsed": true
   },
   "outputs": [
    {
     "name": "stdout",
     "output_type": "stream",
     "text": [
      "113/113 [==============================] - 0s 1ms/step\n"
     ]
    },
    {
     "name": "stderr",
     "output_type": "stream",
     "text": [
      "2025-01-15 12:54:00.263360: I tensorflow/core/grappler/optimizers/custom_graph_optimizer_registry.cc:114] Plugin optimizer for device_type GPU is enabled.\n"
     ]
    }
   ],
   "source": [
    "y_hat = model.predict(test_X)"
   ]
  },
  {
   "cell_type": "code",
   "execution_count": 66,
   "id": "8755a962",
   "metadata": {},
   "outputs": [],
   "source": [
    "y_hat = y_hat.argmax(axis=1)"
   ]
  },
  {
   "cell_type": "code",
   "execution_count": 67,
   "id": "a5fd735c",
   "metadata": {},
   "outputs": [
    {
     "data": {
      "text/plain": [
       "((3608,), (3608,))"
      ]
     },
     "execution_count": 67,
     "metadata": {},
     "output_type": "execute_result"
    }
   ],
   "source": [
    "test_y.shape, y_hat.shape"
   ]
  },
  {
   "cell_type": "code",
   "execution_count": 68,
   "id": "1cf983cb",
   "metadata": {},
   "outputs": [
    {
     "name": "stdout",
     "output_type": "stream",
     "text": [
      "F1 스코어: 0.5014\n"
     ]
    }
   ],
   "source": [
    "f1 = f1_score(test_y, y_hat, average='micro')\n",
    "print(f\"F1 스코어: {f1:.4f}\")"
   ]
  },
  {
   "cell_type": "markdown",
   "id": "bbc5fcda",
   "metadata": {},
   "source": [
    "# 12시간 단위 예측 "
   ]
  },
  {
   "cell_type": "code",
   "execution_count": 69,
   "id": "0c645611",
   "metadata": {},
   "outputs": [],
   "source": [
    "asos_df = pd.read_csv('/Volumes/ESD-ISO/project_preson/LSTM/LSTM_data/ASOS_data_preprocessed_V2.csv', index_col=0)"
   ]
  },
  {
   "cell_type": "code",
   "execution_count": 70,
   "id": "e13ae418",
   "metadata": {},
   "outputs": [],
   "source": [
    "# rain_tomorrow 열을 rainy_day 열에서 12시간 이후 값을 가져와 생성\n",
    "asos_df['rain_tomorrow'] = asos_df['rainy_day'].shift(-12)"
   ]
  },
  {
   "cell_type": "code",
   "execution_count": 71,
   "id": "4948a4c6",
   "metadata": {},
   "outputs": [
    {
     "data": {
      "text/html": [
       "<div>\n",
       "<style scoped>\n",
       "    .dataframe tbody tr th:only-of-type {\n",
       "        vertical-align: middle;\n",
       "    }\n",
       "\n",
       "    .dataframe tbody tr th {\n",
       "        vertical-align: top;\n",
       "    }\n",
       "\n",
       "    .dataframe thead th {\n",
       "        text-align: right;\n",
       "    }\n",
       "</style>\n",
       "<table border=\"1\" class=\"dataframe\">\n",
       "  <thead>\n",
       "    <tr style=\"text-align: right;\">\n",
       "      <th></th>\n",
       "      <th>tm</th>\n",
       "      <th>hm</th>\n",
       "      <th>pv</th>\n",
       "      <th>ps</th>\n",
       "      <th>td</th>\n",
       "      <th>pa</th>\n",
       "      <th>dc10Tca</th>\n",
       "      <th>clfmAbbrCd</th>\n",
       "      <th>lcsCh</th>\n",
       "      <th>m005Te</th>\n",
       "      <th>m01Te</th>\n",
       "      <th>m02Te</th>\n",
       "      <th>m03Te</th>\n",
       "      <th>vs</th>\n",
       "      <th>ws</th>\n",
       "      <th>wd</th>\n",
       "      <th>rn</th>\n",
       "      <th>rainy_day</th>\n",
       "      <th>rain_tomorrow</th>\n",
       "    </tr>\n",
       "  </thead>\n",
       "  <tbody>\n",
       "    <tr>\n",
       "      <th>353</th>\n",
       "      <td>1980-04-02 09:00</td>\n",
       "      <td>50.0</td>\n",
       "      <td>4.2</td>\n",
       "      <td>1025.2</td>\n",
       "      <td>-5.0</td>\n",
       "      <td>1014.4</td>\n",
       "      <td>0.0</td>\n",
       "      <td>no_cloud</td>\n",
       "      <td>0.0</td>\n",
       "      <td>3.8</td>\n",
       "      <td>4.9</td>\n",
       "      <td>6.8</td>\n",
       "      <td>7.3</td>\n",
       "      <td>2200.0</td>\n",
       "      <td>3.0</td>\n",
       "      <td>270.0</td>\n",
       "      <td>0.0</td>\n",
       "      <td>0</td>\n",
       "      <td>1.0</td>\n",
       "    </tr>\n",
       "    <tr>\n",
       "      <th>354</th>\n",
       "      <td>1980-04-02 15:00</td>\n",
       "      <td>25.0</td>\n",
       "      <td>3.4</td>\n",
       "      <td>1023.9</td>\n",
       "      <td>-7.8</td>\n",
       "      <td>1013.3</td>\n",
       "      <td>0.0</td>\n",
       "      <td>no_cloud</td>\n",
       "      <td>0.0</td>\n",
       "      <td>16.6</td>\n",
       "      <td>12.1</td>\n",
       "      <td>8.6</td>\n",
       "      <td>7.5</td>\n",
       "      <td>2500.0</td>\n",
       "      <td>3.5</td>\n",
       "      <td>230.0</td>\n",
       "      <td>0.0</td>\n",
       "      <td>0</td>\n",
       "      <td>1.0</td>\n",
       "    </tr>\n",
       "    <tr>\n",
       "      <th>355</th>\n",
       "      <td>1980-04-02 21:00</td>\n",
       "      <td>31.0</td>\n",
       "      <td>3.0</td>\n",
       "      <td>1024.4</td>\n",
       "      <td>-9.4</td>\n",
       "      <td>1013.7</td>\n",
       "      <td>1.0</td>\n",
       "      <td>Sc</td>\n",
       "      <td>0.0</td>\n",
       "      <td>7.9</td>\n",
       "      <td>9.5</td>\n",
       "      <td>10.0</td>\n",
       "      <td>9.0</td>\n",
       "      <td>1500.0</td>\n",
       "      <td>1.0</td>\n",
       "      <td>270.0</td>\n",
       "      <td>0.0</td>\n",
       "      <td>0</td>\n",
       "      <td>1.0</td>\n",
       "    </tr>\n",
       "    <tr>\n",
       "      <th>380</th>\n",
       "      <td>1980-04-09 03:00</td>\n",
       "      <td>78.0</td>\n",
       "      <td>8.2</td>\n",
       "      <td>1016.3</td>\n",
       "      <td>4.1</td>\n",
       "      <td>1005.7</td>\n",
       "      <td>4.0</td>\n",
       "      <td>As</td>\n",
       "      <td>0.0</td>\n",
       "      <td>7.8</td>\n",
       "      <td>9.7</td>\n",
       "      <td>11.3</td>\n",
       "      <td>11.0</td>\n",
       "      <td>2000.0</td>\n",
       "      <td>3.0</td>\n",
       "      <td>340.0</td>\n",
       "      <td>0.0</td>\n",
       "      <td>0</td>\n",
       "      <td>1.0</td>\n",
       "    </tr>\n",
       "    <tr>\n",
       "      <th>381</th>\n",
       "      <td>1980-04-09 09:00</td>\n",
       "      <td>64.0</td>\n",
       "      <td>7.5</td>\n",
       "      <td>1018.1</td>\n",
       "      <td>2.9</td>\n",
       "      <td>1007.5</td>\n",
       "      <td>5.0</td>\n",
       "      <td>Ci</td>\n",
       "      <td>0.0</td>\n",
       "      <td>8.8</td>\n",
       "      <td>8.3</td>\n",
       "      <td>9.7</td>\n",
       "      <td>10.0</td>\n",
       "      <td>1500.0</td>\n",
       "      <td>1.0</td>\n",
       "      <td>270.0</td>\n",
       "      <td>0.0</td>\n",
       "      <td>0</td>\n",
       "      <td>1.0</td>\n",
       "    </tr>\n",
       "    <tr>\n",
       "      <th>...</th>\n",
       "      <td>...</td>\n",
       "      <td>...</td>\n",
       "      <td>...</td>\n",
       "      <td>...</td>\n",
       "      <td>...</td>\n",
       "      <td>...</td>\n",
       "      <td>...</td>\n",
       "      <td>...</td>\n",
       "      <td>...</td>\n",
       "      <td>...</td>\n",
       "      <td>...</td>\n",
       "      <td>...</td>\n",
       "      <td>...</td>\n",
       "      <td>...</td>\n",
       "      <td>...</td>\n",
       "      <td>...</td>\n",
       "      <td>...</td>\n",
       "      <td>...</td>\n",
       "      <td>...</td>\n",
       "    </tr>\n",
       "    <tr>\n",
       "      <th>43648</th>\n",
       "      <td>2024-12-30 21:00:00</td>\n",
       "      <td>67.0</td>\n",
       "      <td>6.1</td>\n",
       "      <td>1016.0</td>\n",
       "      <td>0.0</td>\n",
       "      <td>1005.4</td>\n",
       "      <td>6.0</td>\n",
       "      <td>Ci</td>\n",
       "      <td>2.0</td>\n",
       "      <td>-0.1</td>\n",
       "      <td>-0.3</td>\n",
       "      <td>0.8</td>\n",
       "      <td>1.7</td>\n",
       "      <td>1053.0</td>\n",
       "      <td>2.7</td>\n",
       "      <td>270.0</td>\n",
       "      <td>0.0</td>\n",
       "      <td>0</td>\n",
       "      <td>NaN</td>\n",
       "    </tr>\n",
       "    <tr>\n",
       "      <th>43649</th>\n",
       "      <td>2024-12-30 22:00:00</td>\n",
       "      <td>71.0</td>\n",
       "      <td>6.1</td>\n",
       "      <td>1016.2</td>\n",
       "      <td>0.0</td>\n",
       "      <td>1005.6</td>\n",
       "      <td>0.0</td>\n",
       "      <td>no_clouds</td>\n",
       "      <td>0.0</td>\n",
       "      <td>-0.1</td>\n",
       "      <td>-0.3</td>\n",
       "      <td>0.8</td>\n",
       "      <td>1.7</td>\n",
       "      <td>906.0</td>\n",
       "      <td>2.4</td>\n",
       "      <td>270.0</td>\n",
       "      <td>0.0</td>\n",
       "      <td>0</td>\n",
       "      <td>NaN</td>\n",
       "    </tr>\n",
       "    <tr>\n",
       "      <th>43650</th>\n",
       "      <td>2024-12-30 23:00:00</td>\n",
       "      <td>75.0</td>\n",
       "      <td>6.1</td>\n",
       "      <td>1016.0</td>\n",
       "      <td>0.0</td>\n",
       "      <td>1005.4</td>\n",
       "      <td>0.0</td>\n",
       "      <td>no_clouds</td>\n",
       "      <td>0.0</td>\n",
       "      <td>-0.1</td>\n",
       "      <td>-0.3</td>\n",
       "      <td>0.8</td>\n",
       "      <td>1.7</td>\n",
       "      <td>754.0</td>\n",
       "      <td>0.7</td>\n",
       "      <td>250.0</td>\n",
       "      <td>0.0</td>\n",
       "      <td>0</td>\n",
       "      <td>NaN</td>\n",
       "    </tr>\n",
       "    <tr>\n",
       "      <th>43651</th>\n",
       "      <td>2024-12-31 00:00:00</td>\n",
       "      <td>81.0</td>\n",
       "      <td>7.0</td>\n",
       "      <td>1015.8</td>\n",
       "      <td>1.8</td>\n",
       "      <td>1005.2</td>\n",
       "      <td>9.0</td>\n",
       "      <td>no_clouds</td>\n",
       "      <td>0.0</td>\n",
       "      <td>-0.1</td>\n",
       "      <td>-0.3</td>\n",
       "      <td>0.8</td>\n",
       "      <td>1.7</td>\n",
       "      <td>563.0</td>\n",
       "      <td>2.3</td>\n",
       "      <td>250.0</td>\n",
       "      <td>0.0</td>\n",
       "      <td>0</td>\n",
       "      <td>NaN</td>\n",
       "    </tr>\n",
       "    <tr>\n",
       "      <th>43652</th>\n",
       "      <td>2024-12-31 01:00:00</td>\n",
       "      <td>65.0</td>\n",
       "      <td>5.2</td>\n",
       "      <td>1016.2</td>\n",
       "      <td>-2.1</td>\n",
       "      <td>1005.6</td>\n",
       "      <td>0.0</td>\n",
       "      <td>no_clouds</td>\n",
       "      <td>0.0</td>\n",
       "      <td>-0.1</td>\n",
       "      <td>-0.3</td>\n",
       "      <td>0.8</td>\n",
       "      <td>1.7</td>\n",
       "      <td>909.0</td>\n",
       "      <td>2.5</td>\n",
       "      <td>270.0</td>\n",
       "      <td>0.0</td>\n",
       "      <td>0</td>\n",
       "      <td>NaN</td>\n",
       "    </tr>\n",
       "  </tbody>\n",
       "</table>\n",
       "<p>4316 rows × 19 columns</p>\n",
       "</div>"
      ],
      "text/plain": [
       "                        tm    hm   pv      ps   td      pa  dc10Tca  \\\n",
       "353       1980-04-02 09:00  50.0  4.2  1025.2 -5.0  1014.4      0.0   \n",
       "354       1980-04-02 15:00  25.0  3.4  1023.9 -7.8  1013.3      0.0   \n",
       "355       1980-04-02 21:00  31.0  3.0  1024.4 -9.4  1013.7      1.0   \n",
       "380       1980-04-09 03:00  78.0  8.2  1016.3  4.1  1005.7      4.0   \n",
       "381       1980-04-09 09:00  64.0  7.5  1018.1  2.9  1007.5      5.0   \n",
       "...                    ...   ...  ...     ...  ...     ...      ...   \n",
       "43648  2024-12-30 21:00:00  67.0  6.1  1016.0  0.0  1005.4      6.0   \n",
       "43649  2024-12-30 22:00:00  71.0  6.1  1016.2  0.0  1005.6      0.0   \n",
       "43650  2024-12-30 23:00:00  75.0  6.1  1016.0  0.0  1005.4      0.0   \n",
       "43651  2024-12-31 00:00:00  81.0  7.0  1015.8  1.8  1005.2      9.0   \n",
       "43652  2024-12-31 01:00:00  65.0  5.2  1016.2 -2.1  1005.6      0.0   \n",
       "\n",
       "      clfmAbbrCd  lcsCh  m005Te  m01Te  m02Te  m03Te      vs   ws     wd   rn  \\\n",
       "353     no_cloud    0.0     3.8    4.9    6.8    7.3  2200.0  3.0  270.0  0.0   \n",
       "354     no_cloud    0.0    16.6   12.1    8.6    7.5  2500.0  3.5  230.0  0.0   \n",
       "355           Sc    0.0     7.9    9.5   10.0    9.0  1500.0  1.0  270.0  0.0   \n",
       "380           As    0.0     7.8    9.7   11.3   11.0  2000.0  3.0  340.0  0.0   \n",
       "381           Ci    0.0     8.8    8.3    9.7   10.0  1500.0  1.0  270.0  0.0   \n",
       "...          ...    ...     ...    ...    ...    ...     ...  ...    ...  ...   \n",
       "43648         Ci    2.0    -0.1   -0.3    0.8    1.7  1053.0  2.7  270.0  0.0   \n",
       "43649  no_clouds    0.0    -0.1   -0.3    0.8    1.7   906.0  2.4  270.0  0.0   \n",
       "43650  no_clouds    0.0    -0.1   -0.3    0.8    1.7   754.0  0.7  250.0  0.0   \n",
       "43651  no_clouds    0.0    -0.1   -0.3    0.8    1.7   563.0  2.3  250.0  0.0   \n",
       "43652  no_clouds    0.0    -0.1   -0.3    0.8    1.7   909.0  2.5  270.0  0.0   \n",
       "\n",
       "       rainy_day  rain_tomorrow  \n",
       "353            0            1.0  \n",
       "354            0            1.0  \n",
       "355            0            1.0  \n",
       "380            0            1.0  \n",
       "381            0            1.0  \n",
       "...          ...            ...  \n",
       "43648          0            NaN  \n",
       "43649          0            NaN  \n",
       "43650          0            NaN  \n",
       "43651          0            NaN  \n",
       "43652          0            NaN  \n",
       "\n",
       "[4316 rows x 19 columns]"
      ]
     },
     "execution_count": 71,
     "metadata": {},
     "output_type": "execute_result"
    }
   ],
   "source": [
    "asos_df[asos_df['rain_tomorrow']!=0]"
   ]
  },
  {
   "cell_type": "code",
   "execution_count": 72,
   "id": "ebb64521",
   "metadata": {},
   "outputs": [],
   "source": [
    "asos_df.drop(index=asos_df[asos_df['rain_tomorrow'].isna()].index, inplace=True)"
   ]
  },
  {
   "cell_type": "code",
   "execution_count": 73,
   "id": "78eea5ff",
   "metadata": {},
   "outputs": [],
   "source": [
    "asos_df = asos_df.sample(frac=1, random_state=20250113).reset_index(drop=True)"
   ]
  },
  {
   "cell_type": "code",
   "execution_count": 74,
   "id": "0d8f4726",
   "metadata": {},
   "outputs": [],
   "source": [
    "rain_data = asos_df[asos_df['rain_tomorrow']==1].loc[:, ['hm','pv','td','pa','m005Te','m01Te','m02Te','m03Te','clfmAbbrCd','lcsCh','rain_tomorrow']]"
   ]
  },
  {
   "cell_type": "code",
   "execution_count": 75,
   "id": "ce4ee446",
   "metadata": {},
   "outputs": [
    {
     "data": {
      "text/html": [
       "<div>\n",
       "<style scoped>\n",
       "    .dataframe tbody tr th:only-of-type {\n",
       "        vertical-align: middle;\n",
       "    }\n",
       "\n",
       "    .dataframe tbody tr th {\n",
       "        vertical-align: top;\n",
       "    }\n",
       "\n",
       "    .dataframe thead th {\n",
       "        text-align: right;\n",
       "    }\n",
       "</style>\n",
       "<table border=\"1\" class=\"dataframe\">\n",
       "  <thead>\n",
       "    <tr style=\"text-align: right;\">\n",
       "      <th></th>\n",
       "      <th>hm</th>\n",
       "      <th>pv</th>\n",
       "      <th>td</th>\n",
       "      <th>pa</th>\n",
       "      <th>m005Te</th>\n",
       "      <th>m01Te</th>\n",
       "      <th>m02Te</th>\n",
       "      <th>m03Te</th>\n",
       "      <th>clfmAbbrCd</th>\n",
       "      <th>lcsCh</th>\n",
       "      <th>rain_tomorrow</th>\n",
       "    </tr>\n",
       "  </thead>\n",
       "  <tbody>\n",
       "    <tr>\n",
       "      <th>34</th>\n",
       "      <td>79.0</td>\n",
       "      <td>26.1</td>\n",
       "      <td>21.8</td>\n",
       "      <td>995.3</td>\n",
       "      <td>27.3</td>\n",
       "      <td>27.2</td>\n",
       "      <td>26.2</td>\n",
       "      <td>25.8</td>\n",
       "      <td>Sc</td>\n",
       "      <td>8.666667</td>\n",
       "      <td>1.0</td>\n",
       "    </tr>\n",
       "    <tr>\n",
       "      <th>35</th>\n",
       "      <td>55.0</td>\n",
       "      <td>17.7</td>\n",
       "      <td>15.6</td>\n",
       "      <td>1004.2</td>\n",
       "      <td>23.9</td>\n",
       "      <td>23.5</td>\n",
       "      <td>22.4</td>\n",
       "      <td>22.5</td>\n",
       "      <td>As</td>\n",
       "      <td>28.000000</td>\n",
       "      <td>1.0</td>\n",
       "    </tr>\n",
       "    <tr>\n",
       "      <th>48</th>\n",
       "      <td>90.0</td>\n",
       "      <td>22.6</td>\n",
       "      <td>19.4</td>\n",
       "      <td>996.2</td>\n",
       "      <td>23.0</td>\n",
       "      <td>25.4</td>\n",
       "      <td>26.6</td>\n",
       "      <td>26.3</td>\n",
       "      <td>Sc</td>\n",
       "      <td>10.000000</td>\n",
       "      <td>1.0</td>\n",
       "    </tr>\n",
       "    <tr>\n",
       "      <th>66</th>\n",
       "      <td>55.0</td>\n",
       "      <td>17.2</td>\n",
       "      <td>15.1</td>\n",
       "      <td>1004.2</td>\n",
       "      <td>24.0</td>\n",
       "      <td>23.6</td>\n",
       "      <td>22.6</td>\n",
       "      <td>22.6</td>\n",
       "      <td>As</td>\n",
       "      <td>28.000000</td>\n",
       "      <td>1.0</td>\n",
       "    </tr>\n",
       "    <tr>\n",
       "      <th>79</th>\n",
       "      <td>68.0</td>\n",
       "      <td>4.3</td>\n",
       "      <td>-4.7</td>\n",
       "      <td>1022.6</td>\n",
       "      <td>0.0</td>\n",
       "      <td>0.1</td>\n",
       "      <td>1.4</td>\n",
       "      <td>1.5</td>\n",
       "      <td>no_cloud</td>\n",
       "      <td>0.000000</td>\n",
       "      <td>1.0</td>\n",
       "    </tr>\n",
       "    <tr>\n",
       "      <th>...</th>\n",
       "      <td>...</td>\n",
       "      <td>...</td>\n",
       "      <td>...</td>\n",
       "      <td>...</td>\n",
       "      <td>...</td>\n",
       "      <td>...</td>\n",
       "      <td>...</td>\n",
       "      <td>...</td>\n",
       "      <td>...</td>\n",
       "      <td>...</td>\n",
       "      <td>...</td>\n",
       "    </tr>\n",
       "    <tr>\n",
       "      <th>60680</th>\n",
       "      <td>56.0</td>\n",
       "      <td>10.3</td>\n",
       "      <td>7.4</td>\n",
       "      <td>999.6</td>\n",
       "      <td>18.3</td>\n",
       "      <td>18.3</td>\n",
       "      <td>17.8</td>\n",
       "      <td>17.0</td>\n",
       "      <td>ScAs</td>\n",
       "      <td>10.000000</td>\n",
       "      <td>1.0</td>\n",
       "    </tr>\n",
       "    <tr>\n",
       "      <th>60685</th>\n",
       "      <td>60.0</td>\n",
       "      <td>16.4</td>\n",
       "      <td>14.4</td>\n",
       "      <td>1007.1</td>\n",
       "      <td>21.8</td>\n",
       "      <td>21.7</td>\n",
       "      <td>21.6</td>\n",
       "      <td>22.4</td>\n",
       "      <td>As</td>\n",
       "      <td>30.000000</td>\n",
       "      <td>1.0</td>\n",
       "    </tr>\n",
       "    <tr>\n",
       "      <th>60687</th>\n",
       "      <td>71.0</td>\n",
       "      <td>18.5</td>\n",
       "      <td>16.3</td>\n",
       "      <td>995.3</td>\n",
       "      <td>22.9</td>\n",
       "      <td>22.2</td>\n",
       "      <td>21.3</td>\n",
       "      <td>21.5</td>\n",
       "      <td>ScAs</td>\n",
       "      <td>7.000000</td>\n",
       "      <td>1.0</td>\n",
       "    </tr>\n",
       "    <tr>\n",
       "      <th>60698</th>\n",
       "      <td>39.0</td>\n",
       "      <td>8.4</td>\n",
       "      <td>4.5</td>\n",
       "      <td>1001.1</td>\n",
       "      <td>15.4</td>\n",
       "      <td>13.2</td>\n",
       "      <td>13.6</td>\n",
       "      <td>13.6</td>\n",
       "      <td>AcCi</td>\n",
       "      <td>42.000000</td>\n",
       "      <td>1.0</td>\n",
       "    </tr>\n",
       "    <tr>\n",
       "      <th>60745</th>\n",
       "      <td>83.0</td>\n",
       "      <td>27.2</td>\n",
       "      <td>22.5</td>\n",
       "      <td>993.3</td>\n",
       "      <td>27.5</td>\n",
       "      <td>27.5</td>\n",
       "      <td>26.6</td>\n",
       "      <td>26.3</td>\n",
       "      <td>ScCi</td>\n",
       "      <td>10.333333</td>\n",
       "      <td>1.0</td>\n",
       "    </tr>\n",
       "  </tbody>\n",
       "</table>\n",
       "<p>4304 rows × 11 columns</p>\n",
       "</div>"
      ],
      "text/plain": [
       "         hm    pv    td      pa  m005Te  m01Te  m02Te  m03Te clfmAbbrCd  \\\n",
       "34     79.0  26.1  21.8   995.3    27.3   27.2   26.2   25.8         Sc   \n",
       "35     55.0  17.7  15.6  1004.2    23.9   23.5   22.4   22.5         As   \n",
       "48     90.0  22.6  19.4   996.2    23.0   25.4   26.6   26.3         Sc   \n",
       "66     55.0  17.2  15.1  1004.2    24.0   23.6   22.6   22.6         As   \n",
       "79     68.0   4.3  -4.7  1022.6     0.0    0.1    1.4    1.5   no_cloud   \n",
       "...     ...   ...   ...     ...     ...    ...    ...    ...        ...   \n",
       "60680  56.0  10.3   7.4   999.6    18.3   18.3   17.8   17.0       ScAs   \n",
       "60685  60.0  16.4  14.4  1007.1    21.8   21.7   21.6   22.4         As   \n",
       "60687  71.0  18.5  16.3   995.3    22.9   22.2   21.3   21.5       ScAs   \n",
       "60698  39.0   8.4   4.5  1001.1    15.4   13.2   13.6   13.6       AcCi   \n",
       "60745  83.0  27.2  22.5   993.3    27.5   27.5   26.6   26.3       ScCi   \n",
       "\n",
       "           lcsCh  rain_tomorrow  \n",
       "34      8.666667            1.0  \n",
       "35     28.000000            1.0  \n",
       "48     10.000000            1.0  \n",
       "66     28.000000            1.0  \n",
       "79      0.000000            1.0  \n",
       "...          ...            ...  \n",
       "60680  10.000000            1.0  \n",
       "60685  30.000000            1.0  \n",
       "60687   7.000000            1.0  \n",
       "60698  42.000000            1.0  \n",
       "60745  10.333333            1.0  \n",
       "\n",
       "[4304 rows x 11 columns]"
      ]
     },
     "execution_count": 75,
     "metadata": {},
     "output_type": "execute_result"
    }
   ],
   "source": [
    "rain_data"
   ]
  },
  {
   "cell_type": "code",
   "execution_count": 76,
   "id": "a9750969",
   "metadata": {},
   "outputs": [],
   "source": [
    "no_rain_data = asos_df[asos_df['rain_tomorrow']==0].sample(n=4304).loc[:,['hm','pv','td','pa','m005Te','m01Te','m02Te','m03Te','clfmAbbrCd','lcsCh','rain_tomorrow']]"
   ]
  },
  {
   "cell_type": "code",
   "execution_count": 77,
   "id": "2134a44a",
   "metadata": {},
   "outputs": [],
   "source": [
    "data = pd.concat([rain_data, no_rain_data])"
   ]
  },
  {
   "cell_type": "code",
   "execution_count": 78,
   "id": "9db7338b",
   "metadata": {},
   "outputs": [],
   "source": [
    "data = data.sample(frac=1).reset_index(drop=True)"
   ]
  },
  {
   "cell_type": "code",
   "execution_count": 79,
   "id": "6ef1a6e2",
   "metadata": {},
   "outputs": [
    {
     "name": "stdout",
     "output_type": "stream",
     "text": [
      "<class 'pandas.core.frame.DataFrame'>\n",
      "RangeIndex: 8608 entries, 0 to 8607\n",
      "Data columns (total 11 columns):\n",
      " #   Column         Non-Null Count  Dtype  \n",
      "---  ------         --------------  -----  \n",
      " 0   hm             8608 non-null   float64\n",
      " 1   pv             8608 non-null   float64\n",
      " 2   td             8608 non-null   float64\n",
      " 3   pa             8608 non-null   float64\n",
      " 4   m005Te         8608 non-null   float64\n",
      " 5   m01Te          8608 non-null   float64\n",
      " 6   m02Te          8608 non-null   float64\n",
      " 7   m03Te          8608 non-null   float64\n",
      " 8   clfmAbbrCd     8608 non-null   object \n",
      " 9   lcsCh          8608 non-null   float64\n",
      " 10  rain_tomorrow  8608 non-null   float64\n",
      "dtypes: float64(10), object(1)\n",
      "memory usage: 739.9+ KB\n"
     ]
    }
   ],
   "source": [
    "data.info()"
   ]
  },
  {
   "cell_type": "code",
   "execution_count": 80,
   "id": "5b5e4ff8",
   "metadata": {},
   "outputs": [],
   "source": [
    "encoder = LabelEncoder()\n",
    "data.clfmAbbrCd = encoder.fit_transform(data.clfmAbbrCd)"
   ]
  },
  {
   "cell_type": "code",
   "execution_count": 81,
   "id": "fdfbf597",
   "metadata": {},
   "outputs": [],
   "source": [
    "train_X = data.iloc[:5000,:-1]\n",
    "train_y = data.iloc[:5000,-1]\n",
    "test_X = data.iloc[5000:,:-1]\n",
    "test_y = data.iloc[5000:,-1]"
   ]
  },
  {
   "cell_type": "code",
   "execution_count": 82,
   "id": "f1698a06",
   "metadata": {},
   "outputs": [],
   "source": [
    "scaler = MinMaxScaler()\n",
    "train_X = scaler.fit_transform(train_X)\n",
    "test_X = scaler.fit_transform(test_X)"
   ]
  },
  {
   "cell_type": "code",
   "execution_count": 83,
   "id": "6b812a26",
   "metadata": {},
   "outputs": [
    {
     "data": {
      "text/plain": [
       "((5000, 10), (3608, 10), (5000,), (3608,))"
      ]
     },
     "execution_count": 83,
     "metadata": {},
     "output_type": "execute_result"
    }
   ],
   "source": [
    "train_X.shape, test_X.shape, train_y.shape, test_y.shape"
   ]
  },
  {
   "cell_type": "code",
   "execution_count": 84,
   "id": "551190a7",
   "metadata": {},
   "outputs": [
    {
     "name": "stdout",
     "output_type": "stream",
     "text": [
      "Model: \"sequential_3\"\n",
      "_________________________________________________________________\n",
      " Layer (type)                Output Shape              Param #   \n",
      "=================================================================\n",
      " dense_18 (Dense)            (None, 64)                704       \n",
      "                                                                 \n",
      " dropout_15 (Dropout)        (None, 64)                0         \n",
      "                                                                 \n",
      " dense_19 (Dense)            (None, 128)               8320      \n",
      "                                                                 \n",
      " dropout_16 (Dropout)        (None, 128)               0         \n",
      "                                                                 \n",
      " dense_20 (Dense)            (None, 256)               33024     \n",
      "                                                                 \n",
      " dropout_17 (Dropout)        (None, 256)               0         \n",
      "                                                                 \n",
      " dense_21 (Dense)            (None, 64)                16448     \n",
      "                                                                 \n",
      " dropout_18 (Dropout)        (None, 64)                0         \n",
      "                                                                 \n",
      " dense_22 (Dense)            (None, 32)                2080      \n",
      "                                                                 \n",
      " dropout_19 (Dropout)        (None, 32)                0         \n",
      "                                                                 \n",
      " dense_23 (Dense)            (None, 1)                 33        \n",
      "                                                                 \n",
      "=================================================================\n",
      "Total params: 60,609\n",
      "Trainable params: 60,609\n",
      "Non-trainable params: 0\n",
      "_________________________________________________________________\n"
     ]
    }
   ],
   "source": [
    "model = Sequential([\n",
    "    Dense(64, activation='relu', input_shape=(train_X.shape[1],)),  \n",
    "    Dropout(0.3),\n",
    "    Dense(128, activation='relu'),  \n",
    "    Dropout(0.4),\n",
    "    Dense(256, activation='relu'),  \n",
    "    Dropout(0.4),\n",
    "    Dense(64, activation='relu'),  \n",
    "    Dropout(0.3),\n",
    "    Dense(32, activation='relu'),  \n",
    "    Dropout(0.2),\n",
    "    Dense(1, activation='sigmoid') \n",
    "])\n",
    "\n",
    "model.compile(loss='binary_crossentropy', optimizer='adam',  metrics=['accuracy',Recall(),Precision()])\n",
    "# 모델 요약\n",
    "model.summary()"
   ]
  },
  {
   "cell_type": "code",
   "execution_count": 85,
   "id": "e5bdb74f",
   "metadata": {},
   "outputs": [
    {
     "name": "stdout",
     "output_type": "stream",
     "text": [
      "Epoch 1/30\n"
     ]
    },
    {
     "name": "stderr",
     "output_type": "stream",
     "text": [
      "2025-01-15 13:54:08.337383: I tensorflow/core/grappler/optimizers/custom_graph_optimizer_registry.cc:114] Plugin optimizer for device_type GPU is enabled.\n"
     ]
    },
    {
     "name": "stdout",
     "output_type": "stream",
     "text": [
      "117/125 [===========================>..] - ETA: 0s - loss: 0.6821 - accuracy: 0.5526 - recall_3: 0.6759 - precision_3: 0.5366"
     ]
    },
    {
     "name": "stderr",
     "output_type": "stream",
     "text": [
      "2025-01-15 13:54:09.467743: I tensorflow/core/grappler/optimizers/custom_graph_optimizer_registry.cc:114] Plugin optimizer for device_type GPU is enabled.\n"
     ]
    },
    {
     "name": "stdout",
     "output_type": "stream",
     "text": [
      "125/125 [==============================] - 2s 9ms/step - loss: 0.6817 - accuracy: 0.5550 - recall_3: 0.6643 - precision_3: 0.5389 - val_loss: 0.6546 - val_accuracy: 0.6310 - val_recall_3: 0.6518 - val_precision_3: 0.6381\n",
      "Epoch 2/30\n",
      "125/125 [==============================] - 1s 6ms/step - loss: 0.6576 - accuracy: 0.6230 - recall_3: 0.6247 - precision_3: 0.6153 - val_loss: 0.6457 - val_accuracy: 0.6360 - val_recall_3: 0.6420 - val_precision_3: 0.6471\n",
      "Epoch 3/30\n",
      "125/125 [==============================] - 1s 6ms/step - loss: 0.6434 - accuracy: 0.6440 - recall_3: 0.6567 - precision_3: 0.6335 - val_loss: 0.6384 - val_accuracy: 0.6360 - val_recall_3: 0.6673 - val_precision_3: 0.6399\n",
      "Epoch 4/30\n",
      "125/125 [==============================] - 1s 6ms/step - loss: 0.6387 - accuracy: 0.6490 - recall_3: 0.6470 - precision_3: 0.6425 - val_loss: 0.6493 - val_accuracy: 0.6330 - val_recall_3: 0.5506 - val_precision_3: 0.6754\n",
      "Epoch 5/30\n",
      "125/125 [==============================] - 1s 6ms/step - loss: 0.6364 - accuracy: 0.6485 - recall_3: 0.6562 - precision_3: 0.6393 - val_loss: 0.6407 - val_accuracy: 0.6460 - val_recall_3: 0.6167 - val_precision_3: 0.6688\n",
      "Epoch 6/30\n",
      "125/125 [==============================] - 1s 6ms/step - loss: 0.6386 - accuracy: 0.6482 - recall_3: 0.6628 - precision_3: 0.6372 - val_loss: 0.6446 - val_accuracy: 0.6370 - val_recall_3: 0.5817 - val_precision_3: 0.6689\n",
      "Epoch 7/30\n",
      "125/125 [==============================] - 1s 6ms/step - loss: 0.6342 - accuracy: 0.6555 - recall_3: 0.6679 - precision_3: 0.6449 - val_loss: 0.6350 - val_accuracy: 0.6400 - val_recall_3: 0.6576 - val_precision_3: 0.6475\n",
      "Epoch 8/30\n",
      "125/125 [==============================] - 1s 6ms/step - loss: 0.6331 - accuracy: 0.6492 - recall_3: 0.6612 - precision_3: 0.6389 - val_loss: 0.6370 - val_accuracy: 0.6400 - val_recall_3: 0.5856 - val_precision_3: 0.6719\n",
      "Epoch 9/30\n",
      "125/125 [==============================] - 1s 6ms/step - loss: 0.6292 - accuracy: 0.6538 - recall_3: 0.6694 - precision_3: 0.6423 - val_loss: 0.6343 - val_accuracy: 0.6450 - val_recall_3: 0.6206 - val_precision_3: 0.6660\n",
      "Epoch 10/30\n",
      "125/125 [==============================] - 1s 6ms/step - loss: 0.6315 - accuracy: 0.6507 - recall_3: 0.6877 - precision_3: 0.6339 - val_loss: 0.6309 - val_accuracy: 0.6470 - val_recall_3: 0.7140 - val_precision_3: 0.6405\n",
      "Epoch 11/30\n",
      "125/125 [==============================] - 1s 7ms/step - loss: 0.6321 - accuracy: 0.6530 - recall_3: 0.6704 - precision_3: 0.6411 - val_loss: 0.6402 - val_accuracy: 0.6440 - val_recall_3: 0.6615 - val_precision_3: 0.6513\n",
      "Epoch 12/30\n",
      "125/125 [==============================] - 1s 7ms/step - loss: 0.6313 - accuracy: 0.6590 - recall_3: 0.6851 - precision_3: 0.6445 - val_loss: 0.6315 - val_accuracy: 0.6490 - val_recall_3: 0.6381 - val_precision_3: 0.6653\n",
      "Epoch 13/30\n",
      "125/125 [==============================] - 1s 6ms/step - loss: 0.6296 - accuracy: 0.6582 - recall_3: 0.6805 - precision_3: 0.6449 - val_loss: 0.6393 - val_accuracy: 0.6460 - val_recall_3: 0.6226 - val_precision_3: 0.6667\n",
      "Epoch 14/30\n",
      "125/125 [==============================] - 1s 6ms/step - loss: 0.6295 - accuracy: 0.6540 - recall_3: 0.6892 - precision_3: 0.6374 - val_loss: 0.6333 - val_accuracy: 0.6490 - val_recall_3: 0.6226 - val_precision_3: 0.6709\n",
      "Epoch 15/30\n",
      "125/125 [==============================] - 1s 6ms/step - loss: 0.6254 - accuracy: 0.6580 - recall_3: 0.6912 - precision_3: 0.6417 - val_loss: 0.6300 - val_accuracy: 0.6520 - val_recall_3: 0.6498 - val_precision_3: 0.6653\n",
      "Epoch 16/30\n",
      "125/125 [==============================] - 1s 6ms/step - loss: 0.6268 - accuracy: 0.6560 - recall_3: 0.6993 - precision_3: 0.6372 - val_loss: 0.6334 - val_accuracy: 0.6470 - val_recall_3: 0.6051 - val_precision_3: 0.6746\n",
      "Epoch 17/30\n",
      "125/125 [==============================] - 1s 6ms/step - loss: 0.6284 - accuracy: 0.6605 - recall_3: 0.6973 - precision_3: 0.6431 - val_loss: 0.6295 - val_accuracy: 0.6470 - val_recall_3: 0.6848 - val_precision_3: 0.6483\n",
      "Epoch 18/30\n",
      "125/125 [==============================] - 1s 6ms/step - loss: 0.6255 - accuracy: 0.6615 - recall_3: 0.6805 - precision_3: 0.6489 - val_loss: 0.6304 - val_accuracy: 0.6440 - val_recall_3: 0.7004 - val_precision_3: 0.6406\n",
      "Epoch 19/30\n",
      "125/125 [==============================] - 1s 6ms/step - loss: 0.6247 - accuracy: 0.6635 - recall_3: 0.6968 - precision_3: 0.6469 - val_loss: 0.6252 - val_accuracy: 0.6490 - val_recall_3: 0.6926 - val_precision_3: 0.6485\n",
      "Epoch 20/30\n",
      "125/125 [==============================] - 1s 6ms/step - loss: 0.6274 - accuracy: 0.6637 - recall_3: 0.6978 - precision_3: 0.6469 - val_loss: 0.6284 - val_accuracy: 0.6440 - val_recall_3: 0.7004 - val_precision_3: 0.6406\n",
      "Epoch 21/30\n",
      "125/125 [==============================] - 1s 6ms/step - loss: 0.6258 - accuracy: 0.6555 - recall_3: 0.7009 - precision_3: 0.6362 - val_loss: 0.6314 - val_accuracy: 0.6440 - val_recall_3: 0.6634 - val_precision_3: 0.6508\n",
      "Epoch 22/30\n",
      "125/125 [==============================] - 1s 6ms/step - loss: 0.6249 - accuracy: 0.6635 - recall_3: 0.6785 - precision_3: 0.6520 - val_loss: 0.6337 - val_accuracy: 0.6540 - val_recall_3: 0.6518 - val_precision_3: 0.6673\n",
      "Epoch 23/30\n",
      "125/125 [==============================] - 1s 6ms/step - loss: 0.6254 - accuracy: 0.6615 - recall_3: 0.7054 - precision_3: 0.6422 - val_loss: 0.6253 - val_accuracy: 0.6470 - val_recall_3: 0.7101 - val_precision_3: 0.6415\n",
      "Epoch 24/30\n",
      "125/125 [==============================] - 1s 6ms/step - loss: 0.6256 - accuracy: 0.6565 - recall_3: 0.6816 - precision_3: 0.6424 - val_loss: 0.6352 - val_accuracy: 0.6590 - val_recall_3: 0.6556 - val_precision_3: 0.6727\n",
      "Epoch 25/30\n",
      "125/125 [==============================] - 1s 7ms/step - loss: 0.6230 - accuracy: 0.6633 - recall_3: 0.6851 - precision_3: 0.6498 - val_loss: 0.6249 - val_accuracy: 0.6470 - val_recall_3: 0.6965 - val_precision_3: 0.6450\n",
      "Epoch 26/30\n",
      "125/125 [==============================] - 1s 7ms/step - loss: 0.6229 - accuracy: 0.6578 - recall_3: 0.6887 - precision_3: 0.6420 - val_loss: 0.6282 - val_accuracy: 0.6380 - val_recall_3: 0.7840 - val_precision_3: 0.6162\n",
      "Epoch 27/30\n",
      "125/125 [==============================] - 1s 6ms/step - loss: 0.6210 - accuracy: 0.6575 - recall_3: 0.7009 - precision_3: 0.6386 - val_loss: 0.6238 - val_accuracy: 0.6480 - val_recall_3: 0.6984 - val_precision_3: 0.6457\n",
      "Epoch 28/30\n",
      "125/125 [==============================] - 1s 6ms/step - loss: 0.6262 - accuracy: 0.6610 - recall_3: 0.7024 - precision_3: 0.6424 - val_loss: 0.6245 - val_accuracy: 0.6450 - val_recall_3: 0.7082 - val_precision_3: 0.6397\n",
      "Epoch 29/30\n",
      "125/125 [==============================] - 1s 6ms/step - loss: 0.6234 - accuracy: 0.6593 - recall_3: 0.6927 - precision_3: 0.6428 - val_loss: 0.6327 - val_accuracy: 0.6530 - val_recall_3: 0.7082 - val_precision_3: 0.6488\n",
      "Epoch 30/30\n",
      "125/125 [==============================] - 1s 6ms/step - loss: 0.6228 - accuracy: 0.6605 - recall_3: 0.6927 - precision_3: 0.6443 - val_loss: 0.6237 - val_accuracy: 0.6460 - val_recall_3: 0.7432 - val_precision_3: 0.6325\n"
     ]
    }
   ],
   "source": [
    "history = model.fit(train_X, train_y, epochs=30, validation_split=0.2)"
   ]
  },
  {
   "cell_type": "code",
   "execution_count": 86,
   "id": "1c10139c",
   "metadata": {},
   "outputs": [
    {
     "name": "stderr",
     "output_type": "stream",
     "text": [
      "2025-01-15 13:54:32.531486: I tensorflow/core/grappler/optimizers/custom_graph_optimizer_registry.cc:114] Plugin optimizer for device_type GPU is enabled.\n"
     ]
    },
    {
     "name": "stdout",
     "output_type": "stream",
     "text": [
      "113/113 [==============================] - 2s 13ms/step - loss: 0.6190 - accuracy: 0.6537 - recall_3: 0.7392 - precision_3: 0.6349\n",
      "테스트 정확도: 0.6537\n"
     ]
    }
   ],
   "source": [
    "loss, accuracy, _, _, = model.evaluate(np.array(test_X), np.array(test_y))\n",
    "print(f\"테스트 정확도: {accuracy:.4f}\")"
   ]
  },
  {
   "cell_type": "code",
   "execution_count": 87,
   "id": "eba5b143",
   "metadata": {},
   "outputs": [
    {
     "name": "stdout",
     "output_type": "stream",
     "text": [
      "113/113 [==============================] - ETA: 0s"
     ]
    },
    {
     "name": "stderr",
     "output_type": "stream",
     "text": [
      "2025-01-15 13:54:34.177359: I tensorflow/core/grappler/optimizers/custom_graph_optimizer_registry.cc:114] Plugin optimizer for device_type GPU is enabled.\n"
     ]
    },
    {
     "name": "stdout",
     "output_type": "stream",
     "text": [
      "\b\b\b\b\b\b\b\b\b\b\b\b\b\b\b\b\b\b\b\b\b\b\b\b\b\b\b\b\b\b\b\b\b\b\b\b\b\b\b\b\b\b\b\b\b\b\b\b\b\b\r",
      "113/113 [==============================] - 0s 1ms/step\n"
     ]
    }
   ],
   "source": [
    "y_hat = model.predict(test_X)"
   ]
  },
  {
   "cell_type": "code",
   "execution_count": 88,
   "id": "f7934792",
   "metadata": {},
   "outputs": [],
   "source": [
    "y_hat = y_hat.argmax(axis=1)"
   ]
  },
  {
   "cell_type": "code",
   "execution_count": 89,
   "id": "f63936cc",
   "metadata": {},
   "outputs": [
    {
     "data": {
      "text/plain": [
       "((3608,), (3608,))"
      ]
     },
     "execution_count": 89,
     "metadata": {},
     "output_type": "execute_result"
    }
   ],
   "source": [
    "test_y.shape, y_hat.shape"
   ]
  },
  {
   "cell_type": "code",
   "execution_count": 90,
   "id": "681f7772",
   "metadata": {},
   "outputs": [
    {
     "name": "stdout",
     "output_type": "stream",
     "text": [
      "F1 스코어: 0.4953\n"
     ]
    }
   ],
   "source": [
    "f1 = f1_score(test_y, y_hat, average='micro')\n",
    "print(f\"F1 스코어: {f1:.4f}\")"
   ]
  }
 ],
 "metadata": {
  "kernelspec": {
   "display_name": "Python [conda env:tf] *",
   "language": "python",
   "name": "conda-env-tf-py"
  },
  "language_info": {
   "codemirror_mode": {
    "name": "ipython",
    "version": 3
   },
   "file_extension": ".py",
   "mimetype": "text/x-python",
   "name": "python",
   "nbconvert_exporter": "python",
   "pygments_lexer": "ipython3",
   "version": "3.8.19"
  }
 },
 "nbformat": 4,
 "nbformat_minor": 5
}
